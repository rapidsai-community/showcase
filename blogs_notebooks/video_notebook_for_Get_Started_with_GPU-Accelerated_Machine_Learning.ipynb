{
 "cells": [
  {
   "cell_type": "markdown",
   "id": "68cdb42d-fa4c-418f-b94f-2170265d6477",
   "metadata": {},
   "source": [
    "# Install Package"
   ]
  },
  {
   "cell_type": "code",
   "execution_count": 1,
   "id": "605e48ba-7d6a-418d-8b54-c679276e61c5",
   "metadata": {
    "scrolled": true
   },
   "outputs": [
    {
     "name": "stdout",
     "output_type": "stream",
     "text": [
      "Looking in indexes: https://pypi.org/simple, https://pypi.nvidia.com\n",
      "Requirement already satisfied: cuml-cu12==25.8.* in /home/allisond/.local/lib/python3.12/site-packages (25.8.0)\n",
      "Requirement already satisfied: cuda-python<13.0a0,>=12.6.2 in /home/allisond/.local/lib/python3.12/site-packages (from cuml-cu12==25.8.*) (12.9.0)\n",
      "Requirement already satisfied: cudf-cu12==25.8.* in /home/allisond/.local/lib/python3.12/site-packages (from cuml-cu12==25.8.*) (25.8.0)\n",
      "Requirement already satisfied: cupy-cuda12x>=12.0.0 in /home/allisond/miniconda/lib/python3.12/site-packages (from cuml-cu12==25.8.*) (13.5.1)\n",
      "Requirement already satisfied: cuvs-cu12==25.8.* in /home/allisond/.local/lib/python3.12/site-packages (from cuml-cu12==25.8.*) (25.8.0)\n",
      "Requirement already satisfied: dask-cuda==25.8.* in /home/allisond/.local/lib/python3.12/site-packages (from cuml-cu12==25.8.*) (25.8.0)\n",
      "Requirement already satisfied: dask-cudf-cu12==25.8.* in /home/allisond/.local/lib/python3.12/site-packages (from cuml-cu12==25.8.*) (25.8.0)\n",
      "Requirement already satisfied: joblib>=0.11 in /home/allisond/.local/lib/python3.12/site-packages (from cuml-cu12==25.8.*) (1.4.2)\n",
      "Requirement already satisfied: libcuml-cu12==25.8.* in /home/allisond/.local/lib/python3.12/site-packages (from cuml-cu12==25.8.*) (25.8.0)\n",
      "Requirement already satisfied: numba<0.62.0a0,>=0.59.1 in /home/allisond/.local/lib/python3.12/site-packages (from cuml-cu12==25.8.*) (0.61.2)\n",
      "Requirement already satisfied: numpy<3.0a0,>=1.23 in /home/allisond/.local/lib/python3.12/site-packages (from cuml-cu12==25.8.*) (1.26.4)\n",
      "Requirement already satisfied: nvidia-cublas-cu12 in /home/allisond/.local/lib/python3.12/site-packages (from cuml-cu12==25.8.*) (12.4.5.8)\n",
      "Requirement already satisfied: nvidia-cufft-cu12 in /home/allisond/.local/lib/python3.12/site-packages (from cuml-cu12==25.8.*) (11.2.1.3)\n",
      "Requirement already satisfied: nvidia-curand-cu12 in /home/allisond/.local/lib/python3.12/site-packages (from cuml-cu12==25.8.*) (10.3.5.147)\n",
      "Requirement already satisfied: nvidia-cusolver-cu12 in /home/allisond/.local/lib/python3.12/site-packages (from cuml-cu12==25.8.*) (11.6.1.9)\n",
      "Requirement already satisfied: nvidia-cusparse-cu12 in /home/allisond/.local/lib/python3.12/site-packages (from cuml-cu12==25.8.*) (12.3.1.170)\n",
      "Requirement already satisfied: packaging in /home/allisond/.local/lib/python3.12/site-packages (from cuml-cu12==25.8.*) (24.2)\n",
      "Requirement already satisfied: pylibraft-cu12==25.8.* in /home/allisond/.local/lib/python3.12/site-packages (from cuml-cu12==25.8.*) (25.8.0)\n",
      "Requirement already satisfied: raft-dask-cu12==25.8.* in /home/allisond/.local/lib/python3.12/site-packages (from cuml-cu12==25.8.*) (25.8.0)\n",
      "Requirement already satisfied: rapids-dask-dependency==25.8.* in /home/allisond/.local/lib/python3.12/site-packages (from cuml-cu12==25.8.*) (25.8.0)\n",
      "Requirement already satisfied: rich in /home/allisond/.local/lib/python3.12/site-packages (from cuml-cu12==25.8.*) (13.9.4)\n",
      "Requirement already satisfied: rmm-cu12==25.8.* in /home/allisond/.local/lib/python3.12/site-packages (from cuml-cu12==25.8.*) (25.8.0)\n",
      "Requirement already satisfied: scikit-learn>=1.4 in /home/allisond/.local/lib/python3.12/site-packages (from cuml-cu12==25.8.*) (1.6.1)\n",
      "Requirement already satisfied: scipy>=1.8.0 in /home/allisond/.local/lib/python3.12/site-packages (from cuml-cu12==25.8.*) (1.13.1)\n",
      "Requirement already satisfied: treelite==4.4.1 in /home/allisond/.local/lib/python3.12/site-packages (from cuml-cu12==25.8.*) (4.4.1)\n",
      "Requirement already satisfied: cachetools in /home/allisond/.local/lib/python3.12/site-packages (from cudf-cu12==25.8.*->cuml-cu12==25.8.*) (5.5.2)\n",
      "Requirement already satisfied: fsspec>=0.6.0 in /home/allisond/.local/lib/python3.12/site-packages (from cudf-cu12==25.8.*->cuml-cu12==25.8.*) (2025.5.1)\n",
      "Requirement already satisfied: libcudf-cu12==25.8.* in /home/allisond/.local/lib/python3.12/site-packages (from cudf-cu12==25.8.*->cuml-cu12==25.8.*) (25.8.0)\n",
      "Requirement already satisfied: numba-cuda<0.15.0a0,>=0.14.0 in /home/allisond/.local/lib/python3.12/site-packages (from numba-cuda[cu12]<0.15.0a0,>=0.14.0->cudf-cu12==25.8.*->cuml-cu12==25.8.*) (0.14.0)\n",
      "Requirement already satisfied: nvidia-cuda-nvcc-cu12 in /home/allisond/.local/lib/python3.12/site-packages (from cudf-cu12==25.8.*->cuml-cu12==25.8.*) (12.9.86)\n",
      "Requirement already satisfied: nvidia-cuda-nvrtc-cu12 in /home/allisond/.local/lib/python3.12/site-packages (from cudf-cu12==25.8.*->cuml-cu12==25.8.*) (12.4.127)\n",
      "Requirement already satisfied: nvtx>=0.2.1 in /home/allisond/.local/lib/python3.12/site-packages (from cudf-cu12==25.8.*->cuml-cu12==25.8.*) (0.2.11)\n",
      "Requirement already satisfied: pandas<2.4.0dev0,>=2.0 in /home/allisond/.local/lib/python3.12/site-packages (from cudf-cu12==25.8.*->cuml-cu12==25.8.*) (2.2.3)\n",
      "Requirement already satisfied: pyarrow<20.0.0a0,>=14.0.0 in /home/allisond/.local/lib/python3.12/site-packages (from cudf-cu12==25.8.*->cuml-cu12==25.8.*) (19.0.1)\n",
      "Requirement already satisfied: pylibcudf-cu12==25.8.* in /home/allisond/.local/lib/python3.12/site-packages (from cudf-cu12==25.8.*->cuml-cu12==25.8.*) (25.8.0)\n",
      "Requirement already satisfied: pynvjitlink-cu12 in /home/allisond/.local/lib/python3.12/site-packages (from cudf-cu12==25.8.*->cuml-cu12==25.8.*) (0.5.1)\n",
      "Requirement already satisfied: typing_extensions>=4.0.0 in /home/allisond/.local/lib/python3.12/site-packages (from cudf-cu12==25.8.*->cuml-cu12==25.8.*) (4.12.2)\n",
      "Requirement already satisfied: libcuvs-cu12==25.8.* in /home/allisond/.local/lib/python3.12/site-packages (from cuvs-cu12==25.8.*->cuml-cu12==25.8.*) (25.8.0)\n",
      "Requirement already satisfied: click>=8.1 in /home/allisond/.local/lib/python3.12/site-packages (from dask-cuda==25.8.*->cuml-cu12==25.8.*) (8.1.8)\n",
      "Requirement already satisfied: pynvml<13.0.0a0,>=12.0.0 in /home/allisond/.local/lib/python3.12/site-packages (from dask-cuda==25.8.*->cuml-cu12==25.8.*) (12.0.0)\n",
      "Requirement already satisfied: zict>=2.0.0 in /home/allisond/.local/lib/python3.12/site-packages (from dask-cuda==25.8.*->cuml-cu12==25.8.*) (3.0.0)\n",
      "Requirement already satisfied: libraft-cu12==25.8.* in /home/allisond/.local/lib/python3.12/site-packages (from libcuml-cu12==25.8.*->cuml-cu12==25.8.*) (25.8.0)\n",
      "Requirement already satisfied: rapids-logger==0.1.* in /home/allisond/.local/lib/python3.12/site-packages (from libcuml-cu12==25.8.*->cuml-cu12==25.8.*) (0.1.0a29)\n",
      "Requirement already satisfied: distributed-ucxx-cu12==0.45.* in /home/allisond/.local/lib/python3.12/site-packages (from raft-dask-cu12==25.8.*->cuml-cu12==25.8.*) (0.45.1)\n",
      "Requirement already satisfied: nvidia-nccl-cu12>=2.19 in /home/allisond/.local/lib/python3.12/site-packages (from raft-dask-cu12==25.8.*->cuml-cu12==25.8.*) (2.21.5)\n",
      "Requirement already satisfied: ucx-py-cu12==0.45.* in /home/allisond/.local/lib/python3.12/site-packages (from raft-dask-cu12==25.8.*->cuml-cu12==25.8.*) (0.45.0)\n",
      "Requirement already satisfied: dask==2025.7.0 in /home/allisond/.local/lib/python3.12/site-packages (from rapids-dask-dependency==25.8.*->cuml-cu12==25.8.*) (2025.7.0)\n",
      "Requirement already satisfied: distributed==2025.7.0 in /home/allisond/.local/lib/python3.12/site-packages (from rapids-dask-dependency==25.8.*->cuml-cu12==25.8.*) (2025.7.0)\n",
      "Requirement already satisfied: librmm-cu12==25.8.* in /home/allisond/.local/lib/python3.12/site-packages (from rmm-cu12==25.8.*->cuml-cu12==25.8.*) (25.8.0)\n",
      "Requirement already satisfied: cloudpickle>=3.0.0 in /home/allisond/.local/lib/python3.12/site-packages (from dask==2025.7.0->rapids-dask-dependency==25.8.*->cuml-cu12==25.8.*) (3.1.0)\n",
      "Requirement already satisfied: partd>=1.4.0 in /home/allisond/.local/lib/python3.12/site-packages (from dask==2025.7.0->rapids-dask-dependency==25.8.*->cuml-cu12==25.8.*) (1.4.2)\n",
      "Requirement already satisfied: pyyaml>=5.3.1 in /home/allisond/miniconda/lib/python3.12/site-packages (from dask==2025.7.0->rapids-dask-dependency==25.8.*->cuml-cu12==25.8.*) (6.0.2)\n",
      "Requirement already satisfied: toolz>=0.10.0 in /home/allisond/.local/lib/python3.12/site-packages (from dask==2025.7.0->rapids-dask-dependency==25.8.*->cuml-cu12==25.8.*) (1.0.0)\n",
      "Requirement already satisfied: jinja2>=2.10.3 in /home/allisond/.local/lib/python3.12/site-packages (from distributed==2025.7.0->rapids-dask-dependency==25.8.*->cuml-cu12==25.8.*) (3.1.6)\n",
      "Requirement already satisfied: locket>=1.0.0 in /home/allisond/.local/lib/python3.12/site-packages (from distributed==2025.7.0->rapids-dask-dependency==25.8.*->cuml-cu12==25.8.*) (1.0.0)\n",
      "Requirement already satisfied: msgpack>=1.0.2 in /home/allisond/.local/lib/python3.12/site-packages (from distributed==2025.7.0->rapids-dask-dependency==25.8.*->cuml-cu12==25.8.*) (1.1.0)\n",
      "Requirement already satisfied: psutil>=5.8.0 in /home/allisond/.local/lib/python3.12/site-packages (from distributed==2025.7.0->rapids-dask-dependency==25.8.*->cuml-cu12==25.8.*) (6.1.0)\n",
      "Requirement already satisfied: sortedcontainers>=2.0.5 in /home/allisond/.local/lib/python3.12/site-packages (from distributed==2025.7.0->rapids-dask-dependency==25.8.*->cuml-cu12==25.8.*) (2.4.0)\n",
      "Requirement already satisfied: tblib>=1.6.0 in /home/allisond/.local/lib/python3.12/site-packages (from distributed==2025.7.0->rapids-dask-dependency==25.8.*->cuml-cu12==25.8.*) (3.0.0)\n",
      "Requirement already satisfied: tornado>=6.2.0 in /home/allisond/.local/lib/python3.12/site-packages (from distributed==2025.7.0->rapids-dask-dependency==25.8.*->cuml-cu12==25.8.*) (6.4.2)\n",
      "Requirement already satisfied: urllib3>=1.26.5 in /home/allisond/miniconda/lib/python3.12/site-packages (from distributed==2025.7.0->rapids-dask-dependency==25.8.*->cuml-cu12==25.8.*) (2.3.0)\n",
      "Requirement already satisfied: ucxx-cu12==0.45.* in /home/allisond/.local/lib/python3.12/site-packages (from distributed-ucxx-cu12==0.45.*->raft-dask-cu12==25.8.*->cuml-cu12==25.8.*) (0.45.1)\n",
      "Requirement already satisfied: libkvikio-cu12==25.8.* in /home/allisond/.local/lib/python3.12/site-packages (from libcudf-cu12==25.8.*->cudf-cu12==25.8.*->cuml-cu12==25.8.*) (25.8.0)\n",
      "Requirement already satisfied: libucx-cu12<1.19,>=1.15.0 in /home/allisond/.local/lib/python3.12/site-packages (from ucx-py-cu12==0.45.*->raft-dask-cu12==25.8.*->cuml-cu12==25.8.*) (1.17.0.post1)\n",
      "Requirement already satisfied: libucxx-cu12==0.45.* in /home/allisond/.local/lib/python3.12/site-packages (from ucxx-cu12==0.45.*->distributed-ucxx-cu12==0.45.*->raft-dask-cu12==25.8.*->cuml-cu12==25.8.*) (0.45.1)\n",
      "Requirement already satisfied: cuda-bindings~=12.9.0 in /home/allisond/.local/lib/python3.12/site-packages (from cuda-python<13.0a0,>=12.6.2->cuml-cu12==25.8.*) (12.9.0)\n",
      "Requirement already satisfied: fastrlock>=0.5 in /home/allisond/.local/lib/python3.12/site-packages (from cupy-cuda12x>=12.0.0->cuml-cu12==25.8.*) (0.8.3)\n",
      "Requirement already satisfied: llvmlite<0.45,>=0.44.0dev0 in /home/allisond/.local/lib/python3.12/site-packages (from numba<0.62.0a0,>=0.59.1->cuml-cu12==25.8.*) (0.44.0)\n",
      "Requirement already satisfied: threadpoolctl>=3.1.0 in /home/allisond/.local/lib/python3.12/site-packages (from scikit-learn>=1.4->cuml-cu12==25.8.*) (3.5.0)\n",
      "Requirement already satisfied: nvidia-nvjitlink-cu12 in /home/allisond/.local/lib/python3.12/site-packages (from nvidia-cusolver-cu12->cuml-cu12==25.8.*) (12.4.127)\n",
      "Requirement already satisfied: markdown-it-py>=2.2.0 in /home/allisond/.local/lib/python3.12/site-packages (from rich->cuml-cu12==25.8.*) (3.0.0)\n",
      "Requirement already satisfied: pygments<3.0.0,>=2.13.0 in /home/allisond/.local/lib/python3.12/site-packages (from rich->cuml-cu12==25.8.*) (2.19.1)\n",
      "Requirement already satisfied: mdurl~=0.1 in /home/allisond/.local/lib/python3.12/site-packages (from markdown-it-py>=2.2.0->rich->cuml-cu12==25.8.*) (0.1.2)\n",
      "Requirement already satisfied: nvidia-cuda-runtime-cu12 in /home/allisond/.local/lib/python3.12/site-packages (from numba-cuda[cu12]<0.15.0a0,>=0.14.0->cudf-cu12==25.8.*->cuml-cu12==25.8.*) (12.4.127)\n",
      "Requirement already satisfied: python-dateutil>=2.8.2 in /home/allisond/.local/lib/python3.12/site-packages (from pandas<2.4.0dev0,>=2.0->cudf-cu12==25.8.*->cuml-cu12==25.8.*) (2.9.0.post0)\n",
      "Requirement already satisfied: pytz>=2020.1 in /home/allisond/.local/lib/python3.12/site-packages (from pandas<2.4.0dev0,>=2.0->cudf-cu12==25.8.*->cuml-cu12==25.8.*) (2025.1)\n",
      "Requirement already satisfied: tzdata>=2022.7 in /home/allisond/.local/lib/python3.12/site-packages (from pandas<2.4.0dev0,>=2.0->cudf-cu12==25.8.*->cuml-cu12==25.8.*) (2025.1)\n",
      "Requirement already satisfied: nvidia-ml-py<13.0.0a0,>=12.0.0 in /home/allisond/.local/lib/python3.12/site-packages (from pynvml<13.0.0a0,>=12.0.0->dask-cuda==25.8.*->cuml-cu12==25.8.*) (12.560.30)\n",
      "Requirement already satisfied: MarkupSafe>=2.0 in /home/allisond/miniconda/lib/python3.12/site-packages (from jinja2>=2.10.3->distributed==2025.7.0->rapids-dask-dependency==25.8.*->cuml-cu12==25.8.*) (3.0.2)\n",
      "Requirement already satisfied: six>=1.5 in /home/allisond/.local/lib/python3.12/site-packages (from python-dateutil>=2.8.2->pandas<2.4.0dev0,>=2.0->cudf-cu12==25.8.*->cuml-cu12==25.8.*) (1.17.0)\n"
     ]
    }
   ],
   "source": [
    "!pip install \\\n",
    "    --extra-index-url=https://pypi.nvidia.com \\\n",
    "    \"cuml-cu12==25.8.*\""
   ]
  },
  {
   "cell_type": "markdown",
   "id": "9876318a-e0bd-4ef0-94db-ecd0d74145ba",
   "metadata": {},
   "source": [
    "# Import Dataset\n",
    "\n",
    "The <b>Forest CoverType dataset</b> is a widely used, real-world dataset from the U.S. Forest Service designed for machine learning applications. It contains data describing various physical and ecological characteristics of forested areas in the Roosevelt National Forest, Colorado. Each data point represents a plot of land, described by environmental features, with the goal of predicting the <b>forest cover type</b> — the dominant tree species or group present at that site.\n",
    "\n",
    "* <b>Samples</b>: 581,012 forest plots (rows)\n",
    "* <b>Features</b>: 54 attributes per plot\n",
    "  * 10 continuous features (e.g., elevation, slope, aspect, distances to hydrology/road/fire points, hillshade values)\n",
    "  * 44 binary features (one-hot encoded: 4 wilderness areas, 40 soil types)\n",
    "* <b>Target</b>: Forest cover type (integer 1–7), each representing a different dominant tree species/group (e.g., Spruce/Fir, Lodgepole Pine, Aspen, etc.)"
   ]
  },
  {
   "cell_type": "code",
   "execution_count": 2,
   "id": "1e3d51eb-35e1-4469-8434-90e4c902c02c",
   "metadata": {},
   "outputs": [],
   "source": [
    "%load_ext cudf.pandas\n",
    "\n",
    "from ucimlrepo import fetch_ucirepo \n",
    "  \n",
    "# fetch dataset \n",
    "covertype = fetch_ucirepo(id=31) \n",
    "  \n",
    "# data (as pandas dataframes) \n",
    "X = covertype.data.features # Independent variables\n",
    "y = covertype.data.targets  # Dependent variable"
   ]
  },
  {
   "cell_type": "code",
   "execution_count": 3,
   "id": "e20140d1-78e4-4bc2-9a6d-5254680d9f7c",
   "metadata": {},
   "outputs": [
    {
     "data": {
      "text/html": [
       "<div>\n",
       "<style scoped>\n",
       "    .dataframe tbody tr th:only-of-type {\n",
       "        vertical-align: middle;\n",
       "    }\n",
       "\n",
       "    .dataframe tbody tr th {\n",
       "        vertical-align: top;\n",
       "    }\n",
       "\n",
       "    .dataframe thead th {\n",
       "        text-align: right;\n",
       "    }\n",
       "</style>\n",
       "<table border=\"1\" class=\"dataframe\">\n",
       "  <thead>\n",
       "    <tr style=\"text-align: right;\">\n",
       "      <th></th>\n",
       "      <th>Elevation</th>\n",
       "      <th>Aspect</th>\n",
       "      <th>Slope</th>\n",
       "      <th>Horizontal_Distance_To_Hydrology</th>\n",
       "      <th>Vertical_Distance_To_Hydrology</th>\n",
       "      <th>Horizontal_Distance_To_Roadways</th>\n",
       "      <th>Hillshade_9am</th>\n",
       "      <th>Hillshade_Noon</th>\n",
       "      <th>Hillshade_3pm</th>\n",
       "      <th>Horizontal_Distance_To_Fire_Points</th>\n",
       "      <th>...</th>\n",
       "      <th>Soil_Type34</th>\n",
       "      <th>Soil_Type35</th>\n",
       "      <th>Soil_Type36</th>\n",
       "      <th>Soil_Type37</th>\n",
       "      <th>Soil_Type38</th>\n",
       "      <th>Soil_Type39</th>\n",
       "      <th>Soil_Type40</th>\n",
       "      <th>Wilderness_Area2</th>\n",
       "      <th>Wilderness_Area3</th>\n",
       "      <th>Wilderness_Area4</th>\n",
       "    </tr>\n",
       "  </thead>\n",
       "  <tbody>\n",
       "    <tr>\n",
       "      <th>0</th>\n",
       "      <td>2596</td>\n",
       "      <td>51</td>\n",
       "      <td>3</td>\n",
       "      <td>258</td>\n",
       "      <td>0</td>\n",
       "      <td>510</td>\n",
       "      <td>221</td>\n",
       "      <td>232</td>\n",
       "      <td>148</td>\n",
       "      <td>6279</td>\n",
       "      <td>...</td>\n",
       "      <td>0</td>\n",
       "      <td>0</td>\n",
       "      <td>0</td>\n",
       "      <td>0</td>\n",
       "      <td>0</td>\n",
       "      <td>0</td>\n",
       "      <td>0</td>\n",
       "      <td>0</td>\n",
       "      <td>0</td>\n",
       "      <td>0</td>\n",
       "    </tr>\n",
       "    <tr>\n",
       "      <th>1</th>\n",
       "      <td>2590</td>\n",
       "      <td>56</td>\n",
       "      <td>2</td>\n",
       "      <td>212</td>\n",
       "      <td>-6</td>\n",
       "      <td>390</td>\n",
       "      <td>220</td>\n",
       "      <td>235</td>\n",
       "      <td>151</td>\n",
       "      <td>6225</td>\n",
       "      <td>...</td>\n",
       "      <td>0</td>\n",
       "      <td>0</td>\n",
       "      <td>0</td>\n",
       "      <td>0</td>\n",
       "      <td>0</td>\n",
       "      <td>0</td>\n",
       "      <td>0</td>\n",
       "      <td>0</td>\n",
       "      <td>0</td>\n",
       "      <td>0</td>\n",
       "    </tr>\n",
       "    <tr>\n",
       "      <th>2</th>\n",
       "      <td>2804</td>\n",
       "      <td>139</td>\n",
       "      <td>9</td>\n",
       "      <td>268</td>\n",
       "      <td>65</td>\n",
       "      <td>3180</td>\n",
       "      <td>234</td>\n",
       "      <td>238</td>\n",
       "      <td>135</td>\n",
       "      <td>6121</td>\n",
       "      <td>...</td>\n",
       "      <td>0</td>\n",
       "      <td>0</td>\n",
       "      <td>0</td>\n",
       "      <td>0</td>\n",
       "      <td>0</td>\n",
       "      <td>0</td>\n",
       "      <td>0</td>\n",
       "      <td>0</td>\n",
       "      <td>0</td>\n",
       "      <td>0</td>\n",
       "    </tr>\n",
       "    <tr>\n",
       "      <th>3</th>\n",
       "      <td>2785</td>\n",
       "      <td>155</td>\n",
       "      <td>18</td>\n",
       "      <td>242</td>\n",
       "      <td>118</td>\n",
       "      <td>3090</td>\n",
       "      <td>238</td>\n",
       "      <td>238</td>\n",
       "      <td>122</td>\n",
       "      <td>6211</td>\n",
       "      <td>...</td>\n",
       "      <td>0</td>\n",
       "      <td>0</td>\n",
       "      <td>0</td>\n",
       "      <td>0</td>\n",
       "      <td>0</td>\n",
       "      <td>0</td>\n",
       "      <td>0</td>\n",
       "      <td>0</td>\n",
       "      <td>0</td>\n",
       "      <td>0</td>\n",
       "    </tr>\n",
       "    <tr>\n",
       "      <th>4</th>\n",
       "      <td>2595</td>\n",
       "      <td>45</td>\n",
       "      <td>2</td>\n",
       "      <td>153</td>\n",
       "      <td>-1</td>\n",
       "      <td>391</td>\n",
       "      <td>220</td>\n",
       "      <td>234</td>\n",
       "      <td>150</td>\n",
       "      <td>6172</td>\n",
       "      <td>...</td>\n",
       "      <td>0</td>\n",
       "      <td>0</td>\n",
       "      <td>0</td>\n",
       "      <td>0</td>\n",
       "      <td>0</td>\n",
       "      <td>0</td>\n",
       "      <td>0</td>\n",
       "      <td>0</td>\n",
       "      <td>0</td>\n",
       "      <td>0</td>\n",
       "    </tr>\n",
       "  </tbody>\n",
       "</table>\n",
       "<p>5 rows × 54 columns</p>\n",
       "</div>"
      ],
      "text/plain": [
       "   Elevation  Aspect  Slope  Horizontal_Distance_To_Hydrology  \\\n",
       "0       2596      51      3                               258   \n",
       "1       2590      56      2                               212   \n",
       "2       2804     139      9                               268   \n",
       "3       2785     155     18                               242   \n",
       "4       2595      45      2                               153   \n",
       "\n",
       "   Vertical_Distance_To_Hydrology  Horizontal_Distance_To_Roadways  \\\n",
       "0                               0                              510   \n",
       "1                              -6                              390   \n",
       "2                              65                             3180   \n",
       "3                             118                             3090   \n",
       "4                              -1                              391   \n",
       "\n",
       "   Hillshade_9am  Hillshade_Noon  Hillshade_3pm  \\\n",
       "0            221             232            148   \n",
       "1            220             235            151   \n",
       "2            234             238            135   \n",
       "3            238             238            122   \n",
       "4            220             234            150   \n",
       "\n",
       "   Horizontal_Distance_To_Fire_Points  ...  Soil_Type34  Soil_Type35  \\\n",
       "0                                6279  ...            0            0   \n",
       "1                                6225  ...            0            0   \n",
       "2                                6121  ...            0            0   \n",
       "3                                6211  ...            0            0   \n",
       "4                                6172  ...            0            0   \n",
       "\n",
       "   Soil_Type36  Soil_Type37  Soil_Type38  Soil_Type39  Soil_Type40  \\\n",
       "0            0            0            0            0            0   \n",
       "1            0            0            0            0            0   \n",
       "2            0            0            0            0            0   \n",
       "3            0            0            0            0            0   \n",
       "4            0            0            0            0            0   \n",
       "\n",
       "   Wilderness_Area2  Wilderness_Area3  Wilderness_Area4  \n",
       "0                 0                 0                 0  \n",
       "1                 0                 0                 0  \n",
       "2                 0                 0                 0  \n",
       "3                 0                 0                 0  \n",
       "4                 0                 0                 0  \n",
       "\n",
       "[5 rows x 54 columns]"
      ]
     },
     "execution_count": 3,
     "metadata": {},
     "output_type": "execute_result"
    }
   ],
   "source": [
    "X.head()"
   ]
  },
  {
   "cell_type": "code",
   "execution_count": 4,
   "id": "4125a08a-10e6-4581-b4a0-272e2df395da",
   "metadata": {
    "scrolled": true
   },
   "outputs": [
    {
     "name": "stdout",
     "output_type": "stream",
     "text": [
      "<class 'cudf.core.dataframe.DataFrame'>\n",
      "RangeIndex: 581012 entries, 0 to 581011\n",
      "Data columns (total 54 columns):\n",
      " #   Column                              Non-Null Count   Dtype\n",
      "---  ------                              --------------   -----\n",
      " 0   Elevation                           581012 non-null  int64\n",
      " 1   Aspect                              581012 non-null  int64\n",
      " 2   Slope                               581012 non-null  int64\n",
      " 3   Horizontal_Distance_To_Hydrology    581012 non-null  int64\n",
      " 4   Vertical_Distance_To_Hydrology      581012 non-null  int64\n",
      " 5   Horizontal_Distance_To_Roadways     581012 non-null  int64\n",
      " 6   Hillshade_9am                       581012 non-null  int64\n",
      " 7   Hillshade_Noon                      581012 non-null  int64\n",
      " 8   Hillshade_3pm                       581012 non-null  int64\n",
      " 9   Horizontal_Distance_To_Fire_Points  581012 non-null  int64\n",
      " 10  Wilderness_Area1                    581012 non-null  int64\n",
      " 11  Soil_Type1                          581012 non-null  int64\n",
      " 12  Soil_Type2                          581012 non-null  int64\n",
      " 13  Soil_Type3                          581012 non-null  int64\n",
      " 14  Soil_Type4                          581012 non-null  int64\n",
      " 15  Soil_Type5                          581012 non-null  int64\n",
      " 16  Soil_Type6                          581012 non-null  int64\n",
      " 17  Soil_Type7                          581012 non-null  int64\n",
      " 18  Soil_Type8                          581012 non-null  int64\n",
      " 19  Soil_Type9                          581012 non-null  int64\n",
      " 20  Soil_Type10                         581012 non-null  int64\n",
      " 21  Soil_Type11                         581012 non-null  int64\n",
      " 22  Soil_Type12                         581012 non-null  int64\n",
      " 23  Soil_Type13                         581012 non-null  int64\n",
      " 24  Soil_Type14                         581012 non-null  int64\n",
      " 25  Soil_Type15                         581012 non-null  int64\n",
      " 26  Soil_Type16                         581012 non-null  int64\n",
      " 27  Soil_Type17                         581012 non-null  int64\n",
      " 28  Soil_Type18                         581012 non-null  int64\n",
      " 29  Soil_Type19                         581012 non-null  int64\n",
      " 30  Soil_Type20                         581012 non-null  int64\n",
      " 31  Soil_Type21                         581012 non-null  int64\n",
      " 32  Soil_Type22                         581012 non-null  int64\n",
      " 33  Soil_Type23                         581012 non-null  int64\n",
      " 34  Soil_Type24                         581012 non-null  int64\n",
      " 35  Soil_Type25                         581012 non-null  int64\n",
      " 36  Soil_Type26                         581012 non-null  int64\n",
      " 37  Soil_Type27                         581012 non-null  int64\n",
      " 38  Soil_Type28                         581012 non-null  int64\n",
      " 39  Soil_Type29                         581012 non-null  int64\n",
      " 40  Soil_Type30                         581012 non-null  int64\n",
      " 41  Soil_Type31                         581012 non-null  int64\n",
      " 42  Soil_Type32                         581012 non-null  int64\n",
      " 43  Soil_Type33                         581012 non-null  int64\n",
      " 44  Soil_Type34                         581012 non-null  int64\n",
      " 45  Soil_Type35                         581012 non-null  int64\n",
      " 46  Soil_Type36                         581012 non-null  int64\n",
      " 47  Soil_Type37                         581012 non-null  int64\n",
      " 48  Soil_Type38                         581012 non-null  int64\n",
      " 49  Soil_Type39                         581012 non-null  int64\n",
      " 50  Soil_Type40                         581012 non-null  int64\n",
      " 51  Wilderness_Area2                    581012 non-null  int64\n",
      " 52  Wilderness_Area3                    581012 non-null  int64\n",
      " 53  Wilderness_Area4                    581012 non-null  int64\n",
      "dtypes: int64(54)\n",
      "memory usage: 239.4 MB\n"
     ]
    }
   ],
   "source": [
    "X.info()"
   ]
  },
  {
   "cell_type": "markdown",
   "id": "20fcabbc-cabf-4f5a-af8b-b3b9e4523fd6",
   "metadata": {},
   "source": [
    "# Machine Learning\n",
    "\n",
    "Machine learning workflows often involve computationally intensive operations, particularly when working with large datasets. Traditional CPU-based libraries like scikit-learn are widely used but may struggle to deliver optimal performance at scale. NVIDIA's cuML, a GPU-accelerated machine learning library, addresses this challenge by leveraging the power of GPUs to significantly accelerate common machine learning algorithms while maintaining compatibility with scikit-learn.\n",
    "\n",
    "In this guide, we explore how to use cuML for key machine learning algorithms, comparing them to their scikit-learn counterparts. The algorithms covered include:\n",
    "\n",
    "* <b>Random Forest Classifier</b>: An ensemble learning method that builds multiple decision trees and combines their outputs for robust and accurate classification.\n",
    "* <b>Logistic Regression</b>: A linear model for binary or multi-class classification, useful for tasks where the target variable is categorical.\n",
    "* <b>K-Nearest Neighbors Classifier</b>: A non-parametric algorithm that assigns a class to a data point based on the majority class of its nearest neighbors.\n",
    "\n",
    "\n"
   ]
  },
  {
   "cell_type": "markdown",
   "id": "5056c622-df27-4415-a7a9-a700fb05f840",
   "metadata": {},
   "source": [
    "\n",
    "We start with classification models to predict forest cover type, such as elevation, aspect, slope, and soil-type"
   ]
  },
  {
   "cell_type": "code",
   "execution_count": 5,
   "id": "adbb3186-4f02-4a2b-8d91-5f3c6befc532",
   "metadata": {},
   "outputs": [],
   "source": [
    "%load_ext cuml.accel\n",
    "\n",
    "from sklearn.model_selection import train_test_split, GridSearchCV \n",
    "from sklearn.preprocessing import StandardScaler\n",
    "from sklearn.metrics import classification_report, accuracy_score\n",
    "from sklearn.ensemble import RandomForestClassifier\n",
    "from sklearn.linear_model import LogisticRegression\n",
    "from sklearn.neighbors import KNeighborsClassifier\n",
    "import numpy as np"
   ]
  },
  {
   "cell_type": "markdown",
   "id": "7fdceebc-3200-4a2a-938f-293568d7639e",
   "metadata": {},
   "source": [
    "train test data split"
   ]
  },
  {
   "cell_type": "code",
   "execution_count": 6,
   "id": "2eb4f0c8-f0b2-453c-ad8f-22ef9491d8a8",
   "metadata": {},
   "outputs": [],
   "source": [
    "X_train, X_test, y_train, y_test = train_test_split(X, y, test_size = 0.2, stratify = y)"
   ]
  },
  {
   "cell_type": "markdown",
   "id": "ddd666af-1adc-4b6c-adb5-e80b3882be13",
   "metadata": {},
   "source": [
    "normalize the independent variables"
   ]
  },
  {
   "cell_type": "code",
   "execution_count": 7,
   "id": "75f10b50-a12b-407a-9dc6-1f37db53a6e7",
   "metadata": {},
   "outputs": [],
   "source": [
    "# Scale\n",
    "scaler = StandardScaler()\n",
    "X_train = scaler.fit_transform(X_train)\n",
    "X_test = scaler.transform(X_test)"
   ]
  },
  {
   "cell_type": "markdown",
   "id": "d0a77b95-e120-41fc-aeba-3ba374f87e88",
   "metadata": {},
   "source": [
    "### Random Forest Classifier"
   ]
  },
  {
   "cell_type": "markdown",
   "id": "f55b0a54-333e-4f7a-b550-9b5e69a83658",
   "metadata": {},
   "source": [
    "fit Random Forest model using the training dataset and make prediction using the test dataset "
   ]
  },
  {
   "cell_type": "code",
   "execution_count": 9,
   "id": "dd119b2d-e4c2-4fbb-8135-3031d8a455f6",
   "metadata": {},
   "outputs": [
    {
     "data": {
      "text/html": [
       "<pre style=\"white-space:pre;overflow-x:auto;line-height:normal;font-family:Menlo,'DejaVu Sans Mono',consolas,'Courier New',monospace\"><span style=\"font-weight: bold\">cuml.accel profile                                                              </span>\n",
       "┏━━━━━━━━━━━━━━━━━━━━━━━━━━━━━━━━┳━━━━━━━━━━━┳━━━━━━━━━━┳━━━━━━━━━━━┳━━━━━━━━━━┓\n",
       "┃<span style=\"font-weight: bold\"> Function                       </span>┃<span style=\"font-weight: bold\"> GPU calls </span>┃<span style=\"font-weight: bold\"> GPU time </span>┃<span style=\"font-weight: bold\"> CPU calls </span>┃<span style=\"font-weight: bold\"> CPU time </span>┃\n",
       "┡━━━━━━━━━━━━━━━━━━━━━━━━━━━━━━━━╇━━━━━━━━━━━╇━━━━━━━━━━╇━━━━━━━━━━━╇━━━━━━━━━━┩\n",
       "│ RandomForestClassifier.fit     │         1 │     1.3s │         0 │       0s │\n",
       "│ RandomForestClassifier.predict │         1 │   38.5ms │         0 │       0s │\n",
       "├────────────────────────────────┼───────────┼──────────┼───────────┼──────────┤\n",
       "│ Total                          │         2 │     1.3s │         0 │       0s │\n",
       "└────────────────────────────────┴───────────┴──────────┴───────────┴──────────┘\n",
       "</pre>\n"
      ],
      "text/plain": [
       "\u001b[1mcuml.accel profile                                                              \u001b[0m\n",
       "┏━━━━━━━━━━━━━━━━━━━━━━━━━━━━━━━━┳━━━━━━━━━━━┳━━━━━━━━━━┳━━━━━━━━━━━┳━━━━━━━━━━┓\n",
       "┃\u001b[1m \u001b[0m\u001b[1mFunction                      \u001b[0m\u001b[1m \u001b[0m┃\u001b[1m \u001b[0m\u001b[1mGPU calls\u001b[0m\u001b[1m \u001b[0m┃\u001b[1m \u001b[0m\u001b[1mGPU time\u001b[0m\u001b[1m \u001b[0m┃\u001b[1m \u001b[0m\u001b[1mCPU calls\u001b[0m\u001b[1m \u001b[0m┃\u001b[1m \u001b[0m\u001b[1mCPU time\u001b[0m\u001b[1m \u001b[0m┃\n",
       "┡━━━━━━━━━━━━━━━━━━━━━━━━━━━━━━━━╇━━━━━━━━━━━╇━━━━━━━━━━╇━━━━━━━━━━━╇━━━━━━━━━━┩\n",
       "│ RandomForestClassifier.fit     │         1 │     1.3s │         0 │       0s │\n",
       "│ RandomForestClassifier.predict │         1 │   38.5ms │         0 │       0s │\n",
       "├────────────────────────────────┼───────────┼──────────┼───────────┼──────────┤\n",
       "│ Total                          │         2 │     1.3s │         0 │       0s │\n",
       "└────────────────────────────────┴───────────┴──────────┴───────────┴──────────┘\n"
      ]
     },
     "metadata": {},
     "output_type": "display_data"
    }
   ],
   "source": [
    "%%cuml.accel.profile\n",
    "\n",
    "# fit Random Forest model\n",
    "rfc = RandomForestClassifier(n_estimators = 100, max_depth = 5, min_samples_split = 5, \n",
    "                             min_samples_leaf = 4, max_features = 1.0, bootstrap = True)\n",
    "rfc.fit(X_train, np.array(y_train).ravel())\n",
    "\n",
    "# predict using Random Forest model\n",
    "y_pred = rfc.predict(X_test)\n",
    "acc = accuracy_score(y_test, y_pred)"
   ]
  },
  {
   "cell_type": "code",
   "execution_count": 12,
   "id": "08f773ed-13e4-4398-9803-7203dba1f4af",
   "metadata": {},
   "outputs": [
    {
     "data": {
      "text/html": [
       "<pre style=\"white-space:pre;overflow-x:auto;line-height:normal;font-family:Menlo,'DejaVu Sans Mono',consolas,'Courier New',monospace\"><span style=\"font-weight: bold\">cuml.accel line profile                                                                                            </span>\n",
       "┏━━━┳━━━┳━━━━━━━━┳━━━━━━━┳━━━━━━━━━━━━━━━━━━━━━━━━━━━━━━━━━━━━━━━━━━━━━━━━━━━━━━━━━━━━━━━━━━━━━━━━━━━━━━━━━━━━━━━━┓\n",
       "┃<span style=\"font-weight: bold\"> # </span>┃<span style=\"font-weight: bold\"> N </span>┃<span style=\"font-weight: bold\">   Time </span>┃<span style=\"font-weight: bold\"> GPU % </span>┃<span style=\"font-weight: bold\"> Source                                                                                 </span>┃\n",
       "┡━━━╇━━━╇━━━━━━━━╇━━━━━━━╇━━━━━━━━━━━━━━━━━━━━━━━━━━━━━━━━━━━━━━━━━━━━━━━━━━━━━━━━━━━━━━━━━━━━━━━━━━━━━━━━━━━━━━━━┩\n",
       "│ 1 │   │        │       │ <span style=\"color: #7f7f7f; text-decoration-color: #7f7f7f\"># fit Random Forest model</span>                                                              │\n",
       "│ 2 │ 2 │      - │     - │ rfc = RandomForestClassifier(n_estimators = <span style=\"color: #000080; text-decoration-color: #000080\">100</span>, max_depth = <span style=\"color: #000080; text-decoration-color: #000080\">5</span>, min_samples_split = <span style=\"color: #000080; text-decoration-color: #000080\">5</span>, │\n",
       "│ 3 │ 1 │      - │     - │                              min_samples_leaf = <span style=\"color: #000080; text-decoration-color: #000080\">4</span>, max_features = <span style=\"color: #000080; text-decoration-color: #000080\">1.0</span>, bootstrap = <span style=\"color: #000080; text-decoration-color: #000080\">Tr…</span> │\n",
       "│ 4 │ 1 │   1.3s │  97.0 │ rfc.fit(X_train, np.array(y_train).ravel())                                            │\n",
       "│ 5 │   │        │       │                                                                                        │\n",
       "│ 6 │   │        │       │ <span style=\"color: #7f7f7f; text-decoration-color: #7f7f7f\"># predict using Random Forest model</span>                                                    │\n",
       "│ 7 │ 1 │ 21.5ms │  99.0 │ y_pred = rfc.predict(X_test)                                                           │\n",
       "│ 8 │ 1 │ 46.8ms │     - │ acc = accuracy_score(y_test, y_pred)                                                   │\n",
       "└───┴───┴────────┴───────┴────────────────────────────────────────────────────────────────────────────────────────┘\n",
       "Ran in 1.3s, 94.1% on GPU                                                                                          \n",
       "</pre>\n"
      ],
      "text/plain": [
       "\u001b[1mcuml.accel line profile                                                                                            \u001b[0m\n",
       "┏━━━┳━━━┳━━━━━━━━┳━━━━━━━┳━━━━━━━━━━━━━━━━━━━━━━━━━━━━━━━━━━━━━━━━━━━━━━━━━━━━━━━━━━━━━━━━━━━━━━━━━━━━━━━━━━━━━━━━┓\n",
       "┃\u001b[1m \u001b[0m\u001b[1m#\u001b[0m\u001b[1m \u001b[0m┃\u001b[1m \u001b[0m\u001b[1mN\u001b[0m\u001b[1m \u001b[0m┃\u001b[1m \u001b[0m\u001b[1m  Time\u001b[0m\u001b[1m \u001b[0m┃\u001b[1m \u001b[0m\u001b[1mGPU %\u001b[0m\u001b[1m \u001b[0m┃\u001b[1m \u001b[0m\u001b[1mSource                                                                                \u001b[0m\u001b[1m \u001b[0m┃\n",
       "┡━━━╇━━━╇━━━━━━━━╇━━━━━━━╇━━━━━━━━━━━━━━━━━━━━━━━━━━━━━━━━━━━━━━━━━━━━━━━━━━━━━━━━━━━━━━━━━━━━━━━━━━━━━━━━━━━━━━━━┩\n",
       "│ 1 │   │        │       │ \u001b[2m# fit Random Forest model\u001b[0m                                                              │\n",
       "│ 2 │ 2 │      - │     - │ rfc = RandomForestClassifier(n_estimators = \u001b[34m100\u001b[0m, max_depth = \u001b[34m5\u001b[0m, min_samples_split = \u001b[34m5\u001b[0m, │\n",
       "│ 3 │ 1 │      - │     - │                              min_samples_leaf = \u001b[34m4\u001b[0m, max_features = \u001b[34m1.0\u001b[0m, bootstrap = \u001b[34mTr…\u001b[0m │\n",
       "│ 4 │ 1 │   1.3s │  97.0 │ rfc.fit(X_train, np.array(y_train).ravel())                                            │\n",
       "│ 5 │   │        │       │                                                                                        │\n",
       "│ 6 │   │        │       │ \u001b[2m# predict using Random Forest model\u001b[0m                                                    │\n",
       "│ 7 │ 1 │ 21.5ms │  99.0 │ y_pred = rfc.predict(X_test)                                                           │\n",
       "│ 8 │ 1 │ 46.8ms │     - │ acc = accuracy_score(y_test, y_pred)                                                   │\n",
       "└───┴───┴────────┴───────┴────────────────────────────────────────────────────────────────────────────────────────┘\n",
       "Ran in 1.3s, 94.1% on GPU                                                                                          \n"
      ]
     },
     "metadata": {},
     "output_type": "display_data"
    }
   ],
   "source": [
    "%%cuml.accel.line_profile\n",
    "\n",
    "# fit Random Forest model\n",
    "rfc = RandomForestClassifier(n_estimators = 100, max_depth = 5, min_samples_split = 5, \n",
    "                             min_samples_leaf = 4, max_features = 1.0, bootstrap = True)\n",
    "rfc.fit(X_train, np.array(y_train).ravel())\n",
    "\n",
    "# predict using Random Forest model\n",
    "y_pred = rfc.predict(X_test)\n",
    "acc = accuracy_score(y_test, y_pred)"
   ]
  },
  {
   "cell_type": "code",
   "execution_count": 13,
   "id": "1f4d3d8d-ed50-497e-8a70-261defa55a2a",
   "metadata": {},
   "outputs": [
    {
     "data": {
      "text/plain": [
       "0.7057649114050412"
      ]
     },
     "execution_count": 13,
     "metadata": {},
     "output_type": "execute_result"
    }
   ],
   "source": [
    "acc"
   ]
  },
  {
   "cell_type": "markdown",
   "id": "d7f9531c-decb-4eee-9d3c-0aeea59db783",
   "metadata": {},
   "source": [
    "find the optimal hyperparameters using GridSearchCV, and make predictions"
   ]
  },
  {
   "cell_type": "code",
   "execution_count": 16,
   "id": "24f55eda-4ee2-4aa9-96a3-36f785e60f9c",
   "metadata": {},
   "outputs": [
    {
     "data": {
      "text/html": [
       "<pre style=\"white-space:pre;overflow-x:auto;line-height:normal;font-family:Menlo,'DejaVu Sans Mono',consolas,'Courier New',monospace\"><span style=\"font-weight: bold\">cuml.accel profile                                                              </span>\n",
       "┏━━━━━━━━━━━━━━━━━━━━━━━━━━━━━━━━┳━━━━━━━━━━━┳━━━━━━━━━━┳━━━━━━━━━━━┳━━━━━━━━━━┓\n",
       "┃<span style=\"font-weight: bold\"> Function                       </span>┃<span style=\"font-weight: bold\"> GPU calls </span>┃<span style=\"font-weight: bold\"> GPU time </span>┃<span style=\"font-weight: bold\"> CPU calls </span>┃<span style=\"font-weight: bold\"> CPU time </span>┃\n",
       "┡━━━━━━━━━━━━━━━━━━━━━━━━━━━━━━━━╇━━━━━━━━━━━╇━━━━━━━━━━╇━━━━━━━━━━━╇━━━━━━━━━━┩\n",
       "│ RandomForestClassifier.fit     │       145 │  2m25.2s │         0 │       0s │\n",
       "│ RandomForestClassifier.predict │         1 │  376.3ms │         0 │       0s │\n",
       "│ RandomForestClassifier.score   │       144 │    15.2s │         0 │       0s │\n",
       "├────────────────────────────────┼───────────┼──────────┼───────────┼──────────┤\n",
       "│ Total                          │       290 │  2m40.8s │         0 │       0s │\n",
       "└────────────────────────────────┴───────────┴──────────┴───────────┴──────────┘\n",
       "</pre>\n"
      ],
      "text/plain": [
       "\u001b[1mcuml.accel profile                                                              \u001b[0m\n",
       "┏━━━━━━━━━━━━━━━━━━━━━━━━━━━━━━━━┳━━━━━━━━━━━┳━━━━━━━━━━┳━━━━━━━━━━━┳━━━━━━━━━━┓\n",
       "┃\u001b[1m \u001b[0m\u001b[1mFunction                      \u001b[0m\u001b[1m \u001b[0m┃\u001b[1m \u001b[0m\u001b[1mGPU calls\u001b[0m\u001b[1m \u001b[0m┃\u001b[1m \u001b[0m\u001b[1mGPU time\u001b[0m\u001b[1m \u001b[0m┃\u001b[1m \u001b[0m\u001b[1mCPU calls\u001b[0m\u001b[1m \u001b[0m┃\u001b[1m \u001b[0m\u001b[1mCPU time\u001b[0m\u001b[1m \u001b[0m┃\n",
       "┡━━━━━━━━━━━━━━━━━━━━━━━━━━━━━━━━╇━━━━━━━━━━━╇━━━━━━━━━━╇━━━━━━━━━━━╇━━━━━━━━━━┩\n",
       "│ RandomForestClassifier.fit     │       145 │  2m25.2s │         0 │       0s │\n",
       "│ RandomForestClassifier.predict │         1 │  376.3ms │         0 │       0s │\n",
       "│ RandomForestClassifier.score   │       144 │    15.2s │         0 │       0s │\n",
       "├────────────────────────────────┼───────────┼──────────┼───────────┼──────────┤\n",
       "│ Total                          │       290 │  2m40.8s │         0 │       0s │\n",
       "└────────────────────────────────┴───────────┴──────────┴───────────┴──────────┘\n"
      ]
     },
     "metadata": {},
     "output_type": "display_data"
    }
   ],
   "source": [
    "%%cuml.accel.profile\n",
    "\n",
    "# Define the parameter grid to search over\n",
    "param_grid = {\n",
    "    'n_estimators': [50, 100],\n",
    "    'max_depth': [10, 20],\n",
    "    'min_samples_split': [2, 5],\n",
    "    'min_samples_leaf': [1, 2],\n",
    "    'max_features': ['sqrt', 'log2', 1.0]\n",
    "}\n",
    "\n",
    "grid_search = GridSearchCV(estimator=rfc, param_grid=param_grid, cv=3)\n",
    "grid_search.fit(X_train, np.array(y_train).ravel())\n",
    "\n",
    "y_pred = grid_search.predict(X_test)\n",
    "acc = accuracy_score(y_test, y_pred)"
   ]
  },
  {
   "cell_type": "code",
   "execution_count": 17,
   "id": "f114f900-2d5e-42b7-a4a7-2087fc16807e",
   "metadata": {},
   "outputs": [
    {
     "data": {
      "text/html": [
       "<pre style=\"white-space:pre;overflow-x:auto;line-height:normal;font-family:Menlo,'DejaVu Sans Mono',consolas,'Courier New',monospace\"><span style=\"font-weight: bold\">cuml.accel line profile                                                                              </span>\n",
       "┏━━━━┳━━━┳━━━━━━━━━┳━━━━━━━┳━━━━━━━━━━━━━━━━━━━━━━━━━━━━━━━━━━━━━━━━━━━━━━━━━━━━━━━━━━━━━━━━━━━━━━━━┓\n",
       "┃<span style=\"font-weight: bold\">  # </span>┃<span style=\"font-weight: bold\"> N </span>┃<span style=\"font-weight: bold\">    Time </span>┃<span style=\"font-weight: bold\"> GPU % </span>┃<span style=\"font-weight: bold\"> Source                                                                 </span>┃\n",
       "┡━━━━╇━━━╇━━━━━━━━━╇━━━━━━━╇━━━━━━━━━━━━━━━━━━━━━━━━━━━━━━━━━━━━━━━━━━━━━━━━━━━━━━━━━━━━━━━━━━━━━━━━┩\n",
       "│  1 │   │         │       │ <span style=\"color: #7f7f7f; text-decoration-color: #7f7f7f\"># Define the parameter grid to search over</span>                             │\n",
       "│  2 │ 1 │       - │     - │ param_grid = {                                                         │\n",
       "│  3 │ 1 │       - │     - │     <span style=\"color: #808000; text-decoration-color: #808000\">'n_estimators'</span>: [<span style=\"color: #000080; text-decoration-color: #000080\">50</span>, <span style=\"color: #000080; text-decoration-color: #000080\">100</span>],                                         │\n",
       "│  4 │ 1 │       - │     - │     <span style=\"color: #808000; text-decoration-color: #808000\">'max_depth'</span>: [<span style=\"color: #000080; text-decoration-color: #000080\">10</span>, <span style=\"color: #000080; text-decoration-color: #000080\">20</span>],                                             │\n",
       "│  5 │ 1 │       - │     - │     <span style=\"color: #808000; text-decoration-color: #808000\">'min_samples_split'</span>: [<span style=\"color: #000080; text-decoration-color: #000080\">2</span>, <span style=\"color: #000080; text-decoration-color: #000080\">5</span>],                                       │\n",
       "│  6 │ 1 │       - │     - │     <span style=\"color: #808000; text-decoration-color: #808000\">'min_samples_leaf'</span>: [<span style=\"color: #000080; text-decoration-color: #000080\">1</span>, <span style=\"color: #000080; text-decoration-color: #000080\">2</span>],                                        │\n",
       "│  7 │ 1 │       - │     - │     <span style=\"color: #808000; text-decoration-color: #808000\">'max_features'</span>: [<span style=\"color: #808000; text-decoration-color: #808000\">'sqrt'</span>, <span style=\"color: #808000; text-decoration-color: #808000\">'log2'</span>, <span style=\"color: #000080; text-decoration-color: #000080\">1.0</span>]                              │\n",
       "│  8 │   │         │       │ }                                                                      │\n",
       "│  9 │   │         │       │                                                                        │\n",
       "│ 10 │ 1 │  13.8ms │     - │ grid_search = GridSearchCV(estimator=rfc, param_grid=param_grid, cv=<span style=\"color: #000080; text-decoration-color: #000080\">3</span>) │\n",
       "│ 11 │ 1 │ 2m46.9s │  96.0 │ grid_search.fit(X_train, np.array(y_train).ravel())                    │\n",
       "│ 12 │   │         │       │                                                                        │\n",
       "│ 13 │ 1 │ 336.8ms │  99.0 │ y_pred = grid_search.predict(X_test)                                   │\n",
       "│ 14 │ 1 │  52.9ms │     - │ acc = accuracy_score(y_test, y_pred)                                   │\n",
       "└────┴───┴─────────┴───────┴────────────────────────────────────────────────────────────────────────┘\n",
       "Ran in 2m47.4s, 96.4% on GPU                                                                         \n",
       "</pre>\n"
      ],
      "text/plain": [
       "\u001b[1mcuml.accel line profile                                                                              \u001b[0m\n",
       "┏━━━━┳━━━┳━━━━━━━━━┳━━━━━━━┳━━━━━━━━━━━━━━━━━━━━━━━━━━━━━━━━━━━━━━━━━━━━━━━━━━━━━━━━━━━━━━━━━━━━━━━━┓\n",
       "┃\u001b[1m \u001b[0m\u001b[1m #\u001b[0m\u001b[1m \u001b[0m┃\u001b[1m \u001b[0m\u001b[1mN\u001b[0m\u001b[1m \u001b[0m┃\u001b[1m \u001b[0m\u001b[1m   Time\u001b[0m\u001b[1m \u001b[0m┃\u001b[1m \u001b[0m\u001b[1mGPU %\u001b[0m\u001b[1m \u001b[0m┃\u001b[1m \u001b[0m\u001b[1mSource                                                                \u001b[0m\u001b[1m \u001b[0m┃\n",
       "┡━━━━╇━━━╇━━━━━━━━━╇━━━━━━━╇━━━━━━━━━━━━━━━━━━━━━━━━━━━━━━━━━━━━━━━━━━━━━━━━━━━━━━━━━━━━━━━━━━━━━━━━┩\n",
       "│  1 │   │         │       │ \u001b[2m# Define the parameter grid to search over\u001b[0m                             │\n",
       "│  2 │ 1 │       - │     - │ param_grid = {                                                         │\n",
       "│  3 │ 1 │       - │     - │     \u001b[33m'\u001b[0m\u001b[33mn_estimators\u001b[0m\u001b[33m'\u001b[0m: [\u001b[34m50\u001b[0m, \u001b[34m100\u001b[0m],                                         │\n",
       "│  4 │ 1 │       - │     - │     \u001b[33m'\u001b[0m\u001b[33mmax_depth\u001b[0m\u001b[33m'\u001b[0m: [\u001b[34m10\u001b[0m, \u001b[34m20\u001b[0m],                                             │\n",
       "│  5 │ 1 │       - │     - │     \u001b[33m'\u001b[0m\u001b[33mmin_samples_split\u001b[0m\u001b[33m'\u001b[0m: [\u001b[34m2\u001b[0m, \u001b[34m5\u001b[0m],                                       │\n",
       "│  6 │ 1 │       - │     - │     \u001b[33m'\u001b[0m\u001b[33mmin_samples_leaf\u001b[0m\u001b[33m'\u001b[0m: [\u001b[34m1\u001b[0m, \u001b[34m2\u001b[0m],                                        │\n",
       "│  7 │ 1 │       - │     - │     \u001b[33m'\u001b[0m\u001b[33mmax_features\u001b[0m\u001b[33m'\u001b[0m: [\u001b[33m'\u001b[0m\u001b[33msqrt\u001b[0m\u001b[33m'\u001b[0m, \u001b[33m'\u001b[0m\u001b[33mlog2\u001b[0m\u001b[33m'\u001b[0m, \u001b[34m1.0\u001b[0m]                              │\n",
       "│  8 │   │         │       │ }                                                                      │\n",
       "│  9 │   │         │       │                                                                        │\n",
       "│ 10 │ 1 │  13.8ms │     - │ grid_search = GridSearchCV(estimator=rfc, param_grid=param_grid, cv=\u001b[34m3\u001b[0m) │\n",
       "│ 11 │ 1 │ 2m46.9s │  96.0 │ grid_search.fit(X_train, np.array(y_train).ravel())                    │\n",
       "│ 12 │   │         │       │                                                                        │\n",
       "│ 13 │ 1 │ 336.8ms │  99.0 │ y_pred = grid_search.predict(X_test)                                   │\n",
       "│ 14 │ 1 │  52.9ms │     - │ acc = accuracy_score(y_test, y_pred)                                   │\n",
       "└────┴───┴─────────┴───────┴────────────────────────────────────────────────────────────────────────┘\n",
       "Ran in 2m47.4s, 96.4% on GPU                                                                         \n"
      ]
     },
     "metadata": {},
     "output_type": "display_data"
    }
   ],
   "source": [
    "%%cuml.accel.line_profile\n",
    "\n",
    "# Define the parameter grid to search over\n",
    "param_grid = {\n",
    "    'n_estimators': [50, 100],\n",
    "    'max_depth': [10, 20],\n",
    "    'min_samples_split': [2, 5],\n",
    "    'min_samples_leaf': [1, 2],\n",
    "    'max_features': ['sqrt', 'log2', 1.0]\n",
    "}\n",
    "\n",
    "grid_search = GridSearchCV(estimator=rfc, param_grid=param_grid, cv=3)\n",
    "grid_search.fit(X_train, np.array(y_train).ravel())\n",
    "\n",
    "y_pred = grid_search.predict(X_test)\n",
    "acc = accuracy_score(y_test, y_pred)"
   ]
  },
  {
   "cell_type": "code",
   "execution_count": 18,
   "id": "ef8fd953-c183-4424-940b-f77bab475bfa",
   "metadata": {},
   "outputs": [
    {
     "data": {
      "text/plain": [
       "0.9386504651342908"
      ]
     },
     "execution_count": 18,
     "metadata": {},
     "output_type": "execute_result"
    }
   ],
   "source": [
    "acc"
   ]
  },
  {
   "cell_type": "markdown",
   "id": "f7974a76-92a6-458e-b9ba-9d7df06ca4dc",
   "metadata": {},
   "source": [
    "### Logistic Regression"
   ]
  },
  {
   "cell_type": "markdown",
   "id": "6553ce43-c4fd-4461-9ec1-4e7ff1161bf5",
   "metadata": {},
   "source": [
    "fit Logistic Regression model using the training dataset and make prediction using the test dataset"
   ]
  },
  {
   "cell_type": "code",
   "execution_count": 19,
   "id": "9121d29c-2d8a-43d3-a2b8-55c71dedc203",
   "metadata": {},
   "outputs": [
    {
     "data": {
      "text/html": [
       "<pre style=\"white-space:pre;overflow-x:auto;line-height:normal;font-family:Menlo,'DejaVu Sans Mono',consolas,'Courier New',monospace\"><span style=\"font-weight: bold\">cuml.accel profile                                                          </span>\n",
       "┏━━━━━━━━━━━━━━━━━━━━━━━━━━━━┳━━━━━━━━━━━┳━━━━━━━━━━┳━━━━━━━━━━━┳━━━━━━━━━━┓\n",
       "┃<span style=\"font-weight: bold\"> Function                   </span>┃<span style=\"font-weight: bold\"> GPU calls </span>┃<span style=\"font-weight: bold\"> GPU time </span>┃<span style=\"font-weight: bold\"> CPU calls </span>┃<span style=\"font-weight: bold\"> CPU time </span>┃\n",
       "┡━━━━━━━━━━━━━━━━━━━━━━━━━━━━╇━━━━━━━━━━━╇━━━━━━━━━━╇━━━━━━━━━━━╇━━━━━━━━━━┩\n",
       "│ LogisticRegression.fit     │         1 │     2.9s │         0 │       0s │\n",
       "│ LogisticRegression.predict │         1 │    7.7ms │         0 │       0s │\n",
       "├────────────────────────────┼───────────┼──────────┼───────────┼──────────┤\n",
       "│ Total                      │         2 │     2.9s │         0 │       0s │\n",
       "└────────────────────────────┴───────────┴──────────┴───────────┴──────────┘\n",
       "</pre>\n"
      ],
      "text/plain": [
       "\u001b[1mcuml.accel profile                                                          \u001b[0m\n",
       "┏━━━━━━━━━━━━━━━━━━━━━━━━━━━━┳━━━━━━━━━━━┳━━━━━━━━━━┳━━━━━━━━━━━┳━━━━━━━━━━┓\n",
       "┃\u001b[1m \u001b[0m\u001b[1mFunction                  \u001b[0m\u001b[1m \u001b[0m┃\u001b[1m \u001b[0m\u001b[1mGPU calls\u001b[0m\u001b[1m \u001b[0m┃\u001b[1m \u001b[0m\u001b[1mGPU time\u001b[0m\u001b[1m \u001b[0m┃\u001b[1m \u001b[0m\u001b[1mCPU calls\u001b[0m\u001b[1m \u001b[0m┃\u001b[1m \u001b[0m\u001b[1mCPU time\u001b[0m\u001b[1m \u001b[0m┃\n",
       "┡━━━━━━━━━━━━━━━━━━━━━━━━━━━━╇━━━━━━━━━━━╇━━━━━━━━━━╇━━━━━━━━━━━╇━━━━━━━━━━┩\n",
       "│ LogisticRegression.fit     │         1 │     2.9s │         0 │       0s │\n",
       "│ LogisticRegression.predict │         1 │    7.7ms │         0 │       0s │\n",
       "├────────────────────────────┼───────────┼──────────┼───────────┼──────────┤\n",
       "│ Total                      │         2 │     2.9s │         0 │       0s │\n",
       "└────────────────────────────┴───────────┴──────────┴───────────┴──────────┘\n"
      ]
     },
     "metadata": {},
     "output_type": "display_data"
    }
   ],
   "source": [
    "%%cuml.accel.profile\n",
    "\n",
    "lr = LogisticRegression(max_iter = 500)\n",
    "lr.fit(X_train, y_train)\n",
    "\n",
    "y_pred = lr.predict(X_test)\n",
    "acc = accuracy_score(y_test, y_pred)"
   ]
  },
  {
   "cell_type": "code",
   "execution_count": 20,
   "id": "86f427c0-6969-41b1-b288-dd1e3b338b12",
   "metadata": {},
   "outputs": [
    {
     "data": {
      "text/html": [
       "<pre style=\"white-space:pre;overflow-x:auto;line-height:normal;font-family:Menlo,'DejaVu Sans Mono',consolas,'Courier New',monospace\"><span style=\"font-weight: bold\">cuml.accel line profile                                            </span>\n",
       "┏━━━┳━━━┳━━━━━━━┳━━━━━━━┳━━━━━━━━━━━━━━━━━━━━━━━━━━━━━━━━━━━━━━━━━┓\n",
       "┃<span style=\"font-weight: bold\"> # </span>┃<span style=\"font-weight: bold\"> N </span>┃<span style=\"font-weight: bold\">  Time </span>┃<span style=\"font-weight: bold\"> GPU % </span>┃<span style=\"font-weight: bold\"> Source                                  </span>┃\n",
       "┡━━━╇━━━╇━━━━━━━╇━━━━━━━╇━━━━━━━━━━━━━━━━━━━━━━━━━━━━━━━━━━━━━━━━━┩\n",
       "│ 1 │ 1 │     - │     - │ lr = LogisticRegression(max_iter = <span style=\"color: #000080; text-decoration-color: #000080\">500</span>) │\n",
       "│ 2 │ 1 │    3s │  99.0 │ lr.fit(X_train, y_train)                │\n",
       "│ 3 │   │       │       │                                         │\n",
       "│ 4 │ 1 │ 7.2ms │  99.0 │ y_pred = lr.predict(X_test)             │\n",
       "│ 5 │ 1 │  51ms │     - │ acc = accuracy_score(y_test, y_pred)    │\n",
       "└───┴───┴───────┴───────┴─────────────────────────────────────────┘\n",
       "Ran in 3.1s, 98.2% on GPU                                          \n",
       "</pre>\n"
      ],
      "text/plain": [
       "\u001b[1mcuml.accel line profile                                            \u001b[0m\n",
       "┏━━━┳━━━┳━━━━━━━┳━━━━━━━┳━━━━━━━━━━━━━━━━━━━━━━━━━━━━━━━━━━━━━━━━━┓\n",
       "┃\u001b[1m \u001b[0m\u001b[1m#\u001b[0m\u001b[1m \u001b[0m┃\u001b[1m \u001b[0m\u001b[1mN\u001b[0m\u001b[1m \u001b[0m┃\u001b[1m \u001b[0m\u001b[1m Time\u001b[0m\u001b[1m \u001b[0m┃\u001b[1m \u001b[0m\u001b[1mGPU %\u001b[0m\u001b[1m \u001b[0m┃\u001b[1m \u001b[0m\u001b[1mSource                                 \u001b[0m\u001b[1m \u001b[0m┃\n",
       "┡━━━╇━━━╇━━━━━━━╇━━━━━━━╇━━━━━━━━━━━━━━━━━━━━━━━━━━━━━━━━━━━━━━━━━┩\n",
       "│ 1 │ 1 │     - │     - │ lr = LogisticRegression(max_iter = \u001b[34m500\u001b[0m) │\n",
       "│ 2 │ 1 │    3s │  99.0 │ lr.fit(X_train, y_train)                │\n",
       "│ 3 │   │       │       │                                         │\n",
       "│ 4 │ 1 │ 7.2ms │  99.0 │ y_pred = lr.predict(X_test)             │\n",
       "│ 5 │ 1 │  51ms │     - │ acc = accuracy_score(y_test, y_pred)    │\n",
       "└───┴───┴───────┴───────┴─────────────────────────────────────────┘\n",
       "Ran in 3.1s, 98.2% on GPU                                          \n"
      ]
     },
     "metadata": {},
     "output_type": "display_data"
    }
   ],
   "source": [
    "%%cuml.accel.line_profile\n",
    "\n",
    "lr = LogisticRegression(max_iter = 500)\n",
    "lr.fit(X_train, y_train)\n",
    "\n",
    "y_pred = lr.predict(X_test)\n",
    "acc = accuracy_score(y_test, y_pred)"
   ]
  },
  {
   "cell_type": "code",
   "execution_count": 21,
   "id": "e90fa0bb-e98d-4425-ad4b-fff393047425",
   "metadata": {},
   "outputs": [
    {
     "data": {
      "text/plain": [
       "0.7243186492603462"
      ]
     },
     "execution_count": 21,
     "metadata": {},
     "output_type": "execute_result"
    }
   ],
   "source": [
    "acc"
   ]
  },
  {
   "cell_type": "markdown",
   "id": "25ae03fe-8913-4760-b739-fedba1f89f2f",
   "metadata": {},
   "source": [
    "### K-Nearest Neighbors\n",
    "fit K-Nearest Neighbors model using the training dataset and make prediction using the test dataset\n"
   ]
  },
  {
   "cell_type": "code",
   "execution_count": 22,
   "id": "dbd835d0-c13c-4ff4-9ac5-1e046151c9f4",
   "metadata": {},
   "outputs": [
    {
     "data": {
      "text/html": [
       "<pre style=\"white-space:pre;overflow-x:auto;line-height:normal;font-family:Menlo,'DejaVu Sans Mono',consolas,'Courier New',monospace\"><span style=\"font-weight: bold\">cuml.accel profile                                                            </span>\n",
       "┏━━━━━━━━━━━━━━━━━━━━━━━━━━━━━━┳━━━━━━━━━━━┳━━━━━━━━━━┳━━━━━━━━━━━┳━━━━━━━━━━┓\n",
       "┃<span style=\"font-weight: bold\"> Function                     </span>┃<span style=\"font-weight: bold\"> GPU calls </span>┃<span style=\"font-weight: bold\"> GPU time </span>┃<span style=\"font-weight: bold\"> CPU calls </span>┃<span style=\"font-weight: bold\"> CPU time </span>┃\n",
       "┡━━━━━━━━━━━━━━━━━━━━━━━━━━━━━━╇━━━━━━━━━━━╇━━━━━━━━━━╇━━━━━━━━━━━╇━━━━━━━━━━┩\n",
       "│ KNeighborsClassifier.fit     │         1 │  192.6ms │         0 │       0s │\n",
       "│ KNeighborsClassifier.predict │         1 │    19.8s │         0 │       0s │\n",
       "├──────────────────────────────┼───────────┼──────────┼───────────┼──────────┤\n",
       "│ Total                        │         2 │      20s │         0 │       0s │\n",
       "└──────────────────────────────┴───────────┴──────────┴───────────┴──────────┘\n",
       "</pre>\n"
      ],
      "text/plain": [
       "\u001b[1mcuml.accel profile                                                            \u001b[0m\n",
       "┏━━━━━━━━━━━━━━━━━━━━━━━━━━━━━━┳━━━━━━━━━━━┳━━━━━━━━━━┳━━━━━━━━━━━┳━━━━━━━━━━┓\n",
       "┃\u001b[1m \u001b[0m\u001b[1mFunction                    \u001b[0m\u001b[1m \u001b[0m┃\u001b[1m \u001b[0m\u001b[1mGPU calls\u001b[0m\u001b[1m \u001b[0m┃\u001b[1m \u001b[0m\u001b[1mGPU time\u001b[0m\u001b[1m \u001b[0m┃\u001b[1m \u001b[0m\u001b[1mCPU calls\u001b[0m\u001b[1m \u001b[0m┃\u001b[1m \u001b[0m\u001b[1mCPU time\u001b[0m\u001b[1m \u001b[0m┃\n",
       "┡━━━━━━━━━━━━━━━━━━━━━━━━━━━━━━╇━━━━━━━━━━━╇━━━━━━━━━━╇━━━━━━━━━━━╇━━━━━━━━━━┩\n",
       "│ KNeighborsClassifier.fit     │         1 │  192.6ms │         0 │       0s │\n",
       "│ KNeighborsClassifier.predict │         1 │    19.8s │         0 │       0s │\n",
       "├──────────────────────────────┼───────────┼──────────┼───────────┼──────────┤\n",
       "│ Total                        │         2 │      20s │         0 │       0s │\n",
       "└──────────────────────────────┴───────────┴──────────┴───────────┴──────────┘\n"
      ]
     },
     "metadata": {},
     "output_type": "display_data"
    }
   ],
   "source": [
    "%%cuml.accel.profile\n",
    "\n",
    "# fit KNN model\n",
    "knn = KNeighborsClassifier()\n",
    "knn.fit(X_train, y_train)\n",
    "\n",
    "# predict using KNN model\n",
    "y_pred = knn.predict(X_test)\n",
    "acc = accuracy_score(y_test, y_pred)"
   ]
  },
  {
   "cell_type": "code",
   "execution_count": 23,
   "id": "220170f1-1a32-4022-9588-76e0126a0d4e",
   "metadata": {},
   "outputs": [
    {
     "data": {
      "text/html": [
       "<pre style=\"white-space:pre;overflow-x:auto;line-height:normal;font-family:Menlo,'DejaVu Sans Mono',consolas,'Courier New',monospace\"><span style=\"font-weight: bold\">cuml.accel line profile                                          </span>\n",
       "┏━━━┳━━━┳━━━━━━━━┳━━━━━━━┳━━━━━━━━━━━━━━━━━━━━━━━━━━━━━━━━━━━━━━┓\n",
       "┃<span style=\"font-weight: bold\"> # </span>┃<span style=\"font-weight: bold\"> N </span>┃<span style=\"font-weight: bold\">   Time </span>┃<span style=\"font-weight: bold\"> GPU % </span>┃<span style=\"font-weight: bold\"> Source                               </span>┃\n",
       "┡━━━╇━━━╇━━━━━━━━╇━━━━━━━╇━━━━━━━━━━━━━━━━━━━━━━━━━━━━━━━━━━━━━━┩\n",
       "│ 1 │   │        │       │ <span style=\"color: #7f7f7f; text-decoration-color: #7f7f7f\"># fit KNN model</span>                      │\n",
       "│ 2 │ 1 │  1.3ms │     - │ knn = KNeighborsClassifier()         │\n",
       "│ 3 │ 1 │ 78.8ms │  99.0 │ knn.fit(X_train, y_train)            │\n",
       "│ 4 │   │        │       │                                      │\n",
       "│ 5 │   │        │       │ <span style=\"color: #7f7f7f; text-decoration-color: #7f7f7f\"># predict using KNN model</span>            │\n",
       "│ 6 │ 1 │  19.9s │  99.0 │ y_pred = knn.predict(X_test)         │\n",
       "│ 7 │ 1 │ 49.8ms │     - │ acc = accuracy_score(y_test, y_pred) │\n",
       "└───┴───┴────────┴───────┴──────────────────────────────────────┘\n",
       "Ran in 20s, 99.7% on GPU                                         \n",
       "</pre>\n"
      ],
      "text/plain": [
       "\u001b[1mcuml.accel line profile                                          \u001b[0m\n",
       "┏━━━┳━━━┳━━━━━━━━┳━━━━━━━┳━━━━━━━━━━━━━━━━━━━━━━━━━━━━━━━━━━━━━━┓\n",
       "┃\u001b[1m \u001b[0m\u001b[1m#\u001b[0m\u001b[1m \u001b[0m┃\u001b[1m \u001b[0m\u001b[1mN\u001b[0m\u001b[1m \u001b[0m┃\u001b[1m \u001b[0m\u001b[1m  Time\u001b[0m\u001b[1m \u001b[0m┃\u001b[1m \u001b[0m\u001b[1mGPU %\u001b[0m\u001b[1m \u001b[0m┃\u001b[1m \u001b[0m\u001b[1mSource                              \u001b[0m\u001b[1m \u001b[0m┃\n",
       "┡━━━╇━━━╇━━━━━━━━╇━━━━━━━╇━━━━━━━━━━━━━━━━━━━━━━━━━━━━━━━━━━━━━━┩\n",
       "│ 1 │   │        │       │ \u001b[2m# fit KNN model\u001b[0m                      │\n",
       "│ 2 │ 1 │  1.3ms │     - │ knn = KNeighborsClassifier()         │\n",
       "│ 3 │ 1 │ 78.8ms │  99.0 │ knn.fit(X_train, y_train)            │\n",
       "│ 4 │   │        │       │                                      │\n",
       "│ 5 │   │        │       │ \u001b[2m# predict using KNN model\u001b[0m            │\n",
       "│ 6 │ 1 │  19.9s │  99.0 │ y_pred = knn.predict(X_test)         │\n",
       "│ 7 │ 1 │ 49.8ms │     - │ acc = accuracy_score(y_test, y_pred) │\n",
       "└───┴───┴────────┴───────┴──────────────────────────────────────┘\n",
       "Ran in 20s, 99.7% on GPU                                         \n"
      ]
     },
     "metadata": {},
     "output_type": "display_data"
    }
   ],
   "source": [
    "%%cuml.accel.line_profile\n",
    "\n",
    "# fit KNN model\n",
    "knn = KNeighborsClassifier()\n",
    "knn.fit(X_train, y_train)\n",
    "\n",
    "# predict using KNN model\n",
    "y_pred = knn.predict(X_test)\n",
    "acc = accuracy_score(y_test, y_pred)"
   ]
  },
  {
   "cell_type": "code",
   "execution_count": 24,
   "id": "30e5353a-d647-4e3c-8cb0-cb214cdeff88",
   "metadata": {},
   "outputs": [
    {
     "data": {
      "text/plain": [
       "0.9288486527886544"
      ]
     },
     "execution_count": 24,
     "metadata": {},
     "output_type": "execute_result"
    }
   ],
   "source": [
    "acc"
   ]
  }
 ],
 "metadata": {
  "kernelspec": {
   "display_name": "Python (rapids-25.08)",
   "language": "python",
   "name": "rapids-25.08"
  },
  "language_info": {
   "codemirror_mode": {
    "name": "ipython",
    "version": 3
   },
   "file_extension": ".py",
   "mimetype": "text/x-python",
   "name": "python",
   "nbconvert_exporter": "python",
   "pygments_lexer": "ipython3",
   "version": "3.12.11"
  }
 },
 "nbformat": 4,
 "nbformat_minor": 5
}

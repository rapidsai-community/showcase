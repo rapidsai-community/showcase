{
 "cells": [
  {
   "cell_type": "markdown",
   "metadata": {},
   "source": [
    "# Data Science Agent in 10 Lines of Code\n",
    "This notebook is a low-code, barebones example of how to create a Data Science Agent. \n",
    "It is a single function that takes a question and some data and executes code returned by an LLM. \n",
    "The following YouTube video is a walk-through of this notebook on YouTube.\n",
    "# [📺 YouTube Tutorial 👇](https://www.youtube.com/watch?v=CCjxuVhKKok)\n",
    "[![blah](https://img.youtube.com/vi/CCjxuVhKKok/0.jpg)](http://youtu.be/CCjxuVhKKok)"
   ]
  },
  {
   "cell_type": "markdown",
   "metadata": {},
   "source": [
    "  "
   ]
  },
  {
   "cell_type": "markdown",
   "metadata": {},
   "source": [
    "  "
   ]
  },
  {
   "cell_type": "markdown",
   "metadata": {},
   "source": [
    "---  "
   ]
  },
  {
   "cell_type": "markdown",
   "metadata": {},
   "source": [
    "# 📋 3 Requirements to Run Notebook\n",
    "#### ✅ A local NVIDIA GPU or using a cloud hosted GPU service like [Google Colab](https://colab.research.google.com/)\n",
    "#### ✅ Free NVIDA API Key from https://build.nvidia.com\n",
    "#### ✅ Add NVIDA API Key as environment variable (shown below)"
   ]
  },
  {
   "cell_type": "markdown",
   "metadata": {},
   "source": [
    "  "
   ]
  },
  {
   "cell_type": "markdown",
   "metadata": {},
   "source": [
    "  "
   ]
  },
  {
   "cell_type": "markdown",
   "metadata": {},
   "source": [
    "---  "
   ]
  },
  {
   "cell_type": "markdown",
   "metadata": {},
   "source": [
    "# Notebook Outline\n",
    "#### 🚀 NVIDIA cuDF\n",
    "#### 💾 Data\n",
    "#### 🔑 NVIDIA API Key\n",
    "#### 💬 Prompt\n",
    "#### 🤖 Agent Function\n",
    "#### 📊 Agent in Action\n"
   ]
  },
  {
   "cell_type": "markdown",
   "metadata": {},
   "source": [
    "  "
   ]
  },
  {
   "cell_type": "markdown",
   "metadata": {},
   "source": [
    "  "
   ]
  },
  {
   "cell_type": "markdown",
   "metadata": {},
   "source": [
    "---  "
   ]
  },
  {
   "cell_type": "markdown",
   "metadata": {},
   "source": [
    "# Agent Overview\n",
    "#### This notebook works by sending a question and data summary as a prompt to an LLM, asking for pandas code. \n",
    "#### Then the notebook executes the pandas code that opearates on the dataset, accelerated by [NVIDIA cuDF](https://developer.nvidia.com/topics/ai/data-science/cuda-x-data-science-libraries).\n",
    "#### Flow of operations:\n",
    "1. Prompt sent to LLM with:\n",
    "    * Question / Data Query\n",
    "    * Data Summary\n",
    "    * Asking for pandas code\n",
    "2. LLM response:\n",
    "    * Executable pandas code"
   ]
  },
  {
   "cell_type": "markdown",
   "metadata": {},
   "source": [
    "  "
   ]
  },
  {
   "cell_type": "markdown",
   "metadata": {},
   "source": [
    "  "
   ]
  },
  {
   "cell_type": "markdown",
   "metadata": {},
   "source": [
    "  "
   ]
  },
  {
   "cell_type": "markdown",
   "metadata": {},
   "source": [
    "---  "
   ]
  },
  {
   "cell_type": "markdown",
   "metadata": {},
   "source": [
    "# 🚀 [NVIDIA cuDF](https://developer.nvidia.com/topics/ai/data-science/cuda-x-data-science-libraries)\n",
    "#### [This short blog](https://developer.nvidia.com/blog/rapids-cudf-accelerates-pandas-nearly-150x-with-zero-code-changes/) provides a little more detail.\n",
    "#### cuDF is short for \n",
    "#### \"cu\" --> NVIDIA ***CU***DA-X\n",
    "#### \"DF\" --> for ***D***ata ***F***rames\n",
    "#### cudf will GPU accelerate \n",
    " * [pandas](https://pandas.pydata.org/)\n",
    " * [Spark](https://docs.nvidia.com/spark-rapids/index.html)\n",
    " * [Polars](https://docs.pola.rs/user-guide/lazy/gpu/)"
   ]
  },
  {
   "cell_type": "markdown",
   "metadata": {},
   "source": [
    "  "
   ]
  },
  {
   "cell_type": "markdown",
   "metadata": {},
   "source": [
    "#### This ```%load_ext cudf.pandas``` command will create a GPU accelerated proxy type for pandas that accelerates pandas functions without having to change any existing code.   "
   ]
  },
  {
   "cell_type": "code",
   "execution_count": 1,
   "metadata": {
    "id": "_PtiVVCxk35o"
   },
   "outputs": [],
   "source": [
    "# NVIDIA cuDF ( CUDA-X for Data Frames)\n",
    "# GPU Acceleration for pandas, Spark, Polars\n",
    "# https://rapids.ai/\n",
    "\n",
    "%load_ext cudf.pandas"
   ]
  },
  {
   "cell_type": "markdown",
   "metadata": {},
   "source": [
    "  "
   ]
  },
  {
   "cell_type": "markdown",
   "metadata": {},
   "source": [
    "# 💾 Data\n",
    "### Please try your own data but in this case we used a small data set from [Kaggle](https://kaggle.com)\n",
    "### This data contains NYC Parking Violations and details about the cars getting the tickes.  \n",
    "### It can can be found [here](https://www.kaggle.com/datasets/jiweiliu/nyc-parking-violations-2022-small)"
   ]
  },
  {
   "cell_type": "code",
   "execution_count": 3,
   "metadata": {
    "colab": {
     "base_uri": "https://localhost:8080/"
    },
    "id": "VHcM1ctQF3fY",
    "outputId": "18ecfc51-b6c7-4747-af02-c5645daeeba3"
   },
   "outputs": [
    {
     "name": "stdout",
     "output_type": "stream",
     "text": [
      "Archive:  archive.zip\n",
      "  inflating: nyc_parking_violations_2022_small.parquet  \n"
     ]
    }
   ],
   "source": [
    "# Data for Demo (any data should work though):\n",
    "# https://www.kaggle.com/datasets/jiweiliu/nyc-parking-violations-2022-small\n",
    "!unzip archive.zip"
   ]
  },
  {
   "cell_type": "markdown",
   "metadata": {},
   "source": [
    "  "
   ]
  },
  {
   "cell_type": "markdown",
   "metadata": {},
   "source": [
    "  "
   ]
  },
  {
   "cell_type": "code",
   "execution_count": 4,
   "metadata": {
    "id": "nabox424lKtr"
   },
   "outputs": [],
   "source": [
    "from openai import OpenAI\n",
    "import pandas as pd"
   ]
  },
  {
   "cell_type": "markdown",
   "metadata": {},
   "source": [
    "  "
   ]
  },
  {
   "cell_type": "markdown",
   "metadata": {},
   "source": [
    "# 🔑 NVIDIA API Key \n",
    "### You will need a free NVIDIA API Key at https://build.nvidia.com\n",
    "### That key will need to be available as an environment variable named `NVIDIA_API_KEY`\n",
    "### If using Colab, [chapter 4](https://www.youtube.com/watch?v=CCjxuVhKKok&t=460s) in the YouTube mentioned above has detailed instructions."
   ]
  },
  {
   "cell_type": "code",
   "execution_count": 5,
   "metadata": {
    "id": "qVm3ZucdmMwH"
   },
   "outputs": [],
   "source": [
    "# NVIDIA API KEY\n",
    "# free at https://build.nvidia.com\n",
    "\n",
    "# Google Colab Notebook\n",
    "from google.colab import userdata\n",
    "# NVIDIA_API_KEY = userdata.get('NVIDIA_API_KEY')\n",
    "\n",
    "# ~ OR ~\n",
    "\n",
    "# LOCAL\n",
    "# os.getenv(\"NVIDIA_API_KEY\")"
   ]
  },
  {
   "cell_type": "markdown",
   "metadata": {},
   "source": [
    "   "
   ]
  },
  {
   "cell_type": "markdown",
   "metadata": {},
   "source": [
    "# 💬 Prompt \n",
    "### This is an elaborate prompt designed to minimize ambiguity. The primary sections can be outlined as:\n",
    "##### * Task\n",
    "##### * Input\n",
    "##### * Output\n",
    "##### * Agent Behavior\n",
    "##### * Examples"
   ]
  },
  {
   "cell_type": "code",
   "execution_count": 6,
   "metadata": {
    "id": "GcwOWhw-mR4u"
   },
   "outputs": [],
   "source": [
    "CONVO_CONTEXT = [{\n",
    "    \"role\": \"system\",\n",
    "    \"content\":\n",
    "    '''\n",
    "    **System Prompt:**\n",
    "    You are an expert ML engineer and Data Scientist, specializing in advanced quantitave analysis and engaging, colorful plots using seabon pallettes.\n",
    "\n",
    "    **Task:**\n",
    "    Generate Python/pandas code to answer questions based on the supplied pandas DataFrame. Hide all warnings.\n",
    "\n",
    "    **Input**\n",
    "    `df`: a pandas DataFrame\n",
    "    `user_question`: a string representation of a question to be answered\n",
    "\n",
    "    **Output:**\n",
    "    * A Python code snippet in a Markdown format that uses pandas to answer the `user_question` using the supplied pandas DataFrame in `df`\n",
    "    * Do NOT include a line of code to create the pandas DataFrame.\n",
    "    * Assign the final result in the form of a pandas DataFrame to a varible named `result_df`.\n",
    "    * Assign any plot to a variable named `plot_obj` so that we can run `plot_obj.show()` in a Jupyter Notebook cell.\n",
    "    * We will run the following code to get the `result_df` DataFrame and `plot_obj` from the code you return:\n",
    "\n",
    "        env = {\"pd\": pd, \"df\": df}\n",
    "        exec(code, {}, env)\n",
    "        result_df = env.get(\"result_df\", None)\n",
    "        plot_obj = env.get(\"plot_obj\", None)\n",
    "\n",
    "\n",
    "    **Agent Behavior:**\n",
    "    1. Analyze and perform reasoning on the `user_question`\n",
    "    2. Write Python code using pandas to manipulate the supplied pandas DataFrame in `df` to answer the `user_question`\n",
    "    3. Format the Python code in Markdown format.\n",
    "    4. Output the generated Python code without any prefix or suffix. Only output Python code that can be executed directly.\n",
    "    5. Add necessary explanation of code execution results using Python print() function at the end of the Python code.\n",
    "    6. Your output should be clear and concise and only be a single solution.\n",
    "    7. Include code to create colorful plots that help expain the answer with a preference for the built-in plots with pandas and seaborn.\n",
    "\n",
    "\n",
    "    **Example Input:**\n",
    "    ```python\n",
    "\n",
    "    df=\"\"\"\n",
    "    \"Product  Sales\\n0      A    100\\n1      B    200\\n2      C    300\"\\n\\n\n",
    "    \"\"\"\n",
    "    user_question = \"What are the total sales for each product?\"\n",
    "    ```\n",
    "\n",
    "    **Expected Output:**\n",
    "\n",
    "    ```python\n",
    "\n",
    "    # Filter dataframe for product A\n",
    "    product_a_sales = df[df['Product'] == 'A']\n",
    "\n",
    "    # Calculate total sales for product A\n",
    "    total_sales = product_a_sales['Sales'].sum()\n",
    "\n",
    "    # Print explanation of the result\n",
    "    print(\"Based on sales.csv, the total sales are:\")\n",
    "\n",
    "    # Print result\n",
    "    print(total_sales)\n",
    "    ```\n",
    "\n",
    "    **Final instruction**: please just output one solution, code only!\n",
    "    '''}]"
   ]
  },
  {
   "cell_type": "markdown",
   "metadata": {},
   "source": [
    "  "
   ]
  },
  {
   "cell_type": "markdown",
   "metadata": {},
   "source": [
    "# 🤖 Agent Function\n",
    "### Parameters\n",
    "##### 💬 query - the prompt sent to the LLM\n",
    "##### 🌐 api_endpoint - the default here leverages NVIDIA's hosted LLM\n",
    "##### 💾 df - data to be operated on\n",
    "##### 🔑 api_key - NVIDIA API Key\n",
    "##### 🤖 model - the default will work or choose different modesl at build.nvidia.com\n",
    "### Overview\n",
    "##### Using the parameters, the function will prompt the LLM, gather the code in the response, then execute the code. \n",
    "##### The pandas code will be GPU accelerated due to the ```{python}%load_ext cudf.pandas``` command executed in the first cell."
   ]
  },
  {
   "cell_type": "code",
   "execution_count": 10,
   "metadata": {
    "id": "NBV0PkWemvtR"
   },
   "outputs": [],
   "source": [
    "def agent(query: str,\n",
    "          df=pd.read_parquet('nyc_parking_violations_2022_small.parquet'),\n",
    "          api_endpoint='https://integrate.api.nvidia.com/v1',\n",
    "          api_key=userdata.get('NVIDIA_API_KEY'),\n",
    "          model='nvidia/llama-3.1-nemotron-ultra-253b-v1'\n",
    "         ):\n",
    "\n",
    "\n",
    "    # Declare Client to interact with remote AI\n",
    "    # https://github.com/openai/openai-python\n",
    "    client = OpenAI(base_url=api_endpoint, api_key=api_key)\n",
    "\n",
    "\n",
    "    # Prompt\n",
    "    user_prompt = f'''df = {df}  \\n\\n\\n\\n user_question = {query}'''\n",
    "    messages = CONVO_CONTEXT + [{'role': 'user', 'content': user_prompt}]\n",
    "\n",
    "\n",
    "    completion = client.chat.completions.create(model=model,\n",
    "                                                messages=messages,\n",
    "                                                temperature=0.5,\n",
    "                                                top_p=1,\n",
    "                                                max_tokens=1024,\n",
    "                                                stream=False)\n",
    "\n",
    "\n",
    "    # LLM Response\n",
    "    llm_response = completion.choices[0].message.content\n",
    "    # print(llm_response, end='\\n\\n\\n\\n#########\\nEXECUTION:\\n\\n\\n\\n')\n",
    "\n",
    "\n",
    "    # Extract & Run Python code\n",
    "    exec((llm_response.split('```python')[1].split('```')[0].strip()),{'df':df})"
   ]
  },
  {
   "cell_type": "code",
   "execution_count": 11,
   "metadata": {
    "id": "0ALEs0ecFsZc"
   },
   "outputs": [],
   "source": [
    "# pd.read_parquet('nyc_parking_violations_2022_small.parquet')"
   ]
  },
  {
   "cell_type": "markdown",
   "metadata": {},
   "source": [
    "  "
   ]
  },
  {
   "cell_type": "markdown",
   "metadata": {
    "id": "L4XXsamPuux2"
   },
   "source": [
    "# 📊 Agent in Action\n",
    "##### Finally, this last cell is when the agent is used. \n",
    "##### The user sends their query or question in plain language form and gets a response based on the executed pandas code."
   ]
  },
  {
   "cell_type": "code",
   "execution_count": 13,
   "metadata": {
    "colab": {
     "base_uri": "https://localhost:8080/",
     "height": 608
    },
    "id": "_1h4TwlSUKWA",
    "outputId": "5239472d-2cf8-4736-b3fa-63abf386c192"
   },
   "outputs": [
    {
     "name": "stdout",
     "output_type": "stream",
     "text": [
      "The age group with the most parking violations is: 6\n",
      "Total violations for this age group: 9\n"
     ]
    },
    {
     "data": {
      "image/png": "[encoded data removed]",
      "text/plain": [
       "<Figure size 1000x600 with 1 Axes>"
      ]
     },
     "metadata": {},
     "output_type": "display_data"
    }
   ],
   "source": [
    "agent(\"\"\"\n",
    "\n",
    "Which age of vehicles gets the most parking violations?\n",
    "The current year is 2025.\n",
    "Remove outliers where the age is greater than 100.\n",
    "Hide warnings.\n",
    "\n",
    "\"\"\")"
   ]
  },
  {
   "cell_type": "code",
   "execution_count": null,
   "metadata": {
    "id": "IhrlSM5eWI8K"
   },
   "outputs": [],
   "source": []
  }
 ],
 "metadata": {
  "accelerator": "GPU",
  "colab": {
   "gpuType": "T4",
   "provenance": []
  },
  "kernelspec": {
   "display_name": "Python 3 (ipykernel)",
   "language": "python",
   "name": "python3"
  },
  "language_info": {
   "codemirror_mode": {
    "name": "ipython",
    "version": 3
   },
   "file_extension": ".py",
   "mimetype": "text/x-python",
   "name": "python",
   "nbconvert_exporter": "python",
   "pygments_lexer": "ipython3",
   "version": "3.13.5"
  }
 },
 "nbformat": 4,
 "nbformat_minor": 4
}

{
 "cells": [
  {
   "cell_type": "markdown",
   "metadata": {
    "id": "kz-HNAPQ7xS_"
   },
   "source": [
    "# Using cuDF.pandas on string-based ETL"
   ]
  },
  {
   "cell_type": "markdown",
   "metadata": {},
   "source": [
    "Pandas is the preeminant data science CPU library for data ETL using Python, also known as the PyData stack.  You can use the RAPIDS library ecosystem uses NVIDIA CUDA enabled GPUs to accelerate the PyData stack.  The RAPIDS library cuDF is a pandas-like GPU library that GPU accelerates ETL - even in dataframes with string sequences in the rows as long as a short paragraph.  RAPIDS just introduced `cudDF.pandas()`, which allows for zero-code change of your pandas based workflow and does the heavy lifting of not just figuring out where GPUs will be faster than CPU, but also automatically lets your workflow translates your CPU code to GPU code, allowing you to get the best of both worlds.  \n",
    "\n",
    "In this notebook, we will be using mostly `cudf.pandas` to preprocess portions a skills and job posting dataset.  But datascience isn't clean...and this won't be the cleanest, nicest notebook.  Real data science is messy and mistakes are made.  RAPIDS makes it faster and easier to go through the laborious effort of GPU cleaning.  Fixing those mistakes can be costly - especially in time. Now cudf.pandas makes it almost convienent. \n",
    "\n",
    "We'll start off by doing a minor performance comparison of pandas CPU code versus the zero-code change, GPU+CPU hybrid code of cudf.pandas.  Then we'll give you the choice to stay in cuDF.pandas to complete the workflow, or revert back to CPU only pandas.  You're smart people.  You know where this is going.\n",
    "\n",
    "Let's begin!"
   ]
  },
  {
   "cell_type": "code",
   "execution_count": 1,
   "metadata": {
    "id": "Q6-HlsHoFG5A",
    "tags": []
   },
   "outputs": [],
   "source": [
    "%load_ext cudf.pandas\n",
    "import pandas as pd"
   ]
  },
  {
   "cell_type": "markdown",
   "metadata": {
    "id": "JA9p6kD48e7E",
    "tags": []
   },
   "source": [
    "# Download your data:"
   ]
  },
  {
   "cell_type": "markdown",
   "metadata": {},
   "source": [
    "Data can be found here: https://www.kaggle.com/datasets/asaniczka/1-3m-linkedin-jobs-and-skills-2024/data?select=linkedin_job_postings.csv"
   ]
  },
  {
   "cell_type": "code",
   "execution_count": 2,
   "metadata": {
    "colab": {
     "base_uri": "https://localhost:8080/"
    },
    "id": "uJlTdnsnkEVq",
    "outputId": "ba7db3ec-e8a8-4041-b55f-7d79d4464d9c",
    "tags": []
   },
   "outputs": [
    {
     "name": "stdout",
     "output_type": "stream",
     "text": [
      "unzipped job data found\n",
      "no need to unzip data\n"
     ]
    }
   ],
   "source": [
    "!if [ ! -f \"job_skills.csv\" ]; then kaggle datasets download asaniczka/1-3m-linkedin-jobs-and-skills-2024; else echo \"unzipped job data found\"; fi\n",
    "!if [ ! -f \"job_skills.csv\" ]; then unzip 1-3m-linkedin-jobs-and-skills-2024; else echo \"no need to unzip data\"; fi"
   ]
  },
  {
   "cell_type": "markdown",
   "metadata": {
    "tags": []
   },
   "source": [
    "# Read your data"
   ]
  },
  {
   "cell_type": "code",
   "execution_count": 3,
   "metadata": {
    "tags": []
   },
   "outputs": [],
   "source": [
    "skills = pd.read_csv(\"job_skills.csv\")"
   ]
  },
  {
   "cell_type": "code",
   "execution_count": 4,
   "metadata": {
    "id": "YnzMaAFIEUf0",
    "tags": []
   },
   "outputs": [],
   "source": [
    "postings = pd.read_csv(\"linkedin_job_postings.csv\")"
   ]
  },
  {
   "cell_type": "markdown",
   "metadata": {
    "id": "fKikUvALEwT5"
   },
   "source": [
    "# see if the jobs corellate"
   ]
  },
  {
   "cell_type": "code",
   "execution_count": 5,
   "metadata": {
    "colab": {
     "base_uri": "https://localhost:8080/",
     "height": 469
    },
    "id": "2ZDbqAd0EgN4",
    "outputId": "077720c6-7cf8-4d97-bd40-be3850578022",
    "tags": []
   },
   "outputs": [
    {
     "data": {
      "text/html": [
       "<div>\n",
       "<style scoped>\n",
       "    .dataframe tbody tr th:only-of-type {\n",
       "        vertical-align: middle;\n",
       "    }\n",
       "\n",
       "    .dataframe tbody tr th {\n",
       "        vertical-align: top;\n",
       "    }\n",
       "\n",
       "    .dataframe thead th {\n",
       "        text-align: right;\n",
       "    }\n",
       "</style>\n",
       "<table border=\"1\" class=\"dataframe\">\n",
       "  <thead>\n",
       "    <tr style=\"text-align: right;\">\n",
       "      <th></th>\n",
       "      <th>job_link</th>\n",
       "      <th>last_processed_time</th>\n",
       "      <th>got_summary</th>\n",
       "      <th>got_ner</th>\n",
       "      <th>is_being_worked</th>\n",
       "      <th>job_title</th>\n",
       "      <th>company</th>\n",
       "      <th>job_location</th>\n",
       "      <th>first_seen</th>\n",
       "      <th>search_city</th>\n",
       "      <th>search_country</th>\n",
       "      <th>search_position</th>\n",
       "      <th>job_level</th>\n",
       "      <th>job_type</th>\n",
       "    </tr>\n",
       "  </thead>\n",
       "  <tbody>\n",
       "    <tr>\n",
       "      <th>0</th>\n",
       "      <td>https://www.linkedin.com/jobs/view/account-exe...</td>\n",
       "      <td>2024-01-21 07:12:29.00256+00</td>\n",
       "      <td>t</td>\n",
       "      <td>t</td>\n",
       "      <td>f</td>\n",
       "      <td>Account Executive - Dispensing (NorCal/Norther...</td>\n",
       "      <td>BD</td>\n",
       "      <td>San Diego, CA</td>\n",
       "      <td>2024-01-15</td>\n",
       "      <td>Coronado</td>\n",
       "      <td>United States</td>\n",
       "      <td>Color Maker</td>\n",
       "      <td>Mid senior</td>\n",
       "      <td>Onsite</td>\n",
       "    </tr>\n",
       "    <tr>\n",
       "      <th>1</th>\n",
       "      <td>https://www.linkedin.com/jobs/view/registered-...</td>\n",
       "      <td>2024-01-21 07:39:58.88137+00</td>\n",
       "      <td>t</td>\n",
       "      <td>t</td>\n",
       "      <td>f</td>\n",
       "      <td>Registered Nurse - RN Care Manager</td>\n",
       "      <td>Trinity Health MI</td>\n",
       "      <td>Norton Shores, MI</td>\n",
       "      <td>2024-01-14</td>\n",
       "      <td>Grand Haven</td>\n",
       "      <td>United States</td>\n",
       "      <td>Director Nursing Service</td>\n",
       "      <td>Mid senior</td>\n",
       "      <td>Onsite</td>\n",
       "    </tr>\n",
       "    <tr>\n",
       "      <th>2</th>\n",
       "      <td>https://www.linkedin.com/jobs/view/restaurant-...</td>\n",
       "      <td>2024-01-21 07:40:00.251126+00</td>\n",
       "      <td>t</td>\n",
       "      <td>t</td>\n",
       "      <td>f</td>\n",
       "      <td>RESTAURANT SUPERVISOR - THE FORKLIFT</td>\n",
       "      <td>Wasatch Adaptive Sports</td>\n",
       "      <td>Sandy, UT</td>\n",
       "      <td>2024-01-14</td>\n",
       "      <td>Tooele</td>\n",
       "      <td>United States</td>\n",
       "      <td>Stand-In</td>\n",
       "      <td>Mid senior</td>\n",
       "      <td>Onsite</td>\n",
       "    </tr>\n",
       "    <tr>\n",
       "      <th>3</th>\n",
       "      <td>https://www.linkedin.com/jobs/view/independent...</td>\n",
       "      <td>2024-01-21 07:40:00.308133+00</td>\n",
       "      <td>t</td>\n",
       "      <td>t</td>\n",
       "      <td>f</td>\n",
       "      <td>Independent Real Estate Agent</td>\n",
       "      <td>Howard Hanna | Rand Realty</td>\n",
       "      <td>Englewood Cliffs, NJ</td>\n",
       "      <td>2024-01-16</td>\n",
       "      <td>Pinehurst</td>\n",
       "      <td>United States</td>\n",
       "      <td>Real-Estate Clerk</td>\n",
       "      <td>Mid senior</td>\n",
       "      <td>Onsite</td>\n",
       "    </tr>\n",
       "    <tr>\n",
       "      <th>4</th>\n",
       "      <td>https://www.linkedin.com/jobs/view/group-unit-...</td>\n",
       "      <td>2024-01-19 09:45:09.215838+00</td>\n",
       "      <td>f</td>\n",
       "      <td>f</td>\n",
       "      <td>f</td>\n",
       "      <td>Group/Unit Supervisor (Systems Support Manager...</td>\n",
       "      <td>IRS, Office of Chief Counsel</td>\n",
       "      <td>Chamblee, GA</td>\n",
       "      <td>2024-01-17</td>\n",
       "      <td>Gadsden</td>\n",
       "      <td>United States</td>\n",
       "      <td>Supervisor Travel-Information Center</td>\n",
       "      <td>Mid senior</td>\n",
       "      <td>Onsite</td>\n",
       "    </tr>\n",
       "  </tbody>\n",
       "</table>\n",
       "</div>"
      ],
      "text/plain": [
       "                                            job_link  \\\n",
       "0  https://www.linkedin.com/jobs/view/account-exe...   \n",
       "1  https://www.linkedin.com/jobs/view/registered-...   \n",
       "2  https://www.linkedin.com/jobs/view/restaurant-...   \n",
       "3  https://www.linkedin.com/jobs/view/independent...   \n",
       "4  https://www.linkedin.com/jobs/view/group-unit-...   \n",
       "\n",
       "             last_processed_time got_summary got_ner is_being_worked  \\\n",
       "0   2024-01-21 07:12:29.00256+00           t       t               f   \n",
       "1   2024-01-21 07:39:58.88137+00           t       t               f   \n",
       "2  2024-01-21 07:40:00.251126+00           t       t               f   \n",
       "3  2024-01-21 07:40:00.308133+00           t       t               f   \n",
       "4  2024-01-19 09:45:09.215838+00           f       f               f   \n",
       "\n",
       "                                           job_title  \\\n",
       "0  Account Executive - Dispensing (NorCal/Norther...   \n",
       "1                 Registered Nurse - RN Care Manager   \n",
       "2               RESTAURANT SUPERVISOR - THE FORKLIFT   \n",
       "3                      Independent Real Estate Agent   \n",
       "4  Group/Unit Supervisor (Systems Support Manager...   \n",
       "\n",
       "                        company          job_location  first_seen  \\\n",
       "0                            BD         San Diego, CA  2024-01-15   \n",
       "1             Trinity Health MI     Norton Shores, MI  2024-01-14   \n",
       "2       Wasatch Adaptive Sports             Sandy, UT  2024-01-14   \n",
       "3    Howard Hanna | Rand Realty  Englewood Cliffs, NJ  2024-01-16   \n",
       "4  IRS, Office of Chief Counsel          Chamblee, GA  2024-01-17   \n",
       "\n",
       "   search_city search_country                       search_position  \\\n",
       "0     Coronado  United States                           Color Maker   \n",
       "1  Grand Haven  United States              Director Nursing Service   \n",
       "2       Tooele  United States                              Stand-In   \n",
       "3    Pinehurst  United States                     Real-Estate Clerk   \n",
       "4      Gadsden  United States  Supervisor Travel-Information Center   \n",
       "\n",
       "    job_level job_type  \n",
       "0  Mid senior   Onsite  \n",
       "1  Mid senior   Onsite  \n",
       "2  Mid senior   Onsite  \n",
       "3  Mid senior   Onsite  \n",
       "4  Mid senior   Onsite  "
      ]
     },
     "execution_count": 5,
     "metadata": {},
     "output_type": "execute_result"
    }
   ],
   "source": [
    "postings.head()"
   ]
  },
  {
   "cell_type": "code",
   "execution_count": 6,
   "metadata": {
    "colab": {
     "base_uri": "https://localhost:8080/",
     "height": 293
    },
    "id": "0qFzlqApEgHk",
    "outputId": "ca1f8182-83b9-4d9c-fc3a-456f01826094",
    "tags": []
   },
   "outputs": [
    {
     "data": {
      "text/html": [
       "<div>\n",
       "<style scoped>\n",
       "    .dataframe tbody tr th:only-of-type {\n",
       "        vertical-align: middle;\n",
       "    }\n",
       "\n",
       "    .dataframe tbody tr th {\n",
       "        vertical-align: top;\n",
       "    }\n",
       "\n",
       "    .dataframe thead th {\n",
       "        text-align: right;\n",
       "    }\n",
       "</style>\n",
       "<table border=\"1\" class=\"dataframe\">\n",
       "  <thead>\n",
       "    <tr style=\"text-align: right;\">\n",
       "      <th></th>\n",
       "      <th>job_link</th>\n",
       "      <th>job_skills</th>\n",
       "    </tr>\n",
       "  </thead>\n",
       "  <tbody>\n",
       "    <tr>\n",
       "      <th>0</th>\n",
       "      <td>https://www.linkedin.com/jobs/view/housekeeper...</td>\n",
       "      <td>Building Custodial Services, Cleaning, Janitor...</td>\n",
       "    </tr>\n",
       "    <tr>\n",
       "      <th>1</th>\n",
       "      <td>https://www.linkedin.com/jobs/view/assistant-g...</td>\n",
       "      <td>Customer service, Restaurant management, Food ...</td>\n",
       "    </tr>\n",
       "    <tr>\n",
       "      <th>2</th>\n",
       "      <td>https://www.linkedin.com/jobs/view/school-base...</td>\n",
       "      <td>Applied Behavior Analysis (ABA), Data analysis...</td>\n",
       "    </tr>\n",
       "    <tr>\n",
       "      <th>3</th>\n",
       "      <td>https://www.linkedin.com/jobs/view/electrical-...</td>\n",
       "      <td>Electrical Engineering, Project Controls, Sche...</td>\n",
       "    </tr>\n",
       "    <tr>\n",
       "      <th>4</th>\n",
       "      <td>https://www.linkedin.com/jobs/view/electrical-...</td>\n",
       "      <td>Electrical Assembly, Point to point wiring, St...</td>\n",
       "    </tr>\n",
       "  </tbody>\n",
       "</table>\n",
       "</div>"
      ],
      "text/plain": [
       "                                            job_link  \\\n",
       "0  https://www.linkedin.com/jobs/view/housekeeper...   \n",
       "1  https://www.linkedin.com/jobs/view/assistant-g...   \n",
       "2  https://www.linkedin.com/jobs/view/school-base...   \n",
       "3  https://www.linkedin.com/jobs/view/electrical-...   \n",
       "4  https://www.linkedin.com/jobs/view/electrical-...   \n",
       "\n",
       "                                          job_skills  \n",
       "0  Building Custodial Services, Cleaning, Janitor...  \n",
       "1  Customer service, Restaurant management, Food ...  \n",
       "2  Applied Behavior Analysis (ABA), Data analysis...  \n",
       "3  Electrical Engineering, Project Controls, Sche...  \n",
       "4  Electrical Assembly, Point to point wiring, St...  "
      ]
     },
     "execution_count": 6,
     "metadata": {},
     "output_type": "execute_result"
    }
   ],
   "source": [
    "skills.head()"
   ]
  },
  {
   "cell_type": "code",
   "execution_count": 7,
   "metadata": {
    "colab": {
     "base_uri": "https://localhost:8080/"
    },
    "id": "JVd8DDyKFJDk",
    "outputId": "5fc109ee-a55d-44a7-b169-038afb485172",
    "tags": []
   },
   "outputs": [
    {
     "data": {
      "text/plain": [
       "job_link      1296381\n",
       "job_skills    1294346\n",
       "dtype: int64"
      ]
     },
     "execution_count": 7,
     "metadata": {},
     "output_type": "execute_result"
    }
   ],
   "source": [
    "skills.count()"
   ]
  },
  {
   "cell_type": "markdown",
   "metadata": {},
   "source": [
    "Since we're interested in skills, we won't need jobs without explicit skills"
   ]
  },
  {
   "cell_type": "code",
   "execution_count": 8,
   "metadata": {},
   "outputs": [],
   "source": [
    "skills = skills.dropna()"
   ]
  },
  {
   "cell_type": "code",
   "execution_count": 9,
   "metadata": {
    "colab": {
     "base_uri": "https://localhost:8080/"
    },
    "id": "zS6d1UY9FO1i",
    "outputId": "30df1ed0-9d62-49cd-ec3c-eac06283adc5"
   },
   "outputs": [
    {
     "data": {
      "text/plain": [
       "job_link               1348454\n",
       "last_processed_time    1348454\n",
       "got_summary            1348454\n",
       "got_ner                1348454\n",
       "is_being_worked        1348454\n",
       "job_title              1348454\n",
       "company                1348443\n",
       "job_location           1348435\n",
       "first_seen             1348454\n",
       "search_city            1348454\n",
       "search_country         1348454\n",
       "search_position        1348454\n",
       "job_level              1348454\n",
       "job_type               1348454\n",
       "dtype: int64"
      ]
     },
     "execution_count": 9,
     "metadata": {},
     "output_type": "execute_result"
    }
   ],
   "source": [
    "postings.count()"
   ]
  },
  {
   "cell_type": "code",
   "execution_count": 10,
   "metadata": {
    "id": "uRflURNQFXqh",
    "tags": []
   },
   "outputs": [],
   "source": [
    "postings = postings.merge(skills, on=('job_link'))"
   ]
  },
  {
   "cell_type": "code",
   "execution_count": 11,
   "metadata": {
    "colab": {
     "base_uri": "https://localhost:8080/"
    },
    "id": "LgfY-e8FFHGY",
    "outputId": "002147e4-23b8-44ce-86d7-9552437334a3",
    "tags": []
   },
   "outputs": [
    {
     "data": {
      "text/plain": [
       "job_link               1294346\n",
       "last_processed_time    1294346\n",
       "got_summary            1294346\n",
       "got_ner                1294346\n",
       "is_being_worked        1294346\n",
       "job_title              1294346\n",
       "company                1294337\n",
       "job_location           1294327\n",
       "first_seen             1294346\n",
       "search_city            1294346\n",
       "search_country         1294346\n",
       "search_position        1294346\n",
       "job_level              1294346\n",
       "job_type               1294346\n",
       "job_skills             1294346\n",
       "dtype: int64"
      ]
     },
     "execution_count": 11,
     "metadata": {},
     "output_type": "execute_result"
    }
   ],
   "source": [
    "postings.count()"
   ]
  },
  {
   "cell_type": "markdown",
   "metadata": {},
   "source": [
    "As the workflow may require more RAM than the free Colab instance has, we can reduce the dataset size to the first 1 million posts with complete data."
   ]
  },
  {
   "cell_type": "code",
   "execution_count": 12,
   "metadata": {
    "tags": []
   },
   "outputs": [
    {
     "data": {
      "text/plain": [
       "job_link               1000000\n",
       "last_processed_time    1000000\n",
       "got_summary            1000000\n",
       "got_ner                1000000\n",
       "is_being_worked        1000000\n",
       "job_title              1000000\n",
       "company                1000000\n",
       "job_location           1000000\n",
       "first_seen             1000000\n",
       "search_city            1000000\n",
       "search_country         1000000\n",
       "search_position        1000000\n",
       "job_level              1000000\n",
       "job_type               1000000\n",
       "job_skills             1000000\n",
       "dtype: int64"
      ]
     },
     "execution_count": 12,
     "metadata": {},
     "output_type": "execute_result"
    }
   ],
   "source": [
    "postings = postings.dropna()\n",
    "postings = postings[:1000000]\n",
    "postings.count()"
   ]
  },
  {
   "cell_type": "markdown",
   "metadata": {
    "id": "ulrGqvb4Grtj"
   },
   "source": [
    "# Assessing the Skills"
   ]
  },
  {
   "cell_type": "code",
   "execution_count": 13,
   "metadata": {
    "id": "5bUmhdOcDCKV",
    "tags": []
   },
   "outputs": [
    {
     "name": "stdout",
     "output_type": "stream",
     "text": [
      "CPU times: user 135 ms, sys: 63.5 ms, total: 199 ms\n",
      "Wall time: 198 ms\n"
     ]
    }
   ],
   "source": [
    "%%time\n",
    "b = postings[\"job_skills\"].str.split(\",\", expand=True)"
   ]
  },
  {
   "cell_type": "markdown",
   "metadata": {
    "id": "WwVugxmpFdXu"
   },
   "source": [
    "alright, we're already way faster.\n"
   ]
  },
  {
   "cell_type": "code",
   "execution_count": 14,
   "metadata": {
    "colab": {
     "base_uri": "https://localhost:8080/",
     "height": 429
    },
    "id": "kC6gRgWgFZVF",
    "outputId": "3a9b5873-3b63-40b5-9c59-bb510a126a39",
    "tags": []
   },
   "outputs": [
    {
     "data": {
      "text/html": [
       "<div>\n",
       "<style scoped>\n",
       "    .dataframe tbody tr th:only-of-type {\n",
       "        vertical-align: middle;\n",
       "    }\n",
       "\n",
       "    .dataframe tbody tr th {\n",
       "        vertical-align: top;\n",
       "    }\n",
       "\n",
       "    .dataframe thead th {\n",
       "        text-align: right;\n",
       "    }\n",
       "</style>\n",
       "<table border=\"1\" class=\"dataframe\">\n",
       "  <thead>\n",
       "    <tr style=\"text-align: right;\">\n",
       "      <th></th>\n",
       "      <th>0</th>\n",
       "      <th>1</th>\n",
       "      <th>2</th>\n",
       "      <th>3</th>\n",
       "      <th>4</th>\n",
       "      <th>5</th>\n",
       "      <th>6</th>\n",
       "      <th>7</th>\n",
       "      <th>8</th>\n",
       "      <th>9</th>\n",
       "      <th>...</th>\n",
       "      <th>453</th>\n",
       "      <th>454</th>\n",
       "      <th>455</th>\n",
       "      <th>456</th>\n",
       "      <th>457</th>\n",
       "      <th>458</th>\n",
       "      <th>459</th>\n",
       "      <th>460</th>\n",
       "      <th>461</th>\n",
       "      <th>462</th>\n",
       "    </tr>\n",
       "  </thead>\n",
       "  <tbody>\n",
       "    <tr>\n",
       "      <th>0</th>\n",
       "      <td>Medical equipment sales</td>\n",
       "      <td>Key competitors</td>\n",
       "      <td>Terminology</td>\n",
       "      <td>Technology</td>\n",
       "      <td>Trends</td>\n",
       "      <td>Challenges</td>\n",
       "      <td>Reimbursement</td>\n",
       "      <td>Government regulation</td>\n",
       "      <td>BD offerings</td>\n",
       "      <td>Pipeline management</td>\n",
       "      <td>...</td>\n",
       "      <td>None</td>\n",
       "      <td>None</td>\n",
       "      <td>None</td>\n",
       "      <td>None</td>\n",
       "      <td>None</td>\n",
       "      <td>None</td>\n",
       "      <td>None</td>\n",
       "      <td>None</td>\n",
       "      <td>None</td>\n",
       "      <td>None</td>\n",
       "    </tr>\n",
       "    <tr>\n",
       "      <th>1</th>\n",
       "      <td>Nursing</td>\n",
       "      <td>Bachelor of Science in Nursing</td>\n",
       "      <td>Masters Degree in Nursing</td>\n",
       "      <td>Care management experience</td>\n",
       "      <td>Clinical experience in nursing</td>\n",
       "      <td>Licensure to practice nursing in Michigan</td>\n",
       "      <td>Population management</td>\n",
       "      <td>Selfmanagement</td>\n",
       "      <td>Education</td>\n",
       "      <td>Oversight of registries</td>\n",
       "      <td>...</td>\n",
       "      <td>None</td>\n",
       "      <td>None</td>\n",
       "      <td>None</td>\n",
       "      <td>None</td>\n",
       "      <td>None</td>\n",
       "      <td>None</td>\n",
       "      <td>None</td>\n",
       "      <td>None</td>\n",
       "      <td>None</td>\n",
       "      <td>None</td>\n",
       "    </tr>\n",
       "    <tr>\n",
       "      <th>2</th>\n",
       "      <td>Restaurant Operations Management</td>\n",
       "      <td>Inventory Management</td>\n",
       "      <td>Food and Beverage Ordering</td>\n",
       "      <td>Profit Optimization</td>\n",
       "      <td>Guest Service</td>\n",
       "      <td>Front and Back of House Coordination</td>\n",
       "      <td>Employee Performance Management</td>\n",
       "      <td>Discipline and Rewards Management</td>\n",
       "      <td>Safety and Sanitation Maintenance</td>\n",
       "      <td>Directional Flow Management</td>\n",
       "      <td>...</td>\n",
       "      <td>None</td>\n",
       "      <td>None</td>\n",
       "      <td>None</td>\n",
       "      <td>None</td>\n",
       "      <td>None</td>\n",
       "      <td>None</td>\n",
       "      <td>None</td>\n",
       "      <td>None</td>\n",
       "      <td>None</td>\n",
       "      <td>None</td>\n",
       "    </tr>\n",
       "    <tr>\n",
       "      <th>3</th>\n",
       "      <td>Real Estate</td>\n",
       "      <td>Customer Service</td>\n",
       "      <td>Sales</td>\n",
       "      <td>Negotiation</td>\n",
       "      <td>Communication</td>\n",
       "      <td>Home Listings</td>\n",
       "      <td>Local Real Estate Market</td>\n",
       "      <td>Representation Contracts</td>\n",
       "      <td>Purchase Agreements</td>\n",
       "      <td>Closing Statements</td>\n",
       "      <td>...</td>\n",
       "      <td>None</td>\n",
       "      <td>None</td>\n",
       "      <td>None</td>\n",
       "      <td>None</td>\n",
       "      <td>None</td>\n",
       "      <td>None</td>\n",
       "      <td>None</td>\n",
       "      <td>None</td>\n",
       "      <td>None</td>\n",
       "      <td>None</td>\n",
       "    </tr>\n",
       "    <tr>\n",
       "      <th>4</th>\n",
       "      <td>Nursing</td>\n",
       "      <td>BSN</td>\n",
       "      <td>Medical License</td>\n",
       "      <td>Virtual RN</td>\n",
       "      <td>Nursing Support</td>\n",
       "      <td>Diversity</td>\n",
       "      <td>Equity</td>\n",
       "      <td>Inclusion</td>\n",
       "      <td>Equal Opportunity Employer</td>\n",
       "      <td>None</td>\n",
       "      <td>...</td>\n",
       "      <td>None</td>\n",
       "      <td>None</td>\n",
       "      <td>None</td>\n",
       "      <td>None</td>\n",
       "      <td>None</td>\n",
       "      <td>None</td>\n",
       "      <td>None</td>\n",
       "      <td>None</td>\n",
       "      <td>None</td>\n",
       "      <td>None</td>\n",
       "    </tr>\n",
       "  </tbody>\n",
       "</table>\n",
       "<p>5 rows × 463 columns</p>\n",
       "</div>"
      ],
      "text/plain": [
       "                                0                                1    \\\n",
       "0           Medical equipment sales                  Key competitors   \n",
       "1                           Nursing   Bachelor of Science in Nursing   \n",
       "2  Restaurant Operations Management             Inventory Management   \n",
       "3                       Real Estate                 Customer Service   \n",
       "4                           Nursing                              BSN   \n",
       "\n",
       "                           2                            3    \\\n",
       "0                  Terminology                   Technology   \n",
       "1    Masters Degree in Nursing   Care management experience   \n",
       "2   Food and Beverage Ordering          Profit Optimization   \n",
       "3                        Sales                  Negotiation   \n",
       "4              Medical License                   Virtual RN   \n",
       "\n",
       "                               4    \\\n",
       "0                           Trends   \n",
       "1   Clinical experience in nursing   \n",
       "2                    Guest Service   \n",
       "3                    Communication   \n",
       "4                  Nursing Support   \n",
       "\n",
       "                                          5    \\\n",
       "0                                  Challenges   \n",
       "1   Licensure to practice nursing in Michigan   \n",
       "2        Front and Back of House Coordination   \n",
       "3                               Home Listings   \n",
       "4                                   Diversity   \n",
       "\n",
       "                                6                                   7    \\\n",
       "0                     Reimbursement               Government regulation   \n",
       "1             Population management                      Selfmanagement   \n",
       "2   Employee Performance Management   Discipline and Rewards Management   \n",
       "3          Local Real Estate Market            Representation Contracts   \n",
       "4                            Equity                           Inclusion   \n",
       "\n",
       "                                  8                             9    ...  \\\n",
       "0                        BD offerings           Pipeline management  ...   \n",
       "1                           Education       Oversight of registries  ...   \n",
       "2   Safety and Sanitation Maintenance   Directional Flow Management  ...   \n",
       "3                 Purchase Agreements            Closing Statements  ...   \n",
       "4          Equal Opportunity Employer                          <NA>  ...   \n",
       "\n",
       "    453   454   455   456   457   458   459   460   461   462  \n",
       "0  <NA>  <NA>  <NA>  <NA>  <NA>  <NA>  <NA>  <NA>  <NA>  <NA>  \n",
       "1  <NA>  <NA>  <NA>  <NA>  <NA>  <NA>  <NA>  <NA>  <NA>  <NA>  \n",
       "2  <NA>  <NA>  <NA>  <NA>  <NA>  <NA>  <NA>  <NA>  <NA>  <NA>  \n",
       "3  <NA>  <NA>  <NA>  <NA>  <NA>  <NA>  <NA>  <NA>  <NA>  <NA>  \n",
       "4  <NA>  <NA>  <NA>  <NA>  <NA>  <NA>  <NA>  <NA>  <NA>  <NA>  \n",
       "\n",
       "[5 rows x 463 columns]"
      ]
     },
     "execution_count": 14,
     "metadata": {},
     "output_type": "execute_result"
    }
   ],
   "source": [
    "b.head()"
   ]
  },
  {
   "cell_type": "markdown",
   "metadata": {
    "id": "NPUbcp7eKAIp"
   },
   "source": [
    "Wow, someone actually created a role with 463 required skills.  I hope they found exactly the person that they were looking for.  However this makes this a really wide notebook.  Let's find out more about this exploded data.  This may take a while, and uses the CPU"
   ]
  },
  {
   "cell_type": "code",
   "execution_count": 15,
   "metadata": {
    "id": "9eHsRRxSGtc6",
    "tags": []
   },
   "outputs": [],
   "source": [
    "desc_b = b.describe()"
   ]
  },
  {
   "cell_type": "code",
   "execution_count": 16,
   "metadata": {
    "colab": {
     "base_uri": "https://localhost:8080/",
     "height": 241
    },
    "id": "zekAV0n9-bsS",
    "outputId": "3054dd5b-05a5-400f-98d6-cdfe7c6653cd",
    "tags": []
   },
   "outputs": [
    {
     "data": {
      "text/html": [
       "<div>\n",
       "<style scoped>\n",
       "    .dataframe tbody tr th:only-of-type {\n",
       "        vertical-align: middle;\n",
       "    }\n",
       "\n",
       "    .dataframe tbody tr th {\n",
       "        vertical-align: top;\n",
       "    }\n",
       "\n",
       "    .dataframe thead th {\n",
       "        text-align: right;\n",
       "    }\n",
       "</style>\n",
       "<table border=\"1\" class=\"dataframe\">\n",
       "  <thead>\n",
       "    <tr style=\"text-align: right;\">\n",
       "      <th></th>\n",
       "      <th>0</th>\n",
       "      <th>1</th>\n",
       "      <th>2</th>\n",
       "      <th>3</th>\n",
       "      <th>4</th>\n",
       "      <th>5</th>\n",
       "      <th>6</th>\n",
       "      <th>7</th>\n",
       "      <th>8</th>\n",
       "      <th>9</th>\n",
       "      <th>...</th>\n",
       "      <th>453</th>\n",
       "      <th>454</th>\n",
       "      <th>455</th>\n",
       "      <th>456</th>\n",
       "      <th>457</th>\n",
       "      <th>458</th>\n",
       "      <th>459</th>\n",
       "      <th>460</th>\n",
       "      <th>461</th>\n",
       "      <th>462</th>\n",
       "    </tr>\n",
       "  </thead>\n",
       "  <tbody>\n",
       "    <tr>\n",
       "      <th>count</th>\n",
       "      <td>1000000</td>\n",
       "      <td>998031</td>\n",
       "      <td>995977</td>\n",
       "      <td>991890</td>\n",
       "      <td>985843</td>\n",
       "      <td>976992</td>\n",
       "      <td>965045</td>\n",
       "      <td>948902</td>\n",
       "      <td>928235</td>\n",
       "      <td>902560</td>\n",
       "      <td>...</td>\n",
       "      <td>1</td>\n",
       "      <td>1</td>\n",
       "      <td>1</td>\n",
       "      <td>1</td>\n",
       "      <td>1</td>\n",
       "      <td>1</td>\n",
       "      <td>1</td>\n",
       "      <td>1</td>\n",
       "      <td>1</td>\n",
       "      <td>1</td>\n",
       "    </tr>\n",
       "    <tr>\n",
       "      <th>unique</th>\n",
       "      <td>124052</td>\n",
       "      <td>181060</td>\n",
       "      <td>209961</td>\n",
       "      <td>226632</td>\n",
       "      <td>235485</td>\n",
       "      <td>241099</td>\n",
       "      <td>245143</td>\n",
       "      <td>246635</td>\n",
       "      <td>245312</td>\n",
       "      <td>244162</td>\n",
       "      <td>...</td>\n",
       "      <td>1</td>\n",
       "      <td>1</td>\n",
       "      <td>1</td>\n",
       "      <td>1</td>\n",
       "      <td>1</td>\n",
       "      <td>1</td>\n",
       "      <td>1</td>\n",
       "      <td>1</td>\n",
       "      <td>1</td>\n",
       "      <td>1</td>\n",
       "    </tr>\n",
       "    <tr>\n",
       "      <th>top</th>\n",
       "      <td>Customer service</td>\n",
       "      <td>Customer service</td>\n",
       "      <td>Communication</td>\n",
       "      <td>Communication</td>\n",
       "      <td>Communication</td>\n",
       "      <td>Communication</td>\n",
       "      <td>Communication</td>\n",
       "      <td>Communication</td>\n",
       "      <td>Communication</td>\n",
       "      <td>Communication</td>\n",
       "      <td>...</td>\n",
       "      <td>WorkLife Balance</td>\n",
       "      <td>Stress Management</td>\n",
       "      <td>Conflict Resolution</td>\n",
       "      <td>Negotiation</td>\n",
       "      <td>Cultural Competence</td>\n",
       "      <td>Ethical DecisionMaking</td>\n",
       "      <td>Patient Safety</td>\n",
       "      <td>Quality Improvement</td>\n",
       "      <td>Risk Management</td>\n",
       "      <td>Compliance</td>\n",
       "    </tr>\n",
       "    <tr>\n",
       "      <th>freq</th>\n",
       "      <td>47154</td>\n",
       "      <td>15811</td>\n",
       "      <td>18112</td>\n",
       "      <td>19062</td>\n",
       "      <td>20763</td>\n",
       "      <td>21335</td>\n",
       "      <td>20774</td>\n",
       "      <td>19649</td>\n",
       "      <td>18103</td>\n",
       "      <td>16039</td>\n",
       "      <td>...</td>\n",
       "      <td>1</td>\n",
       "      <td>1</td>\n",
       "      <td>1</td>\n",
       "      <td>1</td>\n",
       "      <td>1</td>\n",
       "      <td>1</td>\n",
       "      <td>1</td>\n",
       "      <td>1</td>\n",
       "      <td>1</td>\n",
       "      <td>1</td>\n",
       "    </tr>\n",
       "  </tbody>\n",
       "</table>\n",
       "<p>4 rows × 463 columns</p>\n",
       "</div>"
      ],
      "text/plain": [
       "                     0                  1               2               3    \\\n",
       "count            1000000             998031          995977          991890   \n",
       "unique            124052             181060          209961          226632   \n",
       "top     Customer service   Customer service   Communication   Communication   \n",
       "freq               47154              15811           18112           19062   \n",
       "\n",
       "                   4               5               6               7    \\\n",
       "count           985843          976992          965045          948902   \n",
       "unique          235485          241099          245143          246635   \n",
       "top      Communication   Communication   Communication   Communication   \n",
       "freq             20763           21335           20774           19649   \n",
       "\n",
       "                   8               9    ...                453  \\\n",
       "count           928235          902560  ...                  1   \n",
       "unique          245312          244162  ...                  1   \n",
       "top      Communication   Communication  ...   WorkLife Balance   \n",
       "freq             18103           16039  ...                  1   \n",
       "\n",
       "                       454                   455           456  \\\n",
       "count                    1                     1             1   \n",
       "unique                   1                     1             1   \n",
       "top      Stress Management   Conflict Resolution   Negotiation   \n",
       "freq                     1                     1             1   \n",
       "\n",
       "                         457                      458              459  \\\n",
       "count                      1                        1                1   \n",
       "unique                     1                        1                1   \n",
       "top      Cultural Competence   Ethical DecisionMaking   Patient Safety   \n",
       "freq                       1                        1                1   \n",
       "\n",
       "                         460               461          462  \n",
       "count                      1                 1            1  \n",
       "unique                     1                 1            1  \n",
       "top      Quality Improvement   Risk Management   Compliance  \n",
       "freq                       1                 1            1  \n",
       "\n",
       "[4 rows x 463 columns]"
      ]
     },
     "execution_count": 16,
     "metadata": {},
     "output_type": "execute_result"
    }
   ],
   "source": [
    "desc_b"
   ]
  },
  {
   "cell_type": "markdown",
   "metadata": {
    "id": "TOrMQDdtIv4r"
   },
   "source": [
    "Well, The top skills here are `Customer Service` and then a whole lot of `Communication`.  Let's see what the aggregates are.  We're going to keep this pandas heavy and instead of using a `set`, we'll do `unique` and `concat`."
   ]
  },
  {
   "cell_type": "code",
   "execution_count": 17,
   "metadata": {
    "tags": []
   },
   "outputs": [
    {
     "name": "stdout",
     "output_type": "stream",
     "text": [
      "CPU times: user 17.8 s, sys: 2.87 s, total: 20.7 s\n",
      "Wall time: 20.6 s\n"
     ]
    }
   ],
   "source": [
    "%%time\n",
    "stacked_skills = b.stack().dropna() #uncomment if you have an A100 GPU"
   ]
  },
  {
   "cell_type": "code",
   "execution_count": 18,
   "metadata": {
    "id": "hE2klMPkXqVi",
    "tags": []
   },
   "outputs": [
    {
     "name": "stdout",
     "output_type": "stream",
     "text": [
      "CPU times: user 4min 9s, sys: 9.06 s, total: 4min 18s\n",
      "Wall time: 4min 16s\n"
     ]
    }
   ],
   "source": [
    "%%time \n",
    "concat_skills = pd.Series()\n",
    "for i in range(0,463):\n",
    "  #print(i)\n",
    "  concat_skills = pd.concat([concat_skills, b[i].dropna()])"
   ]
  },
  {
   "cell_type": "markdown",
   "metadata": {
    "id": "PPYwt6J7ng5j"
   },
   "source": [
    "What's going on here?  What's with the if statement?  And one method takes around 20 seconds and the other takes nearly 2.5 minutes.  Well, it all comes down to the RAM available both on your CPU and GPU.\n",
    "\n",
    "If you happen to have Colab Pro, and pick a V100 or A100, or have a memory extended instance, you can just use `stack()` and then drop NA. If your GPU is a T4, like most of you will have, you need a far more memory friendly way to do this - GPU or CPU.  Without explicitly dropping NA values, we run out of memory very quickly on both CPU and GPU using that more traditional methods like `.stack()`.  It's slower, but it works and let's you keep going.  Here is a screenshot of the counts, so you know that the numbers are the same.\n",
    "\n",
    "26,925,304 skill mentions\n",
    "\n",
    "The other cool thing to consider is \"How do I know this?\".  Because this is the cleaned up version of the notebook.  When using the speed of cuDF.pandas, there is something really great about knowing that something won't work VERY quickly instead of waiting and wondering until it just fails.  Plus, if and when the kernel crashes, you can just restart and you're quickly to your last working point.  Imagine having your workflow crash and it took you 5-10 minutes (or far longer) to get there instead of about a minute.  \n",
    "\n",
    "Let's just say I know your frustration and swtiched over to doing this entirely on cuDF.pandas first, then did the times on CPU.  Got to hang with my wife a quite a bit more on Mother's Day because I used cuDF.pandas.  What are you missing out on in life?  While you ponder that, let's get that count and then get the list of unique skills."
   ]
  },
  {
   "cell_type": "code",
   "execution_count": 19,
   "metadata": {
    "tags": []
   },
   "outputs": [
    {
     "data": {
      "text/plain": [
       "20832232"
      ]
     },
     "execution_count": 19,
     "metadata": {},
     "output_type": "execute_result"
    }
   ],
   "source": [
    "stacked_skills.count()"
   ]
  },
  {
   "cell_type": "code",
   "execution_count": 20,
   "metadata": {
    "tags": []
   },
   "outputs": [
    {
     "data": {
      "text/plain": [
       "20832232"
      ]
     },
     "execution_count": 20,
     "metadata": {},
     "output_type": "execute_result"
    }
   ],
   "source": [
    "concat_skills.count()"
   ]
  },
  {
   "cell_type": "code",
   "execution_count": 21,
   "metadata": {
    "id": "xoomXmGqjga9",
    "tags": []
   },
   "outputs": [
    {
     "name": "stdout",
     "output_type": "stream",
     "text": [
      "CPU times: user 29.1 ms, sys: 8.07 ms, total: 37.1 ms\n",
      "Wall time: 36.8 ms\n"
     ]
    }
   ],
   "source": [
    "%%time\n",
    "skills_count = concat_skills.value_counts()\n"
   ]
  },
  {
   "cell_type": "code",
   "execution_count": 22,
   "metadata": {
    "colab": {
     "base_uri": "https://localhost:8080/"
    },
    "id": "E-X9kAZhkJ-2",
    "outputId": "2ae93c65-9ce2-4021-8d28-ada1f2b6587c",
    "tags": []
   },
   "outputs": [
    {
     "data": {
      "text/plain": [
       "2838860"
      ]
     },
     "execution_count": 22,
     "metadata": {},
     "output_type": "execute_result"
    }
   ],
   "source": [
    "len(skills_count)"
   ]
  },
  {
   "cell_type": "markdown",
   "metadata": {
    "id": "_YXq6Icvmq7j"
   },
   "source": [
    "Just under 3.4 Million skills.  Now let's take a look at the top 49 of these unique skills!"
   ]
  },
  {
   "cell_type": "code",
   "execution_count": 23,
   "metadata": {
    "colab": {
     "base_uri": "https://localhost:8080/"
    },
    "id": "zuUFBchBm0bf",
    "outputId": "74678838-f4e0-4f07-be9c-5f6f2785a062",
    "tags": []
   },
   "outputs": [
    {
     "name": "stdout",
     "output_type": "stream",
     "text": [
      " Communication             275700\n",
      " Teamwork                  172715\n",
      " Leadership                124831\n",
      " Communication skills       81239\n",
      " Customer service           80031\n",
      " Problem Solving            79578\n",
      " Customer Service           72575\n",
      " Problemsolving             71653\n",
      " Collaboration              66373\n",
      " Training                   63247\n",
      " Communication Skills       60638\n",
      " Attention to detail        59413\n",
      " Time management            56844\n",
      " Microsoft Office Suite     55071\n",
      " Time Management            54761\n",
      " Project Management         52865\n",
      " Sales                      50199\n",
      " Scheduling                 48606\n",
      " Multitasking               47200\n",
      "Customer service            47154\n",
      " Adaptability               46337\n",
      " Attention to Detail        45677\n",
      " Microsoft Office           44103\n",
      "Nursing                     44066\n",
      " Flexibility                43940\n",
      " Patient Care               42475\n",
      " Interpersonal skills       42317\n",
      " Documentation              39453\n",
      " Organization               37170\n",
      " Data Analysis              35982\n",
      " Problem solving            35900\n",
      " Troubleshooting            35290\n",
      " Budgeting                  35143\n",
      " Interpersonal Skills       34070\n",
      " Safety                     34012\n",
      " Excel                      32696\n",
      " Organizational skills      32626\n",
      " Bachelor's Degree          30038\n",
      " Patient care               29081\n",
      " Project management         28852\n",
      " Reporting                  28562\n",
      " Coaching                   28380\n",
      " ProblemSolving             28144\n",
      " Supervision                27710\n",
      " Inventory management       27252\n",
      " Travel                     26735\n",
      " Merchandising              26471\n",
      " Organizational Skills      26447\n",
      " Research                   25861\n",
      "Name: count, dtype: int64\n"
     ]
    }
   ],
   "source": [
    "print(skills_count.head(49))"
   ]
  },
  {
   "cell_type": "markdown",
   "metadata": {
    "id": "roAvwiZJtW2P"
   },
   "source": [
    "So, as expected, `Communication` reigns supreme followed by `Leadership`, `Teamwork`, and `Communication skills`, `Customer service`... as we skim down then... hey wait a sec...is that another \"Customer Service\"?!  Wait, what?  Is that a capital S?\n",
    "\n",
    "Oh no!  The skill label text has variations in characters for the same skills.  3 versions of \"Problem Solving\" needs a bit of it's own problem solving.  Looks like we have to do it again..."
   ]
  },
  {
   "cell_type": "code",
   "execution_count": 24,
   "metadata": {
    "colab": {
     "base_uri": "https://localhost:8080/"
    },
    "id": "qZjCRJ-6DBkL",
    "outputId": "00b81543-ab4b-4c2d-b230-2a797ef07289",
    "tags": []
   },
   "outputs": [
    {
     "data": {
      "text/plain": [
       "0             Medical equipment sales\n",
       "1                             Nursing\n",
       "2    Restaurant Operations Management\n",
       "3                         Real Estate\n",
       "4                             Nursing\n",
       "dtype: object"
      ]
     },
     "execution_count": 24,
     "metadata": {},
     "output_type": "execute_result"
    }
   ],
   "source": [
    "concat_skills.head()"
   ]
  },
  {
   "cell_type": "markdown",
   "metadata": {},
   "source": [
    "Just to show off a bit on the speed of `cudf.pandas`, we're going to show you how each of these will actions will clean up some of the duplicate skills.  \n",
    "\n",
    "First, we'll first strip all the leading and trailing whitespace, then run a count.\n",
    "\n",
    "Next, we'll set the skills to lowercase using `lower()` and run another count.\n",
    "\n",
    "Then, we'll remove all white spaces, as we can use the capitalized characters to add whitespaces back in later and yet another count.\n",
    "\n",
    "Finally, we'll remoe the word \"skills\"...and then do a final unique count."
   ]
  },
  {
   "cell_type": "code",
   "execution_count": 25,
   "metadata": {
    "tags": []
   },
   "outputs": [
    {
     "name": "stdout",
     "output_type": "stream",
     "text": [
      "2763922\n",
      "2329212\n",
      "2292115\n",
      "CPU times: user 284 ms, sys: 16.2 ms, total: 300 ms\n",
      "Wall time: 296 ms\n"
     ]
    }
   ],
   "source": [
    "%%time\n",
    "stacked_skills = stacked_skills.str.strip()\n",
    "skills_count2 = stacked_skills.value_counts()\n",
    "print(skills_count2.count())\n",
    "stacked_skills = stacked_skills.str.lower()\n",
    "skills_count2 = stacked_skills.value_counts()\n",
    "print(skills_count2.count())\n",
    "stacked_skills = stacked_skills.str.replace(\" \", \"\")\n",
    "skills_count2 = stacked_skills.value_counts()\n",
    "print(skills_count2.count())\n",
    "stacked_skills = stacked_skills.str.replace(\"skills\", \"\")\n",
    "skills_count2 = stacked_skills.value_counts()\n",
    "print(skills_count2.count())"
   ]
  },
  {
   "cell_type": "markdown",
   "metadata": {},
   "source": [
    "Wow!  We dropped over 660K duplicate skills, or 20% of the dataset, with those 3 different string manipulations...and we did it in milliseconds.  We even had spare time to count everything 3 times and print out the answer 3 times.  \n",
    "\n",
    "Of course, if we had done this in a single step, and didn't print out the columns, it would be faster, but you were already pretty impressed before we said anything."
   ]
  },
  {
   "cell_type": "code",
   "execution_count": 29,
   "metadata": {
    "tags": []
   },
   "outputs": [
    {
     "data": {
      "text/plain": [
       "communication           439194\n",
       "problemsolving          253154\n",
       "customerservice         225405\n",
       "teamwork                197364\n",
       "leadership              158987\n",
       "timemanagement          123352\n",
       "attentiontodetail       106110\n",
       "projectmanagement        97003\n",
       "interpersonal            79084\n",
       "sales                    76144\n",
       "patientcare              74725\n",
       "collaboration            69581\n",
       "nursing                  65272\n",
       "training                 65043\n",
       "dataanalysis             65042\n",
       "organizational           60361\n",
       "microsoftofficesuite     59952\n",
       "inventorymanagement      54515\n",
       "highschooldiploma        51515\n",
       "multitasking             51489\n",
       "decisionmaking           50182\n",
       "bachelor'sdegree         50024\n",
       "analytical               49875\n",
       "scheduling               49742\n",
       "microsoftoffice          48392\n",
       "adaptability             46760\n",
       "flexibility              44262\n",
       "criticalthinking         44244\n",
       "organization             41778\n",
       "documentation            41064\n",
       "writtencommunication     37369\n",
       "troubleshooting          37228\n",
       "budgeting                35992\n",
       "safety                   35083\n",
       "excel                    33608\n",
       "verbalcommunication      33323\n",
       "conflictresolution       33312\n",
       "negotiation              31901\n",
       "supervision              30258\n",
       "coaching                 30195\n",
       "presentation             30194\n",
       "research                 29850\n",
       "computer                 29801\n",
       "qualitycontrol           29529\n",
       "reporting                29119\n",
       "paidtimeoff              28377\n",
       "qualityassurance         28256\n",
       "merchandising            28078\n",
       "accounting               28038\n",
       "Name: count, dtype: int64"
      ]
     },
     "execution_count": 29,
     "metadata": {},
     "output_type": "execute_result"
    }
   ],
   "source": [
    "skills_count2.head(49)"
   ]
  },
  {
   "cell_type": "markdown",
   "metadata": {},
   "source": [
    "Just too fast and too easy.  The final result is also dramatically different than the original `skills_count`.  \n",
    "\n",
    "Okay, let's prepare our output to be useful for graph analytics.  We can also use this moment to create checkpoints by saving our cleaned dataframes as a `csv`."
   ]
  },
  {
   "cell_type": "code",
   "execution_count": 73,
   "metadata": {
    "id": "Q-UOElyU5NBi",
    "tags": []
   },
   "outputs": [],
   "source": [
    "# uniq_b.to_csv(\"unique_job_skills.csv\")"
   ]
  },
  {
   "cell_type": "code",
   "execution_count": 74,
   "metadata": {
    "tags": []
   },
   "outputs": [],
   "source": [
    "# b.to_csv(\"skills_matrix.csv\")"
   ]
  },
  {
   "cell_type": "code",
   "execution_count": 75,
   "metadata": {
    "tags": []
   },
   "outputs": [],
   "source": [
    "# b2.to_csv(\"b2.csv\")"
   ]
  },
  {
   "cell_type": "code",
   "execution_count": 31,
   "metadata": {
    "tags": []
   },
   "outputs": [
    {
     "data": {
      "text/plain": [
       "0  0    medicalequipmentsales\n",
       "   1           keycompetitors\n",
       "   2              terminology\n",
       "   3               technology\n",
       "   4                   trends\n",
       "dtype: object"
      ]
     },
     "execution_count": 31,
     "metadata": {},
     "output_type": "execute_result"
    }
   ],
   "source": [
    "stacked_skills.head()"
   ]
  },
  {
   "cell_type": "code",
   "execution_count": 32,
   "metadata": {
    "tags": []
   },
   "outputs": [
    {
     "data": {
      "text/html": [
       "<div>\n",
       "<style scoped>\n",
       "    .dataframe tbody tr th:only-of-type {\n",
       "        vertical-align: middle;\n",
       "    }\n",
       "\n",
       "    .dataframe tbody tr th {\n",
       "        vertical-align: top;\n",
       "    }\n",
       "\n",
       "    .dataframe thead th {\n",
       "        text-align: right;\n",
       "    }\n",
       "</style>\n",
       "<table border=\"1\" class=\"dataframe\">\n",
       "  <thead>\n",
       "    <tr style=\"text-align: right;\">\n",
       "      <th></th>\n",
       "      <th>level_0</th>\n",
       "      <th>level_1</th>\n",
       "      <th>0</th>\n",
       "      <th>jobs</th>\n",
       "    </tr>\n",
       "  </thead>\n",
       "  <tbody>\n",
       "    <tr>\n",
       "      <th>0</th>\n",
       "      <td>0</td>\n",
       "      <td>0</td>\n",
       "      <td>medicalequipmentsales</td>\n",
       "      <td>Onsite Mid senior Color Maker</td>\n",
       "    </tr>\n",
       "    <tr>\n",
       "      <th>1</th>\n",
       "      <td>0</td>\n",
       "      <td>1</td>\n",
       "      <td>keycompetitors</td>\n",
       "      <td>Onsite Mid senior Color Maker</td>\n",
       "    </tr>\n",
       "    <tr>\n",
       "      <th>2</th>\n",
       "      <td>0</td>\n",
       "      <td>2</td>\n",
       "      <td>terminology</td>\n",
       "      <td>Onsite Mid senior Color Maker</td>\n",
       "    </tr>\n",
       "    <tr>\n",
       "      <th>3</th>\n",
       "      <td>0</td>\n",
       "      <td>3</td>\n",
       "      <td>technology</td>\n",
       "      <td>Onsite Mid senior Color Maker</td>\n",
       "    </tr>\n",
       "    <tr>\n",
       "      <th>4</th>\n",
       "      <td>0</td>\n",
       "      <td>4</td>\n",
       "      <td>trends</td>\n",
       "      <td>Onsite Mid senior Color Maker</td>\n",
       "    </tr>\n",
       "    <tr>\n",
       "      <th>5</th>\n",
       "      <td>0</td>\n",
       "      <td>5</td>\n",
       "      <td>challenges</td>\n",
       "      <td>Onsite Mid senior Color Maker</td>\n",
       "    </tr>\n",
       "    <tr>\n",
       "      <th>6</th>\n",
       "      <td>0</td>\n",
       "      <td>6</td>\n",
       "      <td>reimbursement</td>\n",
       "      <td>Onsite Mid senior Color Maker</td>\n",
       "    </tr>\n",
       "    <tr>\n",
       "      <th>7</th>\n",
       "      <td>0</td>\n",
       "      <td>7</td>\n",
       "      <td>governmentregulation</td>\n",
       "      <td>Onsite Mid senior Color Maker</td>\n",
       "    </tr>\n",
       "    <tr>\n",
       "      <th>8</th>\n",
       "      <td>0</td>\n",
       "      <td>8</td>\n",
       "      <td>bdofferings</td>\n",
       "      <td>Onsite Mid senior Color Maker</td>\n",
       "    </tr>\n",
       "    <tr>\n",
       "      <th>9</th>\n",
       "      <td>0</td>\n",
       "      <td>9</td>\n",
       "      <td>pipelinemanagement</td>\n",
       "      <td>Onsite Mid senior Color Maker</td>\n",
       "    </tr>\n",
       "    <tr>\n",
       "      <th>10</th>\n",
       "      <td>0</td>\n",
       "      <td>10</td>\n",
       "      <td>opportunityplanning</td>\n",
       "      <td>Onsite Mid senior Color Maker</td>\n",
       "    </tr>\n",
       "    <tr>\n",
       "      <th>11</th>\n",
       "      <td>0</td>\n",
       "      <td>11</td>\n",
       "      <td>solutionsalesprocess</td>\n",
       "      <td>Onsite Mid senior Color Maker</td>\n",
       "    </tr>\n",
       "    <tr>\n",
       "      <th>12</th>\n",
       "      <td>0</td>\n",
       "      <td>12</td>\n",
       "      <td>customerrelationships</td>\n",
       "      <td>Onsite Mid senior Color Maker</td>\n",
       "    </tr>\n",
       "    <tr>\n",
       "      <th>13</th>\n",
       "      <td>0</td>\n",
       "      <td>13</td>\n",
       "      <td>collaboration</td>\n",
       "      <td>Onsite Mid senior Color Maker</td>\n",
       "    </tr>\n",
       "    <tr>\n",
       "      <th>14</th>\n",
       "      <td>0</td>\n",
       "      <td>14</td>\n",
       "      <td>negotiation</td>\n",
       "      <td>Onsite Mid senior Color Maker</td>\n",
       "    </tr>\n",
       "    <tr>\n",
       "      <th>15</th>\n",
       "      <td>0</td>\n",
       "      <td>15</td>\n",
       "      <td>internalandexternalcustomersatisfaction</td>\n",
       "      <td>Onsite Mid senior Color Maker</td>\n",
       "    </tr>\n",
       "    <tr>\n",
       "      <th>16</th>\n",
       "      <td>0</td>\n",
       "      <td>16</td>\n",
       "      <td>trustbuilding</td>\n",
       "      <td>Onsite Mid senior Color Maker</td>\n",
       "    </tr>\n",
       "    <tr>\n",
       "      <th>17</th>\n",
       "      <td>0</td>\n",
       "      <td>17</td>\n",
       "      <td>salesopportunities</td>\n",
       "      <td>Onsite Mid senior Color Maker</td>\n",
       "    </tr>\n",
       "    <tr>\n",
       "      <th>18</th>\n",
       "      <td>0</td>\n",
       "      <td>18</td>\n",
       "      <td>newsolutionintroduction</td>\n",
       "      <td>Onsite Mid senior Color Maker</td>\n",
       "    </tr>\n",
       "    <tr>\n",
       "      <th>19</th>\n",
       "      <td>0</td>\n",
       "      <td>19</td>\n",
       "      <td>pharmacy</td>\n",
       "      <td>Onsite Mid senior Color Maker</td>\n",
       "    </tr>\n",
       "    <tr>\n",
       "      <th>20</th>\n",
       "      <td>0</td>\n",
       "      <td>20</td>\n",
       "      <td>it</td>\n",
       "      <td>Onsite Mid senior Color Maker</td>\n",
       "    </tr>\n",
       "    <tr>\n",
       "      <th>21</th>\n",
       "      <td>0</td>\n",
       "      <td>21</td>\n",
       "      <td>nursing</td>\n",
       "      <td>Onsite Mid senior Color Maker</td>\n",
       "    </tr>\n",
       "    <tr>\n",
       "      <th>22</th>\n",
       "      <td>0</td>\n",
       "      <td>22</td>\n",
       "      <td>csuite</td>\n",
       "      <td>Onsite Mid senior Color Maker</td>\n",
       "    </tr>\n",
       "    <tr>\n",
       "      <th>23</th>\n",
       "      <td>0</td>\n",
       "      <td>23</td>\n",
       "      <td>bachelor'sdegree</td>\n",
       "      <td>Onsite Mid senior Color Maker</td>\n",
       "    </tr>\n",
       "    <tr>\n",
       "      <th>24</th>\n",
       "      <td>0</td>\n",
       "      <td>24</td>\n",
       "      <td>travel</td>\n",
       "      <td>Onsite Mid senior Color Maker</td>\n",
       "    </tr>\n",
       "    <tr>\n",
       "      <th>25</th>\n",
       "      <td>0</td>\n",
       "      <td>25</td>\n",
       "      <td>driver'slicense</td>\n",
       "      <td>Onsite Mid senior Color Maker</td>\n",
       "    </tr>\n",
       "    <tr>\n",
       "      <th>26</th>\n",
       "      <td>1</td>\n",
       "      <td>0</td>\n",
       "      <td>nursing</td>\n",
       "      <td>Onsite Mid senior Director Nursing Service</td>\n",
       "    </tr>\n",
       "    <tr>\n",
       "      <th>27</th>\n",
       "      <td>1</td>\n",
       "      <td>1</td>\n",
       "      <td>bachelorofscienceinnursing</td>\n",
       "      <td>Onsite Mid senior Director Nursing Service</td>\n",
       "    </tr>\n",
       "    <tr>\n",
       "      <th>28</th>\n",
       "      <td>1</td>\n",
       "      <td>2</td>\n",
       "      <td>mastersdegreeinnursing</td>\n",
       "      <td>Onsite Mid senior Director Nursing Service</td>\n",
       "    </tr>\n",
       "    <tr>\n",
       "      <th>29</th>\n",
       "      <td>1</td>\n",
       "      <td>3</td>\n",
       "      <td>caremanagementexperience</td>\n",
       "      <td>Onsite Mid senior Director Nursing Service</td>\n",
       "    </tr>\n",
       "    <tr>\n",
       "      <th>30</th>\n",
       "      <td>1</td>\n",
       "      <td>4</td>\n",
       "      <td>clinicalexperienceinnursing</td>\n",
       "      <td>Onsite Mid senior Director Nursing Service</td>\n",
       "    </tr>\n",
       "    <tr>\n",
       "      <th>31</th>\n",
       "      <td>1</td>\n",
       "      <td>5</td>\n",
       "      <td>licensuretopracticenursinginmichigan</td>\n",
       "      <td>Onsite Mid senior Director Nursing Service</td>\n",
       "    </tr>\n",
       "    <tr>\n",
       "      <th>32</th>\n",
       "      <td>1</td>\n",
       "      <td>6</td>\n",
       "      <td>populationmanagement</td>\n",
       "      <td>Onsite Mid senior Director Nursing Service</td>\n",
       "    </tr>\n",
       "    <tr>\n",
       "      <th>33</th>\n",
       "      <td>1</td>\n",
       "      <td>7</td>\n",
       "      <td>selfmanagement</td>\n",
       "      <td>Onsite Mid senior Director Nursing Service</td>\n",
       "    </tr>\n",
       "    <tr>\n",
       "      <th>34</th>\n",
       "      <td>1</td>\n",
       "      <td>8</td>\n",
       "      <td>education</td>\n",
       "      <td>Onsite Mid senior Director Nursing Service</td>\n",
       "    </tr>\n",
       "    <tr>\n",
       "      <th>35</th>\n",
       "      <td>1</td>\n",
       "      <td>9</td>\n",
       "      <td>oversightofregistries</td>\n",
       "      <td>Onsite Mid senior Director Nursing Service</td>\n",
       "    </tr>\n",
       "    <tr>\n",
       "      <th>36</th>\n",
       "      <td>1</td>\n",
       "      <td>10</td>\n",
       "      <td>patienteducation</td>\n",
       "      <td>Onsite Mid senior Director Nursing Service</td>\n",
       "    </tr>\n",
       "    <tr>\n",
       "      <th>37</th>\n",
       "      <td>1</td>\n",
       "      <td>11</td>\n",
       "      <td>patientselfmanagement</td>\n",
       "      <td>Onsite Mid senior Director Nursing Service</td>\n",
       "    </tr>\n",
       "    <tr>\n",
       "      <th>38</th>\n",
       "      <td>1</td>\n",
       "      <td>12</td>\n",
       "      <td>patientcarecoordination</td>\n",
       "      <td>Onsite Mid senior Director Nursing Service</td>\n",
       "    </tr>\n",
       "    <tr>\n",
       "      <th>39</th>\n",
       "      <td>1</td>\n",
       "      <td>13</td>\n",
       "      <td>chronicconditionmanagement</td>\n",
       "      <td>Onsite Mid senior Director Nursing Service</td>\n",
       "    </tr>\n",
       "    <tr>\n",
       "      <th>40</th>\n",
       "      <td>1</td>\n",
       "      <td>14</td>\n",
       "      <td>complexillnessmanagement</td>\n",
       "      <td>Onsite Mid senior Director Nursing Service</td>\n",
       "    </tr>\n",
       "    <tr>\n",
       "      <th>41</th>\n",
       "      <td>1</td>\n",
       "      <td>15</td>\n",
       "      <td>hospitalizationavoidance</td>\n",
       "      <td>Onsite Mid senior Director Nursing Service</td>\n",
       "    </tr>\n",
       "    <tr>\n",
       "      <th>42</th>\n",
       "      <td>1</td>\n",
       "      <td>16</td>\n",
       "      <td>emergencyroomvisitavoidance</td>\n",
       "      <td>Onsite Mid senior Director Nursing Service</td>\n",
       "    </tr>\n",
       "    <tr>\n",
       "      <th>43</th>\n",
       "      <td>2</td>\n",
       "      <td>0</td>\n",
       "      <td>restaurantoperationsmanagement</td>\n",
       "      <td>Onsite Mid senior Stand-In</td>\n",
       "    </tr>\n",
       "    <tr>\n",
       "      <th>44</th>\n",
       "      <td>2</td>\n",
       "      <td>1</td>\n",
       "      <td>inventorymanagement</td>\n",
       "      <td>Onsite Mid senior Stand-In</td>\n",
       "    </tr>\n",
       "    <tr>\n",
       "      <th>45</th>\n",
       "      <td>2</td>\n",
       "      <td>2</td>\n",
       "      <td>foodandbeverageordering</td>\n",
       "      <td>Onsite Mid senior Stand-In</td>\n",
       "    </tr>\n",
       "    <tr>\n",
       "      <th>46</th>\n",
       "      <td>2</td>\n",
       "      <td>3</td>\n",
       "      <td>profitoptimization</td>\n",
       "      <td>Onsite Mid senior Stand-In</td>\n",
       "    </tr>\n",
       "    <tr>\n",
       "      <th>47</th>\n",
       "      <td>2</td>\n",
       "      <td>4</td>\n",
       "      <td>guestservice</td>\n",
       "      <td>Onsite Mid senior Stand-In</td>\n",
       "    </tr>\n",
       "    <tr>\n",
       "      <th>48</th>\n",
       "      <td>2</td>\n",
       "      <td>5</td>\n",
       "      <td>frontandbackofhousecoordination</td>\n",
       "      <td>Onsite Mid senior Stand-In</td>\n",
       "    </tr>\n",
       "    <tr>\n",
       "      <th>49</th>\n",
       "      <td>2</td>\n",
       "      <td>6</td>\n",
       "      <td>employeeperformancemanagement</td>\n",
       "      <td>Onsite Mid senior Stand-In</td>\n",
       "    </tr>\n",
       "  </tbody>\n",
       "</table>\n",
       "</div>"
      ],
      "text/plain": [
       "    level_0  level_1                                        0  \\\n",
       "0         0        0                    medicalequipmentsales   \n",
       "1         0        1                           keycompetitors   \n",
       "2         0        2                              terminology   \n",
       "3         0        3                               technology   \n",
       "4         0        4                                   trends   \n",
       "5         0        5                               challenges   \n",
       "6         0        6                            reimbursement   \n",
       "7         0        7                     governmentregulation   \n",
       "8         0        8                              bdofferings   \n",
       "9         0        9                       pipelinemanagement   \n",
       "10        0       10                      opportunityplanning   \n",
       "11        0       11                     solutionsalesprocess   \n",
       "12        0       12                    customerrelationships   \n",
       "13        0       13                            collaboration   \n",
       "14        0       14                              negotiation   \n",
       "15        0       15  internalandexternalcustomersatisfaction   \n",
       "16        0       16                            trustbuilding   \n",
       "17        0       17                       salesopportunities   \n",
       "18        0       18                  newsolutionintroduction   \n",
       "19        0       19                                 pharmacy   \n",
       "20        0       20                                       it   \n",
       "21        0       21                                  nursing   \n",
       "22        0       22                                   csuite   \n",
       "23        0       23                         bachelor'sdegree   \n",
       "24        0       24                                   travel   \n",
       "25        0       25                          driver'slicense   \n",
       "26        1        0                                  nursing   \n",
       "27        1        1               bachelorofscienceinnursing   \n",
       "28        1        2                   mastersdegreeinnursing   \n",
       "29        1        3                 caremanagementexperience   \n",
       "30        1        4              clinicalexperienceinnursing   \n",
       "31        1        5     licensuretopracticenursinginmichigan   \n",
       "32        1        6                     populationmanagement   \n",
       "33        1        7                           selfmanagement   \n",
       "34        1        8                                education   \n",
       "35        1        9                    oversightofregistries   \n",
       "36        1       10                         patienteducation   \n",
       "37        1       11                    patientselfmanagement   \n",
       "38        1       12                  patientcarecoordination   \n",
       "39        1       13               chronicconditionmanagement   \n",
       "40        1       14                 complexillnessmanagement   \n",
       "41        1       15                 hospitalizationavoidance   \n",
       "42        1       16              emergencyroomvisitavoidance   \n",
       "43        2        0           restaurantoperationsmanagement   \n",
       "44        2        1                      inventorymanagement   \n",
       "45        2        2                  foodandbeverageordering   \n",
       "46        2        3                       profitoptimization   \n",
       "47        2        4                             guestservice   \n",
       "48        2        5          frontandbackofhousecoordination   \n",
       "49        2        6            employeeperformancemanagement   \n",
       "\n",
       "                                          jobs  \n",
       "0                Onsite Mid senior Color Maker  \n",
       "1                Onsite Mid senior Color Maker  \n",
       "2                Onsite Mid senior Color Maker  \n",
       "3                Onsite Mid senior Color Maker  \n",
       "4                Onsite Mid senior Color Maker  \n",
       "5                Onsite Mid senior Color Maker  \n",
       "6                Onsite Mid senior Color Maker  \n",
       "7                Onsite Mid senior Color Maker  \n",
       "8                Onsite Mid senior Color Maker  \n",
       "9                Onsite Mid senior Color Maker  \n",
       "10               Onsite Mid senior Color Maker  \n",
       "11               Onsite Mid senior Color Maker  \n",
       "12               Onsite Mid senior Color Maker  \n",
       "13               Onsite Mid senior Color Maker  \n",
       "14               Onsite Mid senior Color Maker  \n",
       "15               Onsite Mid senior Color Maker  \n",
       "16               Onsite Mid senior Color Maker  \n",
       "17               Onsite Mid senior Color Maker  \n",
       "18               Onsite Mid senior Color Maker  \n",
       "19               Onsite Mid senior Color Maker  \n",
       "20               Onsite Mid senior Color Maker  \n",
       "21               Onsite Mid senior Color Maker  \n",
       "22               Onsite Mid senior Color Maker  \n",
       "23               Onsite Mid senior Color Maker  \n",
       "24               Onsite Mid senior Color Maker  \n",
       "25               Onsite Mid senior Color Maker  \n",
       "26  Onsite Mid senior Director Nursing Service  \n",
       "27  Onsite Mid senior Director Nursing Service  \n",
       "28  Onsite Mid senior Director Nursing Service  \n",
       "29  Onsite Mid senior Director Nursing Service  \n",
       "30  Onsite Mid senior Director Nursing Service  \n",
       "31  Onsite Mid senior Director Nursing Service  \n",
       "32  Onsite Mid senior Director Nursing Service  \n",
       "33  Onsite Mid senior Director Nursing Service  \n",
       "34  Onsite Mid senior Director Nursing Service  \n",
       "35  Onsite Mid senior Director Nursing Service  \n",
       "36  Onsite Mid senior Director Nursing Service  \n",
       "37  Onsite Mid senior Director Nursing Service  \n",
       "38  Onsite Mid senior Director Nursing Service  \n",
       "39  Onsite Mid senior Director Nursing Service  \n",
       "40  Onsite Mid senior Director Nursing Service  \n",
       "41  Onsite Mid senior Director Nursing Service  \n",
       "42  Onsite Mid senior Director Nursing Service  \n",
       "43                  Onsite Mid senior Stand-In  \n",
       "44                  Onsite Mid senior Stand-In  \n",
       "45                  Onsite Mid senior Stand-In  \n",
       "46                  Onsite Mid senior Stand-In  \n",
       "47                  Onsite Mid senior Stand-In  \n",
       "48                  Onsite Mid senior Stand-In  \n",
       "49                  Onsite Mid senior Stand-In  "
      ]
     },
     "execution_count": 32,
     "metadata": {},
     "output_type": "execute_result"
    }
   ],
   "source": [
    "stacked_skills = stacked_skills.reset_index()\n",
    "\n",
    "jobTitles = jobTitles.reset_index()\n",
    "i2sDict = dict(zip(jobTitles['index'], jobTitles[0]))\n",
    "stacked_skills['jobs'] = stacked_skills['level_0'].map(i2sDict)\n",
    "stacked_skills[\"str_num\"] = str(stacked_skills[\"level_0\"])\n",
    "stacked_skills[\"score\"] = 463-stacked_skills[\"level_1\"]\n",
    "\n",
    "stacked_skills.head(50)"
   ]
  },
  {
   "cell_type": "markdown",
   "metadata": {},
   "source": [
    "At this point, this data is formed into an edgelist and is ready to be injested into your favorite graph analytics platform.  Today, we're going to use `networkX`...jut with a twist.  RAPIDS also has a package called `nx-cugraph`.  It works like `cuDF.pandas`, but for `networkX`.  All you have to do is pip install `nx-cugraph` on a system with a CUDA enabled GPU and then import `networkx` and it will do all the CPU+GPU hybrid heavy lifting in the background for you with zero-code changes"
   ]
  },
  {
   "cell_type": "code",
   "execution_count": null,
   "metadata": {},
   "outputs": [],
   "source": [
    "!pip install nx-cugraph"
   ]
  },
  {
   "cell_type": "code",
   "execution_count": 16,
   "metadata": {
    "tags": []
   },
   "outputs": [],
   "source": [
    "import networkx as nx"
   ]
  },
  {
   "cell_type": "code",
   "execution_count": 64,
   "metadata": {
    "tags": []
   },
   "outputs": [],
   "source": [
    "G = nx.from_pandas_edgelist(stacked_skills, source='jobs', target='skills', edge_attr='score')"
   ]
  },
  {
   "cell_type": "markdown",
   "metadata": {},
   "source": [
    "Now you have your data formed into a graph and read for any analytics that you may want to do."
   ]
  }
 ],
 "metadata": {
  "accelerator": "GPU",
  "colab": {
   "gpuType": "T4",
   "provenance": [],
   "toc_visible": true
  },
  "kernelspec": {
   "display_name": "Python 3 (ipykernel)",
   "language": "python",
   "name": "python3"
  },
  "language_info": {
   "codemirror_mode": {
    "name": "ipython",
    "version": 3
   },
   "file_extension": ".py",
   "mimetype": "text/x-python",
   "name": "python",
   "nbconvert_exporter": "python",
   "pygments_lexer": "ipython3",
   "version": "3.10.14"
  }
 },
 "nbformat": 4,
 "nbformat_minor": 4
}

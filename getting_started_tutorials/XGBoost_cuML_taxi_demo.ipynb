{
 "cells": [
  {
   "cell_type": "markdown",
   "metadata": {},
   "source": [
    "# Machine Learning with XGBoost\n",
    "This notebook is a hypothetical Machine Learing Operations guide, starting with naive modeling and progressing through more and more complex usage of XGBoost and finally performing Hyperparameter Optimization using feature engineered data."
   ]
  },
  {
   "cell_type": "markdown",
   "metadata": {},
   "source": [
    "### [YouTube Tutorial](https://www.youtube.com/watch?v=lhraJRaDkOA)\n",
    "##### This YouTube video is a walk through of this notebook"
   ]
  },
  {
   "cell_type": "markdown",
   "metadata": {},
   "source": [
    "<a href=\"https://www.youtube.com/watch?v=lhraJRaDkOA\">\n",
    "  <img src=\"https://img.youtube.com/vi/lhraJRaDkOA/2.jpg\" width=\"250\">\n",
    "</a>"
   ]
  },
  {
   "cell_type": "markdown",
   "metadata": {},
   "source": [
    "  "
   ]
  },
  {
   "cell_type": "markdown",
   "metadata": {
    "id": "LP5mNAGZGU61"
   },
   "source": [
    "# What is XGBoost?\n",
    "\n",
    "* Stands for **Extreme Gradient Boosting**\n",
    "* The leading machine learning library for regression, classification, and ranking problems\n",
    "* [GPU Accelerated](https://xgboost.readthedocs.io/en/stable/gpu/index.html) with a single parameter\n",
    "* Scalable, distributed gradient-boosted decision tree (GBDT) machine learning library\n",
    "* Graphical feature importance enhances explainability\n",
    "* Provides parallel tree boosting\n",
    "* More information [here](https://xgboost.readthedocs.io/en/stable/index.html)\n",
    "\n",
    "\n",
    "\n",
    "\n",
    "\n"
   ]
  },
  {
   "cell_type": "markdown",
   "metadata": {},
   "source": [
    "# Notebook Outline\n",
    "#### Environment\n",
    "#### Data\n",
    "#### Mean Model\n",
    "#### Medan Model\n",
    "#### <i>Naive</i> XGBoost \n",
    "#### Feature Engineering\n",
    "#### XGBoost Light Tuning\n",
    "#### Performance\n",
    "#### Automated Tuning"
   ]
  },
  {
   "cell_type": "markdown",
   "metadata": {
    "id": "bEs6Dv3wqbab"
   },
   "source": [
    "<br/>"
   ]
  },
  {
   "cell_type": "code",
   "execution_count": 1,
   "metadata": {
    "id": "KJtuwHYRqWxO"
   },
   "outputs": [],
   "source": [
    "# this code helps avoid local warnings when running in a Colab notebook.\n",
    "import locale\n",
    "locale.getpreferredencoding = lambda: \"UTF-8\""
   ]
  },
  {
   "cell_type": "markdown",
   "metadata": {},
   "source": [
    "  "
   ]
  },
  {
   "cell_type": "markdown",
   "metadata": {},
   "source": [
    "# Environment"
   ]
  },
  {
   "cell_type": "markdown",
   "metadata": {
    "id": "FzrKLQCEo01n"
   },
   "source": [
    "### GPU Verification\n",
    "The `nvidia-smi` command line provide details about your GPU and drivers."
   ]
  },
  {
   "cell_type": "code",
   "execution_count": 2,
   "metadata": {
    "colab": {
     "base_uri": "https://localhost:8080/"
    },
    "id": "ephy3SqGoz2f",
    "outputId": "83a272ec-7e0e-46e5-cd93-c8f5fd4ba477"
   },
   "outputs": [
    {
     "name": "stdout",
     "output_type": "stream",
     "text": [
      "Thu Jun 26 13:21:19 2025       \n",
      "+-----------------------------------------------------------------------------------------+\n",
      "| NVIDIA-SMI 550.54.15              Driver Version: 550.54.15      CUDA Version: 12.4     |\n",
      "|-----------------------------------------+------------------------+----------------------+\n",
      "| GPU  Name                 Persistence-M | Bus-Id          Disp.A | Volatile Uncorr. ECC |\n",
      "| Fan  Temp   Perf          Pwr:Usage/Cap |           Memory-Usage | GPU-Util  Compute M. |\n",
      "|                                         |                        |               MIG M. |\n",
      "|=========================================+========================+======================|\n",
      "|   0  NVIDIA A100-SXM4-40GB          Off |   00000000:00:04.0 Off |                    0 |\n",
      "| N/A   30C    P0             43W /  400W |       0MiB /  40960MiB |      0%      Default |\n",
      "|                                         |                        |             Disabled |\n",
      "+-----------------------------------------+------------------------+----------------------+\n",
      "                                                                                         \n",
      "+-----------------------------------------------------------------------------------------+\n",
      "| Processes:                                                                              |\n",
      "|  GPU   GI   CI        PID   Type   Process name                              GPU Memory |\n",
      "|        ID   ID                                                               Usage      |\n",
      "|=========================================================================================|\n",
      "|  No running processes found                                                             |\n",
      "+-----------------------------------------------------------------------------------------+\n"
     ]
    }
   ],
   "source": [
    "!nvidia-smi"
   ]
  },
  {
   "cell_type": "markdown",
   "metadata": {
    "id": "2KoF_ryeqnys"
   },
   "source": [
    "<br/>"
   ]
  },
  {
   "cell_type": "markdown",
   "metadata": {},
   "source": [
    "### XGBoost Version\n",
    "It is beneficial to get the latest version of XGBoost to get the latest algorithm advancements."
   ]
  },
  {
   "cell_type": "code",
   "execution_count": 3,
   "metadata": {
    "colab": {
     "base_uri": "https://localhost:8080/",
     "height": 53
    },
    "id": "aQDxyC5P6zt_",
    "outputId": "fed50474-dd01-42c7-be2e-69772c8f32e2"
   },
   "outputs": [
    {
     "name": "stdout",
     "output_type": "stream",
     "text": [
      "\u001b[2K   \u001b[90m━━━━━━━━━━━━━━━━━━━━━━━━━━━━━━━━━━━━━━━━\u001b[0m \u001b[32m253.9/253.9 MB\u001b[0m \u001b[31m9.9 MB/s\u001b[0m eta \u001b[36m0:00:00\u001b[0m\n",
      "\u001b[?25h"
     ]
    },
    {
     "data": {
      "application/vnd.google.colaboratory.intrinsic+json": {
       "type": "string"
      },
      "text/plain": [
       "'3.0.2'"
      ]
     },
     "execution_count": 3,
     "metadata": {},
     "output_type": "execute_result"
    }
   ],
   "source": [
    "!pip install -q --upgrade xgboost\n",
    "import xgboost as xgb\n",
    "xgb.__version__"
   ]
  },
  {
   "cell_type": "markdown",
   "metadata": {
    "id": "JNicXyZzZnBQ"
   },
   "source": [
    "  "
   ]
  },
  {
   "cell_type": "markdown",
   "metadata": {
    "id": "zGrhSJLb6zt_"
   },
   "source": [
    "#### XGBoost version - 2.1.3 needs downgraded Scikit-learn\n",
    "`!pip uninstall -y scikit-learn`\n",
    "`!pip install -q scikit-learn==1.5.2`"
   ]
  },
  {
   "cell_type": "markdown",
   "metadata": {},
   "source": [
    "  "
   ]
  },
  {
   "cell_type": "markdown",
   "metadata": {},
   "source": [
    "  "
   ]
  },
  {
   "cell_type": "markdown",
   "metadata": {},
   "source": [
    "  "
   ]
  },
  {
   "cell_type": "markdown",
   "metadata": {
    "id": "Plv5qnVveP5r"
   },
   "source": [
    "### NVIDA CUDA-X Verification"
   ]
  },
  {
   "cell_type": "markdown",
   "metadata": {},
   "source": [
    "  "
   ]
  },
  {
   "cell_type": "markdown",
   "metadata": {},
   "source": [
    "##### `%load_ext cudf.pandas` will load a GPU Acclerated proxy type for pandas.\n",
    "##### More details can be found here: \n",
    "https://developer.nvidia.com/topics/ai/data-science/cuda-x-data-science-libraries\n",
    "##### This short blog also provides code samples for alternate method of accelerated pandas with NVIDIA GPUs\n",
    "https://developer.nvidia.com/blog/rapids-cudf-accelerates-pandas-nearly-150x-with-zero-code-changes/"
   ]
  },
  {
   "cell_type": "code",
   "execution_count": 5,
   "metadata": {
    "id": "IdSZhjswgYNR"
   },
   "outputs": [],
   "source": [
    "# load CUDA-X GPU-accelerated pandas --> cuDF\n",
    "# https://rapids.ai\n",
    "%load_ext cudf.pandas"
   ]
  },
  {
   "cell_type": "markdown",
   "metadata": {},
   "source": [
    "##### The 'pd' display should be `<module 'pandas' (ModuleAccelerator(fast=cudf, slow=pandas))>` to indicate we are using GPU accelerated pandas via [NVIDIA cuDF](https://developer.nvidia.com/topics/ai/data-science/cuda-x-data-science-libraries)"
   ]
  },
  {
   "cell_type": "code",
   "execution_count": 6,
   "metadata": {
    "colab": {
     "base_uri": "https://localhost:8080/"
    },
    "id": "47nkZG1TQFvx",
    "outputId": "71732655-ac34-4a6c-aa36-5cb48c1f254f"
   },
   "outputs": [
    {
     "data": {
      "text/plain": [
       "<module 'pandas' (ModuleAccelerator(fast=cudf, slow=pandas))>"
      ]
     },
     "execution_count": 6,
     "metadata": {},
     "output_type": "execute_result"
    }
   ],
   "source": [
    "import xgboost as xgb\n",
    "import pandas as pd\n",
    "import numpy as np\n",
    "\n",
    "\n",
    "pd # this should display: <module 'pandas' (ModuleAccelerator(fast=cudf, slow=pandas))>"
   ]
  },
  {
   "cell_type": "markdown",
   "metadata": {
    "id": "JLyU0xkEeScN"
   },
   "source": [
    "<br/>"
   ]
  },
  {
   "cell_type": "markdown",
   "metadata": {
    "id": "xb7K8TIqrhCq"
   },
   "source": [
    "<br/>"
   ]
  },
  {
   "cell_type": "markdown",
   "metadata": {
    "id": "T74PeQ6sfej0"
   },
   "source": [
    "# Data - City of Chicago Taxi Trips Data\n",
    "##### From the web page:  \n",
    "<i>Chicago taxi trips from 2013 to 2023 reported to the City of Chicago in its role as a regulatory agency.</i>  \n",
    "##### Data details can be found here:\n",
    "https://data.cityofchicago.org/Transportation/Taxi-Trips-2013-2023-/wrvz-psew/about_data\n",
    "##### Download the data from here:\n",
    "https://data.cityofchicago.org/Transportation/Taxi-Trips-2013-2023-/wrvz-psew/data_preview"
   ]
  },
  {
   "cell_type": "markdown",
   "metadata": {},
   "source": [
    "  "
   ]
  },
  {
   "cell_type": "markdown",
   "metadata": {},
   "source": [
    "I have the data in my Google Drive and dowload it with the following commands from a Google Colab notebook:"
   ]
  },
  {
   "cell_type": "code",
   "execution_count": 8,
   "metadata": {
    "colab": {
     "base_uri": "https://localhost:8080/"
    },
    "id": "TNKGuTRZaPbq",
    "outputId": "36241f5a-66e4-4a19-a75d-7b73c477266b"
   },
   "outputs": [
    {
     "name": "stdout",
     "output_type": "stream",
     "text": [
      "Mounted at /content/drive\n"
     ]
    }
   ],
   "source": [
    "from google.colab import drive\n",
    "drive.mount('/content/drive')"
   ]
  },
  {
   "cell_type": "code",
   "execution_count": 9,
   "metadata": {
    "id": "eBKfcM1Ta37S"
   },
   "outputs": [],
   "source": [
    "!cp /content/drive/MyDrive/Taxi_Trips__2013-2023__20241218.csv ."
   ]
  },
  {
   "cell_type": "code",
   "execution_count": 10,
   "metadata": {
    "colab": {
     "base_uri": "https://localhost:8080/"
    },
    "id": "JSU_Oqz-a7bg",
    "outputId": "6351de6b-58b3-4510-c4f2-10b99e2fe5e1"
   },
   "outputs": [
    {
     "name": "stdout",
     "output_type": "stream",
     "text": [
      "1972429 Taxi_Trips__2013-2023__20241218.csv\n"
     ]
    }
   ],
   "source": [
    "!wc -l Taxi_Trips__2013-2023__20241218.csv"
   ]
  },
  {
   "cell_type": "markdown",
   "metadata": {},
   "source": [
    "### GPU or CPU\n",
    "##### I use the variable to set the accelerator type within XGBoost. `cuda` will accelerate XGBoost on the [NVIDIA GPU](https://xgboost.readthedocs.io/en/stable/gpu/index.html)."
   ]
  },
  {
   "cell_type": "code",
   "execution_count": 11,
   "metadata": {
    "colab": {
     "base_uri": "https://localhost:8080/",
     "height": 35
    },
    "id": "uiKzWYESkYDU",
    "outputId": "078530f1-7312-404c-ca3c-c9b5499e9af4"
   },
   "outputs": [
    {
     "data": {
      "application/vnd.google.colaboratory.intrinsic+json": {
       "type": "string"
      },
      "text/plain": [
       "'cuda'"
      ]
     },
     "execution_count": 11,
     "metadata": {},
     "output_type": "execute_result"
    }
   ],
   "source": [
    "# USC CPU\n",
    "# xgb_device = \"cpu\"\n",
    "\n",
    "# USE GPU - comment out following lines to use CPU\n",
    "xgb_device = \"cuda\"\n",
    "xgb_device"
   ]
  },
  {
   "cell_type": "code",
   "execution_count": 12,
   "metadata": {
    "id": "KpnRn2o6iQhF"
   },
   "outputs": [],
   "source": [
    "from time import time\n",
    "import seaborn as sns\n",
    "import matplotlib.pyplot as plt\n",
    "from sklearn.model_selection import KFold"
   ]
  },
  {
   "cell_type": "markdown",
   "metadata": {
    "id": "fX2mGYHPpne8"
   },
   "source": [
    "<br/>"
   ]
  },
  {
   "cell_type": "markdown",
   "metadata": {
    "id": "uhZDyzGYycPx"
   },
   "source": [
    "### CSV\n",
    "##### The following code loads the data into a pandas DataFrame. 'read_csv' is a GPU accelerated function within NVIDIA cuDF."
   ]
  },
  {
   "cell_type": "code",
   "execution_count": 13,
   "metadata": {
    "colab": {
     "base_uri": "https://localhost:8080/"
    },
    "id": "A4byxIggWZPW",
    "outputId": "9759db5b-9aa9-410d-c5e4-e67d1272d3c0"
   },
   "outputs": [
    {
     "name": "stdout",
     "output_type": "stream",
     "text": [
      "CPU times: user 312 ms, sys: 255 ms, total: 566 ms\n",
      "Wall time: 453 ms\n"
     ]
    }
   ],
   "source": [
    "%%time\n",
    "\n",
    "df = pd.read_csv('Taxi_Trips__2013-2023__20241218.csv')  # read in data"
   ]
  },
  {
   "cell_type": "code",
   "execution_count": 14,
   "metadata": {
    "colab": {
     "base_uri": "https://localhost:8080/"
    },
    "id": "RW6oatklWdPc",
    "outputId": "2efbe9a6-a2f7-4643-b41e-6a8e9d398392"
   },
   "outputs": [
    {
     "name": "stdout",
     "output_type": "stream",
     "text": [
      "CPU times: user 439 ms, sys: 81.4 ms, total: 520 ms\n",
      "Wall time: 1.29 s\n"
     ]
    }
   ],
   "source": [
    "%%time\n",
    "\n",
    "df = df.rename(columns={'Trip Total': 'trip_ttl'})  # abbreviate target column name\n",
    "\n",
    "df = df[df[\"trip_ttl\"]>0]\n",
    "\n",
    "df = df.sample(frac=1, random_state=42).reset_index(drop=True)\n",
    "\n",
    "X = df.drop(columns=[\"trip_ttl\"])\n",
    "y = df[\"trip_ttl\"]"
   ]
  },
  {
   "cell_type": "code",
   "execution_count": 15,
   "metadata": {
    "colab": {
     "base_uri": "https://localhost:8080/"
    },
    "id": "LeBJe2q8lKoA",
    "outputId": "f36036bd-78be-4364-d027-c86f93714db4"
   },
   "outputs": [
    {
     "name": "stdout",
     "output_type": "stream",
     "text": [
      "CPU times: user 332 ms, sys: 178 ms, total: 510 ms\n",
      "Wall time: 260 ms\n"
     ]
    },
    {
     "data": {
      "text/plain": [
       "0.2600255012512207"
      ]
     },
     "execution_count": 15,
     "metadata": {},
     "output_type": "execute_result"
    }
   ],
   "source": [
    "%%time\n",
    "\n",
    "start = time()\n",
    "# RAPIDS OFF  - 22.04 seconds\n",
    "# RAPIDS A100 -  0.26 seconds\n",
    "\n",
    "df = pd.read_csv('Taxi_Trips__2013-2023__20241218.csv')  # read in data\n",
    "\n",
    "df = df.rename(columns={'Trip Total': 'trip_ttl'})  # abbreviate target column name\n",
    "\n",
    "df = df[df[\"trip_ttl\"]>0]\n",
    "\n",
    "df = df.sample(frac=1, random_state=42).reset_index(drop=True)\n",
    "\n",
    "X = df.drop(columns=[\"trip_ttl\"])\n",
    "y = df[\"trip_ttl\"]\n",
    "\n",
    "time() - start"
   ]
  },
  {
   "cell_type": "code",
   "execution_count": 16,
   "metadata": {
    "colab": {
     "base_uri": "https://localhost:8080/"
    },
    "id": "hdKoOa2Vq4G7",
    "outputId": "914ef9c4-e013-41c8-a471-e4bf6802eec0"
   },
   "outputs": [
    {
     "data": {
      "text/plain": [
       "1971068"
      ]
     },
     "execution_count": 16,
     "metadata": {},
     "output_type": "execute_result"
    }
   ],
   "source": [
    "len(df)"
   ]
  },
  {
   "cell_type": "markdown",
   "metadata": {
    "id": "WTZXDYuhq0BZ"
   },
   "source": [
    "<br/>"
   ]
  },
  {
   "cell_type": "markdown",
   "metadata": {
    "id": "Ed1xs-4Pq3Sf"
   },
   "source": [
    "<br/>"
   ]
  },
  {
   "cell_type": "markdown",
   "metadata": {
    "id": "Cybpg00Eq3ZR"
   },
   "source": [
    "<br/>"
   ]
  },
  {
   "cell_type": "markdown",
   "metadata": {
    "id": "GpDIT9cWq3dh"
   },
   "source": [
    "<br/>"
   ]
  },
  {
   "cell_type": "markdown",
   "metadata": {
    "id": "8YcjHQKcl0FL"
   },
   "source": [
    "# Mean Model\n",
    "##### A typical Machine Learning Operation is to start with a naive models to create a peformance floor or baseline performance to start at.\n",
    "##### This code creates a Mean model and saves the results to compare to future models"
   ]
  },
  {
   "cell_type": "code",
   "execution_count": 17,
   "metadata": {
    "colab": {
     "base_uri": "https://localhost:8080/"
    },
    "id": "5-CQY1KQllOp",
    "outputId": "d1e52f0a-228f-4886-cee1-f5de086d4a25"
   },
   "outputs": [
    {
     "data": {
      "text/plain": [
       "17.58"
      ]
     },
     "execution_count": 17,
     "metadata": {},
     "output_type": "execute_result"
    }
   ],
   "source": [
    "y.mean().round(2).item()"
   ]
  },
  {
   "cell_type": "code",
   "execution_count": 19,
   "metadata": {
    "colab": {
     "base_uri": "https://localhost:8080/",
     "height": 241
    },
    "id": "uZHjca7vBoMT",
    "outputId": "e32a50b6-41aa-4aec-d527-a3884be54b3a"
   },
   "outputs": [
    {
     "name": "stdout",
     "output_type": "stream",
     "text": [
      "CPU times: user 644 ms, sys: 72.1 ms, total: 716 ms\n",
      "Wall time: 690 ms\n"
     ]
    },
    {
     "data": {
      "application/vnd.google.colaboratory.intrinsic+json": {
       "summary": "{\n  \"name\": \"mean_fold_results_df\",\n  \"rows\": 5,\n  \"fields\": [\n    {\n      \"column\": \"avg\",\n      \"properties\": {\n        \"dtype\": \"number\",\n        \"std\": 0.03847871046583257,\n        \"min\": 17.532107493781925,\n        \"max\": 17.617674527889076,\n        \"num_unique_values\": 5,\n        \"samples\": [\n          17.54972388076266,\n          17.532107493781925,\n          17.57968020521862\n        ],\n        \"semantic_type\": \"\",\n        \"description\": \"\"\n      }\n    },\n    {\n      \"column\": \"mse\",\n      \"properties\": {\n        \"dtype\": \"number\",\n        \"std\": 1107.0721059225664,\n        \"min\": 6383.971635420476,\n        \"max\": 9141.87510657433,\n        \"num_unique_values\": 5,\n        \"samples\": [\n          8855.46592993672,\n          9141.87510657433,\n          8401.307659350205\n        ],\n        \"semantic_type\": \"\",\n        \"description\": \"\"\n      }\n    },\n    {\n      \"column\": \"rmse\",\n      \"properties\": {\n        \"dtype\": \"number\",\n        \"std\": 6.3145793286564675,\n        \"min\": 79.89975992091888,\n        \"max\": 95.61315341821089,\n        \"num_unique_values\": 5,\n        \"samples\": [\n          94.10348521673743,\n          95.61315341821089,\n          91.65864748811322\n        ],\n        \"semantic_type\": \"\",\n        \"description\": \"\"\n      }\n    },\n    {\n      \"column\": \"mae\",\n      \"properties\": {\n        \"dtype\": \"number\",\n        \"std\": 0.1374724571387316,\n        \"min\": 13.250783622249726,\n        \"max\": 13.542402315125404,\n        \"num_unique_values\": 5,\n        \"samples\": [\n          13.51644909784389,\n          13.542402315125404,\n          13.4007534312558\n        ],\n        \"semantic_type\": \"\",\n        \"description\": \"\"\n      }\n    },\n    {\n      \"column\": \"r2\",\n      \"properties\": {\n        \"dtype\": \"number\",\n        \"std\": 2.491727989740835e-06,\n        \"min\": -6.023738555294145e-06,\n        \"max\": -1.217140832565633e-09,\n        \"num_unique_values\": 5,\n        \"samples\": [\n          -2.4264055842326826e-06,\n          -6.023738555294145e-06,\n          -1.217140832565633e-09\n        ],\n        \"semantic_type\": \"\",\n        \"description\": \"\"\n      }\n    },\n    {\n      \"column\": \"max_err\",\n      \"properties\": {\n        \"dtype\": \"number\",\n        \"std\": 368.897445603675,\n        \"min\": 9034.833982803733,\n        \"max\": 9957.770276119238,\n        \"num_unique_values\": 5,\n        \"samples\": [\n          9957.770276119238,\n          9782.767892506217,\n          9682.67031979478\n        ],\n        \"semantic_type\": \"\",\n        \"description\": \"\"\n      }\n    }\n  ]\n}",
       "type": "dataframe",
       "variable_name": "mean_fold_results_df"
      },
      "text/html": [
       "<div>\n",
       "<style scoped>\n",
       "    .dataframe tbody tr th:only-of-type {\n",
       "        vertical-align: middle;\n",
       "    }\n",
       "\n",
       "    .dataframe tbody tr th {\n",
       "        vertical-align: top;\n",
       "    }\n",
       "\n",
       "    .dataframe thead th {\n",
       "        text-align: right;\n",
       "    }\n",
       "</style>\n",
       "<table border=\"1\" class=\"dataframe\">\n",
       "  <thead>\n",
       "    <tr style=\"text-align: right;\">\n",
       "      <th></th>\n",
       "      <th>avg</th>\n",
       "      <th>mse</th>\n",
       "      <th>rmse</th>\n",
       "      <th>mae</th>\n",
       "      <th>r2</th>\n",
       "      <th>max_err</th>\n",
       "    </tr>\n",
       "  </thead>\n",
       "  <tbody>\n",
       "    <tr>\n",
       "      <th>0</th>\n",
       "      <td>17.532107</td>\n",
       "      <td>9141.875107</td>\n",
       "      <td>95.613153</td>\n",
       "      <td>13.542402</td>\n",
       "      <td>-6.023739e-06</td>\n",
       "      <td>9782.767893</td>\n",
       "    </tr>\n",
       "    <tr>\n",
       "      <th>1</th>\n",
       "      <td>17.617675</td>\n",
       "      <td>7639.707685</td>\n",
       "      <td>87.405421</td>\n",
       "      <td>13.250784</td>\n",
       "      <td>-4.884284e-06</td>\n",
       "      <td>9882.682325</td>\n",
       "    </tr>\n",
       "    <tr>\n",
       "      <th>2</th>\n",
       "      <td>17.616017</td>\n",
       "      <td>6383.971635</td>\n",
       "      <td>79.899760</td>\n",
       "      <td>13.259757</td>\n",
       "      <td>-5.354304e-06</td>\n",
       "      <td>9034.833983</td>\n",
       "    </tr>\n",
       "    <tr>\n",
       "      <th>3</th>\n",
       "      <td>17.549724</td>\n",
       "      <td>8855.465930</td>\n",
       "      <td>94.103485</td>\n",
       "      <td>13.516449</td>\n",
       "      <td>-2.426406e-06</td>\n",
       "      <td>9957.770276</td>\n",
       "    </tr>\n",
       "    <tr>\n",
       "      <th>4</th>\n",
       "      <td>17.579680</td>\n",
       "      <td>8401.307659</td>\n",
       "      <td>91.658647</td>\n",
       "      <td>13.400753</td>\n",
       "      <td>-1.217141e-09</td>\n",
       "      <td>9682.670320</td>\n",
       "    </tr>\n",
       "  </tbody>\n",
       "</table>\n",
       "</div>"
      ],
      "text/plain": [
       "         avg          mse       rmse        mae            r2      max_err\n",
       "0  17.532107  9141.875107  95.613153  13.542402 -6.023739e-06  9782.767893\n",
       "1  17.617675  7639.707685  87.405421  13.250784 -4.884284e-06  9882.682325\n",
       "2  17.616017  6383.971635  79.899760  13.259757 -5.354304e-06  9034.833983\n",
       "3  17.549724  8855.465930  94.103485  13.516449 -2.426406e-06  9957.770276\n",
       "4  17.579680  8401.307659  91.658647  13.400753 -1.217141e-09  9682.670320"
      ]
     },
     "execution_count": 19,
     "metadata": {},
     "output_type": "execute_result"
    }
   ],
   "source": [
    "%%time\n",
    "\n",
    "# RAPIDS OFF  - 1.22\n",
    "# RAPIDS A100 - 0.690\n",
    "\n",
    "kf = KFold(n_splits=5, shuffle=True, random_state=42)\n",
    "\n",
    "mean_fold_results = {\"avg\":[], \"mse\": [], \"rmse\": [], \"mae\": [], \"r2\": [], \"max_err\": []}\n",
    "\n",
    "for fold, (train_index, test_index) in enumerate(kf.split(y)):\n",
    "\n",
    "  # get folds\n",
    "  y_train, y_true = y[train_index], y[test_index]\n",
    "\n",
    "  # \"mean model\"\n",
    "  y_pred = y_train.mean()\n",
    "  mean_fold_results[\"avg\"].append(y_pred)\n",
    "\n",
    "  # calculate metrics\n",
    "  mse = ((y_true - y_pred) ** 2).mean()\n",
    "  mean_fold_results[\"mse\"].append(mse)\n",
    "  mean_fold_results[\"rmse\"].append(mse  ** 0.5)\n",
    "  mae = (y_true - y_pred).abs().mean()\n",
    "  mean_fold_results[\"mae\"].append(mae)\n",
    "  ss_residual = ((y_true - y_pred) ** 2).sum()\n",
    "  ss_total = ((y_true - y_true.mean()) ** 2).sum()\n",
    "  r_squared = 1 - (ss_residual / ss_total)\n",
    "  mean_fold_results[\"r2\"].append(1 - (ss_residual / ss_total))\n",
    "  mean_fold_results[\"max_err\"].append((y_true - y_pred).abs().max())\n",
    "\n",
    "mean_fold_results_df = pd.DataFrame(mean_fold_results)\n",
    "mean_fold_results_df"
   ]
  },
  {
   "cell_type": "markdown",
   "metadata": {},
   "source": [
    "### The Mean model results show decent results from which to start"
   ]
  },
  {
   "cell_type": "code",
   "execution_count": 20,
   "metadata": {
    "colab": {
     "base_uri": "https://localhost:8080/",
     "height": 81
    },
    "id": "dkFs2gWxcjwx",
    "outputId": "051a7a3f-1ab2-4822-f2a1-4b0c05385800"
   },
   "outputs": [
    {
     "data": {
      "application/vnd.google.colaboratory.intrinsic+json": {
       "summary": "{\n  \"name\": \"mean_results_df\",\n  \"rows\": 1,\n  \"fields\": [\n    {\n      \"column\": \"model\",\n      \"properties\": {\n        \"dtype\": \"string\",\n        \"num_unique_values\": 1,\n        \"samples\": [\n          \"mean\"\n        ],\n        \"semantic_type\": \"\",\n        \"description\": \"\"\n      }\n    },\n    {\n      \"column\": \"avg\",\n      \"properties\": {\n        \"dtype\": \"number\",\n        \"std\": null,\n        \"min\": 17.58,\n        \"max\": 17.58,\n        \"num_unique_values\": 1,\n        \"samples\": [\n          17.58\n        ],\n        \"semantic_type\": \"\",\n        \"description\": \"\"\n      }\n    },\n    {\n      \"column\": \"mse\",\n      \"properties\": {\n        \"dtype\": \"number\",\n        \"std\": null,\n        \"min\": 8084.47,\n        \"max\": 8084.47,\n        \"num_unique_values\": 1,\n        \"samples\": [\n          8084.47\n        ],\n        \"semantic_type\": \"\",\n        \"description\": \"\"\n      }\n    },\n    {\n      \"column\": \"rmse\",\n      \"properties\": {\n        \"dtype\": \"number\",\n        \"std\": null,\n        \"min\": 89.74,\n        \"max\": 89.74,\n        \"num_unique_values\": 1,\n        \"samples\": [\n          89.74\n        ],\n        \"semantic_type\": \"\",\n        \"description\": \"\"\n      }\n    },\n    {\n      \"column\": \"mae\",\n      \"properties\": {\n        \"dtype\": \"number\",\n        \"std\": null,\n        \"min\": 13.39,\n        \"max\": 13.39,\n        \"num_unique_values\": 1,\n        \"samples\": [\n          13.39\n        ],\n        \"semantic_type\": \"\",\n        \"description\": \"\"\n      }\n    },\n    {\n      \"column\": \"r2\",\n      \"properties\": {\n        \"dtype\": \"number\",\n        \"std\": null,\n        \"min\": -0.0,\n        \"max\": -0.0,\n        \"num_unique_values\": 1,\n        \"samples\": [\n          -0.0\n        ],\n        \"semantic_type\": \"\",\n        \"description\": \"\"\n      }\n    },\n    {\n      \"column\": \"max_err\",\n      \"properties\": {\n        \"dtype\": \"number\",\n        \"std\": null,\n        \"min\": 9957.77,\n        \"max\": 9957.77,\n        \"num_unique_values\": 1,\n        \"samples\": [\n          9957.77\n        ],\n        \"semantic_type\": \"\",\n        \"description\": \"\"\n      }\n    }\n  ]\n}",
       "type": "dataframe"
      },
      "text/html": [
       "<div>\n",
       "<style scoped>\n",
       "    .dataframe tbody tr th:only-of-type {\n",
       "        vertical-align: middle;\n",
       "    }\n",
       "\n",
       "    .dataframe tbody tr th {\n",
       "        vertical-align: top;\n",
       "    }\n",
       "\n",
       "    .dataframe thead th {\n",
       "        text-align: right;\n",
       "    }\n",
       "</style>\n",
       "<table border=\"1\" class=\"dataframe\">\n",
       "  <thead>\n",
       "    <tr style=\"text-align: right;\">\n",
       "      <th></th>\n",
       "      <th>model</th>\n",
       "      <th>avg</th>\n",
       "      <th>mse</th>\n",
       "      <th>rmse</th>\n",
       "      <th>mae</th>\n",
       "      <th>r2</th>\n",
       "      <th>max_err</th>\n",
       "    </tr>\n",
       "  </thead>\n",
       "  <tbody>\n",
       "    <tr>\n",
       "      <th>0</th>\n",
       "      <td>mean</td>\n",
       "      <td>17.58</td>\n",
       "      <td>8084.47</td>\n",
       "      <td>89.74</td>\n",
       "      <td>13.39</td>\n",
       "      <td>-0.0</td>\n",
       "      <td>9957.77</td>\n",
       "    </tr>\n",
       "  </tbody>\n",
       "</table>\n",
       "</div>"
      ],
      "text/plain": [
       "  model    avg      mse   rmse    mae   r2  max_err\n",
       "0  mean  17.58  8084.47  89.74  13.39 -0.0  9957.77"
      ]
     },
     "execution_count": 20,
     "metadata": {},
     "output_type": "execute_result"
    }
   ],
   "source": [
    "mean_results_df = pd.DataFrame({'model': 'mean',**mean_fold_results_df.drop(columns=['max_err']).mean(), 'max_err': mean_fold_results_df['max_err'].max()}, index=[0])\n",
    "mean_results_df.round(2)"
   ]
  },
  {
   "cell_type": "markdown",
   "metadata": {
    "id": "GVm2CMs6T-VJ"
   },
   "source": [
    "<br/>"
   ]
  },
  {
   "cell_type": "markdown",
   "metadata": {
    "id": "rCWvYHhEqlwx"
   },
   "source": [
    "<br/>"
   ]
  },
  {
   "cell_type": "markdown",
   "metadata": {
    "id": "T_Zy1s75T75G"
   },
   "source": [
    "# Median Model\n",
    "##### A typical Machine Learning Operation is to start with a naive models to create a peformance floor or baseline performance to start at.\n",
    "##### This code creates a Median model and saves the results to compare to future models including previous Mean model."
   ]
  },
  {
   "cell_type": "code",
   "execution_count": 21,
   "metadata": {
    "colab": {
     "base_uri": "https://localhost:8080/"
    },
    "id": "VTMRNuxhJbJY",
    "outputId": "3e1aab09-c7a1-4c3e-925e-7dce88f3999d"
   },
   "outputs": [
    {
     "data": {
      "text/plain": [
       "np.float64(9.75)"
      ]
     },
     "execution_count": 21,
     "metadata": {},
     "output_type": "execute_result"
    }
   ],
   "source": [
    "y.median()"
   ]
  },
  {
   "cell_type": "code",
   "execution_count": 22,
   "metadata": {
    "colab": {
     "base_uri": "https://localhost:8080/"
    },
    "id": "us0mchq3UCQc",
    "outputId": "ab87c738-aeb0-4807-e63b-af97c2f833e6"
   },
   "outputs": [
    {
     "name": "stdout",
     "output_type": "stream",
     "text": [
      "CPU times: user 709 ms, sys: 88.8 ms, total: 797 ms\n",
      "Wall time: 771 ms\n"
     ]
    }
   ],
   "source": [
    "%%time\n",
    "# RAPIDS OFF  - 0.959\n",
    "# RAPIDS A100 - 0.771\n",
    "\n",
    "median_fold_results = {\"avg\":[], \"mse\": [], \"rmse\": [], \"mae\": [], \"r2\": [], \"max_err\": []}\n",
    "for fold, (train_index, test_index) in enumerate(kf.split(y)):\n",
    "\n",
    "  # get folds\n",
    "  y_train, y_true = y[train_index], y[test_index]\n",
    "\n",
    "  # \"median model\"\n",
    "  y_pred = y_train.median()\n",
    "  median_fold_results[\"avg\"].append(y_pred)\n",
    "\n",
    "  # calculate metrics\n",
    "  mse = ((y_true - y_pred) ** 2).mean()\n",
    "  median_fold_results[\"mse\"].append(mse)\n",
    "  median_fold_results[\"rmse\"].append(mse ** 0.5)\n",
    "  mae = (y_true - y_pred).abs().mean()\n",
    "  median_fold_results[\"mae\"].append(mae)\n",
    "  ss_residual = ((y_true - y_pred) ** 2).sum()\n",
    "  ss_total = ((y_true - y_true.mean()) ** 2).sum()\n",
    "  r_squared = 1 - (ss_residual / ss_total)\n",
    "  median_fold_results[\"r2\"].append(1 - (ss_residual / ss_total))\n",
    "  median_fold_results[\"max_err\"].append((y_true - y_pred).abs().max())\n",
    "\n",
    "median_fold_results_df = pd.DataFrame(median_fold_results)"
   ]
  },
  {
   "cell_type": "markdown",
   "metadata": {},
   "source": [
    "  "
   ]
  },
  {
   "cell_type": "markdown",
   "metadata": {},
   "source": [
    "### The Median model does not show an significant improvement"
   ]
  },
  {
   "cell_type": "code",
   "execution_count": 23,
   "metadata": {
    "colab": {
     "base_uri": "https://localhost:8080/",
     "height": 112
    },
    "id": "SoHjCz3qUNJe",
    "outputId": "026e10a0-60f2-49de-cb9e-5b730a26042f"
   },
   "outputs": [
    {
     "data": {
      "application/vnd.google.colaboratory.intrinsic+json": {
       "summary": "{\n  \"name\": \"pd\",\n  \"rows\": 2,\n  \"fields\": [\n    {\n      \"column\": \"model\",\n      \"properties\": {\n        \"dtype\": \"string\",\n        \"num_unique_values\": 2,\n        \"samples\": [\n          \"mean\",\n          \"median\"\n        ],\n        \"semantic_type\": \"\",\n        \"description\": \"\"\n      }\n    },\n    {\n      \"column\": \"avg\",\n      \"properties\": {\n        \"dtype\": \"number\",\n        \"std\": 5.536646096690666,\n        \"min\": 9.75,\n        \"max\": 17.58,\n        \"num_unique_values\": 2,\n        \"samples\": [\n          17.58,\n          9.75\n        ],\n        \"semantic_type\": \"\",\n        \"description\": \"\"\n      }\n    },\n    {\n      \"column\": \"mse\",\n      \"properties\": {\n        \"dtype\": \"number\",\n        \"std\": 43.33150355111145,\n        \"min\": 8084.47,\n        \"max\": 8145.75,\n        \"num_unique_values\": 2,\n        \"samples\": [\n          8084.47,\n          8145.75\n        ],\n        \"semantic_type\": \"\",\n        \"description\": \"\"\n      }\n    },\n    {\n      \"column\": \"rmse\",\n      \"properties\": {\n        \"dtype\": \"number\",\n        \"std\": 0.24041630560342858,\n        \"min\": 89.74,\n        \"max\": 90.08,\n        \"num_unique_values\": 2,\n        \"samples\": [\n          89.74,\n          90.08\n        ],\n        \"semantic_type\": \"\",\n        \"description\": \"\"\n      }\n    },\n    {\n      \"column\": \"mae\",\n      \"properties\": {\n        \"dtype\": \"number\",\n        \"std\": 2.029396462005392,\n        \"min\": 10.52,\n        \"max\": 13.39,\n        \"num_unique_values\": 2,\n        \"samples\": [\n          13.39,\n          10.52\n        ],\n        \"semantic_type\": \"\",\n        \"description\": \"\"\n      }\n    },\n    {\n      \"column\": \"r2\",\n      \"properties\": {\n        \"dtype\": \"number\",\n        \"std\": 0.007071067811865475,\n        \"min\": -0.01,\n        \"max\": -0.0,\n        \"num_unique_values\": 2,\n        \"samples\": [\n          -0.0,\n          -0.01\n        ],\n        \"semantic_type\": \"\",\n        \"description\": \"\"\n      }\n    },\n    {\n      \"column\": \"max_err\",\n      \"properties\": {\n        \"dtype\": \"number\",\n        \"std\": 5.515432893254556,\n        \"min\": 9957.77,\n        \"max\": 9965.57,\n        \"num_unique_values\": 2,\n        \"samples\": [\n          9957.77,\n          9965.57\n        ],\n        \"semantic_type\": \"\",\n        \"description\": \"\"\n      }\n    }\n  ]\n}",
       "type": "dataframe"
      },
      "text/html": [
       "<div>\n",
       "<style scoped>\n",
       "    .dataframe tbody tr th:only-of-type {\n",
       "        vertical-align: middle;\n",
       "    }\n",
       "\n",
       "    .dataframe tbody tr th {\n",
       "        vertical-align: top;\n",
       "    }\n",
       "\n",
       "    .dataframe thead th {\n",
       "        text-align: right;\n",
       "    }\n",
       "</style>\n",
       "<table border=\"1\" class=\"dataframe\">\n",
       "  <thead>\n",
       "    <tr style=\"text-align: right;\">\n",
       "      <th></th>\n",
       "      <th>model</th>\n",
       "      <th>avg</th>\n",
       "      <th>mse</th>\n",
       "      <th>rmse</th>\n",
       "      <th>mae</th>\n",
       "      <th>r2</th>\n",
       "      <th>max_err</th>\n",
       "    </tr>\n",
       "  </thead>\n",
       "  <tbody>\n",
       "    <tr>\n",
       "      <th>0</th>\n",
       "      <td>mean</td>\n",
       "      <td>17.58</td>\n",
       "      <td>8084.47</td>\n",
       "      <td>89.74</td>\n",
       "      <td>13.39</td>\n",
       "      <td>-0.00</td>\n",
       "      <td>9957.77</td>\n",
       "    </tr>\n",
       "    <tr>\n",
       "      <th>0</th>\n",
       "      <td>median</td>\n",
       "      <td>9.75</td>\n",
       "      <td>8145.75</td>\n",
       "      <td>90.08</td>\n",
       "      <td>10.52</td>\n",
       "      <td>-0.01</td>\n",
       "      <td>9965.57</td>\n",
       "    </tr>\n",
       "  </tbody>\n",
       "</table>\n",
       "</div>"
      ],
      "text/plain": [
       "    model    avg      mse   rmse    mae    r2  max_err\n",
       "0    mean  17.58  8084.47  89.74  13.39 -0.00  9957.77\n",
       "0  median   9.75  8145.75  90.08  10.52 -0.01  9965.57"
      ]
     },
     "execution_count": 23,
     "metadata": {},
     "output_type": "execute_result"
    }
   ],
   "source": [
    "median_results_df = pd.DataFrame({'model': 'median', **median_fold_results_df.drop(columns=['max_err']).mean(), 'max_err': median_fold_results_df['max_err'].max()}, index=[0])\n",
    "pd.concat([mean_results_df, median_results_df]).round(2)"
   ]
  },
  {
   "cell_type": "markdown",
   "metadata": {
    "id": "DFveMgtWXaWG"
   },
   "source": [
    "<br/>"
   ]
  },
  {
   "cell_type": "markdown",
   "metadata": {
    "id": "p_23hFzrqnE6"
   },
   "source": [
    "<br/>"
   ]
  },
  {
   "cell_type": "markdown",
   "metadata": {
    "id": "Gf9e5Y9cXbj2"
   },
   "source": [
    "# Naive XGBoost\n",
    "##### This code creates and tests an XGBoost model with the default parameters and accelerated with a GPU"
   ]
  },
  {
   "cell_type": "code",
   "execution_count": 24,
   "metadata": {
    "colab": {
     "base_uri": "https://localhost:8080/"
    },
    "id": "958cK414XZSk",
    "outputId": "ee5dff38-e8e2-432e-baf8-754999ebc9e0"
   },
   "outputs": [
    {
     "name": "stdout",
     "output_type": "stream",
     "text": [
      "CPU times: user 455 ms, sys: 189 ms, total: 644 ms\n",
      "Wall time: 456 ms\n"
     ]
    }
   ],
   "source": [
    "%%time\n",
    "\n",
    "# RAPIDS OFF  - 48.2, 40.5\n",
    "# RAPIDS A100 - 0.456 (x114 speedup)\n",
    "\n",
    "df = pd.read_csv('Taxi_Trips__2013-2023__20241218.csv')  # read in data\n",
    "\n",
    "df = df.rename(columns={'Trip Total': 'trip_ttl'})  # abbreviate target column name\n",
    "\n",
    "df = df[df[\"trip_ttl\"]>0]\n",
    "\n",
    "df = df.sample(frac=1, random_state=42).reset_index(drop=True)\n",
    "\n",
    "df = df.drop(columns=[\"Fare\", \"Tips\", \"Tolls\", \"Extras\"])\n",
    "df = df.drop(columns=[\"Trip ID\", \"Taxi ID\", \"Pickup Centroid Location\", \"Dropoff Centroid  Location\", \"Payment Type\", \"Company\"])\n",
    "\n",
    "df[\"Trip Start Timestamp\"] = pd.to_datetime(df[\"Trip Start Timestamp\"], format=\"%m/%d/%Y %I:%M:%S %p\")\n",
    "df[\"Trip End Timestamp\"] = pd.to_datetime(df[\"Trip End Timestamp\"], format=\"%m/%d/%Y %I:%M:%S %p\")\n",
    "df[\"Trip Start Timestamp\"] = (df[\"Trip Start Timestamp\"] - pd.Timestamp(\"1970-01-01\")) // pd.Timedelta('1s')\n",
    "df[\"Trip End Timestamp\"] = (df[\"Trip End Timestamp\"] - pd.Timestamp(\"1970-01-01\")) // pd.Timedelta('1s')\n",
    "\n",
    "y = df[\"trip_ttl\"]\n",
    "X = df.drop(columns=[\"trip_ttl\"])"
   ]
  },
  {
   "cell_type": "code",
   "execution_count": 25,
   "metadata": {
    "colab": {
     "base_uri": "https://localhost:8080/"
    },
    "id": "Tx6AKAVtX4Sy",
    "outputId": "5feade5c-73d8-4027-f2f8-fbac78b38b45"
   },
   "outputs": [
    {
     "name": "stdout",
     "output_type": "stream",
     "text": [
      "CPU times: user 5.12 s, sys: 1.2 s, total: 6.32 s\n",
      "Wall time: 5.71 s\n"
     ]
    }
   ],
   "source": [
    "%%time\n",
    "\n",
    "# RAPIDS OFF  - 117.26\n",
    "# RAPIDS A100 - 5.71 (x20 speedup)\n",
    "\n",
    "import xgboost as xgb\n",
    "\n",
    "xgb_naive_fold_results = {\"avg\": [], \"mse\": [], \"rmse\": [], \"mae\": [], \"r2\": [], \"max_err\": []}\n",
    "\n",
    "for fold, (train_index, test_index) in enumerate(KFold(n_splits=5, shuffle=True, random_state=42).split(df)):\n",
    "  X_train, X_test = X.iloc[train_index], X.iloc[test_index]\n",
    "  y_train, y_test = y.iloc[train_index], y.iloc[test_index]\n",
    "\n",
    "  # train\n",
    "  xgb_model = xgb.XGBRegressor(device=xgb_device)\n",
    "\n",
    "  xgb_model.fit(X_train, y_train)\n",
    "  y_pred = xgb_model.predict(X_test)\n",
    "  xgb_naive_fold_results[\"avg\"].append(y_pred.mean())\n",
    "\n",
    "  # metrics\n",
    "  mse = ((y_test - y_pred) ** 2).mean()\n",
    "  xgb_naive_fold_results[\"mse\"].append(mse)\n",
    "  xgb_naive_fold_results[\"rmse\"].append(mse ** 0.5)\n",
    "  mae = (y_test - y_pred).abs().mean()\n",
    "  xgb_naive_fold_results[\"mae\"].append(mae)\n",
    "  ss_residual = ((y_test - y_pred) ** 2).sum()\n",
    "  ss_total = ((y_test - y_test.mean()) ** 2).sum()\n",
    "  r_squared = 1 - (ss_residual / ss_total)\n",
    "  xgb_naive_fold_results[\"r2\"].append(1 - (ss_residual / ss_total))\n",
    "  xgb_naive_fold_results[\"max_err\"].append((y_test - y_pred).abs().max())"
   ]
  },
  {
   "cell_type": "markdown",
   "metadata": {},
   "source": [
    "  "
   ]
  },
  {
   "cell_type": "markdown",
   "metadata": {
    "id": "hFFpUwlbeacY"
   },
   "source": [
    "### Simple XGBoost Results\n",
    "##### We see improvements accross all metrics despite being about only 2 lines of code to instantiate and train a model."
   ]
  },
  {
   "cell_type": "code",
   "execution_count": 26,
   "metadata": {
    "colab": {
     "base_uri": "https://localhost:8080/",
     "height": 143
    },
    "id": "ePaMsMInmlBS",
    "outputId": "5ea6ddb3-30d0-424c-fd67-526b1d23e93e"
   },
   "outputs": [
    {
     "data": {
      "application/vnd.google.colaboratory.intrinsic+json": {
       "summary": "{\n  \"name\": \"all_results\",\n  \"rows\": 3,\n  \"fields\": [\n    {\n      \"column\": \"model\",\n      \"properties\": {\n        \"dtype\": \"string\",\n        \"num_unique_values\": 3,\n        \"samples\": [\n          \"xgb_na\\u00efve\",\n          \"median\",\n          \"mean\"\n        ],\n        \"semantic_type\": \"\",\n        \"description\": \"\"\n      }\n    },\n    {\n      \"column\": \"avg\",\n      \"properties\": {\n        \"dtype\": \"number\",\n        \"std\": 4.529337699929206,\n        \"min\": 9.75,\n        \"max\": 17.61,\n        \"num_unique_values\": 3,\n        \"samples\": [\n          17.61,\n          9.75,\n          17.58\n        ],\n        \"semantic_type\": \"\",\n        \"description\": \"\"\n      }\n    },\n    {\n      \"column\": \"mse\",\n      \"properties\": {\n        \"dtype\": \"number\",\n        \"std\": 577.5112425168306,\n        \"min\": 7116.24,\n        \"max\": 8145.75,\n        \"num_unique_values\": 3,\n        \"samples\": [\n          7116.24,\n          8145.75,\n          8084.47\n        ],\n        \"semantic_type\": \"\",\n        \"description\": \"\"\n      }\n    },\n    {\n      \"column\": \"rmse\",\n      \"properties\": {\n        \"dtype\": \"number\",\n        \"std\": 3.260690111004111,\n        \"min\": 84.27,\n        \"max\": 90.08,\n        \"num_unique_values\": 3,\n        \"samples\": [\n          84.27,\n          90.08,\n          89.74\n        ],\n        \"semantic_type\": \"\",\n        \"description\": \"\"\n      }\n    },\n    {\n      \"column\": \"mae\",\n      \"properties\": {\n        \"dtype\": \"number\",\n        \"std\": 4.16104554168781,\n        \"min\": 5.19,\n        \"max\": 13.39,\n        \"num_unique_values\": 3,\n        \"samples\": [\n          5.19,\n          10.52,\n          13.39\n        ],\n        \"semantic_type\": \"\",\n        \"description\": \"\"\n      }\n    },\n    {\n      \"column\": \"r2\",\n      \"properties\": {\n        \"dtype\": \"number\",\n        \"std\": 0.07234178138070235,\n        \"min\": -0.01,\n        \"max\": 0.12,\n        \"num_unique_values\": 3,\n        \"samples\": [\n          0.12,\n          -0.01,\n          -0.0\n        ],\n        \"semantic_type\": \"\",\n        \"description\": \"\"\n      }\n    },\n    {\n      \"column\": \"max_err\",\n      \"properties\": {\n        \"dtype\": \"number\",\n        \"std\": 64.27359333349938,\n        \"min\": 9850.55,\n        \"max\": 9965.57,\n        \"num_unique_values\": 3,\n        \"samples\": [\n          9850.55,\n          9965.57,\n          9957.77\n        ],\n        \"semantic_type\": \"\",\n        \"description\": \"\"\n      }\n    }\n  ]\n}",
       "type": "dataframe"
      },
      "text/html": [
       "<div>\n",
       "<style scoped>\n",
       "    .dataframe tbody tr th:only-of-type {\n",
       "        vertical-align: middle;\n",
       "    }\n",
       "\n",
       "    .dataframe tbody tr th {\n",
       "        vertical-align: top;\n",
       "    }\n",
       "\n",
       "    .dataframe thead th {\n",
       "        text-align: right;\n",
       "    }\n",
       "</style>\n",
       "<table border=\"1\" class=\"dataframe\">\n",
       "  <thead>\n",
       "    <tr style=\"text-align: right;\">\n",
       "      <th></th>\n",
       "      <th>model</th>\n",
       "      <th>avg</th>\n",
       "      <th>mse</th>\n",
       "      <th>rmse</th>\n",
       "      <th>mae</th>\n",
       "      <th>r2</th>\n",
       "      <th>max_err</th>\n",
       "    </tr>\n",
       "  </thead>\n",
       "  <tbody>\n",
       "    <tr>\n",
       "      <th>0</th>\n",
       "      <td>xgb_naïve</td>\n",
       "      <td>17.61</td>\n",
       "      <td>7116.24</td>\n",
       "      <td>84.27</td>\n",
       "      <td>5.19</td>\n",
       "      <td>0.12</td>\n",
       "      <td>9850.55</td>\n",
       "    </tr>\n",
       "    <tr>\n",
       "      <th>0</th>\n",
       "      <td>median</td>\n",
       "      <td>9.75</td>\n",
       "      <td>8145.75</td>\n",
       "      <td>90.08</td>\n",
       "      <td>10.52</td>\n",
       "      <td>-0.01</td>\n",
       "      <td>9965.57</td>\n",
       "    </tr>\n",
       "    <tr>\n",
       "      <th>0</th>\n",
       "      <td>mean</td>\n",
       "      <td>17.58</td>\n",
       "      <td>8084.47</td>\n",
       "      <td>89.74</td>\n",
       "      <td>13.39</td>\n",
       "      <td>-0.00</td>\n",
       "      <td>9957.77</td>\n",
       "    </tr>\n",
       "  </tbody>\n",
       "</table>\n",
       "</div>"
      ],
      "text/plain": [
       "       model    avg      mse   rmse    mae    r2  max_err\n",
       "0  xgb_naïve  17.61  7116.24  84.27   5.19  0.12  9850.55\n",
       "0     median   9.75  8145.75  90.08  10.52 -0.01  9965.57\n",
       "0       mean  17.58  8084.47  89.74  13.39 -0.00  9957.77"
      ]
     },
     "execution_count": 26,
     "metadata": {},
     "output_type": "execute_result"
    }
   ],
   "source": [
    "xgb_naïve_fold_results_df = pd.DataFrame(xgb_naive_fold_results)\n",
    "xgb_naïve_results_df = pd.DataFrame({'model': 'xgb_naïve',**xgb_naïve_fold_results_df.drop(columns=['max_err']).mean(), 'max_err': xgb_naïve_fold_results_df['max_err'].max()}, index=[0])\n",
    "all_results = pd.concat([mean_results_df, median_results_df, xgb_naïve_results_df]).sort_values(by=[\"mae\", \"mse\", \"rmse\", \"r2\", \"max_err\"], ascending=[True, True, True, False, True])\n",
    "all_results.round(2)"
   ]
  },
  {
   "cell_type": "markdown",
   "metadata": {
    "id": "GPlhRR75X4-T"
   },
   "source": [
    "<br/>"
   ]
  },
  {
   "cell_type": "markdown",
   "metadata": {
    "id": "Oe5asoiHn2wN"
   },
   "source": [
    "### XGBoost Feature Importance\n",
    "##### One nice feature of XGBoost is the ability to inspect which features provided the most help to the model."
   ]
  },
  {
   "cell_type": "code",
   "execution_count": 27,
   "metadata": {
    "colab": {
     "base_uri": "https://localhost:8080/",
     "height": 718
    },
    "id": "DyFB4fWCnztR",
    "outputId": "08d00e65-58bf-40ad-c352-7383b364c128"
   },
   "outputs": [
    {
     "data": {
      "image/png": "[encoded data removed]",
      "text/plain": [
       "<Figure size 1000x800 with 1 Axes>"
      ]
     },
     "metadata": {},
     "output_type": "display_data"
    }
   ],
   "source": [
    "booster = xgb_model.get_booster()\n",
    "importance = booster.get_score(importance_type='weight')  # You can also use 'gain', 'cover', etc.\n",
    "\n",
    "# Convert to DataFrame\n",
    "importance_df = pd.DataFrame({\n",
    "    'Feature': list(importance.keys()),\n",
    "    'Importance': list(importance.values())\n",
    "})\n",
    "\n",
    "# Sort by importance\n",
    "importance_df = importance_df.sort_values(by='Importance', ascending=False)\n",
    "\n",
    "# Plot using Seaborn\n",
    "plt.figure(figsize=(10, 8))\n",
    "sns.barplot(x='Importance', y='Feature', data=importance_df, hue='Feature', palette=\"viridis\", dodge=False, legend=False)\n",
    "plt.title('Feature Importance')\n",
    "plt.xlabel('Importance Score')\n",
    "plt.ylabel('Features')\n",
    "plt.show()"
   ]
  },
  {
   "cell_type": "markdown",
   "metadata": {
    "id": "hpfXB_DS4UkF"
   },
   "source": [
    "<br/>"
   ]
  },
  {
   "cell_type": "markdown",
   "metadata": {
    "id": "hT5ylX6x4W8y"
   },
   "source": [
    "<br/>"
   ]
  },
  {
   "cell_type": "markdown",
   "metadata": {
    "id": "h3uEuh2j4XAP"
   },
   "source": [
    "<br/>"
   ]
  },
  {
   "cell_type": "markdown",
   "metadata": {
    "id": "iqauFarZeIfA"
   },
   "source": [
    "# Feature Engineering\n",
    "### In this section we perform a little feature engineering using pandas accelerated by our GPU due to the `%load_ext cudf.pandas` command towards the beginning."
   ]
  },
  {
   "cell_type": "code",
   "execution_count": 28,
   "metadata": {
    "colab": {
     "base_uri": "https://localhost:8080/"
    },
    "id": "3RTaatiM0kwn",
    "outputId": "f8ce3984-e83a-40a7-eaf8-b5bfd9e1fa88"
   },
   "outputs": [
    {
     "name": "stdout",
     "output_type": "stream",
     "text": [
      "CPU times: user 367 ms, sys: 153 ms, total: 520 ms\n",
      "Wall time: 264 ms\n"
     ]
    }
   ],
   "source": [
    "%%time\n",
    "\n",
    "# RAPIDS OFF  - 20.28\n",
    "# RAPIDS A100 - 0.264 (x79 speedup)\n",
    "\n",
    "df = pd.read_csv('Taxi_Trips__2013-2023__20241218.csv')  # read in data\n",
    "\n",
    "df = df.rename(columns={'Trip Total': 'trip_ttl'})  # abbreviate target column name\n",
    "\n",
    "df = df.drop(columns=[\"Fare\", \"Tips\", \"Tolls\", \"Extras\"])\n",
    "\n",
    "df = df.drop(columns=[\"Trip ID\", \"Taxi ID\"])\n",
    "\n",
    "df[\"Trip Start Timestamp\"] = pd.to_datetime(df[\"Trip Start Timestamp\"], format=\"%m/%d/%Y %I:%M:%S %p\")\n",
    "df[\"Trip End Timestamp\"] = pd.to_datetime(df[\"Trip End Timestamp\"], format=\"%m/%d/%Y %I:%M:%S %p\")\n",
    "\n",
    "df = df[df[\"trip_ttl\"]>0]"
   ]
  },
  {
   "cell_type": "markdown",
   "metadata": {},
   "source": [
    "  "
   ]
  },
  {
   "cell_type": "markdown",
   "metadata": {
    "id": "59tHE0-UtMPx"
   },
   "source": [
    "### Feature Classification\n",
    "##### Counting unique values is a good way to check for hidden categorical features or maybe contiuous features that are incorrectly typed."
   ]
  },
  {
   "cell_type": "code",
   "execution_count": 29,
   "metadata": {
    "colab": {
     "base_uri": "https://localhost:8080/",
     "height": 652
    },
    "id": "H1Ut46Z_0pDO",
    "outputId": "6d105865-2951-413e-8f55-4be32df2829f"
   },
   "outputs": [
    {
     "name": "stdout",
     "output_type": "stream",
     "text": [
      "CPU times: user 16.4 ms, sys: 2.87 ms, total: 19.2 ms\n",
      "Wall time: 21.5 ms\n"
     ]
    },
    {
     "data": {
      "text/html": [
       "<div>\n",
       "<style scoped>\n",
       "    .dataframe tbody tr th:only-of-type {\n",
       "        vertical-align: middle;\n",
       "    }\n",
       "\n",
       "    .dataframe tbody tr th {\n",
       "        vertical-align: top;\n",
       "    }\n",
       "\n",
       "    .dataframe thead th {\n",
       "        text-align: right;\n",
       "    }\n",
       "</style>\n",
       "<table border=\"1\" class=\"dataframe\">\n",
       "  <thead>\n",
       "    <tr style=\"text-align: right;\">\n",
       "      <th></th>\n",
       "      <th>0</th>\n",
       "    </tr>\n",
       "  </thead>\n",
       "  <tbody>\n",
       "    <tr>\n",
       "      <th>Payment Type</th>\n",
       "      <td>9</td>\n",
       "    </tr>\n",
       "    <tr>\n",
       "      <th>Company</th>\n",
       "      <td>42</td>\n",
       "    </tr>\n",
       "    <tr>\n",
       "      <th>Pickup Community Area</th>\n",
       "      <td>77</td>\n",
       "    </tr>\n",
       "    <tr>\n",
       "      <th>Dropoff Community Area</th>\n",
       "      <td>77</td>\n",
       "    </tr>\n",
       "    <tr>\n",
       "      <th>Pickup Census Tract</th>\n",
       "      <td>292</td>\n",
       "    </tr>\n",
       "    <tr>\n",
       "      <th>Pickup Centroid Latitude</th>\n",
       "      <td>366</td>\n",
       "    </tr>\n",
       "    <tr>\n",
       "      <th>Pickup Centroid Longitude</th>\n",
       "      <td>366</td>\n",
       "    </tr>\n",
       "    <tr>\n",
       "      <th>Pickup Centroid Location</th>\n",
       "      <td>369</td>\n",
       "    </tr>\n",
       "    <tr>\n",
       "      <th>Dropoff Centroid Latitude</th>\n",
       "      <td>475</td>\n",
       "    </tr>\n",
       "    <tr>\n",
       "      <th>Dropoff Centroid Longitude</th>\n",
       "      <td>475</td>\n",
       "    </tr>\n",
       "    <tr>\n",
       "      <th>Dropoff Centroid  Location</th>\n",
       "      <td>480</td>\n",
       "    </tr>\n",
       "    <tr>\n",
       "      <th>Dropoff Census Tract</th>\n",
       "      <td>485</td>\n",
       "    </tr>\n",
       "    <tr>\n",
       "      <th>Trip Miles</th>\n",
       "      <td>4532</td>\n",
       "    </tr>\n",
       "    <tr>\n",
       "      <th>trip_ttl</th>\n",
       "      <td>6665</td>\n",
       "    </tr>\n",
       "    <tr>\n",
       "      <th>Trip Seconds</th>\n",
       "      <td>8989</td>\n",
       "    </tr>\n",
       "    <tr>\n",
       "      <th>Trip Start Timestamp</th>\n",
       "      <td>19380</td>\n",
       "    </tr>\n",
       "    <tr>\n",
       "      <th>Trip End Timestamp</th>\n",
       "      <td>19405</td>\n",
       "    </tr>\n",
       "  </tbody>\n",
       "</table>\n",
       "</div><br><label><b>dtype:</b> int64</label>"
      ],
      "text/plain": [
       "Payment Type                      9\n",
       "Company                          42\n",
       "Pickup Community Area            77\n",
       "Dropoff Community Area           77\n",
       "Pickup Census Tract             292\n",
       "Pickup Centroid Latitude        366\n",
       "Pickup Centroid Longitude       366\n",
       "Pickup Centroid Location        369\n",
       "Dropoff Centroid Latitude       475\n",
       "Dropoff Centroid Longitude      475\n",
       "Dropoff Centroid  Location      480\n",
       "Dropoff Census Tract            485\n",
       "Trip Miles                     4532\n",
       "trip_ttl                       6665\n",
       "Trip Seconds                   8989\n",
       "Trip Start Timestamp          19380\n",
       "Trip End Timestamp            19405\n",
       "dtype: int64"
      ]
     },
     "execution_count": 29,
     "metadata": {},
     "output_type": "execute_result"
    }
   ],
   "source": [
    "%%time\n",
    "\n",
    "# RAPIDS OFF  - 1.75\n",
    "# RAPIDS A100 - 0.0215 (x70)\n",
    "\n",
    "df.nunique().sort_values()"
   ]
  },
  {
   "cell_type": "markdown",
   "metadata": {},
   "source": [
    "  "
   ]
  },
  {
   "cell_type": "markdown",
   "metadata": {},
   "source": [
    "### Data Quality\n",
    "##### Use `assert` for data quality checking"
   ]
  },
  {
   "cell_type": "code",
   "execution_count": 30,
   "metadata": {
    "colab": {
     "base_uri": "https://localhost:8080/"
    },
    "id": "6C1LoUh902eB",
    "outputId": "f2b203fd-d624-4a23-8ec2-c79179d660a4"
   },
   "outputs": [
    {
     "name": "stdout",
     "output_type": "stream",
     "text": [
      "['Pickup Census Tract', 'Pickup Centroid Location', 'Company', 'Dropoff Community Area', 'Dropoff Centroid  Location', 'Dropoff Census Tract', 'Payment Type', 'Pickup Community Area']\n",
      "CPU times: user 3.57 ms, sys: 0 ns, total: 3.57 ms\n",
      "Wall time: 3.06 ms\n"
     ]
    }
   ],
   "source": [
    "%%time\n",
    "\n",
    "target = [\"trip_ttl\"]\n",
    "assert len(df[target]) > 0\n",
    "\n",
    "num_cols = [\"Pickup Centroid Latitude\", \"Pickup Centroid Longitude\", \"Dropoff Centroid Latitude\", \"Dropoff Centroid Longitude\", \"Trip Miles\", \"Trip Seconds\", \"Trip Start Timestamp\", \"Trip End Timestamp\"]\n",
    "assert len(df[num_cols]) > 0\n",
    "\n",
    "cat_cols = list(set(df.columns) - set(target + num_cols))\n",
    "assert len(df[cat_cols]) > 0\n",
    "print(cat_cols)\n",
    "\n",
    "assert len(df.columns) == len(target) + len(num_cols) + len(cat_cols)\n",
    "assert len(target + num_cols + cat_cols) == len(set(target + num_cols + cat_cols))"
   ]
  },
  {
   "cell_type": "markdown",
   "metadata": {},
   "source": [
    "  "
   ]
  },
  {
   "cell_type": "markdown",
   "metadata": {
    "id": "DE9eNS_W0RCt"
   },
   "source": [
    "### Impute\n",
    "##### Fill in our missing values"
   ]
  },
  {
   "cell_type": "code",
   "execution_count": 31,
   "metadata": {
    "colab": {
     "base_uri": "https://localhost:8080/"
    },
    "id": "p28iWnh50S_2",
    "outputId": "496e9644-d5fd-47fa-ec4b-0d408b026779"
   },
   "outputs": [
    {
     "name": "stdout",
     "output_type": "stream",
     "text": [
      "CPU times: user 3.27 s, sys: 713 ms, total: 3.98 s\n",
      "Wall time: 3.96 s\n"
     ]
    }
   ],
   "source": [
    "%%time\n",
    "\n",
    "# impute num cols\n",
    "for col in num_cols:\n",
    "  df[col] = df[col].fillna(df[col].mean())\n",
    "\n",
    "#impute cat cols\n",
    "df[cat_cols] = df[cat_cols].fillna(df[cat_cols].mode().iloc[0])"
   ]
  },
  {
   "cell_type": "markdown",
   "metadata": {},
   "source": [
    "  "
   ]
  },
  {
   "cell_type": "markdown",
   "metadata": {
    "id": "iw26R-DBfJZ5"
   },
   "source": [
    "### Outlier Analysis\n",
    "##### Analyze outliers to find bad data and remove it"
   ]
  },
  {
   "cell_type": "code",
   "execution_count": 32,
   "metadata": {
    "colab": {
     "base_uri": "https://localhost:8080/",
     "height": 458
    },
    "id": "3Muderma2wyb",
    "outputId": "8ae30bb2-8faf-4703-e453-de7a0027c6f6"
   },
   "outputs": [
    {
     "name": "stdout",
     "output_type": "stream",
     "text": [
      "CPU times: user 20.4 ms, sys: 2.23 ms, total: 22.7 ms\n",
      "Wall time: 20.7 ms\n"
     ]
    },
    {
     "data": {
      "application/vnd.google.colaboratory.intrinsic+json": {
       "type": "dataframe"
      },
      "text/html": [
       "<div>\n",
       "<style scoped>\n",
       "    .dataframe tbody tr th:only-of-type {\n",
       "        vertical-align: middle;\n",
       "    }\n",
       "\n",
       "    .dataframe tbody tr th {\n",
       "        vertical-align: top;\n",
       "    }\n",
       "\n",
       "    .dataframe thead th {\n",
       "        text-align: right;\n",
       "    }\n",
       "</style>\n",
       "<table border=\"1\" class=\"dataframe\">\n",
       "  <thead>\n",
       "    <tr style=\"text-align: right;\">\n",
       "      <th></th>\n",
       "      <th>trip_ttl</th>\n",
       "      <th>Trip Seconds</th>\n",
       "      <th>Trip Miles</th>\n",
       "      <th>Payment Type</th>\n",
       "    </tr>\n",
       "  </thead>\n",
       "  <tbody>\n",
       "    <tr>\n",
       "      <th>1000042</th>\n",
       "      <td>9975.32</td>\n",
       "      <td>1500.0</td>\n",
       "      <td>0.00</td>\n",
       "      <td>Cash</td>\n",
       "    </tr>\n",
       "    <tr>\n",
       "      <th>171827</th>\n",
       "      <td>9900.30</td>\n",
       "      <td>1158.0</td>\n",
       "      <td>0.00</td>\n",
       "      <td>Cash</td>\n",
       "    </tr>\n",
       "    <tr>\n",
       "      <th>1664624</th>\n",
       "      <td>9800.30</td>\n",
       "      <td>1074.0</td>\n",
       "      <td>0.00</td>\n",
       "      <td>Cash</td>\n",
       "    </tr>\n",
       "    <tr>\n",
       "      <th>285324</th>\n",
       "      <td>9746.85</td>\n",
       "      <td>1080.0</td>\n",
       "      <td>57.90</td>\n",
       "      <td>Credit Card</td>\n",
       "    </tr>\n",
       "    <tr>\n",
       "      <th>161771</th>\n",
       "      <td>9700.25</td>\n",
       "      <td>1007.0</td>\n",
       "      <td>0.00</td>\n",
       "      <td>Cash</td>\n",
       "    </tr>\n",
       "    <tr>\n",
       "      <th>...</th>\n",
       "      <td>...</td>\n",
       "      <td>...</td>\n",
       "      <td>...</td>\n",
       "      <td>...</td>\n",
       "    </tr>\n",
       "    <tr>\n",
       "      <th>1017382</th>\n",
       "      <td>0.01</td>\n",
       "      <td>40.0</td>\n",
       "      <td>0.00</td>\n",
       "      <td>Cash</td>\n",
       "    </tr>\n",
       "    <tr>\n",
       "      <th>1038230</th>\n",
       "      <td>0.01</td>\n",
       "      <td>38.0</td>\n",
       "      <td>0.09</td>\n",
       "      <td>Cash</td>\n",
       "    </tr>\n",
       "    <tr>\n",
       "      <th>1037939</th>\n",
       "      <td>0.01</td>\n",
       "      <td>38.0</td>\n",
       "      <td>0.01</td>\n",
       "      <td>Cash</td>\n",
       "    </tr>\n",
       "    <tr>\n",
       "      <th>1227769</th>\n",
       "      <td>0.01</td>\n",
       "      <td>36.0</td>\n",
       "      <td>0.04</td>\n",
       "      <td>Cash</td>\n",
       "    </tr>\n",
       "    <tr>\n",
       "      <th>1132887</th>\n",
       "      <td>0.01</td>\n",
       "      <td>0.0</td>\n",
       "      <td>0.00</td>\n",
       "      <td>Credit Card</td>\n",
       "    </tr>\n",
       "  </tbody>\n",
       "</table>\n",
       "<p>1971068 rows × 4 columns</p>\n",
       "</div>"
      ],
      "text/plain": [
       "         trip_ttl  Trip Seconds  Trip Miles Payment Type\n",
       "1000042   9975.32        1500.0        0.00         Cash\n",
       "171827    9900.30        1158.0        0.00         Cash\n",
       "1664624   9800.30        1074.0        0.00         Cash\n",
       "285324    9746.85        1080.0       57.90  Credit Card\n",
       "161771    9700.25        1007.0        0.00         Cash\n",
       "...           ...           ...         ...          ...\n",
       "1017382      0.01          40.0        0.00         Cash\n",
       "1038230      0.01          38.0        0.09         Cash\n",
       "1037939      0.01          38.0        0.01         Cash\n",
       "1227769      0.01          36.0        0.04         Cash\n",
       "1132887      0.01           0.0        0.00  Credit Card\n",
       "\n",
       "[1971068 rows x 4 columns]"
      ]
     },
     "execution_count": 32,
     "metadata": {},
     "output_type": "execute_result"
    }
   ],
   "source": [
    "%%time\n",
    "\n",
    "df.sort_values([\"trip_ttl\", \"Trip Seconds\", \"Trip Miles\"], ascending=False)[[\"trip_ttl\", \"Trip Seconds\", \"Trip Miles\", \"Payment Type\"]]"
   ]
  },
  {
   "cell_type": "code",
   "execution_count": 33,
   "metadata": {
    "colab": {
     "base_uri": "https://localhost:8080/"
    },
    "id": "1xZLZbZeokXm",
    "outputId": "30e58186-5106-4eae-94a9-ed1e8e8f7c1f"
   },
   "outputs": [
    {
     "name": "stdout",
     "output_type": "stream",
     "text": [
      "CPU times: user 14.6 ms, sys: 2.91 ms, total: 17.5 ms\n",
      "Wall time: 36.6 ms\n"
     ]
    }
   ],
   "source": [
    "%%time\n",
    "\n",
    "df = df[(df['Trip Seconds'] * df['Trip Miles']) > 0]"
   ]
  },
  {
   "cell_type": "code",
   "execution_count": 34,
   "metadata": {
    "id": "jBW1IXnXjIF0"
   },
   "outputs": [],
   "source": [
    "def filter_by_modified_z_score(df, column, threshold=4.0):\n",
    "    # median and MAD (median abs deviation)\n",
    "    median = df[column].median()\n",
    "    mad = (df[column] - median).abs().median()\n",
    "    return df[(0.6745 * (df[column] - median) / mad).abs() <= threshold]"
   ]
  },
  {
   "cell_type": "code",
   "execution_count": 35,
   "metadata": {
    "colab": {
     "base_uri": "https://localhost:8080/",
     "height": 458
    },
    "id": "C1C_-2RbnhZW",
    "outputId": "03212351-9cf5-4c77-cd46-bf04db8d99a7"
   },
   "outputs": [
    {
     "name": "stdout",
     "output_type": "stream",
     "text": [
      "CPU times: user 44.6 ms, sys: 6.33 ms, total: 50.9 ms\n",
      "Wall time: 70.2 ms\n"
     ]
    },
    {
     "data": {
      "application/vnd.google.colaboratory.intrinsic+json": {
       "type": "dataframe"
      },
      "text/html": [
       "<div>\n",
       "<style scoped>\n",
       "    .dataframe tbody tr th:only-of-type {\n",
       "        vertical-align: middle;\n",
       "    }\n",
       "\n",
       "    .dataframe tbody tr th {\n",
       "        vertical-align: top;\n",
       "    }\n",
       "\n",
       "    .dataframe thead th {\n",
       "        text-align: right;\n",
       "    }\n",
       "</style>\n",
       "<table border=\"1\" class=\"dataframe\">\n",
       "  <thead>\n",
       "    <tr style=\"text-align: right;\">\n",
       "      <th></th>\n",
       "      <th>trip_ttl</th>\n",
       "      <th>Trip Seconds</th>\n",
       "      <th>Trip Miles</th>\n",
       "    </tr>\n",
       "  </thead>\n",
       "  <tbody>\n",
       "    <tr>\n",
       "      <th>426325</th>\n",
       "      <td>26.60</td>\n",
       "      <td>2880.0</td>\n",
       "      <td>3.30</td>\n",
       "    </tr>\n",
       "    <tr>\n",
       "      <th>653444</th>\n",
       "      <td>26.60</td>\n",
       "      <td>2460.0</td>\n",
       "      <td>5.20</td>\n",
       "    </tr>\n",
       "    <tr>\n",
       "      <th>1871234</th>\n",
       "      <td>26.60</td>\n",
       "      <td>2340.0</td>\n",
       "      <td>5.50</td>\n",
       "    </tr>\n",
       "    <tr>\n",
       "      <th>1224153</th>\n",
       "      <td>26.60</td>\n",
       "      <td>2220.0</td>\n",
       "      <td>6.10</td>\n",
       "    </tr>\n",
       "    <tr>\n",
       "      <th>845132</th>\n",
       "      <td>26.60</td>\n",
       "      <td>2100.0</td>\n",
       "      <td>4.50</td>\n",
       "    </tr>\n",
       "    <tr>\n",
       "      <th>...</th>\n",
       "      <td>...</td>\n",
       "      <td>...</td>\n",
       "      <td>...</td>\n",
       "    </tr>\n",
       "    <tr>\n",
       "      <th>1944300</th>\n",
       "      <td>0.01</td>\n",
       "      <td>58.0</td>\n",
       "      <td>0.32</td>\n",
       "    </tr>\n",
       "    <tr>\n",
       "      <th>1528258</th>\n",
       "      <td>0.01</td>\n",
       "      <td>40.0</td>\n",
       "      <td>0.10</td>\n",
       "    </tr>\n",
       "    <tr>\n",
       "      <th>1038230</th>\n",
       "      <td>0.01</td>\n",
       "      <td>38.0</td>\n",
       "      <td>0.09</td>\n",
       "    </tr>\n",
       "    <tr>\n",
       "      <th>1037939</th>\n",
       "      <td>0.01</td>\n",
       "      <td>38.0</td>\n",
       "      <td>0.01</td>\n",
       "    </tr>\n",
       "    <tr>\n",
       "      <th>1227769</th>\n",
       "      <td>0.01</td>\n",
       "      <td>36.0</td>\n",
       "      <td>0.04</td>\n",
       "    </tr>\n",
       "  </tbody>\n",
       "</table>\n",
       "<p>1613824 rows × 3 columns</p>\n",
       "</div>"
      ],
      "text/plain": [
       "         trip_ttl  Trip Seconds  Trip Miles\n",
       "426325      26.60        2880.0        3.30\n",
       "653444      26.60        2460.0        5.20\n",
       "1871234     26.60        2340.0        5.50\n",
       "1224153     26.60        2220.0        6.10\n",
       "845132      26.60        2100.0        4.50\n",
       "...           ...           ...         ...\n",
       "1944300      0.01          58.0        0.32\n",
       "1528258      0.01          40.0        0.10\n",
       "1038230      0.01          38.0        0.09\n",
       "1037939      0.01          38.0        0.01\n",
       "1227769      0.01          36.0        0.04\n",
       "\n",
       "[1613824 rows x 3 columns]"
      ]
     },
     "execution_count": 35,
     "metadata": {},
     "output_type": "execute_result"
    }
   ],
   "source": [
    "%%time\n",
    "\n",
    "df = filter_by_modified_z_score(df, \"trip_ttl\", threshold=3.5)\n",
    "df.sort_values([\"trip_ttl\", \"Trip Seconds\", \"Trip Miles\"], ascending=False)[[\"trip_ttl\", \"Trip Seconds\", \"Trip Miles\"]]"
   ]
  },
  {
   "cell_type": "markdown",
   "metadata": {},
   "source": [
    "  "
   ]
  },
  {
   "cell_type": "markdown",
   "metadata": {
    "id": "9_4EfgKhp6HU"
   },
   "source": [
    "### Feature Extraction\n",
    "##### Extract date and time features"
   ]
  },
  {
   "cell_type": "code",
   "execution_count": 36,
   "metadata": {
    "colab": {
     "base_uri": "https://localhost:8080/"
    },
    "id": "uIjDY5BQp9JL",
    "outputId": "5213e409-a984-4d40-f9cb-8593e10e8bf6"
   },
   "outputs": [
    {
     "name": "stdout",
     "output_type": "stream",
     "text": [
      "CPU times: user 17.4 ms, sys: 6.77 ms, total: 24.2 ms\n",
      "Wall time: 56.7 ms\n"
     ]
    }
   ],
   "source": [
    "%%time\n",
    "\n",
    "df['avg_speed'] = df['Trip Miles'] / (df['Trip Seconds'] / 3600)\n",
    "num_cols.append('avg_speed')\n",
    "\n",
    "df['day_of_week'] = df['Trip Start Timestamp'].dt.dayofweek\n",
    "df['hour_of_day'] = df['Trip Start Timestamp'].dt.hour\n",
    "df['month'] = df['Trip Start Timestamp'].dt.month\n",
    "df['year'] = df['Trip Start Timestamp'].dt.year\n",
    "cat_cols.extend(['day_of_week', 'hour_of_day', 'month', 'year'])\n",
    "\n",
    "\n",
    "# convert to timestamp seconds since epoch\n",
    "df['Trip Start Timestamp'] = df['Trip Start Timestamp'].astype(int) // 10**9\n",
    "df['Trip End Timestamp'] = df['Trip End Timestamp'].astype(int) // 10**9\n",
    "\n",
    "num_cols.extend(['Trip Start Timestamp', 'Trip End Timestamp'])"
   ]
  },
  {
   "cell_type": "markdown",
   "metadata": {},
   "source": [
    "  "
   ]
  },
  {
   "cell_type": "markdown",
   "metadata": {
    "id": "gAUMtmPrxc4T"
   },
   "source": [
    "### Encode Categorical Features\n",
    "##### To help our algorithm, we will do some simple encoding of our categorical features"
   ]
  },
  {
   "cell_type": "code",
   "execution_count": 37,
   "metadata": {
    "colab": {
     "base_uri": "https://localhost:8080/"
    },
    "id": "MQj8ii6gfz_9",
    "outputId": "4adc2447-4345-49f8-bb8d-f7b5ea99fe06"
   },
   "outputs": [
    {
     "name": "stdout",
     "output_type": "stream",
     "text": [
      "CPU times: user 231 ms, sys: 45.1 ms, total: 276 ms\n",
      "Wall time: 277 ms\n"
     ]
    }
   ],
   "source": [
    "%%time\n",
    "\n",
    "# target encode cat_cols\n",
    "for col in cat_cols:\n",
    "  df[col] = df[col].map(df.groupby(col)[\"trip_ttl\"].mean())"
   ]
  },
  {
   "cell_type": "code",
   "execution_count": 38,
   "metadata": {
    "colab": {
     "base_uri": "https://localhost:8080/",
     "height": 513
    },
    "id": "NAiLP7cj5S9z",
    "outputId": "bb5b07bf-961d-4f59-f8ca-37741ba65d48"
   },
   "outputs": [
    {
     "name": "stdout",
     "output_type": "stream",
     "text": [
      "CPU times: user 6.51 ms, sys: 3.59 ms, total: 10.1 ms\n",
      "Wall time: 8.11 ms\n"
     ]
    },
    {
     "data": {
      "application/vnd.google.colaboratory.intrinsic+json": {
       "type": "dataframe"
      },
      "text/html": [
       "<div>\n",
       "<style scoped>\n",
       "    .dataframe tbody tr th:only-of-type {\n",
       "        vertical-align: middle;\n",
       "    }\n",
       "\n",
       "    .dataframe tbody tr th {\n",
       "        vertical-align: top;\n",
       "    }\n",
       "\n",
       "    .dataframe thead th {\n",
       "        text-align: right;\n",
       "    }\n",
       "</style>\n",
       "<table border=\"1\" class=\"dataframe\">\n",
       "  <thead>\n",
       "    <tr style=\"text-align: right;\">\n",
       "      <th></th>\n",
       "      <th>Trip Start Timestamp</th>\n",
       "      <th>Trip End Timestamp</th>\n",
       "      <th>Trip Seconds</th>\n",
       "      <th>Trip Miles</th>\n",
       "      <th>Pickup Census Tract</th>\n",
       "      <th>Dropoff Census Tract</th>\n",
       "      <th>Pickup Community Area</th>\n",
       "      <th>Dropoff Community Area</th>\n",
       "      <th>trip_ttl</th>\n",
       "      <th>Payment Type</th>\n",
       "      <th>Company</th>\n",
       "      <th>Pickup Centroid Latitude</th>\n",
       "      <th>Pickup Centroid Longitude</th>\n",
       "      <th>Pickup Centroid Location</th>\n",
       "      <th>Dropoff Centroid Latitude</th>\n",
       "      <th>Dropoff Centroid Longitude</th>\n",
       "      <th>Dropoff Centroid  Location</th>\n",
       "      <th>avg_speed</th>\n",
       "      <th>day_of_week</th>\n",
       "      <th>hour_of_day</th>\n",
       "      <th>month</th>\n",
       "      <th>year</th>\n",
       "    </tr>\n",
       "  </thead>\n",
       "  <tbody>\n",
       "    <tr>\n",
       "      <th>5665</th>\n",
       "      <td>1542992400</td>\n",
       "      <td>1542994200</td>\n",
       "      <td>1620.0</td>\n",
       "      <td>5.60</td>\n",
       "      <td>9.026736</td>\n",
       "      <td>13.491123</td>\n",
       "      <td>9.673293</td>\n",
       "      <td>9.515685</td>\n",
       "      <td>26.60</td>\n",
       "      <td>11.589782</td>\n",
       "      <td>9.991409</td>\n",
       "      <td>41.899156</td>\n",
       "      <td>-87.626211</td>\n",
       "      <td>9.026736</td>\n",
       "      <td>41.878667</td>\n",
       "      <td>-87.671654</td>\n",
       "      <td>13.491123</td>\n",
       "      <td>12.444444</td>\n",
       "      <td>10.034090</td>\n",
       "      <td>10.666388</td>\n",
       "      <td>10.287562</td>\n",
       "      <td>10.135737</td>\n",
       "    </tr>\n",
       "    <tr>\n",
       "      <th>27000</th>\n",
       "      <td>1541611800</td>\n",
       "      <td>1541612700</td>\n",
       "      <td>1140.0</td>\n",
       "      <td>6.90</td>\n",
       "      <td>11.230968</td>\n",
       "      <td>11.209385</td>\n",
       "      <td>9.673293</td>\n",
       "      <td>13.134676</td>\n",
       "      <td>26.60</td>\n",
       "      <td>11.589782</td>\n",
       "      <td>10.028170</td>\n",
       "      <td>41.899602</td>\n",
       "      <td>-87.633308</td>\n",
       "      <td>13.312175</td>\n",
       "      <td>41.975171</td>\n",
       "      <td>-87.687516</td>\n",
       "      <td>12.937062</td>\n",
       "      <td>21.789474</td>\n",
       "      <td>9.944505</td>\n",
       "      <td>10.666388</td>\n",
       "      <td>10.287562</td>\n",
       "      <td>10.135737</td>\n",
       "    </tr>\n",
       "    <tr>\n",
       "      <th>58577</th>\n",
       "      <td>1542400200</td>\n",
       "      <td>1542401100</td>\n",
       "      <td>960.0</td>\n",
       "      <td>7.20</td>\n",
       "      <td>11.230968</td>\n",
       "      <td>11.209385</td>\n",
       "      <td>9.636544</td>\n",
       "      <td>18.599468</td>\n",
       "      <td>26.60</td>\n",
       "      <td>11.589782</td>\n",
       "      <td>10.063929</td>\n",
       "      <td>41.878866</td>\n",
       "      <td>-87.625192</td>\n",
       "      <td>15.722639</td>\n",
       "      <td>41.794090</td>\n",
       "      <td>-87.592311</td>\n",
       "      <td>17.837765</td>\n",
       "      <td>27.000000</td>\n",
       "      <td>10.034090</td>\n",
       "      <td>10.690281</td>\n",
       "      <td>10.287562</td>\n",
       "      <td>10.135737</td>\n",
       "    </tr>\n",
       "    <tr>\n",
       "      <th>75585</th>\n",
       "      <td>1541952000</td>\n",
       "      <td>1541952900</td>\n",
       "      <td>1260.0</td>\n",
       "      <td>7.20</td>\n",
       "      <td>11.230968</td>\n",
       "      <td>11.209385</td>\n",
       "      <td>11.398014</td>\n",
       "      <td>14.519452</td>\n",
       "      <td>26.60</td>\n",
       "      <td>11.589782</td>\n",
       "      <td>9.789769</td>\n",
       "      <td>41.953582</td>\n",
       "      <td>-87.723452</td>\n",
       "      <td>11.390095</td>\n",
       "      <td>41.953582</td>\n",
       "      <td>-87.723452</td>\n",
       "      <td>14.437584</td>\n",
       "      <td>20.571429</td>\n",
       "      <td>10.561506</td>\n",
       "      <td>9.987022</td>\n",
       "      <td>10.287562</td>\n",
       "      <td>10.135737</td>\n",
       "    </tr>\n",
       "    <tr>\n",
       "      <th>80664</th>\n",
       "      <td>1541943000</td>\n",
       "      <td>1541943000</td>\n",
       "      <td>480.0</td>\n",
       "      <td>3.60</td>\n",
       "      <td>11.230968</td>\n",
       "      <td>11.209385</td>\n",
       "      <td>16.560212</td>\n",
       "      <td>9.141873</td>\n",
       "      <td>26.60</td>\n",
       "      <td>11.589782</td>\n",
       "      <td>10.063929</td>\n",
       "      <td>41.980264</td>\n",
       "      <td>-87.913625</td>\n",
       "      <td>19.607906</td>\n",
       "      <td>41.897622</td>\n",
       "      <td>-87.650391</td>\n",
       "      <td>8.712605</td>\n",
       "      <td>27.000000</td>\n",
       "      <td>10.561506</td>\n",
       "      <td>9.421587</td>\n",
       "      <td>10.287562</td>\n",
       "      <td>10.135737</td>\n",
       "    </tr>\n",
       "    <tr>\n",
       "      <th>...</th>\n",
       "      <td>...</td>\n",
       "      <td>...</td>\n",
       "      <td>...</td>\n",
       "      <td>...</td>\n",
       "      <td>...</td>\n",
       "      <td>...</td>\n",
       "      <td>...</td>\n",
       "      <td>...</td>\n",
       "      <td>...</td>\n",
       "      <td>...</td>\n",
       "      <td>...</td>\n",
       "      <td>...</td>\n",
       "      <td>...</td>\n",
       "      <td>...</td>\n",
       "      <td>...</td>\n",
       "      <td>...</td>\n",
       "      <td>...</td>\n",
       "      <td>...</td>\n",
       "      <td>...</td>\n",
       "      <td>...</td>\n",
       "      <td>...</td>\n",
       "      <td>...</td>\n",
       "    </tr>\n",
       "    <tr>\n",
       "      <th>1953038</th>\n",
       "      <td>1549127700</td>\n",
       "      <td>1549128600</td>\n",
       "      <td>1581.0</td>\n",
       "      <td>21.89</td>\n",
       "      <td>14.084110</td>\n",
       "      <td>11.209385</td>\n",
       "      <td>16.560212</td>\n",
       "      <td>9.141873</td>\n",
       "      <td>0.01</td>\n",
       "      <td>8.846531</td>\n",
       "      <td>10.430743</td>\n",
       "      <td>41.979071</td>\n",
       "      <td>-87.903040</td>\n",
       "      <td>14.084110</td>\n",
       "      <td>41.897622</td>\n",
       "      <td>-87.650391</td>\n",
       "      <td>8.712605</td>\n",
       "      <td>49.844402</td>\n",
       "      <td>10.461210</td>\n",
       "      <td>10.666388</td>\n",
       "      <td>10.077806</td>\n",
       "      <td>9.969116</td>\n",
       "    </tr>\n",
       "    <tr>\n",
       "      <th>1953494</th>\n",
       "      <td>1548666000</td>\n",
       "      <td>1548666900</td>\n",
       "      <td>1211.0</td>\n",
       "      <td>7.33</td>\n",
       "      <td>14.084110</td>\n",
       "      <td>11.209385</td>\n",
       "      <td>16.560212</td>\n",
       "      <td>9.141873</td>\n",
       "      <td>0.01</td>\n",
       "      <td>8.846531</td>\n",
       "      <td>10.430743</td>\n",
       "      <td>41.979071</td>\n",
       "      <td>-87.903040</td>\n",
       "      <td>14.084110</td>\n",
       "      <td>41.897622</td>\n",
       "      <td>-87.650391</td>\n",
       "      <td>8.712605</td>\n",
       "      <td>21.790256</td>\n",
       "      <td>9.882814</td>\n",
       "      <td>9.812430</td>\n",
       "      <td>9.927262</td>\n",
       "      <td>9.969116</td>\n",
       "    </tr>\n",
       "    <tr>\n",
       "      <th>1957942</th>\n",
       "      <td>1549026900</td>\n",
       "      <td>1549028700</td>\n",
       "      <td>1818.0</td>\n",
       "      <td>13.11</td>\n",
       "      <td>11.230968</td>\n",
       "      <td>11.209385</td>\n",
       "      <td>16.560212</td>\n",
       "      <td>9.141873</td>\n",
       "      <td>0.01</td>\n",
       "      <td>8.846531</td>\n",
       "      <td>10.430743</td>\n",
       "      <td>41.980264</td>\n",
       "      <td>-87.913625</td>\n",
       "      <td>19.607906</td>\n",
       "      <td>41.897622</td>\n",
       "      <td>-87.650391</td>\n",
       "      <td>8.712605</td>\n",
       "      <td>25.960396</td>\n",
       "      <td>10.034090</td>\n",
       "      <td>9.421587</td>\n",
       "      <td>10.077806</td>\n",
       "      <td>9.969116</td>\n",
       "    </tr>\n",
       "    <tr>\n",
       "      <th>1963097</th>\n",
       "      <td>1549472400</td>\n",
       "      <td>1549472400</td>\n",
       "      <td>61.0</td>\n",
       "      <td>0.07</td>\n",
       "      <td>10.388689</td>\n",
       "      <td>10.567145</td>\n",
       "      <td>15.545739</td>\n",
       "      <td>12.695346</td>\n",
       "      <td>0.01</td>\n",
       "      <td>8.846531</td>\n",
       "      <td>10.430743</td>\n",
       "      <td>41.785999</td>\n",
       "      <td>-87.750934</td>\n",
       "      <td>10.388689</td>\n",
       "      <td>41.785999</td>\n",
       "      <td>-87.750934</td>\n",
       "      <td>10.567145</td>\n",
       "      <td>4.131148</td>\n",
       "      <td>9.944505</td>\n",
       "      <td>10.666388</td>\n",
       "      <td>10.077806</td>\n",
       "      <td>9.969116</td>\n",
       "    </tr>\n",
       "    <tr>\n",
       "      <th>1970600</th>\n",
       "      <td>1549549800</td>\n",
       "      <td>1549553400</td>\n",
       "      <td>3752.0</td>\n",
       "      <td>34.30</td>\n",
       "      <td>11.230968</td>\n",
       "      <td>11.209385</td>\n",
       "      <td>16.560212</td>\n",
       "      <td>9.141873</td>\n",
       "      <td>0.01</td>\n",
       "      <td>8.846531</td>\n",
       "      <td>10.430743</td>\n",
       "      <td>41.980264</td>\n",
       "      <td>-87.913625</td>\n",
       "      <td>19.607906</td>\n",
       "      <td>41.897622</td>\n",
       "      <td>-87.650391</td>\n",
       "      <td>8.712605</td>\n",
       "      <td>32.910448</td>\n",
       "      <td>9.993680</td>\n",
       "      <td>9.590097</td>\n",
       "      <td>10.077806</td>\n",
       "      <td>9.969116</td>\n",
       "    </tr>\n",
       "  </tbody>\n",
       "</table>\n",
       "<p>1613824 rows × 22 columns</p>\n",
       "</div>"
      ],
      "text/plain": [
       "         Trip Start Timestamp  Trip End Timestamp  Trip Seconds  Trip Miles  \\\n",
       "5665               1542992400          1542994200        1620.0        5.60   \n",
       "27000              1541611800          1541612700        1140.0        6.90   \n",
       "58577              1542400200          1542401100         960.0        7.20   \n",
       "75585              1541952000          1541952900        1260.0        7.20   \n",
       "80664              1541943000          1541943000         480.0        3.60   \n",
       "...                       ...                 ...           ...         ...   \n",
       "1953038            1549127700          1549128600        1581.0       21.89   \n",
       "1953494            1548666000          1548666900        1211.0        7.33   \n",
       "1957942            1549026900          1549028700        1818.0       13.11   \n",
       "1963097            1549472400          1549472400          61.0        0.07   \n",
       "1970600            1549549800          1549553400        3752.0       34.30   \n",
       "\n",
       "         Pickup Census Tract  Dropoff Census Tract  Pickup Community Area  \\\n",
       "5665                9.026736             13.491123               9.673293   \n",
       "27000              11.230968             11.209385               9.673293   \n",
       "58577              11.230968             11.209385               9.636544   \n",
       "75585              11.230968             11.209385              11.398014   \n",
       "80664              11.230968             11.209385              16.560212   \n",
       "...                      ...                   ...                    ...   \n",
       "1953038            14.084110             11.209385              16.560212   \n",
       "1953494            14.084110             11.209385              16.560212   \n",
       "1957942            11.230968             11.209385              16.560212   \n",
       "1963097            10.388689             10.567145              15.545739   \n",
       "1970600            11.230968             11.209385              16.560212   \n",
       "\n",
       "         Dropoff Community Area  trip_ttl  Payment Type    Company  \\\n",
       "5665                   9.515685     26.60     11.589782   9.991409   \n",
       "27000                 13.134676     26.60     11.589782  10.028170   \n",
       "58577                 18.599468     26.60     11.589782  10.063929   \n",
       "75585                 14.519452     26.60     11.589782   9.789769   \n",
       "80664                  9.141873     26.60     11.589782  10.063929   \n",
       "...                         ...       ...           ...        ...   \n",
       "1953038                9.141873      0.01      8.846531  10.430743   \n",
       "1953494                9.141873      0.01      8.846531  10.430743   \n",
       "1957942                9.141873      0.01      8.846531  10.430743   \n",
       "1963097               12.695346      0.01      8.846531  10.430743   \n",
       "1970600                9.141873      0.01      8.846531  10.430743   \n",
       "\n",
       "         Pickup Centroid Latitude  Pickup Centroid Longitude  \\\n",
       "5665                    41.899156                 -87.626211   \n",
       "27000                   41.899602                 -87.633308   \n",
       "58577                   41.878866                 -87.625192   \n",
       "75585                   41.953582                 -87.723452   \n",
       "80664                   41.980264                 -87.913625   \n",
       "...                           ...                        ...   \n",
       "1953038                 41.979071                 -87.903040   \n",
       "1953494                 41.979071                 -87.903040   \n",
       "1957942                 41.980264                 -87.913625   \n",
       "1963097                 41.785999                 -87.750934   \n",
       "1970600                 41.980264                 -87.913625   \n",
       "\n",
       "         Pickup Centroid Location  Dropoff Centroid Latitude  \\\n",
       "5665                     9.026736                  41.878667   \n",
       "27000                   13.312175                  41.975171   \n",
       "58577                   15.722639                  41.794090   \n",
       "75585                   11.390095                  41.953582   \n",
       "80664                   19.607906                  41.897622   \n",
       "...                           ...                        ...   \n",
       "1953038                 14.084110                  41.897622   \n",
       "1953494                 14.084110                  41.897622   \n",
       "1957942                 19.607906                  41.897622   \n",
       "1963097                 10.388689                  41.785999   \n",
       "1970600                 19.607906                  41.897622   \n",
       "\n",
       "         Dropoff Centroid Longitude  Dropoff Centroid  Location  avg_speed  \\\n",
       "5665                     -87.671654                   13.491123  12.444444   \n",
       "27000                    -87.687516                   12.937062  21.789474   \n",
       "58577                    -87.592311                   17.837765  27.000000   \n",
       "75585                    -87.723452                   14.437584  20.571429   \n",
       "80664                    -87.650391                    8.712605  27.000000   \n",
       "...                             ...                         ...        ...   \n",
       "1953038                  -87.650391                    8.712605  49.844402   \n",
       "1953494                  -87.650391                    8.712605  21.790256   \n",
       "1957942                  -87.650391                    8.712605  25.960396   \n",
       "1963097                  -87.750934                   10.567145   4.131148   \n",
       "1970600                  -87.650391                    8.712605  32.910448   \n",
       "\n",
       "         day_of_week  hour_of_day      month       year  \n",
       "5665       10.034090    10.666388  10.287562  10.135737  \n",
       "27000       9.944505    10.666388  10.287562  10.135737  \n",
       "58577      10.034090    10.690281  10.287562  10.135737  \n",
       "75585      10.561506     9.987022  10.287562  10.135737  \n",
       "80664      10.561506     9.421587  10.287562  10.135737  \n",
       "...              ...          ...        ...        ...  \n",
       "1953038    10.461210    10.666388  10.077806   9.969116  \n",
       "1953494     9.882814     9.812430   9.927262   9.969116  \n",
       "1957942    10.034090     9.421587  10.077806   9.969116  \n",
       "1963097     9.944505    10.666388  10.077806   9.969116  \n",
       "1970600     9.993680     9.590097  10.077806   9.969116  \n",
       "\n",
       "[1613824 rows x 22 columns]"
      ]
     },
     "execution_count": 38,
     "metadata": {},
     "output_type": "execute_result"
    }
   ],
   "source": [
    "%%time\n",
    "\n",
    "\n",
    "pd.set_option('display.max_columns', None)\n",
    "\n",
    "df.sort_values(\"trip_ttl\", ascending=False)"
   ]
  },
  {
   "cell_type": "code",
   "execution_count": 39,
   "metadata": {
    "colab": {
     "base_uri": "https://localhost:8080/",
     "height": 513
    },
    "id": "U-LDV7_U82LC",
    "outputId": "3529ce0c-5718-4449-8295-460dd24f7a3b"
   },
   "outputs": [
    {
     "name": "stdout",
     "output_type": "stream",
     "text": [
      "CPU times: user 171 ms, sys: 34.4 ms, total: 205 ms\n",
      "Wall time: 263 ms\n"
     ]
    },
    {
     "data": {
      "application/vnd.google.colaboratory.intrinsic+json": {
       "type": "dataframe",
       "variable_name": "df"
      },
      "text/html": [
       "<div>\n",
       "<style scoped>\n",
       "    .dataframe tbody tr th:only-of-type {\n",
       "        vertical-align: middle;\n",
       "    }\n",
       "\n",
       "    .dataframe tbody tr th {\n",
       "        vertical-align: top;\n",
       "    }\n",
       "\n",
       "    .dataframe thead th {\n",
       "        text-align: right;\n",
       "    }\n",
       "</style>\n",
       "<table border=\"1\" class=\"dataframe\">\n",
       "  <thead>\n",
       "    <tr style=\"text-align: right;\">\n",
       "      <th></th>\n",
       "      <th>Trip Start Timestamp</th>\n",
       "      <th>Trip End Timestamp</th>\n",
       "      <th>Trip Seconds</th>\n",
       "      <th>Trip Miles</th>\n",
       "      <th>Pickup Census Tract</th>\n",
       "      <th>Dropoff Census Tract</th>\n",
       "      <th>Pickup Community Area</th>\n",
       "      <th>Dropoff Community Area</th>\n",
       "      <th>trip_ttl</th>\n",
       "      <th>Payment Type</th>\n",
       "      <th>Company</th>\n",
       "      <th>Pickup Centroid Latitude</th>\n",
       "      <th>Pickup Centroid Longitude</th>\n",
       "      <th>Pickup Centroid Location</th>\n",
       "      <th>Dropoff Centroid Latitude</th>\n",
       "      <th>Dropoff Centroid Longitude</th>\n",
       "      <th>Dropoff Centroid  Location</th>\n",
       "      <th>avg_speed</th>\n",
       "      <th>day_of_week</th>\n",
       "      <th>hour_of_day</th>\n",
       "      <th>month</th>\n",
       "      <th>year</th>\n",
       "    </tr>\n",
       "  </thead>\n",
       "  <tbody>\n",
       "    <tr>\n",
       "      <th>0</th>\n",
       "      <td>1.543099e+09</td>\n",
       "      <td>1.543099e+09</td>\n",
       "      <td>240.0</td>\n",
       "      <td>0.90</td>\n",
       "      <td>8.889187</td>\n",
       "      <td>8.399119</td>\n",
       "      <td>9.673293</td>\n",
       "      <td>8.648094</td>\n",
       "      <td>5.50</td>\n",
       "      <td>8.846531</td>\n",
       "      <td>9.918811</td>\n",
       "      <td>41.892508</td>\n",
       "      <td>-87.626215</td>\n",
       "      <td>8.889187</td>\n",
       "      <td>41.884987</td>\n",
       "      <td>-87.620993</td>\n",
       "      <td>8.399119</td>\n",
       "      <td>13.500000</td>\n",
       "      <td>10.461210</td>\n",
       "      <td>10.907608</td>\n",
       "      <td>10.287562</td>\n",
       "      <td>10.135737</td>\n",
       "    </tr>\n",
       "    <tr>\n",
       "      <th>1</th>\n",
       "      <td>1.543069e+09</td>\n",
       "      <td>1.543069e+09</td>\n",
       "      <td>342.0</td>\n",
       "      <td>0.91</td>\n",
       "      <td>8.840747</td>\n",
       "      <td>8.976772</td>\n",
       "      <td>9.636544</td>\n",
       "      <td>9.141873</td>\n",
       "      <td>7.00</td>\n",
       "      <td>8.846531</td>\n",
       "      <td>9.991409</td>\n",
       "      <td>41.884987</td>\n",
       "      <td>-87.620993</td>\n",
       "      <td>8.840747</td>\n",
       "      <td>41.891972</td>\n",
       "      <td>-87.612945</td>\n",
       "      <td>8.976772</td>\n",
       "      <td>9.578947</td>\n",
       "      <td>10.461210</td>\n",
       "      <td>9.590097</td>\n",
       "      <td>10.287562</td>\n",
       "      <td>10.135737</td>\n",
       "    </tr>\n",
       "    <tr>\n",
       "      <th>2</th>\n",
       "      <td>1.542648e+09</td>\n",
       "      <td>1.542648e+09</td>\n",
       "      <td>419.0</td>\n",
       "      <td>0.82</td>\n",
       "      <td>9.269435</td>\n",
       "      <td>11.209385</td>\n",
       "      <td>9.933901</td>\n",
       "      <td>8.648094</td>\n",
       "      <td>7.70</td>\n",
       "      <td>11.589782</td>\n",
       "      <td>10.063929</td>\n",
       "      <td>41.879255</td>\n",
       "      <td>-87.642649</td>\n",
       "      <td>9.269435</td>\n",
       "      <td>41.880994</td>\n",
       "      <td>-87.632746</td>\n",
       "      <td>8.712605</td>\n",
       "      <td>7.045346</td>\n",
       "      <td>9.882814</td>\n",
       "      <td>10.666388</td>\n",
       "      <td>10.287562</td>\n",
       "      <td>10.135737</td>\n",
       "    </tr>\n",
       "    <tr>\n",
       "      <th>3</th>\n",
       "      <td>1.542815e+09</td>\n",
       "      <td>1.542816e+09</td>\n",
       "      <td>479.0</td>\n",
       "      <td>1.37</td>\n",
       "      <td>8.840747</td>\n",
       "      <td>8.697326</td>\n",
       "      <td>9.636544</td>\n",
       "      <td>9.141873</td>\n",
       "      <td>9.75</td>\n",
       "      <td>11.589782</td>\n",
       "      <td>9.991409</td>\n",
       "      <td>41.884987</td>\n",
       "      <td>-87.620993</td>\n",
       "      <td>8.840747</td>\n",
       "      <td>41.895033</td>\n",
       "      <td>-87.619711</td>\n",
       "      <td>8.697326</td>\n",
       "      <td>10.296451</td>\n",
       "      <td>9.944505</td>\n",
       "      <td>9.706529</td>\n",
       "      <td>10.287562</td>\n",
       "      <td>10.135737</td>\n",
       "    </tr>\n",
       "    <tr>\n",
       "      <th>4</th>\n",
       "      <td>1.542604e+09</td>\n",
       "      <td>1.542605e+09</td>\n",
       "      <td>1038.0</td>\n",
       "      <td>8.74</td>\n",
       "      <td>11.230968</td>\n",
       "      <td>11.209385</td>\n",
       "      <td>11.932033</td>\n",
       "      <td>13.692171</td>\n",
       "      <td>23.75</td>\n",
       "      <td>8.846531</td>\n",
       "      <td>10.063929</td>\n",
       "      <td>41.954028</td>\n",
       "      <td>-87.763399</td>\n",
       "      <td>11.920188</td>\n",
       "      <td>41.980264</td>\n",
       "      <td>-87.913625</td>\n",
       "      <td>18.763583</td>\n",
       "      <td>30.312139</td>\n",
       "      <td>9.882814</td>\n",
       "      <td>10.416209</td>\n",
       "      <td>10.287562</td>\n",
       "      <td>10.135737</td>\n",
       "    </tr>\n",
       "    <tr>\n",
       "      <th>...</th>\n",
       "      <td>...</td>\n",
       "      <td>...</td>\n",
       "      <td>...</td>\n",
       "      <td>...</td>\n",
       "      <td>...</td>\n",
       "      <td>...</td>\n",
       "      <td>...</td>\n",
       "      <td>...</td>\n",
       "      <td>...</td>\n",
       "      <td>...</td>\n",
       "      <td>...</td>\n",
       "      <td>...</td>\n",
       "      <td>...</td>\n",
       "      <td>...</td>\n",
       "      <td>...</td>\n",
       "      <td>...</td>\n",
       "      <td>...</td>\n",
       "      <td>...</td>\n",
       "      <td>...</td>\n",
       "      <td>...</td>\n",
       "      <td>...</td>\n",
       "      <td>...</td>\n",
       "    </tr>\n",
       "    <tr>\n",
       "      <th>1972423</th>\n",
       "      <td>1.549474e+09</td>\n",
       "      <td>1.549475e+09</td>\n",
       "      <td>1005.0</td>\n",
       "      <td>3.20</td>\n",
       "      <td>13.677037</td>\n",
       "      <td>8.411083</td>\n",
       "      <td>11.556345</td>\n",
       "      <td>9.141873</td>\n",
       "      <td>11.75</td>\n",
       "      <td>8.846531</td>\n",
       "      <td>9.918811</td>\n",
       "      <td>41.938232</td>\n",
       "      <td>-87.646782</td>\n",
       "      <td>13.677037</td>\n",
       "      <td>41.892042</td>\n",
       "      <td>-87.631864</td>\n",
       "      <td>8.411083</td>\n",
       "      <td>11.462687</td>\n",
       "      <td>9.944505</td>\n",
       "      <td>10.666388</td>\n",
       "      <td>10.077806</td>\n",
       "      <td>9.969116</td>\n",
       "    </tr>\n",
       "    <tr>\n",
       "      <th>1972424</th>\n",
       "      <td>1.549489e+09</td>\n",
       "      <td>1.549490e+09</td>\n",
       "      <td>268.0</td>\n",
       "      <td>0.88</td>\n",
       "      <td>8.840747</td>\n",
       "      <td>8.978773</td>\n",
       "      <td>9.636544</td>\n",
       "      <td>9.141873</td>\n",
       "      <td>8.00</td>\n",
       "      <td>11.589782</td>\n",
       "      <td>10.140592</td>\n",
       "      <td>41.884987</td>\n",
       "      <td>-87.620993</td>\n",
       "      <td>8.840747</td>\n",
       "      <td>41.898332</td>\n",
       "      <td>-87.620763</td>\n",
       "      <td>8.978773</td>\n",
       "      <td>11.820896</td>\n",
       "      <td>9.944505</td>\n",
       "      <td>10.876360</td>\n",
       "      <td>10.077806</td>\n",
       "      <td>9.969116</td>\n",
       "    </tr>\n",
       "    <tr>\n",
       "      <th>1972425</th>\n",
       "      <td>1.549735e+09</td>\n",
       "      <td>1.549735e+09</td>\n",
       "      <td>450.0</td>\n",
       "      <td>1.28</td>\n",
       "      <td>9.026736</td>\n",
       "      <td>8.733624</td>\n",
       "      <td>9.673293</td>\n",
       "      <td>9.141873</td>\n",
       "      <td>10.05</td>\n",
       "      <td>11.007876</td>\n",
       "      <td>10.063929</td>\n",
       "      <td>41.899156</td>\n",
       "      <td>-87.626211</td>\n",
       "      <td>9.026736</td>\n",
       "      <td>41.890922</td>\n",
       "      <td>-87.618868</td>\n",
       "      <td>8.733624</td>\n",
       "      <td>10.240000</td>\n",
       "      <td>10.461210</td>\n",
       "      <td>10.594743</td>\n",
       "      <td>10.077806</td>\n",
       "      <td>9.969116</td>\n",
       "    </tr>\n",
       "    <tr>\n",
       "      <th>1972426</th>\n",
       "      <td>1.549306e+09</td>\n",
       "      <td>1.549307e+09</td>\n",
       "      <td>1288.0</td>\n",
       "      <td>4.10</td>\n",
       "      <td>11.230968</td>\n",
       "      <td>15.991460</td>\n",
       "      <td>9.636544</td>\n",
       "      <td>15.621674</td>\n",
       "      <td>14.75</td>\n",
       "      <td>8.846531</td>\n",
       "      <td>9.789769</td>\n",
       "      <td>41.880994</td>\n",
       "      <td>-87.632746</td>\n",
       "      <td>8.827250</td>\n",
       "      <td>41.920452</td>\n",
       "      <td>-87.679955</td>\n",
       "      <td>15.991460</td>\n",
       "      <td>11.459627</td>\n",
       "      <td>9.882814</td>\n",
       "      <td>10.594743</td>\n",
       "      <td>10.077806</td>\n",
       "      <td>9.969116</td>\n",
       "    </tr>\n",
       "    <tr>\n",
       "      <th>1972427</th>\n",
       "      <td>1.549544e+09</td>\n",
       "      <td>1.549544e+09</td>\n",
       "      <td>300.0</td>\n",
       "      <td>1.20</td>\n",
       "      <td>11.230968</td>\n",
       "      <td>10.017160</td>\n",
       "      <td>9.636544</td>\n",
       "      <td>9.515685</td>\n",
       "      <td>6.00</td>\n",
       "      <td>8.846531</td>\n",
       "      <td>9.918811</td>\n",
       "      <td>41.880994</td>\n",
       "      <td>-87.632746</td>\n",
       "      <td>8.827250</td>\n",
       "      <td>41.885281</td>\n",
       "      <td>-87.657233</td>\n",
       "      <td>10.017160</td>\n",
       "      <td>14.400000</td>\n",
       "      <td>9.993680</td>\n",
       "      <td>9.421587</td>\n",
       "      <td>10.077806</td>\n",
       "      <td>9.969116</td>\n",
       "    </tr>\n",
       "  </tbody>\n",
       "</table>\n",
       "<p>1613824 rows × 22 columns</p>\n",
       "</div>"
      ],
      "text/plain": [
       "         Trip Start Timestamp  Trip End Timestamp  Trip Seconds  Trip Miles  \\\n",
       "0                1.543099e+09        1.543099e+09         240.0        0.90   \n",
       "1                1.543069e+09        1.543069e+09         342.0        0.91   \n",
       "2                1.542648e+09        1.542648e+09         419.0        0.82   \n",
       "3                1.542815e+09        1.542816e+09         479.0        1.37   \n",
       "4                1.542604e+09        1.542605e+09        1038.0        8.74   \n",
       "...                       ...                 ...           ...         ...   \n",
       "1972423          1.549474e+09        1.549475e+09        1005.0        3.20   \n",
       "1972424          1.549489e+09        1.549490e+09         268.0        0.88   \n",
       "1972425          1.549735e+09        1.549735e+09         450.0        1.28   \n",
       "1972426          1.549306e+09        1.549307e+09        1288.0        4.10   \n",
       "1972427          1.549544e+09        1.549544e+09         300.0        1.20   \n",
       "\n",
       "         Pickup Census Tract  Dropoff Census Tract  Pickup Community Area  \\\n",
       "0                   8.889187              8.399119               9.673293   \n",
       "1                   8.840747              8.976772               9.636544   \n",
       "2                   9.269435             11.209385               9.933901   \n",
       "3                   8.840747              8.697326               9.636544   \n",
       "4                  11.230968             11.209385              11.932033   \n",
       "...                      ...                   ...                    ...   \n",
       "1972423            13.677037              8.411083              11.556345   \n",
       "1972424             8.840747              8.978773               9.636544   \n",
       "1972425             9.026736              8.733624               9.673293   \n",
       "1972426            11.230968             15.991460               9.636544   \n",
       "1972427            11.230968             10.017160               9.636544   \n",
       "\n",
       "         Dropoff Community Area  trip_ttl  Payment Type    Company  \\\n",
       "0                      8.648094      5.50      8.846531   9.918811   \n",
       "1                      9.141873      7.00      8.846531   9.991409   \n",
       "2                      8.648094      7.70     11.589782  10.063929   \n",
       "3                      9.141873      9.75     11.589782   9.991409   \n",
       "4                     13.692171     23.75      8.846531  10.063929   \n",
       "...                         ...       ...           ...        ...   \n",
       "1972423                9.141873     11.75      8.846531   9.918811   \n",
       "1972424                9.141873      8.00     11.589782  10.140592   \n",
       "1972425                9.141873     10.05     11.007876  10.063929   \n",
       "1972426               15.621674     14.75      8.846531   9.789769   \n",
       "1972427                9.515685      6.00      8.846531   9.918811   \n",
       "\n",
       "         Pickup Centroid Latitude  Pickup Centroid Longitude  \\\n",
       "0                       41.892508                 -87.626215   \n",
       "1                       41.884987                 -87.620993   \n",
       "2                       41.879255                 -87.642649   \n",
       "3                       41.884987                 -87.620993   \n",
       "4                       41.954028                 -87.763399   \n",
       "...                           ...                        ...   \n",
       "1972423                 41.938232                 -87.646782   \n",
       "1972424                 41.884987                 -87.620993   \n",
       "1972425                 41.899156                 -87.626211   \n",
       "1972426                 41.880994                 -87.632746   \n",
       "1972427                 41.880994                 -87.632746   \n",
       "\n",
       "         Pickup Centroid Location  Dropoff Centroid Latitude  \\\n",
       "0                        8.889187                  41.884987   \n",
       "1                        8.840747                  41.891972   \n",
       "2                        9.269435                  41.880994   \n",
       "3                        8.840747                  41.895033   \n",
       "4                       11.920188                  41.980264   \n",
       "...                           ...                        ...   \n",
       "1972423                 13.677037                  41.892042   \n",
       "1972424                  8.840747                  41.898332   \n",
       "1972425                  9.026736                  41.890922   \n",
       "1972426                  8.827250                  41.920452   \n",
       "1972427                  8.827250                  41.885281   \n",
       "\n",
       "         Dropoff Centroid Longitude  Dropoff Centroid  Location  avg_speed  \\\n",
       "0                        -87.620993                    8.399119  13.500000   \n",
       "1                        -87.612945                    8.976772   9.578947   \n",
       "2                        -87.632746                    8.712605   7.045346   \n",
       "3                        -87.619711                    8.697326  10.296451   \n",
       "4                        -87.913625                   18.763583  30.312139   \n",
       "...                             ...                         ...        ...   \n",
       "1972423                  -87.631864                    8.411083  11.462687   \n",
       "1972424                  -87.620763                    8.978773  11.820896   \n",
       "1972425                  -87.618868                    8.733624  10.240000   \n",
       "1972426                  -87.679955                   15.991460  11.459627   \n",
       "1972427                  -87.657233                   10.017160  14.400000   \n",
       "\n",
       "         day_of_week  hour_of_day      month       year  \n",
       "0          10.461210    10.907608  10.287562  10.135737  \n",
       "1          10.461210     9.590097  10.287562  10.135737  \n",
       "2           9.882814    10.666388  10.287562  10.135737  \n",
       "3           9.944505     9.706529  10.287562  10.135737  \n",
       "4           9.882814    10.416209  10.287562  10.135737  \n",
       "...              ...          ...        ...        ...  \n",
       "1972423     9.944505    10.666388  10.077806   9.969116  \n",
       "1972424     9.944505    10.876360  10.077806   9.969116  \n",
       "1972425    10.461210    10.594743  10.077806   9.969116  \n",
       "1972426     9.882814    10.594743  10.077806   9.969116  \n",
       "1972427     9.993680     9.421587  10.077806   9.969116  \n",
       "\n",
       "[1613824 rows x 22 columns]"
      ]
     },
     "execution_count": 39,
     "metadata": {},
     "output_type": "execute_result"
    }
   ],
   "source": [
    "%%time\n",
    "\n",
    "# remove nulls/inf\n",
    "df = df.replace([np.inf, -np.inf], np.nan).dropna()\n",
    "df"
   ]
  },
  {
   "cell_type": "markdown",
   "metadata": {},
   "source": [
    "  "
   ]
  },
  {
   "cell_type": "markdown",
   "metadata": {
    "id": "WzRrDJZR5Y-4"
   },
   "source": [
    "### XGBoost Model\n",
    "##### Time to check for lift from our feature engineering"
   ]
  },
  {
   "cell_type": "code",
   "execution_count": 41,
   "metadata": {
    "colab": {
     "base_uri": "https://localhost:8080/"
    },
    "id": "Ao6gIX7GxfP4",
    "outputId": "51772b86-681d-46b2-f2f9-8fd2392ed240"
   },
   "outputs": [
    {
     "name": "stdout",
     "output_type": "stream",
     "text": [
      "CPU times: user 5.75 s, sys: 1.87 s, total: 7.62 s\n",
      "Wall time: 7.07 s\n"
     ]
    }
   ],
   "source": [
    "%%time\n",
    "\n",
    "# RAPIDS OFF  - 103\n",
    "# RAPIDS A100 - 7 (x15 speedup)\n",
    "\n",
    "X = df.drop(columns=[\"trip_ttl\"])\n",
    "y = df[\"trip_ttl\"]\n",
    "\n",
    "xgb_fold_results = {\"avg\": [], \"mse\": [], \"rmse\": [], \"mae\": [], \"r2\": [], \"max_err\": []}\n",
    "\n",
    "for fold, (train_index, test_index) in enumerate(KFold(n_splits=5, shuffle=True, random_state=42).split(df)):\n",
    "  X_train, X_test = X.iloc[train_index], X.iloc[test_index]\n",
    "  y_train, y_test = y.iloc[train_index], y.iloc[test_index]\n",
    "\n",
    "  # train\n",
    "  xgb_model = xgb.XGBRegressor(device=xgb_device)\n",
    "\n",
    "  xgb_model.fit(X_train, y_train)\n",
    "  y_pred = xgb_model.predict(X_test)\n",
    "  xgb_fold_results[\"avg\"].append(y_pred.mean())\n",
    "\n",
    "  # metrics\n",
    "  mse = ((y_test - y_pred) ** 2).mean()\n",
    "  xgb_fold_results[\"mse\"].append(mse)\n",
    "  xgb_fold_results[\"rmse\"].append(mse ** 0.5)\n",
    "  mae = (y_test - y_pred).abs().mean()\n",
    "  xgb_fold_results[\"mae\"].append(mae)\n",
    "  ss_residual = ((y_test - y_pred) ** 2).sum()\n",
    "  ss_total = ((y_test - y_test.mean()) ** 2).sum()\n",
    "  r_squared = 1 - (ss_residual / ss_total)\n",
    "  xgb_fold_results[\"r2\"].append(1 - (ss_residual / ss_total))\n",
    "  xgb_fold_results[\"max_err\"].append((y_test - y_pred).abs().max())\n",
    "\n",
    "xgb_fe_fold_results_df = pd.DataFrame(xgb_fold_results)"
   ]
  },
  {
   "cell_type": "markdown",
   "metadata": {},
   "source": [
    "  "
   ]
  },
  {
   "cell_type": "markdown",
   "metadata": {
    "id": "srrVgXBbHych"
   },
   "source": [
    "### Results\n",
    "##### We have a dramatic lift in model performance from our feature engineering across all metrics"
   ]
  },
  {
   "cell_type": "code",
   "execution_count": 42,
   "metadata": {
    "colab": {
     "base_uri": "https://localhost:8080/",
     "height": 175
    },
    "id": "FMpyy4BzflMY",
    "outputId": "153d4a5a-6ea9-467c-8c21-0b67af8397d7"
   },
   "outputs": [
    {
     "data": {
      "application/vnd.google.colaboratory.intrinsic+json": {
       "summary": "{\n  \"name\": \"all_results\",\n  \"rows\": 4,\n  \"fields\": [\n    {\n      \"column\": \"model\",\n      \"properties\": {\n        \"dtype\": \"string\",\n        \"num_unique_values\": 4,\n        \"samples\": [\n          \"mean\",\n          \"xgb_fe\",\n          \"xgb_na\\u00efve\"\n        ],\n        \"semantic_type\": \"\",\n        \"description\": \"\"\n      }\n    },\n    {\n      \"column\": \"avg\",\n      \"properties\": {\n        \"dtype\": \"number\",\n        \"std\": 4.436113163570108,\n        \"min\": 9.75,\n        \"max\": 17.61,\n        \"num_unique_values\": 4,\n        \"samples\": [\n          17.58,\n          10.08,\n          17.61\n        ],\n        \"semantic_type\": \"\",\n        \"description\": \"\"\n      }\n    },\n    {\n      \"column\": \"mse\",\n      \"properties\": {\n        \"dtype\": \"number\",\n        \"std\": 3918.9928547555432,\n        \"min\": 1.11,\n        \"max\": 8145.75,\n        \"num_unique_values\": 4,\n        \"samples\": [\n          8084.47,\n          1.11,\n          7116.24\n        ],\n        \"semantic_type\": \"\",\n        \"description\": \"\"\n      }\n    },\n    {\n      \"column\": \"rmse\",\n      \"properties\": {\n        \"dtype\": \"number\",\n        \"std\": 43.56642390266461,\n        \"min\": 1.06,\n        \"max\": 90.08,\n        \"num_unique_values\": 4,\n        \"samples\": [\n          89.74,\n          1.06,\n          84.27\n        ],\n        \"semantic_type\": \"\",\n        \"description\": \"\"\n      }\n    },\n    {\n      \"column\": \"mae\",\n      \"properties\": {\n        \"dtype\": \"number\",\n        \"std\": 5.638516353320851,\n        \"min\": 0.7,\n        \"max\": 13.39,\n        \"num_unique_values\": 4,\n        \"samples\": [\n          13.39,\n          0.7,\n          5.19\n        ],\n        \"semantic_type\": \"\",\n        \"description\": \"\"\n      }\n    },\n    {\n      \"column\": \"r2\",\n      \"properties\": {\n        \"dtype\": \"number\",\n        \"std\": 0.4555125318437097,\n        \"min\": -0.01,\n        \"max\": 0.94,\n        \"num_unique_values\": 4,\n        \"samples\": [\n          -0.0,\n          0.94,\n          0.12\n        ],\n        \"semantic_type\": \"\",\n        \"description\": \"\"\n      }\n    },\n    {\n      \"column\": \"max_err\",\n      \"properties\": {\n        \"dtype\": \"number\",\n        \"std\": 4950.0131952778665,\n        \"min\": 25.16,\n        \"max\": 9965.57,\n        \"num_unique_values\": 4,\n        \"samples\": [\n          9957.77,\n          25.16,\n          9850.55\n        ],\n        \"semantic_type\": \"\",\n        \"description\": \"\"\n      }\n    }\n  ]\n}",
       "type": "dataframe"
      },
      "text/html": [
       "<div>\n",
       "<style scoped>\n",
       "    .dataframe tbody tr th:only-of-type {\n",
       "        vertical-align: middle;\n",
       "    }\n",
       "\n",
       "    .dataframe tbody tr th {\n",
       "        vertical-align: top;\n",
       "    }\n",
       "\n",
       "    .dataframe thead th {\n",
       "        text-align: right;\n",
       "    }\n",
       "</style>\n",
       "<table border=\"1\" class=\"dataframe\">\n",
       "  <thead>\n",
       "    <tr style=\"text-align: right;\">\n",
       "      <th></th>\n",
       "      <th>model</th>\n",
       "      <th>avg</th>\n",
       "      <th>mse</th>\n",
       "      <th>rmse</th>\n",
       "      <th>mae</th>\n",
       "      <th>r2</th>\n",
       "      <th>max_err</th>\n",
       "    </tr>\n",
       "  </thead>\n",
       "  <tbody>\n",
       "    <tr>\n",
       "      <th>0</th>\n",
       "      <td>xgb_fe</td>\n",
       "      <td>10.08</td>\n",
       "      <td>1.11</td>\n",
       "      <td>1.06</td>\n",
       "      <td>0.70</td>\n",
       "      <td>0.94</td>\n",
       "      <td>25.16</td>\n",
       "    </tr>\n",
       "    <tr>\n",
       "      <th>0</th>\n",
       "      <td>xgb_naïve</td>\n",
       "      <td>17.61</td>\n",
       "      <td>7116.24</td>\n",
       "      <td>84.27</td>\n",
       "      <td>5.19</td>\n",
       "      <td>0.12</td>\n",
       "      <td>9850.55</td>\n",
       "    </tr>\n",
       "    <tr>\n",
       "      <th>0</th>\n",
       "      <td>median</td>\n",
       "      <td>9.75</td>\n",
       "      <td>8145.75</td>\n",
       "      <td>90.08</td>\n",
       "      <td>10.52</td>\n",
       "      <td>-0.01</td>\n",
       "      <td>9965.57</td>\n",
       "    </tr>\n",
       "    <tr>\n",
       "      <th>0</th>\n",
       "      <td>mean</td>\n",
       "      <td>17.58</td>\n",
       "      <td>8084.47</td>\n",
       "      <td>89.74</td>\n",
       "      <td>13.39</td>\n",
       "      <td>-0.00</td>\n",
       "      <td>9957.77</td>\n",
       "    </tr>\n",
       "  </tbody>\n",
       "</table>\n",
       "</div>"
      ],
      "text/plain": [
       "       model    avg      mse   rmse    mae    r2  max_err\n",
       "0     xgb_fe  10.08     1.11   1.06   0.70  0.94    25.16\n",
       "0  xgb_naïve  17.61  7116.24  84.27   5.19  0.12  9850.55\n",
       "0     median   9.75  8145.75  90.08  10.52 -0.01  9965.57\n",
       "0       mean  17.58  8084.47  89.74  13.39 -0.00  9957.77"
      ]
     },
     "execution_count": 42,
     "metadata": {},
     "output_type": "execute_result"
    }
   ],
   "source": [
    "xgb_fe_results_df = pd.DataFrame({'model': 'xgb_fe',**xgb_fe_fold_results_df.drop(columns=['max_err']).mean(), 'max_err': xgb_fe_fold_results_df['max_err'].max()}, index=[0])\n",
    "all_results = pd.concat([mean_results_df, median_results_df, xgb_naïve_results_df, xgb_fe_results_df]).sort_values(by=[\"mae\", \"mse\", \"rmse\", \"r2\", \"max_err\"], ascending=[True, True, True, False, True])\n",
    "all_results.round(2)"
   ]
  },
  {
   "cell_type": "markdown",
   "metadata": {},
   "source": [
    "  "
   ]
  },
  {
   "cell_type": "markdown",
   "metadata": {
    "id": "9a4NvUawyn2V"
   },
   "source": [
    "### Feature Importance\n",
    "##### Notice 'Trip Seconds' and 'Trip Miles' are still the most important features, but below that are some new features from the Feature Importance plot above."
   ]
  },
  {
   "cell_type": "code",
   "execution_count": 43,
   "metadata": {
    "id": "csSnDbvh7NEA"
   },
   "outputs": [],
   "source": [
    "import seaborn as sns\n",
    "import matplotlib.pyplot as plt\n",
    "\n",
    "booster = xgb_model.get_booster()\n",
    "importance = booster.get_score(importance_type='weight')  # You can also use 'gain', 'cover', etc.\n",
    "\n",
    "# Convert to DataFrame\n",
    "importance_df = pd.DataFrame({\n",
    "    'Feature': list(importance.keys()),\n",
    "    'Importance': list(importance.values())\n",
    "})\n",
    "\n",
    "# Sort by importance\n",
    "importance_df = importance_df.sort_values(by='Importance', ascending=False)"
   ]
  },
  {
   "cell_type": "code",
   "execution_count": 44,
   "metadata": {
    "colab": {
     "base_uri": "https://localhost:8080/",
     "height": 472
    },
    "id": "dQvuluXfyYrz",
    "outputId": "6b2c03c0-f95c-4e75-e9a4-1f0b69f4acf4"
   },
   "outputs": [
    {
     "data": {
      "image/png": "[encoded data removed]",
      "text/plain": [
       "<Figure size 640x480 with 1 Axes>"
      ]
     },
     "metadata": {},
     "output_type": "display_data"
    }
   ],
   "source": [
    "sns.barplot(x='Importance', y='Feature', data=importance_df.head(50), hue='Feature', palette=\"viridis\", dodge=False, legend=False)\n",
    "plt.title('Feature Importance')\n",
    "plt.xlabel('Importance Score')\n",
    "plt.ylabel('Features')\n",
    "plt.show()"
   ]
  },
  {
   "cell_type": "markdown",
   "metadata": {
    "id": "aM6JnU5d6-eM"
   },
   "source": [
    "<br/>"
   ]
  },
  {
   "cell_type": "markdown",
   "metadata": {
    "id": "z_7rl__pgiZn"
   },
   "source": [
    "<br/>"
   ]
  },
  {
   "cell_type": "markdown",
   "metadata": {
    "id": "kEd8KDMHgmxD"
   },
   "source": [
    "# XGBoost Light Tuning\n",
    "##### The parameter documentation can be found here:\n",
    "https://xgboost.readthedocs.io/en/stable/parameter.html\n",
    "##### This time we will adjust the following parameters to see if we can get some lift:\n",
    "* n_estimators\n",
    "* learning_rate\n",
    "* max_depth\n",
    "* eval_metric\n",
    "* objective\n",
    "* min_child"
   ]
  },
  {
   "cell_type": "code",
   "execution_count": 45,
   "metadata": {
    "colab": {
     "base_uri": "https://localhost:8080/"
    },
    "id": "jpetoUUOLGxh",
    "outputId": "dce6c858-96cb-451e-a7ff-200b6ae010c6"
   },
   "outputs": [
    {
     "name": "stdout",
     "output_type": "stream",
     "text": [
      "CPU times: user 12.3 s, sys: 2.09 s, total: 14.4 s\n",
      "Wall time: 13.6 s\n"
     ]
    }
   ],
   "source": [
    "%%time\n",
    "# RAPIDS OFF  - 270.82 (100), 543.42 (250) ; (n of estimators)\n",
    "# RAPIDS A100 - 13.6(500) (x40 speedup despite twice the estimators)\n",
    "# more estimators means more trees, means more likely to find optimal model\n",
    "\n",
    "X = df.drop(columns=[\"trip_ttl\"])\n",
    "y = df[\"trip_ttl\"]\n",
    "\n",
    "xgb_fold_results = {\"avg\": [], \"mse\": [], \"rmse\": [], \"mae\": [], \"r2\": [], \"max_err\": []}\n",
    "\n",
    "for fold, (train_index, test_index) in enumerate(KFold(n_splits=5, shuffle=True, random_state=42).split(df)):\n",
    "  X_train, X_test = X.iloc[train_index], X.iloc[test_index]\n",
    "  y_train, y_test = y.iloc[train_index], y.iloc[test_index]\n",
    "\n",
    "  # train\n",
    "  xgb_model = xgb.XGBRegressor(device=xgb_device,\n",
    "                               n_estimators=500,\n",
    "                               learning_rate=0.05,\n",
    "                               max_depth=6,\n",
    "                               eval_metric=\"mae\",\n",
    "                               objective=\"reg:gamma\",\n",
    "                               min_child_weight=5\n",
    "  )\n",
    "  # xgb_model = xgb.XGBRegressor(device=xgb_device)\n",
    "\n",
    "  xgb_model.fit(X_train, y_train)\n",
    "  y_pred = xgb_model.predict(X_test)\n",
    "  xgb_fold_results[\"avg\"].append(y_pred.mean())\n",
    "\n",
    "  # metrics\n",
    "  mse = ((y_test - y_pred) ** 2).mean()\n",
    "  xgb_fold_results[\"mse\"].append(mse)\n",
    "  xgb_fold_results[\"rmse\"].append(mse ** 0.5)\n",
    "  mae = (y_test - y_pred).abs().mean()\n",
    "  xgb_fold_results[\"mae\"].append(mae)\n",
    "  ss_residual = ((y_test - y_pred) ** 2).sum()\n",
    "  ss_total = ((y_test - y_test.mean()) ** 2).sum()\n",
    "  r_squared = 1 - (ss_residual / ss_total)\n",
    "  xgb_fold_results[\"r2\"].append(1 - (ss_residual / ss_total))\n",
    "  xgb_fold_results[\"max_err\"].append((y_test - y_pred).abs().max())"
   ]
  },
  {
   "cell_type": "markdown",
   "metadata": {},
   "source": [
    "  "
   ]
  },
  {
   "cell_type": "markdown",
   "metadata": {
    "id": "srrVgXBbHych"
   },
   "source": [
    "### Results\n",
    "##### The simple tuning we performed did not see to get us much lift. The default paraemeters worked just as well as this test."
   ]
  },
  {
   "cell_type": "code",
   "execution_count": 46,
   "metadata": {
    "colab": {
     "base_uri": "https://localhost:8080/",
     "height": 206
    },
    "id": "tgEp-S0EeDr4",
    "outputId": "b1d340e7-3ac6-446a-b2c7-e4b20aa50b8c"
   },
   "outputs": [
    {
     "data": {
      "application/vnd.google.colaboratory.intrinsic+json": {
       "summary": "{\n  \"name\": \"all_results\",\n  \"rows\": 5,\n  \"fields\": [\n    {\n      \"column\": \"model\",\n      \"properties\": {\n        \"dtype\": \"string\",\n        \"num_unique_values\": 5,\n        \"samples\": [\n          \"median\",\n          \"xgb_tuned\",\n          \"mean\"\n        ],\n        \"semantic_type\": \"\",\n        \"description\": \"\"\n      }\n    },\n    {\n      \"column\": \"mae\",\n      \"properties\": {\n        \"dtype\": \"number\",\n        \"std\": 5.74444884214317,\n        \"min\": 0.692,\n        \"max\": 13.394,\n        \"num_unique_values\": 5,\n        \"samples\": [\n          10.521,\n          0.692,\n          13.394\n        ],\n        \"semantic_type\": \"\",\n        \"description\": \"\"\n      }\n    },\n    {\n      \"column\": \"rmse\",\n      \"properties\": {\n        \"dtype\": \"number\",\n        \"std\": 47.69392742058469,\n        \"min\": 1.051,\n        \"max\": 90.078,\n        \"num_unique_values\": 5,\n        \"samples\": [\n          90.078,\n          1.051,\n          89.736\n        ],\n        \"semantic_type\": \"\",\n        \"description\": \"\"\n      }\n    },\n    {\n      \"column\": \"mse\",\n      \"properties\": {\n        \"dtype\": \"number\",\n        \"std\": 4281.37161199226,\n        \"min\": 1.105,\n        \"max\": 8145.749,\n        \"num_unique_values\": 5,\n        \"samples\": [\n          8145.749,\n          1.105,\n          8084.466\n        ],\n        \"semantic_type\": \"\",\n        \"description\": \"\"\n      }\n    },\n    {\n      \"column\": \"r2\",\n      \"properties\": {\n        \"dtype\": \"number\",\n        \"std\": 0.5001616738615625,\n        \"min\": -0.008,\n        \"max\": 0.945,\n        \"num_unique_values\": 5,\n        \"samples\": [\n          -0.008,\n          0.945,\n          -0.0\n        ],\n        \"semantic_type\": \"\",\n        \"description\": \"\"\n      }\n    },\n    {\n      \"column\": \"max_err\",\n      \"properties\": {\n        \"dtype\": \"number\",\n        \"std\": 5421.80776559648,\n        \"min\": 25.156,\n        \"max\": 9965.57,\n        \"num_unique_values\": 5,\n        \"samples\": [\n          9965.57,\n          27.155,\n          9957.77\n        ],\n        \"semantic_type\": \"\",\n        \"description\": \"\"\n      }\n    },\n    {\n      \"column\": \"avg\",\n      \"properties\": {\n        \"dtype\": \"number\",\n        \"std\": 4.178242369705233,\n        \"min\": 9.75,\n        \"max\": 17.613,\n        \"num_unique_values\": 5,\n        \"samples\": [\n          9.75,\n          10.081,\n          17.579\n        ],\n        \"semantic_type\": \"\",\n        \"description\": \"\"\n      }\n    }\n  ]\n}",
       "type": "dataframe"
      },
      "text/html": [
       "<div>\n",
       "<style scoped>\n",
       "    .dataframe tbody tr th:only-of-type {\n",
       "        vertical-align: middle;\n",
       "    }\n",
       "\n",
       "    .dataframe tbody tr th {\n",
       "        vertical-align: top;\n",
       "    }\n",
       "\n",
       "    .dataframe thead th {\n",
       "        text-align: right;\n",
       "    }\n",
       "</style>\n",
       "<table border=\"1\" class=\"dataframe\">\n",
       "  <thead>\n",
       "    <tr style=\"text-align: right;\">\n",
       "      <th></th>\n",
       "      <th>model</th>\n",
       "      <th>mae</th>\n",
       "      <th>rmse</th>\n",
       "      <th>mse</th>\n",
       "      <th>r2</th>\n",
       "      <th>max_err</th>\n",
       "      <th>avg</th>\n",
       "    </tr>\n",
       "  </thead>\n",
       "  <tbody>\n",
       "    <tr>\n",
       "      <th>0</th>\n",
       "      <td>xgb_tuned</td>\n",
       "      <td>0.692</td>\n",
       "      <td>1.051</td>\n",
       "      <td>1.105</td>\n",
       "      <td>0.945</td>\n",
       "      <td>27.155</td>\n",
       "      <td>10.081</td>\n",
       "    </tr>\n",
       "    <tr>\n",
       "      <th>0</th>\n",
       "      <td>xgb_fe</td>\n",
       "      <td>0.698</td>\n",
       "      <td>1.056</td>\n",
       "      <td>1.115</td>\n",
       "      <td>0.944</td>\n",
       "      <td>25.156</td>\n",
       "      <td>10.084</td>\n",
       "    </tr>\n",
       "    <tr>\n",
       "      <th>0</th>\n",
       "      <td>xgb_naïve</td>\n",
       "      <td>5.195</td>\n",
       "      <td>84.272</td>\n",
       "      <td>7116.241</td>\n",
       "      <td>0.115</td>\n",
       "      <td>9850.547</td>\n",
       "      <td>17.613</td>\n",
       "    </tr>\n",
       "    <tr>\n",
       "      <th>0</th>\n",
       "      <td>median</td>\n",
       "      <td>10.521</td>\n",
       "      <td>90.078</td>\n",
       "      <td>8145.749</td>\n",
       "      <td>-0.008</td>\n",
       "      <td>9965.570</td>\n",
       "      <td>9.750</td>\n",
       "    </tr>\n",
       "    <tr>\n",
       "      <th>0</th>\n",
       "      <td>mean</td>\n",
       "      <td>13.394</td>\n",
       "      <td>89.736</td>\n",
       "      <td>8084.466</td>\n",
       "      <td>-0.000</td>\n",
       "      <td>9957.770</td>\n",
       "      <td>17.579</td>\n",
       "    </tr>\n",
       "  </tbody>\n",
       "</table>\n",
       "</div>"
      ],
      "text/plain": [
       "       model     mae    rmse       mse     r2   max_err     avg\n",
       "0  xgb_tuned   0.692   1.051     1.105  0.945    27.155  10.081\n",
       "0     xgb_fe   0.698   1.056     1.115  0.944    25.156  10.084\n",
       "0  xgb_naïve   5.195  84.272  7116.241  0.115  9850.547  17.613\n",
       "0     median  10.521  90.078  8145.749 -0.008  9965.570   9.750\n",
       "0       mean  13.394  89.736  8084.466 -0.000  9957.770  17.579"
      ]
     },
     "execution_count": 46,
     "metadata": {},
     "output_type": "execute_result"
    }
   ],
   "source": [
    "xgb_tuned_fold_results_df = pd.DataFrame(xgb_fold_results)\n",
    "xgb_tuned_results_df = pd.DataFrame({'model': 'xgb_tuned',**xgb_tuned_fold_results_df.drop(columns=['max_err']).mean(), 'max_err': xgb_tuned_fold_results_df['max_err'].max()}, index=[0])\n",
    "\n",
    "all_results = pd.concat([mean_results_df, median_results_df, xgb_naïve_results_df, xgb_fe_results_df, xgb_tuned_results_df])[[\"model\", \"mae\", \"rmse\", \"mse\", \"r2\", \"max_err\", \"avg\"]]\n",
    "all_results.sort_values(by=[\"mae\", \"mse\", \"rmse\", \"r2\", \"max_err\"], ascending=[True, True, True, False, True]).round(3)"
   ]
  },
  {
   "cell_type": "markdown",
   "metadata": {
    "id": "DhXGuk7Cgm4y"
   },
   "source": [
    "<br/>"
   ]
  },
  {
   "cell_type": "markdown",
   "metadata": {
    "id": "qR2ggYPmgm7l"
   },
   "source": [
    "<br/>"
   ]
  },
  {
   "cell_type": "markdown",
   "metadata": {
    "id": "eSUAhDMwnW2e"
   },
   "source": [
    "<br/>"
   ]
  },
  {
   "cell_type": "markdown",
   "metadata": {
    "id": "EDF6FfORnW6M"
   },
   "source": [
    "<br/>"
   ]
  },
  {
   "cell_type": "markdown",
   "metadata": {
    "id": "33g0NNTmnW-K"
   },
   "source": [
    "<br/>"
   ]
  },
  {
   "cell_type": "markdown",
   "metadata": {
    "id": "x3OMT2LcnXBs"
   },
   "source": [
    "<br/>"
   ]
  },
  {
   "cell_type": "markdown",
   "metadata": {
    "id": "XENEuu7UnXFT"
   },
   "source": [
    "<br/>"
   ]
  },
  {
   "cell_type": "markdown",
   "metadata": {
    "id": "7WDHa-TSgm-L"
   },
   "source": [
    "# x20 Performance Boost - All Code\n",
    "### Section Simulates the Work of a Data Scientist or ML Engineer, all at once\n",
    "### It is meant to showcase the struggle of buiding a model with and withOUT a NVIDIA cuDF and NVIDIA cuML\n",
    "### To run the code with the GPU:\n",
    "* resart your iPython kernel if needed\n",
    "* set `xgb_device` to `cuda`\n",
    "* run `%load_ext cudf.pandas` before importing pandas\n",
    "### To run the code with the CPU:\n",
    "* resart your iPython kernel if needed\n",
    "* set `xgb_device` to `cpu`\n",
    "* comment out the `%load_ext cudf.pandas` command"
   ]
  },
  {
   "cell_type": "markdown",
   "metadata": {
    "id": "9TAG-yJR4K6b"
   },
   "source": [
    "<br/>"
   ]
  },
  {
   "cell_type": "code",
   "execution_count": null,
   "metadata": {
    "id": "GjR-rN6X2YeV"
   },
   "outputs": [],
   "source": [
    "# !cp /content/drive/MyDrive/Taxi_Trips__2013-2023__20241218.csv ."
   ]
  },
  {
   "cell_type": "code",
   "execution_count": null,
   "metadata": {
    "colab": {
     "base_uri": "https://localhost:8080/"
    },
    "id": "kUQrq5itZCUc",
    "outputId": "03a9c169-23e4-4211-da8f-9891ac9c895a"
   },
   "outputs": [
    {
     "name": "stdout",
     "output_type": "stream",
     "text": [
      "The cudf.pandas extension is already loaded. To reload it, use:\n",
      "  %reload_ext cudf.pandas\n"
     ]
    }
   ],
   "source": [
    "# xgb_device = \"cpu\"\n",
    "\n",
    "%load_ext cudf.pandas\n",
    "xgb_device = \"cuda\""
   ]
  },
  {
   "cell_type": "code",
   "execution_count": 47,
   "metadata": {
    "id": "NdwuZX-cyjG5"
   },
   "outputs": [],
   "source": [
    "import pandas as pd\n",
    "import numpy as np\n",
    "import xgboost as xgb\n",
    "from time import time\n",
    "import seaborn as sns\n",
    "import matplotlib.pyplot as plt\n",
    "from sklearn.model_selection import KFold"
   ]
  },
  {
   "cell_type": "code",
   "execution_count": 48,
   "metadata": {
    "colab": {
     "base_uri": "https://localhost:8080/"
    },
    "id": "2GZItVou1NjS",
    "outputId": "211efbb9-fc55-466c-f8c9-b1682107b308"
   },
   "outputs": [
    {
     "data": {
      "text/plain": [
       "7.869645595550537"
      ]
     },
     "execution_count": 48,
     "metadata": {},
     "output_type": "execute_result"
    }
   ],
   "source": [
    "start = time()\n",
    "# RAPIDS OFF  - 243.32\n",
    "# RAPIDS A100 - 7.87 (x30 speedup)\n",
    "\n",
    "#----------MEAN/MEDIAN DATA PREP--------------#\n",
    "df = pd.read_csv('Taxi_Trips__2013-2023__20241218.csv')  # read in data\n",
    "df = df.rename(columns={'Trip Total': 'trip_ttl'})  # abbreviate target column name\n",
    "df = df[df[\"trip_ttl\"]>0]\n",
    "\n",
    "df = df.sample(frac=1, random_state=42).reset_index(drop=True)\n",
    "split_index = int(0.8 * len(df))  # 80% train, 20% test\n",
    "train_df = df[:split_index]\n",
    "test_df = df[split_index:]\n",
    "del df\n",
    "\n",
    "X_test = test_df.drop(columns=[\"trip_ttl\"])\n",
    "y_test = test_df[\"trip_ttl\"]\n",
    "\n",
    "X_train = train_df.drop(columns=[\"trip_ttl\"])\n",
    "y_train = train_df[\"trip_ttl\"]\n",
    "\n",
    "#----------MEAN--------------#\n",
    "mean_fold_results = {\"avg\":[], \"mse\": [], \"rmse\": [], \"mae\": [], \"r2\": [], \"max_err\": []}\n",
    "\n",
    "\n",
    "y_pred = y_train.mean()\n",
    "mean_fold_results[\"avg\"].append(y_pred)\n",
    "\n",
    "mse = ((y_test - y_pred) ** 2).mean()\n",
    "mean_fold_results[\"mse\"].append(mse)\n",
    "mean_fold_results[\"rmse\"].append(mse  ** 0.5)\n",
    "mae = (y_test - y_pred).abs().mean()\n",
    "mean_fold_results[\"mae\"].append(mae)\n",
    "ss_residual = ((y_test - y_pred) ** 2).sum()\n",
    "ss_total = ((y_test - y_test.mean()) ** 2).sum()\n",
    "r_squared = 1 - (ss_residual / ss_total)\n",
    "mean_fold_results[\"r2\"].append(1 - (ss_residual / ss_total))\n",
    "mean_fold_results[\"max_err\"].append((y_test - y_pred).abs().max())\n",
    "\n",
    "\n",
    "#----------MEDIAN--------------#\n",
    "median_fold_results = {\"avg\":[], \"mse\": [], \"rmse\": [], \"mae\": [], \"r2\": [], \"max_err\": []}\n",
    "\n",
    "y_pred = y_train.median()\n",
    "median_fold_results[\"avg\"].append(y_pred)\n",
    "\n",
    "mse = ((y_test - y_pred) ** 2).mean()\n",
    "median_fold_results[\"mse\"].append(mse)\n",
    "median_fold_results[\"rmse\"].append(mse ** 0.5)\n",
    "mae = (y_test - y_pred).abs().mean()\n",
    "median_fold_results[\"mae\"].append(mae)\n",
    "ss_residual = ((y_test - y_pred) ** 2).sum()\n",
    "ss_total = ((y_test - y_test.mean()) ** 2).sum()\n",
    "r_squared = 1 - (ss_residual / ss_total)\n",
    "median_fold_results[\"r2\"].append(1 - (ss_residual / ss_total))\n",
    "median_fold_results[\"max_err\"].append((y_test - y_pred).abs().max())\n",
    "\n",
    "\n",
    "#---------------------XGB NAIVE DATA PREP---------------------#\n",
    "df = pd.read_csv('Taxi_Trips__2013-2023__20241218.csv')  # read in data\n",
    "df = df.rename(columns={'Trip Total': 'trip_ttl'})  # abbreviate target column name\n",
    "df = df[df[\"trip_ttl\"]>0]\n",
    "_ = df.sort_values([\"trip_ttl\"], ascending=False)[[\"trip_ttl\", \"Trip Seconds\", \"Trip Miles\"]]\n",
    "\n",
    "df = df.drop(columns=[\"Fare\", \"Tips\", \"Tolls\", \"Extras\"])\n",
    "df = df.drop(columns=[\"Trip ID\", \"Taxi ID\", \"Pickup Centroid Location\", \"Dropoff Centroid  Location\", \"Payment Type\", \"Company\"])\n",
    "\n",
    "df[\"Trip Start Timestamp\"] = pd.to_datetime(df[\"Trip Start Timestamp\"], format=\"%m/%d/%Y %I:%M:%S %p\")\n",
    "df[\"Trip End Timestamp\"] = pd.to_datetime(df[\"Trip End Timestamp\"], format=\"%m/%d/%Y %I:%M:%S %p\")\n",
    "df[\"Trip Start Timestamp\"] = (df[\"Trip Start Timestamp\"] - pd.Timestamp(\"1970-01-01\")) // pd.Timedelta('1s')\n",
    "df[\"Trip End Timestamp\"] = (df[\"Trip End Timestamp\"] - pd.Timestamp(\"1970-01-01\")) // pd.Timedelta('1s')\n",
    "\n",
    "df = df.sample(frac=1, random_state=42).reset_index(drop=True)\n",
    "split_index = int(0.8 * len(df))  # 80% train, 20% test\n",
    "train_df = df[:split_index]\n",
    "test_df = df[split_index:]\n",
    "del df\n",
    "\n",
    "X_test = test_df.drop(columns=[\"trip_ttl\"])\n",
    "y_test = test_df[\"trip_ttl\"]\n",
    "\n",
    "X_train = train_df.drop(columns=[\"trip_ttl\"])\n",
    "y_train = train_df[\"trip_ttl\"]\n",
    "\n",
    "\n",
    "#----------------XGB NAIVE-------------------#\n",
    "xgb_naive_fold_results = {\"avg\": [], \"mse\": [], \"rmse\": [], \"mae\": [], \"r2\": [], \"max_err\": []}\n",
    "\n",
    "\n",
    "# train\n",
    "xgb_model = xgb.XGBRegressor(device=xgb_device)\n",
    "\n",
    "xgb_model.fit(X_train, y_train)\n",
    "y_pred = xgb_model.predict(X_test)\n",
    "xgb_naive_fold_results[\"avg\"].append(y_pred.mean())\n",
    "\n",
    "# metrics\n",
    "mse = ((y_test - y_pred) ** 2).mean()\n",
    "xgb_naive_fold_results[\"mse\"].append(mse)\n",
    "xgb_naive_fold_results[\"rmse\"].append(mse ** 0.5)\n",
    "mae = (y_test - y_pred).abs().mean()\n",
    "xgb_naive_fold_results[\"mae\"].append(mae)\n",
    "ss_residual = ((y_test - y_pred) ** 2).sum()\n",
    "ss_total = ((y_test - y_test.mean()) ** 2).sum()\n",
    "r_squared = 1 - (ss_residual / ss_total)\n",
    "xgb_naive_fold_results[\"r2\"].append(1 - (ss_residual / ss_total))\n",
    "xgb_naive_fold_results[\"max_err\"].append((y_test - y_pred).abs().max())\n",
    "\n",
    "\n",
    "#----------------------XGB FEATURE ENGINEERING - DATA PREP-----------------------#\n",
    "df = pd.read_csv('Taxi_Trips__2013-2023__20241218.csv')  # read in data\n",
    "df = df.rename(columns={'Trip Total': 'trip_ttl'})  # abbreviate target column name\n",
    "df = df.drop(columns=[\"Fare\", \"Tips\", \"Tolls\", \"Extras\"])\n",
    "df = df.drop(columns=[\"Trip ID\", \"Taxi ID\"])\n",
    "\n",
    "df[\"Trip Start Timestamp\"] = pd.to_datetime(df[\"Trip Start Timestamp\"], format=\"%m/%d/%Y %I:%M:%S %p\")\n",
    "df[\"Trip End Timestamp\"] = pd.to_datetime(df[\"Trip End Timestamp\"], format=\"%m/%d/%Y %I:%M:%S %p\")\n",
    "\n",
    "df = df[df[\"trip_ttl\"]>0]\n",
    "_ = df.nunique().sort_values()\n",
    "\n",
    "target = [\"trip_ttl\"]\n",
    "num_cols = [\"Pickup Centroid Latitude\", \"Pickup Centroid Longitude\", \"Dropoff Centroid Latitude\", \"Dropoff Centroid Longitude\", \"Trip Miles\", \"Trip Seconds\", \"Trip Start Timestamp\", \"Trip End Timestamp\"]\n",
    "cat_cols = list(set(df.columns) - set(target + num_cols))\n",
    "\n",
    "for col in num_cols:\n",
    "  df[col] = df[col].fillna(df[col].mean())\n",
    "\n",
    "df[cat_cols] = df[cat_cols].fillna(df[cat_cols].mode().iloc[0])\n",
    "\n",
    "df.sort_values([\"trip_ttl\", \"Trip Seconds\", \"Trip Miles\"], ascending=False)[[\"trip_ttl\", \"Trip Seconds\", \"Trip Miles\", \"Payment Type\"]]\n",
    "\n",
    "df = df[(df['Trip Seconds'] * df['Trip Miles']) > 0]\n",
    "\n",
    "def filter_by_modified_z_score(df, column, threshold=4.0):\n",
    "    # median and MAD (median abs deviation)\n",
    "    median = df[column].median()\n",
    "    mad = (df[column] - median).abs().median()\n",
    "    return df[(0.6745 * (df[column] - median) / mad).abs() <= threshold]\n",
    "\n",
    "df = filter_by_modified_z_score(df, \"trip_ttl\", threshold=3.5)\n",
    "_ = df.sort_values([\"trip_ttl\", \"Trip Seconds\", \"Trip Miles\"], ascending=False)[[\"trip_ttl\", \"Trip Seconds\", \"Trip Miles\"]]\n",
    "\n",
    "### Feature Extraction\n",
    "\n",
    "df['avg_speed'] = df['Trip Miles'] / (df['Trip Seconds'] / 3600)\n",
    "num_cols.append('avg_speed')\n",
    "\n",
    "df['day_of_week'] = df['Trip Start Timestamp'].dt.dayofweek\n",
    "df['hour_of_day'] = df['Trip Start Timestamp'].dt.hour\n",
    "df['month'] = df['Trip Start Timestamp'].dt.month\n",
    "df['year'] = df['Trip Start Timestamp'].dt.year\n",
    "cat_cols.extend(['day_of_week', 'hour_of_day', 'month', 'year'])\n",
    "\n",
    "# convert to timestamp seconds since epoch\n",
    "df['Trip Start Timestamp'] = df['Trip Start Timestamp'].astype(int) // 10**9\n",
    "df['Trip End Timestamp'] = df['Trip End Timestamp'].astype(int) // 10**9\n",
    "\n",
    "num_cols.extend(['Trip Start Timestamp', 'Trip End Timestamp'])\n",
    "\n",
    "for col in cat_cols:\n",
    "  df[col] = df[col].map(df.groupby(col)[\"trip_ttl\"].mean())\n",
    "\n",
    "_ = df.sort_values(\"trip_ttl\", ascending=False)\n",
    "\n",
    "df = df.replace([np.inf, -np.inf], np.nan).dropna()\n",
    "\n",
    "df = df.sample(frac=1, random_state=42).reset_index(drop=True)\n",
    "split_index = int(0.8 * len(df))  # 80% train, 20% test\n",
    "train_df = df[:split_index]\n",
    "test_df = df[split_index:]\n",
    "del df\n",
    "\n",
    "X_test = test_df.drop(columns=[\"trip_ttl\"])\n",
    "y_test = test_df[\"trip_ttl\"]\n",
    "\n",
    "X_train = train_df.drop(columns=[\"trip_ttl\"])\n",
    "y_train = train_df[\"trip_ttl\"]\n",
    "\n",
    "\n",
    "#--------------------XGB FE----------------------------#\n",
    "xgb_fe_fold_results = {\"avg\": [], \"mse\": [], \"rmse\": [], \"mae\": [], \"r2\": [], \"max_err\": []}\n",
    "\n",
    "# train\n",
    "xgb_model = xgb.XGBRegressor(device=xgb_device)\n",
    "\n",
    "xgb_model.fit(X_train, y_train)\n",
    "y_pred = xgb_model.predict(X_test)\n",
    "xgb_fe_fold_results[\"avg\"].append(y_pred.mean())\n",
    "\n",
    "# metrics\n",
    "mse = ((y_test - y_pred) ** 2).mean()\n",
    "xgb_fe_fold_results[\"mse\"].append(mse)\n",
    "xgb_fe_fold_results[\"rmse\"].append(mse ** 0.5)\n",
    "mae = (y_test - y_pred).abs().mean()\n",
    "xgb_fe_fold_results[\"mae\"].append(mae)\n",
    "ss_residual = ((y_test - y_pred) ** 2).sum()\n",
    "ss_total = ((y_test - y_test.mean()) ** 2).sum()\n",
    "r_squared = 1 - (ss_residual / ss_total)\n",
    "xgb_fe_fold_results[\"r2\"].append(1 - (ss_residual / ss_total))\n",
    "xgb_fe_fold_results[\"max_err\"].append((y_test - y_pred).abs().max())\n",
    "\n",
    "\n",
    "#--------------XGB HYPERPARAMETER TUNING--------------#\n",
    "xgb_tune_fold_results = {\"avg\": [], \"mse\": [], \"rmse\": [], \"mae\": [], \"r2\": [], \"max_err\": []}\n",
    "\n",
    "# train\n",
    "xgb_model = xgb.XGBRegressor(device=xgb_device,\n",
    "                              n_estimators=500,\n",
    "                              learning_rate=0.05,\n",
    "                              max_depth=6,\n",
    "                              eval_metric=\"mae\",\n",
    "                              objective=\"reg:gamma\",\n",
    "                              min_child_weight=5\n",
    ")\n",
    "\n",
    "xgb_model.fit(X_train, y_train)\n",
    "y_pred = xgb_model.predict(X_test)\n",
    "xgb_tune_fold_results[\"avg\"].append(y_pred.mean())\n",
    "\n",
    "mse = ((y_test - y_pred) ** 2).mean()\n",
    "xgb_tune_fold_results[\"mse\"].append(mse)\n",
    "xgb_tune_fold_results[\"rmse\"].append(mse ** 0.5)\n",
    "mae = (y_test - y_pred).abs().mean()\n",
    "xgb_tune_fold_results[\"mae\"].append(mae)\n",
    "ss_residual = ((y_test - y_pred) ** 2).sum()\n",
    "ss_total = ((y_test - y_test.mean()) ** 2).sum()\n",
    "r_squared = 1 - (ss_residual / ss_total)\n",
    "xgb_tune_fold_results[\"r2\"].append(1 - (ss_residual / ss_total))\n",
    "xgb_tune_fold_results[\"max_err\"].append((y_test - y_pred).abs().max())\n",
    "\n",
    "time() - start"
   ]
  },
  {
   "cell_type": "markdown",
   "metadata": {
    "id": "kiEz2uNxMfPk"
   },
   "source": [
    "<br/>"
   ]
  },
  {
   "cell_type": "markdown",
   "metadata": {
    "id": "8_cbUcIQMfSR"
   },
   "source": [
    "<br/>"
   ]
  },
  {
   "cell_type": "markdown",
   "metadata": {
    "id": "bMsJ9rylMfVF"
   },
   "source": [
    "<br/>"
   ]
  },
  {
   "cell_type": "markdown",
   "metadata": {
    "id": "1uCtgAUmMfX5"
   },
   "source": [
    "<br/>"
   ]
  },
  {
   "cell_type": "markdown",
   "metadata": {
    "id": "kmaE7PxBL5_z"
   },
   "source": [
    "### results\n",
    "##### This section is the visual analysis of the previous section on model building"
   ]
  },
  {
   "cell_type": "code",
   "execution_count": 49,
   "metadata": {
    "colab": {
     "base_uri": "https://localhost:8080/",
     "height": 206
    },
    "id": "wmZyiVx7Jj_n",
    "outputId": "01e6c248-573b-47f2-d0bc-984c29b78388"
   },
   "outputs": [
    {
     "data": {
      "application/vnd.google.colaboratory.intrinsic+json": {
       "summary": "{\n  \"name\": \"all_results\",\n  \"rows\": 5,\n  \"fields\": [\n    {\n      \"column\": \"model\",\n      \"properties\": {\n        \"dtype\": \"string\",\n        \"num_unique_values\": 5,\n        \"samples\": [\n          \"median\",\n          \"xgb_tuned\",\n          \"mean\"\n        ],\n        \"semantic_type\": \"\",\n        \"description\": \"\"\n      }\n    },\n    {\n      \"column\": \"avg\",\n      \"properties\": {\n        \"dtype\": \"number\",\n        \"std\": 4.201291468108349,\n        \"min\": 9.75,\n        \"max\": 17.66,\n        \"num_unique_values\": 4,\n        \"samples\": [\n          17.6,\n          10.07,\n          17.66\n        ],\n        \"semantic_type\": \"\",\n        \"description\": \"\"\n      }\n    },\n    {\n      \"column\": \"mse\",\n      \"properties\": {\n        \"dtype\": \"number\",\n        \"std\": 4062.9513966856653,\n        \"min\": 1.09,\n        \"max\": 7702.04,\n        \"num_unique_values\": 4,\n        \"samples\": [\n          7641.96,\n          1.09,\n          6833.55\n        ],\n        \"semantic_type\": \"\",\n        \"description\": \"\"\n      }\n    },\n    {\n      \"column\": \"rmse\",\n      \"properties\": {\n        \"dtype\": \"number\",\n        \"std\": 46.5478954411475,\n        \"min\": 1.04,\n        \"max\": 87.76,\n        \"num_unique_values\": 5,\n        \"samples\": [\n          87.76,\n          1.04,\n          87.42\n        ],\n        \"semantic_type\": \"\",\n        \"description\": \"\"\n      }\n    },\n    {\n      \"column\": \"mae\",\n      \"properties\": {\n        \"dtype\": \"number\",\n        \"std\": 5.715149166907194,\n        \"min\": 0.69,\n        \"max\": 13.35,\n        \"num_unique_values\": 5,\n        \"samples\": [\n          10.45,\n          0.69,\n          13.35\n        ],\n        \"semantic_type\": \"\",\n        \"description\": \"\"\n      }\n    },\n    {\n      \"column\": \"r2\",\n      \"properties\": {\n        \"dtype\": \"number\",\n        \"std\": 0.5015675428095402,\n        \"min\": -0.01,\n        \"max\": 0.95,\n        \"num_unique_values\": 5,\n        \"samples\": [\n          -0.01,\n          0.95,\n          -0.0\n        ],\n        \"semantic_type\": \"\",\n        \"description\": \"\"\n      }\n    },\n    {\n      \"column\": \"max_err\",\n      \"properties\": {\n        \"dtype\": \"number\",\n        \"std\": 5147.859581799992,\n        \"min\": 22.55,\n        \"max\": 9690.5,\n        \"num_unique_values\": 5,\n        \"samples\": [\n          9690.5,\n          22.55,\n          9682.65\n        ],\n        \"semantic_type\": \"\",\n        \"description\": \"\"\n      }\n    }\n  ]\n}",
       "type": "dataframe"
      },
      "text/html": [
       "<div>\n",
       "<style scoped>\n",
       "    .dataframe tbody tr th:only-of-type {\n",
       "        vertical-align: middle;\n",
       "    }\n",
       "\n",
       "    .dataframe tbody tr th {\n",
       "        vertical-align: top;\n",
       "    }\n",
       "\n",
       "    .dataframe thead th {\n",
       "        text-align: right;\n",
       "    }\n",
       "</style>\n",
       "<table border=\"1\" class=\"dataframe\">\n",
       "  <thead>\n",
       "    <tr style=\"text-align: right;\">\n",
       "      <th></th>\n",
       "      <th>model</th>\n",
       "      <th>avg</th>\n",
       "      <th>mse</th>\n",
       "      <th>rmse</th>\n",
       "      <th>mae</th>\n",
       "      <th>r2</th>\n",
       "      <th>max_err</th>\n",
       "    </tr>\n",
       "  </thead>\n",
       "  <tbody>\n",
       "    <tr>\n",
       "      <th>0</th>\n",
       "      <td>xgb_tuned</td>\n",
       "      <td>10.07</td>\n",
       "      <td>1.09</td>\n",
       "      <td>1.04</td>\n",
       "      <td>0.69</td>\n",
       "      <td>0.95</td>\n",
       "      <td>22.55</td>\n",
       "    </tr>\n",
       "    <tr>\n",
       "      <th>0</th>\n",
       "      <td>xgb_fe</td>\n",
       "      <td>10.07</td>\n",
       "      <td>1.09</td>\n",
       "      <td>1.05</td>\n",
       "      <td>0.70</td>\n",
       "      <td>0.94</td>\n",
       "      <td>24.45</td>\n",
       "    </tr>\n",
       "    <tr>\n",
       "      <th>0</th>\n",
       "      <td>xgb_naïve</td>\n",
       "      <td>17.66</td>\n",
       "      <td>6833.55</td>\n",
       "      <td>82.67</td>\n",
       "      <td>5.24</td>\n",
       "      <td>0.11</td>\n",
       "      <td>8827.88</td>\n",
       "    </tr>\n",
       "    <tr>\n",
       "      <th>0</th>\n",
       "      <td>median</td>\n",
       "      <td>9.75</td>\n",
       "      <td>7702.04</td>\n",
       "      <td>87.76</td>\n",
       "      <td>10.45</td>\n",
       "      <td>-0.01</td>\n",
       "      <td>9690.50</td>\n",
       "    </tr>\n",
       "    <tr>\n",
       "      <th>0</th>\n",
       "      <td>mean</td>\n",
       "      <td>17.60</td>\n",
       "      <td>7641.96</td>\n",
       "      <td>87.42</td>\n",
       "      <td>13.35</td>\n",
       "      <td>-0.00</td>\n",
       "      <td>9682.65</td>\n",
       "    </tr>\n",
       "  </tbody>\n",
       "</table>\n",
       "</div>"
      ],
      "text/plain": [
       "       model    avg      mse   rmse    mae    r2  max_err\n",
       "0  xgb_tuned  10.07     1.09   1.04   0.69  0.95    22.55\n",
       "0     xgb_fe  10.07     1.09   1.05   0.70  0.94    24.45\n",
       "0  xgb_naïve  17.66  6833.55  82.67   5.24  0.11  8827.88\n",
       "0     median   9.75  7702.04  87.76  10.45 -0.01  9690.50\n",
       "0       mean  17.60  7641.96  87.42  13.35 -0.00  9682.65"
      ]
     },
     "execution_count": 49,
     "metadata": {},
     "output_type": "execute_result"
    }
   ],
   "source": [
    "mean_fold_results_df = pd.DataFrame(mean_fold_results)\n",
    "mean_results_df = pd.DataFrame({'model': 'mean',**mean_fold_results_df.drop(columns=['max_err']).mean(), 'max_err': mean_fold_results_df['max_err'].max()}, index=[0])\n",
    "\n",
    "median_fold_results_df = pd.DataFrame(median_fold_results)\n",
    "median_results_df = pd.DataFrame({'model': 'median', **median_fold_results_df.drop(columns=['max_err']).mean(), 'max_err': median_fold_results_df['max_err'].max()}, index=[0])\n",
    "\n",
    "xgb_naïve_fold_results_df = pd.DataFrame(xgb_naive_fold_results)\n",
    "xgb_naïve_results_df = pd.DataFrame({'model': 'xgb_naïve',**xgb_naïve_fold_results_df.drop(columns=['max_err']).mean(), 'max_err': xgb_naïve_fold_results_df['max_err'].max()}, index=[0])\n",
    "\n",
    "xgb_fe_fold_results_df = pd.DataFrame(xgb_fe_fold_results)\n",
    "xgb_fe_results_df = pd.DataFrame({'model': 'xgb_fe',**xgb_fe_fold_results_df.drop(columns=['max_err']).mean(), 'max_err': xgb_fe_fold_results_df['max_err'].max()}, index=[0])\n",
    "\n",
    "xgb_tuned_fold_results_df = pd.DataFrame(xgb_tune_fold_results)\n",
    "xgb_tuned_results_df = pd.DataFrame({'model': 'xgb_tuned',**xgb_tuned_fold_results_df.drop(columns=['max_err']).mean(), 'max_err': xgb_tuned_fold_results_df['max_err'].max()}, index=[0])\n",
    "\n",
    "all_results = pd.concat([mean_results_df, median_results_df, xgb_naïve_results_df, xgb_fe_results_df, xgb_tuned_results_df]).sort_values(by=[\"mae\", \"mse\", \"rmse\", \"r2\", \"max_err\"], ascending=[True, True, True, False, True])\n",
    "\n",
    "all_results.round(2)"
   ]
  },
  {
   "cell_type": "code",
   "execution_count": 50,
   "metadata": {
    "colab": {
     "base_uri": "https://localhost:8080/",
     "height": 143
    },
    "id": "fpgm2ZpUgsBr",
    "outputId": "ff4ab3c4-cb3d-44dc-dd0e-1f0249ddbcbb"
   },
   "outputs": [
    {
     "data": {
      "application/vnd.google.colaboratory.intrinsic+json": {
       "summary": "{\n  \"name\": \"all_results\",\n  \"rows\": 3,\n  \"fields\": [\n    {\n      \"column\": \"model\",\n      \"properties\": {\n        \"dtype\": \"string\",\n        \"num_unique_values\": 3,\n        \"samples\": [\n          \"xgb_na\\u00efve\",\n          \"median\",\n          \"mean\"\n        ],\n        \"semantic_type\": \"\",\n        \"description\": \"\"\n      }\n    },\n    {\n      \"column\": \"avg\",\n      \"properties\": {\n        \"dtype\": \"number\",\n        \"std\": 4.549619031669941,\n        \"min\": 9.75,\n        \"max\": 17.66,\n        \"num_unique_values\": 3,\n        \"samples\": [\n          17.66,\n          9.75,\n          17.6\n        ],\n        \"semantic_type\": \"\",\n        \"description\": \"\"\n      }\n    },\n    {\n      \"column\": \"mse\",\n      \"properties\": {\n        \"dtype\": \"number\",\n        \"std\": 485.01051785846175,\n        \"min\": 6833.55,\n        \"max\": 7702.04,\n        \"num_unique_values\": 3,\n        \"samples\": [\n          6833.55,\n          7702.04,\n          7641.96\n        ],\n        \"semantic_type\": \"\",\n        \"description\": \"\"\n      }\n    },\n    {\n      \"column\": \"rmse\",\n      \"properties\": {\n        \"dtype\": \"number\",\n        \"std\": 2.8456457966514392,\n        \"min\": 82.67,\n        \"max\": 87.76,\n        \"num_unique_values\": 3,\n        \"samples\": [\n          82.67,\n          87.76,\n          87.42\n        ],\n        \"semantic_type\": \"\",\n        \"description\": \"\"\n      }\n    },\n    {\n      \"column\": \"mae\",\n      \"properties\": {\n        \"dtype\": \"number\",\n        \"std\": 4.109464685333115,\n        \"min\": 5.24,\n        \"max\": 13.35,\n        \"num_unique_values\": 3,\n        \"samples\": [\n          5.24,\n          10.45,\n          13.35\n        ],\n        \"semantic_type\": \"\",\n        \"description\": \"\"\n      }\n    },\n    {\n      \"column\": \"r2\",\n      \"properties\": {\n        \"dtype\": \"number\",\n        \"std\": 0.06658328118479392,\n        \"min\": -0.01,\n        \"max\": 0.11,\n        \"num_unique_values\": 3,\n        \"samples\": [\n          0.11,\n          -0.01,\n          -0.0\n        ],\n        \"semantic_type\": \"\",\n        \"description\": \"\"\n      }\n    },\n    {\n      \"column\": \"max_err\",\n      \"properties\": {\n        \"dtype\": \"number\",\n        \"std\": 495.78332629620974,\n        \"min\": 8827.88,\n        \"max\": 9690.5,\n        \"num_unique_values\": 3,\n        \"samples\": [\n          8827.88,\n          9690.5,\n          9682.65\n        ],\n        \"semantic_type\": \"\",\n        \"description\": \"\"\n      }\n    }\n  ]\n}",
       "type": "dataframe"
      },
      "text/html": [
       "<div>\n",
       "<style scoped>\n",
       "    .dataframe tbody tr th:only-of-type {\n",
       "        vertical-align: middle;\n",
       "    }\n",
       "\n",
       "    .dataframe tbody tr th {\n",
       "        vertical-align: top;\n",
       "    }\n",
       "\n",
       "    .dataframe thead th {\n",
       "        text-align: right;\n",
       "    }\n",
       "</style>\n",
       "<table border=\"1\" class=\"dataframe\">\n",
       "  <thead>\n",
       "    <tr style=\"text-align: right;\">\n",
       "      <th></th>\n",
       "      <th>model</th>\n",
       "      <th>avg</th>\n",
       "      <th>mse</th>\n",
       "      <th>rmse</th>\n",
       "      <th>mae</th>\n",
       "      <th>r2</th>\n",
       "      <th>max_err</th>\n",
       "    </tr>\n",
       "  </thead>\n",
       "  <tbody>\n",
       "    <tr>\n",
       "      <th>0</th>\n",
       "      <td>xgb_naïve</td>\n",
       "      <td>17.66</td>\n",
       "      <td>6833.55</td>\n",
       "      <td>82.67</td>\n",
       "      <td>5.24</td>\n",
       "      <td>0.11</td>\n",
       "      <td>8827.88</td>\n",
       "    </tr>\n",
       "    <tr>\n",
       "      <th>0</th>\n",
       "      <td>median</td>\n",
       "      <td>9.75</td>\n",
       "      <td>7702.04</td>\n",
       "      <td>87.76</td>\n",
       "      <td>10.45</td>\n",
       "      <td>-0.01</td>\n",
       "      <td>9690.50</td>\n",
       "    </tr>\n",
       "    <tr>\n",
       "      <th>0</th>\n",
       "      <td>mean</td>\n",
       "      <td>17.60</td>\n",
       "      <td>7641.96</td>\n",
       "      <td>87.42</td>\n",
       "      <td>13.35</td>\n",
       "      <td>-0.00</td>\n",
       "      <td>9682.65</td>\n",
       "    </tr>\n",
       "  </tbody>\n",
       "</table>\n",
       "</div>"
      ],
      "text/plain": [
       "       model    avg      mse   rmse    mae    r2  max_err\n",
       "0  xgb_naïve  17.66  6833.55  82.67   5.24  0.11  8827.88\n",
       "0     median   9.75  7702.04  87.76  10.45 -0.01  9690.50\n",
       "0       mean  17.60  7641.96  87.42  13.35 -0.00  9682.65"
      ]
     },
     "execution_count": 50,
     "metadata": {},
     "output_type": "execute_result"
    }
   ],
   "source": [
    "mean_fold_results_df = pd.DataFrame(mean_fold_results)\n",
    "mean_results_df = pd.DataFrame({'model': 'mean',**mean_fold_results_df.drop(columns=['max_err']).mean(), 'max_err': mean_fold_results_df['max_err'].max()}, index=[0])\n",
    "\n",
    "median_fold_results_df = pd.DataFrame(median_fold_results)\n",
    "median_results_df = pd.DataFrame({'model': 'median', **median_fold_results_df.drop(columns=['max_err']).mean(), 'max_err': median_fold_results_df['max_err'].max()}, index=[0])\n",
    "\n",
    "xgb_naïve_fold_results_df = pd.DataFrame(xgb_naive_fold_results)\n",
    "xgb_naïve_results_df = pd.DataFrame({'model': 'xgb_naïve',**xgb_naïve_fold_results_df.drop(columns=['max_err']).mean(), 'max_err': xgb_naïve_fold_results_df['max_err'].max()}, index=[0])\n",
    "\n",
    "all_results = pd.concat([mean_results_df, median_results_df, xgb_naïve_results_df]).sort_values(by=[\"mae\", \"mse\", \"rmse\", \"r2\", \"max_err\"], ascending=[True, True, True, False, True])\n",
    "\n",
    "all_results.round(2)"
   ]
  },
  {
   "cell_type": "code",
   "execution_count": 51,
   "metadata": {
    "colab": {
     "base_uri": "https://localhost:8080/",
     "height": 807
    },
    "id": "WUKUGlQ1LotY",
    "outputId": "abd9ce4d-b628-42fb-8976-fb6fe53ce9f4"
   },
   "outputs": [
    {
     "data": {
      "image/png": "[encoded data removed]",
      "text/plain": [
       "<Figure size 1100x800 with 5 Axes>"
      ]
     },
     "metadata": {},
     "output_type": "display_data"
    }
   ],
   "source": [
    "melted_df = all_results.melt(id_vars='model', var_name='metric', value_name='value')\n",
    "filtered_df = melted_df[melted_df['metric'] != 'avg']\n",
    "unique_metrics = filtered_df['metric'].unique()\n",
    "n_metrics = len(unique_metrics)\n",
    "n_cols = 2\n",
    "n_rows = (n_metrics + 1) // n_cols\n",
    "\n",
    "fig, axes = plt.subplots(n_rows, n_cols, figsize=(11, 8))\n",
    "axes = axes.flatten()\n",
    "\n",
    "for i, metric in enumerate(unique_metrics):\n",
    "    ax = axes[i]\n",
    "    sns.barplot(\n",
    "        x='model',\n",
    "        y='value',\n",
    "        hue='model',  # Assign 'model' to hue\n",
    "        data=filtered_df[filtered_df['metric'] == metric],\n",
    "        palette='viridis',\n",
    "        ax=ax,\n",
    "        dodge=False)\n",
    "\n",
    "    ax.set_title(f'Comparison of {metric.upper()}')\n",
    "    ax.set_ylabel(metric.upper())\n",
    "    ax.set_xlabel('Model')\n",
    "\n",
    "for j in range(i + 1, len(axes)):\n",
    "    fig.delaxes(axes[j])\n",
    "\n",
    "plt.tight_layout()\n",
    "plt.show()"
   ]
  },
  {
   "cell_type": "code",
   "execution_count": 52,
   "metadata": {
    "colab": {
     "base_uri": "https://localhost:8080/",
     "height": 718
    },
    "id": "1DnDKRwGhDeO",
    "outputId": "9e54403a-c3f9-428d-a6e8-2089860cfe11"
   },
   "outputs": [
    {
     "data": {
      "image/png": "[encoded data removed]",
      "text/plain": [
       "<Figure size 1000x800 with 1 Axes>"
      ]
     },
     "metadata": {},
     "output_type": "display_data"
    }
   ],
   "source": [
    "booster = xgb_model.get_booster()\n",
    "importance = booster.get_score(importance_type='weight')  # You can also use 'gain', 'cover', etc.\n",
    "\n",
    "# Convert to DataFrame\n",
    "importance_df = pd.DataFrame({\n",
    "    'Feature': list(importance.keys()),\n",
    "    'Importance': list(importance.values())\n",
    "})\n",
    "\n",
    "# Sort by importance\n",
    "importance_df = importance_df.sort_values(by='Importance', ascending=False)\n",
    "\n",
    "# Plot using Seaborn\n",
    "plt.figure(figsize=(10, 8))\n",
    "sns.barplot(x='Importance', y='Feature', data=importance_df, hue='Feature', palette=\"viridis\", dodge=False, legend=False)\n",
    "plt.title('Feature Importance')\n",
    "plt.xlabel('Importance Score')\n",
    "plt.ylabel('Features')\n",
    "plt.show()"
   ]
  },
  {
   "cell_type": "markdown",
   "metadata": {
    "id": "BsdHucCegnAw"
   },
   "source": [
    "<br/>"
   ]
  },
  {
   "cell_type": "markdown",
   "metadata": {
    "id": "P2ryD33agnJ4"
   },
   "source": [
    "<br/>"
   ]
  },
  {
   "cell_type": "markdown",
   "metadata": {
    "id": "nKUOINVvMd-Q"
   },
   "source": [
    "<br/>"
   ]
  },
  {
   "cell_type": "markdown",
   "metadata": {
    "id": "VKEvGJojMeDJ"
   },
   "source": [
    "<br/>"
   ]
  },
  {
   "cell_type": "markdown",
   "metadata": {
    "id": "RTnb6r00MeIv"
   },
   "source": [
    "<br/>"
   ]
  },
  {
   "cell_type": "markdown",
   "metadata": {
    "id": "vXCYymtlMeLt"
   },
   "source": [
    "<br/>"
   ]
  },
  {
   "cell_type": "markdown",
   "metadata": {
    "id": "LaUfZ78VMePB"
   },
   "source": [
    "<br/>"
   ]
  },
  {
   "cell_type": "markdown",
   "metadata": {
    "id": "6GjOYpXVMeSC"
   },
   "source": [
    "<br/>"
   ]
  },
  {
   "cell_type": "markdown",
   "metadata": {
    "id": "Ku_M8S7E4X4w"
   },
   "source": [
    "# XGBoost Automated  Tuning\n",
    "### This section is sample code on applying Hyperparameter Optimization for XGBoost using Optuna and showcases that many more trials can be run with NVIDIA cuML and NVIDIA cuDF, than without...in the same time span\n",
    "### Find more details on Optuna here:\n",
    "https://optuna.org/"
   ]
  },
  {
   "cell_type": "code",
   "execution_count": 53,
   "metadata": {
    "colab": {
     "base_uri": "https://localhost:8080/"
    },
    "id": "XKKLHMNb6zuY",
    "outputId": "13e5b9f1-5857-4c29-8930-8dc2d01e167d"
   },
   "outputs": [
    {
     "name": "stderr",
     "output_type": "stream",
     "text": [
      "/usr/local/lib/python3.11/dist-packages/cudf/pandas/__init__.py:65: UserWarning: cudf.pandas detected an already configured memory resource, ignoring 'CUDF_PANDAS_RMM_MODE'=managed_pool\n",
      "  warnings.warn(\n"
     ]
    }
   ],
   "source": [
    "%reload_ext cudf.pandas"
   ]
  },
  {
   "cell_type": "code",
   "execution_count": 54,
   "metadata": {
    "colab": {
     "base_uri": "https://localhost:8080/"
    },
    "id": "oXLX_TN_4g6d",
    "outputId": "39c36081-f416-49df-df9c-fc0fb2e56d80"
   },
   "outputs": [
    {
     "name": "stdout",
     "output_type": "stream",
     "text": [
      "\u001b[?25l   \u001b[90m━━━━━━━━━━━━━━━━━━━━━━━━━━━━━━━━━━━━━━━━\u001b[0m \u001b[32m0.0/395.9 kB\u001b[0m \u001b[31m?\u001b[0m eta \u001b[36m-:--:--\u001b[0m\r",
      "\u001b[2K   \u001b[90m━━━━━━━━━━━━━━━━━━━━━━━━━━━━━━━━━━━━━━━━\u001b[0m \u001b[32m395.9/395.9 kB\u001b[0m \u001b[31m27.2 MB/s\u001b[0m eta \u001b[36m0:00:00\u001b[0m\n",
      "\u001b[?25h\u001b[?25l   \u001b[90m━━━━━━━━━━━━━━━━━━━━━━━━━━━━━━━━━━━━━━━━\u001b[0m \u001b[32m0.0/242.7 kB\u001b[0m \u001b[31m?\u001b[0m eta \u001b[36m-:--:--\u001b[0m\r",
      "\u001b[2K   \u001b[90m━━━━━━━━━━━━━━━━━━━━━━━━━━━━━━━━━━━━━━━━\u001b[0m \u001b[32m242.7/242.7 kB\u001b[0m \u001b[31m19.7 MB/s\u001b[0m eta \u001b[36m0:00:00\u001b[0m\n",
      "\u001b[?25h"
     ]
    }
   ],
   "source": [
    "!pip install -q optuna"
   ]
  },
  {
   "cell_type": "code",
   "execution_count": 55,
   "metadata": {
    "id": "RqCfSL33Vksu"
   },
   "outputs": [],
   "source": [
    "import optuna"
   ]
  },
  {
   "cell_type": "code",
   "execution_count": 56,
   "metadata": {
    "id": "kf2o6RAS6zuY"
   },
   "outputs": [],
   "source": [
    "df = pd.read_csv('Taxi_Trips__2013-2023__20241218.csv')  # read in data\n",
    "df = df.rename(columns={'Trip Total': 'trip_ttl'})  # abbreviate target column name\n",
    "df = df.drop(columns=[\"Fare\", \"Tips\", \"Tolls\", \"Extras\"])\n",
    "df = df.drop(columns=[\"Trip ID\", \"Taxi ID\"])\n",
    "\n",
    "df[\"Trip Start Timestamp\"] = pd.to_datetime(df[\"Trip Start Timestamp\"], format=\"%m/%d/%Y %I:%M:%S %p\")\n",
    "df[\"Trip End Timestamp\"] = pd.to_datetime(df[\"Trip End Timestamp\"], format=\"%m/%d/%Y %I:%M:%S %p\")\n",
    "\n",
    "df = df[df[\"trip_ttl\"]>0]\n",
    "_ = df.nunique().sort_values()\n",
    "\n",
    "target = [\"trip_ttl\"]\n",
    "num_cols = [\"Pickup Centroid Latitude\", \"Pickup Centroid Longitude\", \"Dropoff Centroid Latitude\", \"Dropoff Centroid Longitude\", \"Trip Miles\", \"Trip Seconds\", \"Trip Start Timestamp\", \"Trip End Timestamp\"]\n",
    "cat_cols = list(set(df.columns) - set(target + num_cols))\n",
    "\n",
    "for col in num_cols:\n",
    "  df[col] = df[col].fillna(df[col].mean())\n",
    "\n",
    "df[cat_cols] = df[cat_cols].fillna(df[cat_cols].mode().iloc[0])\n",
    "\n",
    "df.sort_values([\"trip_ttl\", \"Trip Seconds\", \"Trip Miles\"], ascending=False)[[\"trip_ttl\", \"Trip Seconds\", \"Trip Miles\", \"Payment Type\"]]\n",
    "\n",
    "df = df[(df['Trip Seconds'] * df['Trip Miles']) > 0]\n",
    "\n",
    "def filter_by_modified_z_score(df, column, threshold=4.0):\n",
    "    # median and MAD (median abs deviation)\n",
    "    median = df[column].median()\n",
    "    mad = (df[column] - median).abs().median()\n",
    "    return df[(0.6745 * (df[column] - median) / mad).abs() <= threshold]\n",
    "\n",
    "df = filter_by_modified_z_score(df, \"trip_ttl\", threshold=3.5)\n",
    "_ = df.sort_values([\"trip_ttl\", \"Trip Seconds\", \"Trip Miles\"], ascending=False)[[\"trip_ttl\", \"Trip Seconds\", \"Trip Miles\"]]\n",
    "\n",
    "### Feature Extraction\n",
    "\n",
    "df['avg_speed'] = df['Trip Miles'] / (df['Trip Seconds'] / 3600)\n",
    "num_cols.append('avg_speed')\n",
    "\n",
    "df['day_of_week'] = df['Trip Start Timestamp'].dt.dayofweek\n",
    "df['hour_of_day'] = df['Trip Start Timestamp'].dt.hour\n",
    "df['month'] = df['Trip Start Timestamp'].dt.month\n",
    "df['year'] = df['Trip Start Timestamp'].dt.year\n",
    "cat_cols.extend(['day_of_week', 'hour_of_day', 'month', 'year'])\n",
    "\n",
    "# convert to timestamp seconds since epoch\n",
    "df['Trip Start Timestamp'] = df['Trip Start Timestamp'].astype(int) // 10**9\n",
    "df['Trip End Timestamp'] = df['Trip End Timestamp'].astype(int) // 10**9\n",
    "\n",
    "num_cols.extend(['Trip Start Timestamp', 'Trip End Timestamp'])\n",
    "\n",
    "for col in cat_cols:\n",
    "  df[col] = df[col].map(df.groupby(col)[\"trip_ttl\"].mean())\n",
    "\n",
    "_ = df.sort_values(\"trip_ttl\", ascending=False)\n",
    "\n",
    "df = df.replace([np.inf, -np.inf], np.nan).dropna()\n",
    "\n",
    "df = df.sample(frac=1, random_state=42).reset_index(drop=True)\n"
   ]
  },
  {
   "cell_type": "code",
   "execution_count": 57,
   "metadata": {
    "id": "PeNCk5sp7i6k"
   },
   "outputs": [],
   "source": [
    "def xgb_params_objective(trial):\n",
    "\n",
    "  xgb_params = {\n",
    "      \"device\": \"cuda\",\n",
    "      \"eval_metric\": \"mae\",\n",
    "\n",
    "      \"booster\": trial.suggest_categorical(\"booster\", [\"gbtree\", \"gblinear\", \"dart\"]),\n",
    "\n",
    "      \"n_estimators\": trial.suggest_int(\"n_estimators\", 25, 500),\n",
    "\n",
    "      \"learning_rate\": trial.suggest_float(\"learning_rate\", 0.0001, 0.9),\n",
    "\n",
    "      \"objective\": trial.suggest_categorical(\"objective\", [\"reg:squarederror\", \"reg:squaredlogerror\", \"reg:gamma\", \"reg:tweedie\"])\n",
    "  }\n",
    "\n",
    "  if xgb_params['booster'] == 'gbtree':\n",
    "      xgb_params[\"max_depth\"] = trial.suggest_int(\"max_depth\", 1, 10)\n",
    "      xgb_params[\"min_child_weight\"] = trial.suggest_int(\"min_child_weight\", 1, 10)\n",
    "      xgb_params[\"subsample\"] = trial.suggest_float(\"subsample\", 0.5, 1.0)\n",
    "      xgb_params[\"colsample_bytree\"] = trial.suggest_float(\"colsample_bytree\", 0.5, 1.0)\n",
    "\n",
    "  elif xgb_params['booster'] == 'gblinear':\n",
    "      xgb_params[\"alpha\"] = trial.suggest_float(\"alpha\", 0, 1)\n",
    "      xgb_params[\"lambda\"] = trial.suggest_float(\"lambda\", 0, 1)\n",
    "      xgb_params[\"feature_selector\"] = trial.suggest_categorical(\"feature_selector\", [\"cyclic\", \"shuffle\"])\n",
    "\n",
    "  elif xgb_params['booster'] == 'dart':\n",
    "      xgb_params[\"sample_type\"] = trial.suggest_categorical(\"sample_type\", [\"uniform\", \"weighted\"])\n",
    "      xgb_params[\"normalize_type\"] = trial.suggest_categorical(\"normalize_type\", [\"tree\", \"forest\"])\n",
    "      xgb_params[\"rate_drop\"] = trial.suggest_float(\"rate_drop\", 0.0, 1.0)\n",
    "      xgb_params[\"skip_drop\"] = trial.suggest_float(\"skip_drop\", 0.0, 1.0)\n",
    "\n",
    "  return xgb_params"
   ]
  },
  {
   "cell_type": "code",
   "execution_count": 58,
   "metadata": {
    "id": "G8EeWhJW4fG3"
   },
   "outputs": [],
   "source": [
    "def objective(trial):\n",
    "\n",
    "  xgb_params = xgb_params_objective(trial)\n",
    "\n",
    "  xgb_auto_tune_fold_results = {\"avg\": [], \"mse\": [], \"rmse\": [], \"mae\": [], \"r2\": [], \"max_err\": []}\n",
    "\n",
    "  X = df.drop(columns=[\"trip_ttl\"])\n",
    "  y = df[\"trip_ttl\"]\n",
    "\n",
    "  for fold, (train_index, test_index) in enumerate(KFold(n_splits=5, shuffle=True, random_state=42).split(df)):\n",
    "\n",
    "    X_train, X_test = X.iloc[train_index], X.iloc[test_index]\n",
    "    y_train, y_test = y.iloc[train_index], y.iloc[test_index]\n",
    "\n",
    "    # train\n",
    "    xgb_model = xgb.XGBRegressor(**xgb_params)\n",
    "\n",
    "    start = time()\n",
    "    xgb_model.fit(X_train, y_train)\n",
    "    fit_time = time() - start\n",
    "    trial.set_user_attr(\"fit_time\", fit_time)\n",
    "\n",
    "    y_pred = xgb_model.predict(X_test)\n",
    "    xgb_auto_tune_fold_results[\"avg\"].append(y_pred.mean())\n",
    "\n",
    "    # metrics\n",
    "    mse = ((y_test - y_pred) ** 2).mean()\n",
    "    xgb_auto_tune_fold_results[\"mse\"].append(mse)\n",
    "\n",
    "    xgb_auto_tune_fold_results[\"rmse\"].append(mse ** 0.5)\n",
    "\n",
    "    xgb_auto_tune_fold_results[\"mae\"].append((y_test - y_pred).abs().mean())\n",
    "\n",
    "    ss_residual = ((y_test - y_pred) ** 2).sum()\n",
    "    ss_total = ((y_test - y_test.mean()) ** 2).sum()\n",
    "    xgb_auto_tune_fold_results[\"r2\"].append(1 - (ss_residual / ss_total))\n",
    "\n",
    "    xgb_auto_tune_fold_results[\"max_err\"].append((y_test - y_pred).abs().max())\n",
    "\n",
    "  xgb_auto_tune_fold_results_df = pd.DataFrame(xgb_auto_tune_fold_results)\n",
    "  xgb_auto_tune_results_df = pd.DataFrame({'model': 'xgb_auto_tune',\n",
    "                                           **xgb_auto_tune_fold_results_df.drop(columns=['max_err']).mean(),\n",
    "                                           'max_err': xgb_auto_tune_fold_results_df['max_err'].max()}, index=[0])\n",
    "\n",
    "\n",
    "  return xgb_auto_tune_fold_results_df[\"mae\"].mean()"
   ]
  },
  {
   "cell_type": "code",
   "execution_count": 59,
   "metadata": {
    "colab": {
     "base_uri": "https://localhost:8080/"
    },
    "id": "TA3uCfH86QUv",
    "outputId": "e9fa079f-6370-4f36-c5a4-6d5b0de86c20"
   },
   "outputs": [
    {
     "name": "stderr",
     "output_type": "stream",
     "text": [
      "[I 2025-06-26 13:38:54,920] A new study created in memory with name: no-name-25f4d5ae-b1a3-45e7-919f-ca9a77e4e75a\n"
     ]
    }
   ],
   "source": [
    "study = optuna.create_study(direction=\"minimize\")"
   ]
  },
  {
   "cell_type": "code",
   "execution_count": null,
   "metadata": {
    "colab": {
     "base_uri": "https://localhost:8080/"
    },
    "id": "aVVTRQam6TEw",
    "outputId": "5e9039cd-952f-4d71-894c-a82e626ac94f"
   },
   "outputs": [
    {
     "name": "stdout",
     "output_type": "stream",
     "text": [
      "Thu Jun 26 01:38:58 PM UTC 2025\n"
     ]
    }
   ],
   "source": [
    "!date\n",
    "study.optimize(objective, timeout=10)\n",
    "!date"
   ]
  },
  {
   "cell_type": "code",
   "execution_count": null,
   "metadata": {
    "id": "hSdN7EMvvNPO"
   },
   "outputs": [],
   "source": [
    "!date\n",
    "study.optimize(objective, timeout=10)\n",
    "!date"
   ]
  },
  {
   "cell_type": "code",
   "execution_count": null,
   "metadata": {
    "id": "v_aHLqwD6zua"
   },
   "outputs": [],
   "source": [
    "!date\n",
    "for i in range(6):\n",
    "    study.optimize(objective, timeout=10, n_jobs=16)\n",
    "!date"
   ]
  }
 ],
 "metadata": {
  "accelerator": "GPU",
  "colab": {
   "gpuType": "A100",
   "name": "XGBoost_cuML_taxi_demo.ipynb",
   "provenance": []
  },
  "kernelspec": {
   "display_name": "Python 3 (ipykernel)",
   "language": "python",
   "name": "python3"
  },
  "language_info": {
   "codemirror_mode": {
    "name": "ipython",
    "version": 3
   },
   "file_extension": ".py",
   "mimetype": "text/x-python",
   "name": "python",
   "nbconvert_exporter": "python",
   "pygments_lexer": "ipython3",
   "version": "3.13.5"
  }
 },
 "nbformat": 4,
 "nbformat_minor": 4
}

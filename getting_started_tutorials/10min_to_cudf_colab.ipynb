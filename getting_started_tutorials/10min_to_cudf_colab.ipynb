{
  "cells": [
    {
      "cell_type": "markdown",
      "id": "c6ed860b",
      "metadata": {},
      "source": [
        "<a target="_blank" href="https://colab.research.google.com/github/rapidsai-community/showcase/blob/main/getting_started_tutorials/10min_to_cudf_colab.ipynb">
        "<img src="https://colab.research.google.com/assets/colab-badge.svg" alt="Open In Colab"/>
        "</a>n"
      ]
    },
    {
      "cell_type": "markdown",
      "id": "Td_alkbOv3Aj",
      "metadata": {
        "id": "Td_alkbOv3Aj"
      },
      "source": [
        "# 10 Minutes to cuDF\n",
        "\n",
        "Modeled after 10 Minutes to Pandas, this is a short introduction to cuDF, geared mainly towards new users.\n",
        "\n",
        "[cuDF](https://github.com/rapidsai/cudf) is a Python GPU DataFrame library to accelerate loading, joining, aggregating, filtering, and otherwise manipulating tabular data using a DataFrame style API in the style of [pandas](https://pandas.pydata.org).\n",
        "\n",
        "cuDF runs on a single GPU. If you want to distribute your workflow across multiple GPUs, have more data than you can fit in memory on a single GPU, or want to analyze data spread across many files at once, you may want to use [Dask-cuDF](https://github.com/rapidsai/cudf/tree/main/python/dask_cudf)."
      ]
    },
    {
      "cell_type": "markdown",
      "id": "AhUsdz6jLdMi",
      "metadata": {
        "id": "AhUsdz6jLdMi"
      },
      "source": [
        "\n",
        "Before getting started - be sure to change your runtime to use a GPU Hardware accelerator! Use the Runtime -> \"Change runtime type\" menu option to add a GPU. "
      ]
    },
    {
      "cell_type": "markdown",
      "id": "ZfNDlz0SM0DB",
      "metadata": {
        "id": "ZfNDlz0SM0DB"
      },
      "source": [
        "# Let's start by setting up Colab for RAPIDS use"
      ]
    },
    {
      "cell_type": "code",
      "execution_count": null,
      "id": "PzW61-K04A1E",
      "metadata": {
        "colab": {
          "base_uri": "https://localhost:8080/"
        },
        "id": "PzW61-K04A1E",
        "outputId": "dbc46ee3-ba31-48ed-c417-334f1cdcbf6b"
      },
      "outputs": [
        {
          "name": "stdout",
          "output_type": "stream",
          "text": [
            "Fri Dec  2 23:31:05 2022       \n",
            "+-----------------------------------------------------------------------------+\n",
            "| NVIDIA-SMI 460.32.03    Driver Version: 460.32.03    CUDA Version: 11.2     |\n",
            "|-------------------------------+----------------------+----------------------+\n",
            "| GPU  Name        Persistence-M| Bus-Id        Disp.A | Volatile Uncorr. ECC |\n",
            "| Fan  Temp  Perf  Pwr:Usage/Cap|         Memory-Usage | GPU-Util  Compute M. |\n",
            "|                               |                      |               MIG M. |\n",
            "|===============================+======================+======================|\n",
            "|   0  Tesla T4            Off  | 00000000:00:04.0 Off |                    0 |\n",
            "| N/A   73C    P0    31W /  70W |      0MiB / 15109MiB |      0%      Default |\n",
            "|                               |                      |                  N/A |\n",
            "+-------------------------------+----------------------+----------------------+\n",
            "                                                                               \n",
            "+-----------------------------------------------------------------------------+\n",
            "| Processes:                                                                  |\n",
            "|  GPU   GI   CI        PID   Type   Process name                  GPU Memory |\n",
            "|        ID   ID                                                   Usage      |\n",
            "|=============================================================================|\n",
            "|  No running processes found                                                 |\n",
            "+-----------------------------------------------------------------------------+\n"
          ]
        }
      ],
      "source": [
        "!nvidia-smi"
      ]
    },
    {
      "cell_type": "code",
      "execution_count": null,
      "id": "43lj_9YlKxx6",
      "metadata": {
        "colab": {
          "base_uri": "https://localhost:8080/"
        },
        "id": "43lj_9YlKxx6",
        "outputId": "7b034ca6-8b47-49d2-e3b9-ef38ebf92a3c"
      },
      "outputs": [],
      "source": [
        "!pip install cudf-cu11 --extra-index-url=https://pypi.ngc.nvidia.com\n",
        "\n",
        "#Older documentation included these steps to reintall cupy, but this is no longer necessary since Rapids 22.12\n",
        "#!rm -rf /usr/local/lib/python3.8/dist-packages/cupy*\n",
        "#!pip install cupy-cuda11x"
      ]
    },
    {
      "cell_type": "markdown",
      "id": "4c6c548b",
      "metadata": {
        "id": "4c6c548b"
      },
      "source": [
        "# Importing and Getting Started"
      ]
    },
    {
      "cell_type": "code",
      "execution_count": null,
      "id": "36307e42",
      "metadata": {
        "id": "36307e42"
      },
      "outputs": [],
      "source": [
        "import pandas as pd\n",
        "import cudf\n",
        "import cupy as cp\n",
        "\n",
        "cp.random.seed(0)"
      ]
    },
    {
      "cell_type": "markdown",
      "id": "eff5fc19",
      "metadata": {
        "id": "eff5fc19"
      },
      "source": [
        "## Creating Series and DataFrame objects\n"
      ]
    },
    {
      "cell_type": "markdown",
      "id": "0a747886",
      "metadata": {
        "id": "0a747886"
      },
      "source": [
        "Creating a `cudf.Series`."
      ]
    },
    {
      "cell_type": "code",
      "execution_count": null,
      "id": "f5e303df",
      "metadata": {
        "colab": {
          "base_uri": "https://localhost:8080/"
        },
        "id": "f5e303df",
        "outputId": "bd753b7e-5929-40b2-b7ef-ddb966d20612"
      },
      "outputs": [
        {
          "data": {
            "text/plain": [
              "0       1\n",
              "1       2\n",
              "2       3\n",
              "3    <NA>\n",
              "4       4\n",
              "dtype: int64"
            ]
          },
          "execution_count": 115,
          "metadata": {},
          "output_type": "execute_result"
        }
      ],
      "source": [
        "s = cudf.Series([1, 2, 3, None, 4])\n",
        "s"
      ]
    },
    {
      "cell_type": "markdown",
      "id": "d934af4e",
      "metadata": {
        "id": "d934af4e"
      },
      "source": [
        "Creating a `cudf.DataFrame` by specifying values for each column."
      ]
    },
    {
      "cell_type": "code",
      "execution_count": null,
      "id": "3f53fb8b",
      "metadata": {
        "colab": {
          "base_uri": "https://localhost:8080/",
          "height": 677
        },
        "id": "3f53fb8b",
        "outputId": "324347b6-e9ac-4d7d-b642-dca3f66a359c"
      },
      "outputs": [
        {
          "data": {
            "text/html": [
              "<div>\n",
              "<style scoped>\n",
              "    .dataframe tbody tr th:only-of-type {\n",
              "        vertical-align: middle;\n",
              "    }\n",
              "\n",
              "    .dataframe tbody tr th {\n",
              "        vertical-align: top;\n",
              "    }\n",
              "\n",
              "    .dataframe thead th {\n",
              "        text-align: right;\n",
              "    }\n",
              "</style>\n",
              "<table border=\"1\" class=\"dataframe\">\n",
              "  <thead>\n",
              "    <tr style=\"text-align: right;\">\n",
              "      <th></th>\n",
              "      <th>a</th>\n",
              "      <th>b</th>\n",
              "      <th>c</th>\n",
              "    </tr>\n",
              "  </thead>\n",
              "  <tbody>\n",
              "    <tr>\n",
              "      <th>0</th>\n",
              "      <td>0</td>\n",
              "      <td>19</td>\n",
              "      <td>0</td>\n",
              "    </tr>\n",
              "    <tr>\n",
              "      <th>1</th>\n",
              "      <td>1</td>\n",
              "      <td>18</td>\n",
              "      <td>1</td>\n",
              "    </tr>\n",
              "    <tr>\n",
              "      <th>2</th>\n",
              "      <td>2</td>\n",
              "      <td>17</td>\n",
              "      <td>2</td>\n",
              "    </tr>\n",
              "    <tr>\n",
              "      <th>3</th>\n",
              "      <td>3</td>\n",
              "      <td>16</td>\n",
              "      <td>3</td>\n",
              "    </tr>\n",
              "    <tr>\n",
              "      <th>4</th>\n",
              "      <td>4</td>\n",
              "      <td>15</td>\n",
              "      <td>4</td>\n",
              "    </tr>\n",
              "    <tr>\n",
              "      <th>5</th>\n",
              "      <td>5</td>\n",
              "      <td>14</td>\n",
              "      <td>5</td>\n",
              "    </tr>\n",
              "    <tr>\n",
              "      <th>6</th>\n",
              "      <td>6</td>\n",
              "      <td>13</td>\n",
              "      <td>6</td>\n",
              "    </tr>\n",
              "    <tr>\n",
              "      <th>7</th>\n",
              "      <td>7</td>\n",
              "      <td>12</td>\n",
              "      <td>7</td>\n",
              "    </tr>\n",
              "    <tr>\n",
              "      <th>8</th>\n",
              "      <td>8</td>\n",
              "      <td>11</td>\n",
              "      <td>8</td>\n",
              "    </tr>\n",
              "    <tr>\n",
              "      <th>9</th>\n",
              "      <td>9</td>\n",
              "      <td>10</td>\n",
              "      <td>9</td>\n",
              "    </tr>\n",
              "    <tr>\n",
              "      <th>10</th>\n",
              "      <td>10</td>\n",
              "      <td>9</td>\n",
              "      <td>10</td>\n",
              "    </tr>\n",
              "    <tr>\n",
              "      <th>11</th>\n",
              "      <td>11</td>\n",
              "      <td>8</td>\n",
              "      <td>11</td>\n",
              "    </tr>\n",
              "    <tr>\n",
              "      <th>12</th>\n",
              "      <td>12</td>\n",
              "      <td>7</td>\n",
              "      <td>12</td>\n",
              "    </tr>\n",
              "    <tr>\n",
              "      <th>13</th>\n",
              "      <td>13</td>\n",
              "      <td>6</td>\n",
              "      <td>13</td>\n",
              "    </tr>\n",
              "    <tr>\n",
              "      <th>14</th>\n",
              "      <td>14</td>\n",
              "      <td>5</td>\n",
              "      <td>14</td>\n",
              "    </tr>\n",
              "    <tr>\n",
              "      <th>15</th>\n",
              "      <td>15</td>\n",
              "      <td>4</td>\n",
              "      <td>15</td>\n",
              "    </tr>\n",
              "    <tr>\n",
              "      <th>16</th>\n",
              "      <td>16</td>\n",
              "      <td>3</td>\n",
              "      <td>16</td>\n",
              "    </tr>\n",
              "    <tr>\n",
              "      <th>17</th>\n",
              "      <td>17</td>\n",
              "      <td>2</td>\n",
              "      <td>17</td>\n",
              "    </tr>\n",
              "    <tr>\n",
              "      <th>18</th>\n",
              "      <td>18</td>\n",
              "      <td>1</td>\n",
              "      <td>18</td>\n",
              "    </tr>\n",
              "    <tr>\n",
              "      <th>19</th>\n",
              "      <td>19</td>\n",
              "      <td>0</td>\n",
              "      <td>19</td>\n",
              "    </tr>\n",
              "  </tbody>\n",
              "</table>\n",
              "</div>"
            ],
            "text/plain": [
              "     a   b   c\n",
              "0    0  19   0\n",
              "1    1  18   1\n",
              "2    2  17   2\n",
              "3    3  16   3\n",
              "4    4  15   4\n",
              "5    5  14   5\n",
              "6    6  13   6\n",
              "7    7  12   7\n",
              "8    8  11   8\n",
              "9    9  10   9\n",
              "10  10   9  10\n",
              "11  11   8  11\n",
              "12  12   7  12\n",
              "13  13   6  13\n",
              "14  14   5  14\n",
              "15  15   4  15\n",
              "16  16   3  16\n",
              "17  17   2  17\n",
              "18  18   1  18\n",
              "19  19   0  19"
            ]
          },
          "execution_count": 116,
          "metadata": {},
          "output_type": "execute_result"
        }
      ],
      "source": [
        "df = cudf.DataFrame(\n",
        "    {\n",
        "        \"a\": list(range(20)),\n",
        "        \"b\": list(reversed(range(20))),\n",
        "        \"c\": list(range(20)),\n",
        "    }\n",
        ")\n",
        "df"
      ]
    },
    {
      "cell_type": "markdown",
      "id": "0573b7bb",
      "metadata": {
        "id": "0573b7bb"
      },
      "source": [
        "Creating a `cudf.DataFrame` from a pandas `Dataframe`."
      ]
    },
    {
      "cell_type": "code",
      "execution_count": null,
      "id": "06a42f3a",
      "metadata": {
        "colab": {
          "base_uri": "https://localhost:8080/",
          "height": 175
        },
        "id": "06a42f3a",
        "outputId": "4a3bc1b9-df08-469f-d9fe-9a7b0f3a36cf"
      },
      "outputs": [
        {
          "data": {
            "text/html": [
              "<div>\n",
              "<style scoped>\n",
              "    .dataframe tbody tr th:only-of-type {\n",
              "        vertical-align: middle;\n",
              "    }\n",
              "\n",
              "    .dataframe tbody tr th {\n",
              "        vertical-align: top;\n",
              "    }\n",
              "\n",
              "    .dataframe thead th {\n",
              "        text-align: right;\n",
              "    }\n",
              "</style>\n",
              "<table border=\"1\" class=\"dataframe\">\n",
              "  <thead>\n",
              "    <tr style=\"text-align: right;\">\n",
              "      <th></th>\n",
              "      <th>a</th>\n",
              "      <th>b</th>\n",
              "    </tr>\n",
              "  </thead>\n",
              "  <tbody>\n",
              "    <tr>\n",
              "      <th>0</th>\n",
              "      <td>0</td>\n",
              "      <td>0.1</td>\n",
              "    </tr>\n",
              "    <tr>\n",
              "      <th>1</th>\n",
              "      <td>1</td>\n",
              "      <td>0.2</td>\n",
              "    </tr>\n",
              "    <tr>\n",
              "      <th>2</th>\n",
              "      <td>2</td>\n",
              "      <td>&lt;NA&gt;</td>\n",
              "    </tr>\n",
              "    <tr>\n",
              "      <th>3</th>\n",
              "      <td>3</td>\n",
              "      <td>0.3</td>\n",
              "    </tr>\n",
              "  </tbody>\n",
              "</table>\n",
              "</div>"
            ],
            "text/plain": [
              "   a     b\n",
              "0  0   0.1\n",
              "1  1   0.2\n",
              "2  2  <NA>\n",
              "3  3   0.3"
            ]
          },
          "execution_count": 117,
          "metadata": {},
          "output_type": "execute_result"
        }
      ],
      "source": [
        "pdf = pd.DataFrame({\"a\": [0, 1, 2, 3], \"b\": [0.1, 0.2, None, 0.3]})\n",
        "gdf = cudf.DataFrame.from_pandas(pdf)\n",
        "gdf"
      ]
    },
    {
      "cell_type": "markdown",
      "id": "5820795f",
      "metadata": {
        "id": "5820795f"
      },
      "source": [
        "## Viewing Data"
      ]
    },
    {
      "cell_type": "markdown",
      "id": "b3008757",
      "metadata": {
        "id": "b3008757"
      },
      "source": [
        "Viewing the top rows of a GPU dataframe."
      ]
    },
    {
      "cell_type": "code",
      "execution_count": null,
      "id": "0c329914",
      "metadata": {
        "colab": {
          "base_uri": "https://localhost:8080/",
          "height": 112
        },
        "id": "0c329914",
        "outputId": "be102bc0-2ffb-466a-a75c-eb344a8f0d91"
      },
      "outputs": [
        {
          "data": {
            "text/html": [
              "<div>\n",
              "<style scoped>\n",
              "    .dataframe tbody tr th:only-of-type {\n",
              "        vertical-align: middle;\n",
              "    }\n",
              "\n",
              "    .dataframe tbody tr th {\n",
              "        vertical-align: top;\n",
              "    }\n",
              "\n",
              "    .dataframe thead th {\n",
              "        text-align: right;\n",
              "    }\n",
              "</style>\n",
              "<table border=\"1\" class=\"dataframe\">\n",
              "  <thead>\n",
              "    <tr style=\"text-align: right;\">\n",
              "      <th></th>\n",
              "      <th>a</th>\n",
              "      <th>b</th>\n",
              "      <th>c</th>\n",
              "    </tr>\n",
              "  </thead>\n",
              "  <tbody>\n",
              "    <tr>\n",
              "      <th>0</th>\n",
              "      <td>0</td>\n",
              "      <td>19</td>\n",
              "      <td>0</td>\n",
              "    </tr>\n",
              "    <tr>\n",
              "      <th>1</th>\n",
              "      <td>1</td>\n",
              "      <td>18</td>\n",
              "      <td>1</td>\n",
              "    </tr>\n",
              "  </tbody>\n",
              "</table>\n",
              "</div>"
            ],
            "text/plain": [
              "   a   b  c\n",
              "0  0  19  0\n",
              "1  1  18  1"
            ]
          },
          "execution_count": 118,
          "metadata": {},
          "output_type": "execute_result"
        }
      ],
      "source": [
        "df.head(2)"
      ]
    },
    {
      "cell_type": "markdown",
      "id": "s4n0S0yjACsh",
      "metadata": {
        "id": "s4n0S0yjACsh"
      },
      "source": [
        "# Selecting Data"
      ]
    },
    {
      "cell_type": "markdown",
      "id": "3302a647",
      "metadata": {
        "id": "3302a647"
      },
      "source": [
        "## Getting"
      ]
    },
    {
      "cell_type": "markdown",
      "id": "aebc72ab",
      "metadata": {
        "id": "aebc72ab"
      },
      "source": [
        "Selecting a single column, which yields a `cudf.Series`."
      ]
    },
    {
      "cell_type": "code",
      "execution_count": null,
      "id": "4dafb4ed",
      "metadata": {
        "colab": {
          "base_uri": "https://localhost:8080/"
        },
        "id": "4dafb4ed",
        "outputId": "140d4a3f-45c6-41b4-f5aa-1e318425c3c4"
      },
      "outputs": [
        {
          "data": {
            "text/plain": [
              "0      0\n",
              "1      1\n",
              "2      2\n",
              "3      3\n",
              "4      4\n",
              "5      5\n",
              "6      6\n",
              "7      7\n",
              "8      8\n",
              "9      9\n",
              "10    10\n",
              "11    11\n",
              "12    12\n",
              "13    13\n",
              "14    14\n",
              "15    15\n",
              "16    16\n",
              "17    17\n",
              "18    18\n",
              "19    19\n",
              "Name: a, dtype: int64"
            ]
          },
          "execution_count": 119,
          "metadata": {},
          "output_type": "execute_result"
        }
      ],
      "source": [
        "df[\"a\"]"
      ]
    },
    {
      "cell_type": "markdown",
      "id": "a5160dd1",
      "metadata": {
        "id": "a5160dd1"
      },
      "source": [
        "## Selection by Label"
      ]
    },
    {
      "cell_type": "markdown",
      "id": "51ff2093",
      "metadata": {
        "id": "51ff2093"
      },
      "source": [
        "Selecting rows from index 2 to index 5 from columns 'a' and 'b'."
      ]
    },
    {
      "cell_type": "code",
      "execution_count": null,
      "id": "e8870657",
      "metadata": {
        "colab": {
          "base_uri": "https://localhost:8080/"
        },
        "id": "e8870657",
        "outputId": "a107fda4-ca7c-4bb3-f5aa-9f9d655f396d"
      },
      "outputs": [
        {
          "data": {
            "text/html": [
              "<div>\n",
              "<style scoped>\n",
              "    .dataframe tbody tr th:only-of-type {\n",
              "        vertical-align: middle;\n",
              "    }\n",
              "\n",
              "    .dataframe tbody tr th {\n",
              "        vertical-align: top;\n",
              "    }\n",
              "\n",
              "    .dataframe thead th {\n",
              "        text-align: right;\n",
              "    }\n",
              "</style>\n",
              "<table border=\"1\" class=\"dataframe\">\n",
              "  <thead>\n",
              "    <tr style=\"text-align: right;\">\n",
              "      <th></th>\n",
              "      <th>a</th>\n",
              "      <th>b</th>\n",
              "    </tr>\n",
              "  </thead>\n",
              "  <tbody>\n",
              "    <tr>\n",
              "      <th>2</th>\n",
              "      <td>2</td>\n",
              "      <td>17</td>\n",
              "    </tr>\n",
              "    <tr>\n",
              "      <th>3</th>\n",
              "      <td>3</td>\n",
              "      <td>16</td>\n",
              "    </tr>\n",
              "    <tr>\n",
              "      <th>4</th>\n",
              "      <td>4</td>\n",
              "      <td>15</td>\n",
              "    </tr>\n",
              "    <tr>\n",
              "      <th>5</th>\n",
              "      <td>5</td>\n",
              "      <td>14</td>\n",
              "    </tr>\n",
              "  </tbody>\n",
              "</table>\n",
              "</div>"
            ],
            "text/plain": [
              "   a   b\n",
              "2  2  17\n",
              "3  3  16\n",
              "4  4  15\n",
              "5  5  14"
            ]
          },
          "execution_count": 120,
          "metadata": {},
          "output_type": "execute_result"
        }
      ],
      "source": [
        "df.loc[2:5, [\"a\", \"b\"]]"
      ]
    },
    {
      "cell_type": "markdown",
      "id": "d8e07162",
      "metadata": {
        "id": "d8e07162"
      },
      "source": [
        "## Selection by Position"
      ]
    },
    {
      "cell_type": "markdown",
      "id": "435eb76a",
      "metadata": {
        "id": "435eb76a"
      },
      "source": [
        "Selecting via integers and integer slices, like numpy/pandas. "
      ]
    },
    {
      "cell_type": "code",
      "execution_count": null,
      "id": "bc337d5d",
      "metadata": {
        "colab": {
          "base_uri": "https://localhost:8080/"
        },
        "id": "bc337d5d",
        "outputId": "07777dd0-9f06-44a5-8ac8-70234523731f"
      },
      "outputs": [
        {
          "data": {
            "text/plain": [
              "a     0\n",
              "b    19\n",
              "c     0\n",
              "Name: 0, dtype: int64"
            ]
          },
          "execution_count": 121,
          "metadata": {},
          "output_type": "execute_result"
        }
      ],
      "source": [
        "df.iloc[0]"
      ]
    },
    {
      "cell_type": "code",
      "execution_count": null,
      "id": "03671456",
      "metadata": {
        "colab": {
          "base_uri": "https://localhost:8080/"
        },
        "id": "03671456",
        "outputId": "0155582a-3e14-46f5-fa1f-c738c8875c0e"
      },
      "outputs": [
        {
          "data": {
            "text/html": [
              "<div>\n",
              "<style scoped>\n",
              "    .dataframe tbody tr th:only-of-type {\n",
              "        vertical-align: middle;\n",
              "    }\n",
              "\n",
              "    .dataframe tbody tr th {\n",
              "        vertical-align: top;\n",
              "    }\n",
              "\n",
              "    .dataframe thead th {\n",
              "        text-align: right;\n",
              "    }\n",
              "</style>\n",
              "<table border=\"1\" class=\"dataframe\">\n",
              "  <thead>\n",
              "    <tr style=\"text-align: right;\">\n",
              "      <th></th>\n",
              "      <th>a</th>\n",
              "      <th>b</th>\n",
              "    </tr>\n",
              "  </thead>\n",
              "  <tbody>\n",
              "    <tr>\n",
              "      <th>0</th>\n",
              "      <td>0</td>\n",
              "      <td>19</td>\n",
              "    </tr>\n",
              "    <tr>\n",
              "      <th>1</th>\n",
              "      <td>1</td>\n",
              "      <td>18</td>\n",
              "    </tr>\n",
              "    <tr>\n",
              "      <th>2</th>\n",
              "      <td>2</td>\n",
              "      <td>17</td>\n",
              "    </tr>\n",
              "  </tbody>\n",
              "</table>\n",
              "</div>"
            ],
            "text/plain": [
              "   a   b\n",
              "0  0  19\n",
              "1  1  18\n",
              "2  2  17"
            ]
          },
          "execution_count": 122,
          "metadata": {},
          "output_type": "execute_result"
        }
      ],
      "source": [
        "df.iloc[0:3, 0:2]"
      ]
    },
    {
      "cell_type": "markdown",
      "id": "aa935d5b",
      "metadata": {
        "id": "aa935d5b"
      },
      "source": [
        "You can also select elements of a `DataFrame` or `Series` with direct index access."
      ]
    },
    {
      "cell_type": "code",
      "execution_count": null,
      "id": "79883c37",
      "metadata": {
        "colab": {
          "base_uri": "https://localhost:8080/"
        },
        "id": "79883c37",
        "outputId": "16197068-fb90-4945-be6f-7808d06955fb"
      },
      "outputs": [
        {
          "data": {
            "text/html": [
              "<div>\n",
              "<style scoped>\n",
              "    .dataframe tbody tr th:only-of-type {\n",
              "        vertical-align: middle;\n",
              "    }\n",
              "\n",
              "    .dataframe tbody tr th {\n",
              "        vertical-align: top;\n",
              "    }\n",
              "\n",
              "    .dataframe thead th {\n",
              "        text-align: right;\n",
              "    }\n",
              "</style>\n",
              "<table border=\"1\" class=\"dataframe\">\n",
              "  <thead>\n",
              "    <tr style=\"text-align: right;\">\n",
              "      <th></th>\n",
              "      <th>a</th>\n",
              "      <th>b</th>\n",
              "      <th>c</th>\n",
              "    </tr>\n",
              "  </thead>\n",
              "  <tbody>\n",
              "    <tr>\n",
              "      <th>3</th>\n",
              "      <td>3</td>\n",
              "      <td>16</td>\n",
              "      <td>3</td>\n",
              "    </tr>\n",
              "    <tr>\n",
              "      <th>4</th>\n",
              "      <td>4</td>\n",
              "      <td>15</td>\n",
              "      <td>4</td>\n",
              "    </tr>\n",
              "  </tbody>\n",
              "</table>\n",
              "</div>"
            ],
            "text/plain": [
              "   a   b  c\n",
              "3  3  16  3\n",
              "4  4  15  4"
            ]
          },
          "execution_count": 123,
          "metadata": {},
          "output_type": "execute_result"
        }
      ],
      "source": [
        "df[3:5]"
      ]
    },
    {
      "cell_type": "code",
      "execution_count": null,
      "id": "2f761695",
      "metadata": {
        "colab": {
          "base_uri": "https://localhost:8080/"
        },
        "id": "2f761695",
        "outputId": "ce58f01e-a5e0-437e-c296-ff8d3685c861"
      },
      "outputs": [
        {
          "data": {
            "text/plain": [
              "3    <NA>\n",
              "4       4\n",
              "dtype: int64"
            ]
          },
          "execution_count": 124,
          "metadata": {},
          "output_type": "execute_result"
        }
      ],
      "source": [
        "s[3:5]"
      ]
    },
    {
      "cell_type": "markdown",
      "id": "9bf9c0b0",
      "metadata": {
        "id": "9bf9c0b0"
      },
      "source": [
        "## Boolean Indexing"
      ]
    },
    {
      "cell_type": "markdown",
      "id": "9b08b2b9",
      "metadata": {
        "id": "9b08b2b9"
      },
      "source": [
        "Selecting rows in a `DataFrame` or `Series` by direct Boolean indexing."
      ]
    },
    {
      "cell_type": "code",
      "execution_count": null,
      "id": "1eb08f0d",
      "metadata": {
        "colab": {
          "base_uri": "https://localhost:8080/"
        },
        "id": "1eb08f0d",
        "outputId": "91b71655-1cd2-44e3-b106-ade21b23d0a4"
      },
      "outputs": [
        {
          "data": {
            "text/html": [
              "<div>\n",
              "<style scoped>\n",
              "    .dataframe tbody tr th:only-of-type {\n",
              "        vertical-align: middle;\n",
              "    }\n",
              "\n",
              "    .dataframe tbody tr th {\n",
              "        vertical-align: top;\n",
              "    }\n",
              "\n",
              "    .dataframe thead th {\n",
              "        text-align: right;\n",
              "    }\n",
              "</style>\n",
              "<table border=\"1\" class=\"dataframe\">\n",
              "  <thead>\n",
              "    <tr style=\"text-align: right;\">\n",
              "      <th></th>\n",
              "      <th>a</th>\n",
              "      <th>b</th>\n",
              "      <th>c</th>\n",
              "    </tr>\n",
              "  </thead>\n",
              "  <tbody>\n",
              "    <tr>\n",
              "      <th>0</th>\n",
              "      <td>0</td>\n",
              "      <td>19</td>\n",
              "      <td>0</td>\n",
              "    </tr>\n",
              "    <tr>\n",
              "      <th>1</th>\n",
              "      <td>1</td>\n",
              "      <td>18</td>\n",
              "      <td>1</td>\n",
              "    </tr>\n",
              "    <tr>\n",
              "      <th>2</th>\n",
              "      <td>2</td>\n",
              "      <td>17</td>\n",
              "      <td>2</td>\n",
              "    </tr>\n",
              "    <tr>\n",
              "      <th>3</th>\n",
              "      <td>3</td>\n",
              "      <td>16</td>\n",
              "      <td>3</td>\n",
              "    </tr>\n",
              "  </tbody>\n",
              "</table>\n",
              "</div>"
            ],
            "text/plain": [
              "   a   b  c\n",
              "0  0  19  0\n",
              "1  1  18  1\n",
              "2  2  17  2\n",
              "3  3  16  3"
            ]
          },
          "execution_count": 125,
          "metadata": {},
          "output_type": "execute_result"
        }
      ],
      "source": [
        "df[df.b > 15]"
      ]
    },
    {
      "cell_type": "markdown",
      "id": "f95c9ab7",
      "metadata": {
        "id": "f95c9ab7"
      },
      "source": [
        "Selecting values from a `DataFrame` where a Boolean condition is met, via the `query` API."
      ]
    },
    {
      "cell_type": "code",
      "execution_count": null,
      "id": "fa643410",
      "metadata": {
        "colab": {
          "base_uri": "https://localhost:8080/"
        },
        "id": "fa643410",
        "outputId": "e6046502-b2b9-4118-e654-1fa0b5088167"
      },
      "outputs": [
        {
          "data": {
            "text/html": [
              "<div>\n",
              "<style scoped>\n",
              "    .dataframe tbody tr th:only-of-type {\n",
              "        vertical-align: middle;\n",
              "    }\n",
              "\n",
              "    .dataframe tbody tr th {\n",
              "        vertical-align: top;\n",
              "    }\n",
              "\n",
              "    .dataframe thead th {\n",
              "        text-align: right;\n",
              "    }\n",
              "</style>\n",
              "<table border=\"1\" class=\"dataframe\">\n",
              "  <thead>\n",
              "    <tr style=\"text-align: right;\">\n",
              "      <th></th>\n",
              "      <th>a</th>\n",
              "      <th>b</th>\n",
              "      <th>c</th>\n",
              "    </tr>\n",
              "  </thead>\n",
              "  <tbody>\n",
              "    <tr>\n",
              "      <th>16</th>\n",
              "      <td>16</td>\n",
              "      <td>3</td>\n",
              "      <td>16</td>\n",
              "    </tr>\n",
              "  </tbody>\n",
              "</table>\n",
              "</div>"
            ],
            "text/plain": [
              "     a  b   c\n",
              "16  16  3  16"
            ]
          },
          "execution_count": 126,
          "metadata": {},
          "output_type": "execute_result"
        }
      ],
      "source": [
        "df.query(\"b == 3\")"
      ]
    },
    {
      "cell_type": "markdown",
      "id": "694dcbad",
      "metadata": {
        "id": "694dcbad"
      },
      "source": [
        "With standard cuDF, you may either use the `local_dict` keyword or directly pass the variable via the `@` keyword. Supported logical operators include `>`, `<`, `>=`, `<=`, `==`, and `!=`."
      ]
    },
    {
      "cell_type": "code",
      "execution_count": null,
      "id": "353b0250",
      "metadata": {
        "colab": {
          "base_uri": "https://localhost:8080/"
        },
        "id": "353b0250",
        "outputId": "063c930a-c0eb-4ab6-94bf-865eea4ed3da"
      },
      "outputs": [
        {
          "data": {
            "text/html": [
              "<div>\n",
              "<style scoped>\n",
              "    .dataframe tbody tr th:only-of-type {\n",
              "        vertical-align: middle;\n",
              "    }\n",
              "\n",
              "    .dataframe tbody tr th {\n",
              "        vertical-align: top;\n",
              "    }\n",
              "\n",
              "    .dataframe thead th {\n",
              "        text-align: right;\n",
              "    }\n",
              "</style>\n",
              "<table border=\"1\" class=\"dataframe\">\n",
              "  <thead>\n",
              "    <tr style=\"text-align: right;\">\n",
              "      <th></th>\n",
              "      <th>a</th>\n",
              "      <th>b</th>\n",
              "      <th>c</th>\n",
              "    </tr>\n",
              "  </thead>\n",
              "  <tbody>\n",
              "    <tr>\n",
              "      <th>16</th>\n",
              "      <td>16</td>\n",
              "      <td>3</td>\n",
              "      <td>16</td>\n",
              "    </tr>\n",
              "  </tbody>\n",
              "</table>\n",
              "</div>"
            ],
            "text/plain": [
              "     a  b   c\n",
              "16  16  3  16"
            ]
          },
          "execution_count": 127,
          "metadata": {},
          "output_type": "execute_result"
        }
      ],
      "source": [
        "cudf_comparator = 3\n",
        "df.query(\"b == @cudf_comparator\")"
      ]
    },
    {
      "cell_type": "markdown",
      "id": "8e004749",
      "metadata": {
        "id": "8e004749"
      },
      "source": [
        "Using the `isin` method for filtering."
      ]
    },
    {
      "cell_type": "code",
      "execution_count": null,
      "id": "20936418",
      "metadata": {
        "colab": {
          "base_uri": "https://localhost:8080/"
        },
        "id": "20936418",
        "outputId": "eb5b6288-6cc4-46e2-b433-7d6335ef267d"
      },
      "outputs": [
        {
          "data": {
            "text/html": [
              "<div>\n",
              "<style scoped>\n",
              "    .dataframe tbody tr th:only-of-type {\n",
              "        vertical-align: middle;\n",
              "    }\n",
              "\n",
              "    .dataframe tbody tr th {\n",
              "        vertical-align: top;\n",
              "    }\n",
              "\n",
              "    .dataframe thead th {\n",
              "        text-align: right;\n",
              "    }\n",
              "</style>\n",
              "<table border=\"1\" class=\"dataframe\">\n",
              "  <thead>\n",
              "    <tr style=\"text-align: right;\">\n",
              "      <th></th>\n",
              "      <th>a</th>\n",
              "      <th>b</th>\n",
              "      <th>c</th>\n",
              "    </tr>\n",
              "  </thead>\n",
              "  <tbody>\n",
              "    <tr>\n",
              "      <th>0</th>\n",
              "      <td>0</td>\n",
              "      <td>19</td>\n",
              "      <td>0</td>\n",
              "    </tr>\n",
              "    <tr>\n",
              "      <th>5</th>\n",
              "      <td>5</td>\n",
              "      <td>14</td>\n",
              "      <td>5</td>\n",
              "    </tr>\n",
              "  </tbody>\n",
              "</table>\n",
              "</div>"
            ],
            "text/plain": [
              "   a   b  c\n",
              "0  0  19  0\n",
              "5  5  14  5"
            ]
          },
          "execution_count": 128,
          "metadata": {},
          "output_type": "execute_result"
        }
      ],
      "source": [
        "df[df.a.isin([0, 5])]"
      ]
    },
    {
      "cell_type": "markdown",
      "id": "8e456f03",
      "metadata": {
        "id": "8e456f03"
      },
      "source": [
        "## MultiIndex"
      ]
    },
    {
      "cell_type": "markdown",
      "id": "e494bd0b",
      "metadata": {
        "id": "e494bd0b"
      },
      "source": [
        "cuDF supports hierarchical indexing of DataFrames using MultiIndex. Grouping hierarchically (see `Grouping` below) automatically produces a DataFrame with a MultiIndex."
      ]
    },
    {
      "cell_type": "code",
      "execution_count": null,
      "id": "4ae70724",
      "metadata": {
        "colab": {
          "base_uri": "https://localhost:8080/"
        },
        "id": "4ae70724",
        "outputId": "5dddb03c-c80c-4511-92c9-3581f212d1ec"
      },
      "outputs": [
        {
          "data": {
            "text/plain": [
              "MultiIndex([('a', 1),\n",
              "            ('a', 2),\n",
              "            ('b', 3),\n",
              "            ('b', 4)],\n",
              "           )"
            ]
          },
          "execution_count": 129,
          "metadata": {},
          "output_type": "execute_result"
        }
      ],
      "source": [
        "arrays = [[\"a\", \"a\", \"b\", \"b\"], [1, 2, 3, 4]]\n",
        "tuples = list(zip(*arrays))\n",
        "idx = cudf.MultiIndex.from_tuples(tuples)\n",
        "idx"
      ]
    },
    {
      "cell_type": "markdown",
      "id": "ab232727",
      "metadata": {
        "id": "ab232727"
      },
      "source": [
        "This index can back either axis of a DataFrame."
      ]
    },
    {
      "cell_type": "code",
      "execution_count": null,
      "id": "cb1d1633",
      "metadata": {
        "colab": {
          "base_uri": "https://localhost:8080/"
        },
        "id": "cb1d1633",
        "outputId": "e19d5fae-6edd-48dc-8b00-b7480844932f"
      },
      "outputs": [
        {
          "data": {
            "text/html": [
              "<div>\n",
              "<style scoped>\n",
              "    .dataframe tbody tr th:only-of-type {\n",
              "        vertical-align: middle;\n",
              "    }\n",
              "\n",
              "    .dataframe tbody tr th {\n",
              "        vertical-align: top;\n",
              "    }\n",
              "\n",
              "    .dataframe thead th {\n",
              "        text-align: right;\n",
              "    }\n",
              "</style>\n",
              "<table border=\"1\" class=\"dataframe\">\n",
              "  <thead>\n",
              "    <tr style=\"text-align: right;\">\n",
              "      <th></th>\n",
              "      <th></th>\n",
              "      <th>first</th>\n",
              "      <th>second</th>\n",
              "    </tr>\n",
              "  </thead>\n",
              "  <tbody>\n",
              "    <tr>\n",
              "      <th rowspan=\"2\" valign=\"top\">a</th>\n",
              "      <th>1</th>\n",
              "      <td>0.438451</td>\n",
              "      <td>0.053011</td>\n",
              "    </tr>\n",
              "    <tr>\n",
              "      <th>2</th>\n",
              "      <td>0.460365</td>\n",
              "      <td>0.337699</td>\n",
              "    </tr>\n",
              "    <tr>\n",
              "      <th rowspan=\"2\" valign=\"top\">b</th>\n",
              "      <th>3</th>\n",
              "      <td>0.250215</td>\n",
              "      <td>0.396763</td>\n",
              "    </tr>\n",
              "    <tr>\n",
              "      <th>4</th>\n",
              "      <td>0.494744</td>\n",
              "      <td>0.874419</td>\n",
              "    </tr>\n",
              "  </tbody>\n",
              "</table>\n",
              "</div>"
            ],
            "text/plain": [
              "        first    second\n",
              "a 1  0.438451  0.053011\n",
              "  2  0.460365  0.337699\n",
              "b 3  0.250215  0.396763\n",
              "  4  0.494744  0.874419"
            ]
          },
          "execution_count": 130,
          "metadata": {},
          "output_type": "execute_result"
        }
      ],
      "source": [
        "gdf1 = cudf.DataFrame(\n",
        "    {\"first\": cp.random.rand(4), \"second\": cp.random.rand(4)}\n",
        ")\n",
        "gdf1.index = idx\n",
        "gdf1"
      ]
    },
    {
      "cell_type": "code",
      "execution_count": null,
      "id": "73ba31af",
      "metadata": {
        "colab": {
          "base_uri": "https://localhost:8080/"
        },
        "id": "73ba31af",
        "outputId": "fcea591d-004e-4617-fc5d-43405ddabae3"
      },
      "outputs": [
        {
          "data": {
            "text/html": [
              "<div>\n",
              "<style scoped>\n",
              "    .dataframe tbody tr th:only-of-type {\n",
              "        vertical-align: middle;\n",
              "    }\n",
              "\n",
              "    .dataframe tbody tr th {\n",
              "        vertical-align: top;\n",
              "    }\n",
              "\n",
              "    .dataframe thead tr th {\n",
              "        text-align: left;\n",
              "    }\n",
              "</style>\n",
              "<table border=\"1\" class=\"dataframe\">\n",
              "  <thead>\n",
              "    <tr>\n",
              "      <th></th>\n",
              "      <th colspan=\"2\" halign=\"left\">a</th>\n",
              "      <th colspan=\"2\" halign=\"left\">b</th>\n",
              "    </tr>\n",
              "    <tr>\n",
              "      <th></th>\n",
              "      <th>1</th>\n",
              "      <th>2</th>\n",
              "      <th>3</th>\n",
              "      <th>4</th>\n",
              "    </tr>\n",
              "  </thead>\n",
              "  <tbody>\n",
              "    <tr>\n",
              "      <th>first</th>\n",
              "      <td>0.482167</td>\n",
              "      <td>0.04284</td>\n",
              "      <td>0.508414</td>\n",
              "      <td>0.654550</td>\n",
              "    </tr>\n",
              "    <tr>\n",
              "      <th>second</th>\n",
              "      <td>0.512604</td>\n",
              "      <td>0.26430</td>\n",
              "      <td>0.051981</td>\n",
              "      <td>0.578997</td>\n",
              "    </tr>\n",
              "  </tbody>\n",
              "</table>\n",
              "</div>"
            ],
            "text/plain": [
              "               a                  b          \n",
              "               1        2         3         4\n",
              "first   0.482167  0.04284  0.508414  0.654550\n",
              "second  0.512604  0.26430  0.051981  0.578997"
            ]
          },
          "execution_count": 131,
          "metadata": {},
          "output_type": "execute_result"
        }
      ],
      "source": [
        "gdf2 = cudf.DataFrame(\n",
        "    {\"first\": cp.random.rand(4), \"second\": cp.random.rand(4)}\n",
        ").T\n",
        "gdf2.columns = idx\n",
        "gdf2"
      ]
    },
    {
      "cell_type": "markdown",
      "id": "c5f33160",
      "metadata": {
        "id": "c5f33160"
      },
      "source": [
        "Accessing values of a DataFrame with a MultiIndex, both with `.loc`"
      ]
    },
    {
      "cell_type": "code",
      "execution_count": null,
      "id": "1048b7cf",
      "metadata": {
        "colab": {
          "base_uri": "https://localhost:8080/"
        },
        "id": "1048b7cf",
        "outputId": "0537dd71-3b41-452c-92d1-690d1e2c94be"
      },
      "outputs": [
        {
          "data": {
            "text/plain": [
              "first     0.250215\n",
              "second    0.396763\n",
              "Name: ('b', 3), dtype: float64"
            ]
          },
          "execution_count": 132,
          "metadata": {},
          "output_type": "execute_result"
        }
      ],
      "source": [
        "gdf1.loc[(\"b\", 3)]"
      ]
    },
    {
      "cell_type": "markdown",
      "id": "5123f759",
      "metadata": {
        "id": "5123f759"
      },
      "source": [
        "And `.iloc`"
      ]
    },
    {
      "cell_type": "code",
      "execution_count": null,
      "id": "369d164d",
      "metadata": {
        "colab": {
          "base_uri": "https://localhost:8080/"
        },
        "id": "369d164d",
        "outputId": "b91bbd8c-c869-4e88-f8a4-0b5c34dbab7d"
      },
      "outputs": [
        {
          "data": {
            "text/html": [
              "<div>\n",
              "<style scoped>\n",
              "    .dataframe tbody tr th:only-of-type {\n",
              "        vertical-align: middle;\n",
              "    }\n",
              "\n",
              "    .dataframe tbody tr th {\n",
              "        vertical-align: top;\n",
              "    }\n",
              "\n",
              "    .dataframe thead th {\n",
              "        text-align: right;\n",
              "    }\n",
              "</style>\n",
              "<table border=\"1\" class=\"dataframe\">\n",
              "  <thead>\n",
              "    <tr style=\"text-align: right;\">\n",
              "      <th></th>\n",
              "      <th></th>\n",
              "      <th>first</th>\n",
              "      <th>second</th>\n",
              "    </tr>\n",
              "  </thead>\n",
              "  <tbody>\n",
              "    <tr>\n",
              "      <th rowspan=\"2\" valign=\"top\">a</th>\n",
              "      <th>1</th>\n",
              "      <td>0.438451</td>\n",
              "      <td>0.053011</td>\n",
              "    </tr>\n",
              "    <tr>\n",
              "      <th>2</th>\n",
              "      <td>0.460365</td>\n",
              "      <td>0.337699</td>\n",
              "    </tr>\n",
              "  </tbody>\n",
              "</table>\n",
              "</div>"
            ],
            "text/plain": [
              "        first    second\n",
              "a 1  0.438451  0.053011\n",
              "  2  0.460365  0.337699"
            ]
          },
          "execution_count": 133,
          "metadata": {},
          "output_type": "execute_result"
        }
      ],
      "source": [
        "gdf1.iloc[0:2]"
      ]
    },
    {
      "cell_type": "markdown",
      "id": "8b3b96e9",
      "metadata": {
        "id": "8b3b96e9"
      },
      "source": [
        "Missing Data\n",
        "------------"
      ]
    },
    {
      "cell_type": "markdown",
      "id": "d12141eb",
      "metadata": {
        "id": "d12141eb"
      },
      "source": [
        "Missing data can be replaced by using the `fillna` method."
      ]
    },
    {
      "cell_type": "code",
      "execution_count": null,
      "id": "913a7b5f",
      "metadata": {
        "colab": {
          "base_uri": "https://localhost:8080/"
        },
        "id": "913a7b5f",
        "outputId": "ac4c684d-8d76-4ffa-dd00-779fc4cf8eac"
      },
      "outputs": [
        {
          "data": {
            "text/plain": [
              "0      1\n",
              "1      2\n",
              "2      3\n",
              "3    999\n",
              "4      4\n",
              "dtype: int64"
            ]
          },
          "execution_count": 134,
          "metadata": {},
          "output_type": "execute_result"
        }
      ],
      "source": [
        "s.fillna(999)"
      ]
    },
    {
      "cell_type": "markdown",
      "id": "22199029",
      "metadata": {
        "id": "22199029"
      },
      "source": [
        "# Operating on Data"
      ]
    },
    {
      "cell_type": "markdown",
      "id": "d97605e6",
      "metadata": {
        "id": "d97605e6"
      },
      "source": [
        "## Stats"
      ]
    },
    {
      "cell_type": "markdown",
      "id": "f29a5de0",
      "metadata": {
        "id": "f29a5de0"
      },
      "source": [
        "Calculating descriptive statistics for a `Series`."
      ]
    },
    {
      "cell_type": "code",
      "execution_count": null,
      "id": "b1a1666e",
      "metadata": {
        "colab": {
          "base_uri": "https://localhost:8080/"
        },
        "id": "b1a1666e",
        "outputId": "87472754-7d15-4aba-cee6-d83f0a7d334e"
      },
      "outputs": [
        {
          "data": {
            "text/plain": [
              "(2.5, 1.666666666666666)"
            ]
          },
          "execution_count": 135,
          "metadata": {},
          "output_type": "execute_result"
        }
      ],
      "source": [
        "s.mean(), s.var()"
      ]
    },
    {
      "cell_type": "markdown",
      "id": "af792a18",
      "metadata": {
        "id": "af792a18"
      },
      "source": [
        "## Applymap"
      ]
    },
    {
      "cell_type": "markdown",
      "id": "f6094cbe",
      "metadata": {
        "id": "f6094cbe"
      },
      "source": [
        "Applying functions to a `Series`. Note that applying user defined functions directly with Dask-cuDF is not yet implemented. For now, you can use [map_partitions](http://docs.dask.org/en/stable/generated/dask.dataframe.DataFrame.map_partitions.html) to apply a function to each partition of the distributed dataframe."
      ]
    },
    {
      "cell_type": "code",
      "execution_count": null,
      "id": "5b154619",
      "metadata": {
        "colab": {
          "base_uri": "https://localhost:8080/"
        },
        "id": "5b154619",
        "outputId": "126d4735-8144-4695-ee83-21d95b73d22e"
      },
      "outputs": [
        {
          "data": {
            "text/plain": [
              "0     10\n",
              "1     11\n",
              "2     12\n",
              "3     13\n",
              "4     14\n",
              "5     15\n",
              "6     16\n",
              "7     17\n",
              "8     18\n",
              "9     19\n",
              "10    20\n",
              "11    21\n",
              "12    22\n",
              "13    23\n",
              "14    24\n",
              "15    25\n",
              "16    26\n",
              "17    27\n",
              "18    28\n",
              "19    29\n",
              "Name: a, dtype: int64"
            ]
          },
          "execution_count": 136,
          "metadata": {},
          "output_type": "execute_result"
        }
      ],
      "source": [
        "def add_ten(num):\n",
        "    return num + 10\n",
        "\n",
        "\n",
        "df[\"a\"].apply(add_ten)"
      ]
    },
    {
      "cell_type": "markdown",
      "id": "4d4fdde1",
      "metadata": {
        "id": "4d4fdde1"
      },
      "source": [
        "## Histogramming"
      ]
    },
    {
      "cell_type": "markdown",
      "id": "b98a7daf",
      "metadata": {
        "id": "b98a7daf"
      },
      "source": [
        "Counting the number of occurrences of each unique value of variable."
      ]
    },
    {
      "cell_type": "code",
      "execution_count": null,
      "id": "c7b8ea5d",
      "metadata": {
        "colab": {
          "base_uri": "https://localhost:8080/"
        },
        "id": "c7b8ea5d",
        "outputId": "ac1c2672-03b5-4e00-8a54-9751df1e22c6"
      },
      "outputs": [
        {
          "data": {
            "text/plain": [
              "15    1\n",
              "6     1\n",
              "1     1\n",
              "14    1\n",
              "2     1\n",
              "5     1\n",
              "11    1\n",
              "7     1\n",
              "17    1\n",
              "13    1\n",
              "8     1\n",
              "16    1\n",
              "0     1\n",
              "10    1\n",
              "4     1\n",
              "9     1\n",
              "19    1\n",
              "18    1\n",
              "3     1\n",
              "12    1\n",
              "Name: a, dtype: int32"
            ]
          },
          "execution_count": 137,
          "metadata": {},
          "output_type": "execute_result"
        }
      ],
      "source": [
        "df.a.value_counts()"
      ]
    },
    {
      "cell_type": "markdown",
      "id": "437172ba",
      "metadata": {
        "id": "437172ba"
      },
      "source": [
        "## String Methods"
      ]
    },
    {
      "cell_type": "markdown",
      "id": "fd3fc4f3",
      "metadata": {
        "id": "fd3fc4f3"
      },
      "source": [
        "Like pandas, cuDF provides string processing methods in the `str` attribute of `Series`. Full documentation of string methods is a work in progress. Please see the [cuDF API documentation](https://docs.rapids.ai/api/cudf/stable/api_docs/series.html#string-handling) for more information."
      ]
    },
    {
      "cell_type": "code",
      "execution_count": null,
      "id": "86974041",
      "metadata": {
        "colab": {
          "base_uri": "https://localhost:8080/"
        },
        "id": "86974041",
        "outputId": "ac53fbae-fd46-4be9-92f1-23baeaee6caa"
      },
      "outputs": [
        {
          "data": {
            "text/plain": [
              "0       a\n",
              "1       b\n",
              "2       c\n",
              "3    aaba\n",
              "4    baca\n",
              "5    <NA>\n",
              "6    caba\n",
              "7     dog\n",
              "8     cat\n",
              "dtype: object"
            ]
          },
          "execution_count": 138,
          "metadata": {},
          "output_type": "execute_result"
        }
      ],
      "source": [
        "s = cudf.Series([\"A\", \"B\", \"C\", \"Aaba\", \"Baca\", None, \"CABA\", \"dog\", \"cat\"])\n",
        "s.str.lower()"
      ]
    },
    {
      "cell_type": "markdown",
      "id": "44fe1243",
      "metadata": {
        "id": "44fe1243"
      },
      "source": [
        "As well as simple manipulation, We can also match strings using [regular expressions](https://docs.rapids.ai/api/cudf/stable/api_docs/api/cudf.core.column.string.StringMethods.match.html)."
      ]
    },
    {
      "cell_type": "code",
      "execution_count": null,
      "id": "51158a24",
      "metadata": {
        "colab": {
          "base_uri": "https://localhost:8080/"
        },
        "id": "51158a24",
        "outputId": "8565f970-2992-4342-843d-61ff3577c3c7"
      },
      "outputs": [
        {
          "data": {
            "text/plain": [
              "0    False\n",
              "1    False\n",
              "2    False\n",
              "3     True\n",
              "4    False\n",
              "5     <NA>\n",
              "6    False\n",
              "7    False\n",
              "8     True\n",
              "dtype: bool"
            ]
          },
          "execution_count": 139,
          "metadata": {},
          "output_type": "execute_result"
        }
      ],
      "source": [
        "s.str.match(\"^[aAc].+\")"
      ]
    },
    {
      "cell_type": "markdown",
      "id": "5528afa8",
      "metadata": {
        "id": "5528afa8"
      },
      "source": [
        "## Concat"
      ]
    },
    {
      "cell_type": "markdown",
      "id": "e05b1078",
      "metadata": {
        "id": "e05b1078"
      },
      "source": [
        "Concatenating `Series` and `DataFrames` row-wise."
      ]
    },
    {
      "cell_type": "code",
      "execution_count": null,
      "id": "6c6d10bc",
      "metadata": {
        "colab": {
          "base_uri": "https://localhost:8080/"
        },
        "id": "6c6d10bc",
        "outputId": "32aad14d-1884-4f06-bec0-54b000153957"
      },
      "outputs": [
        {
          "data": {
            "text/plain": [
              "0       1\n",
              "1       2\n",
              "2       3\n",
              "3    <NA>\n",
              "4       5\n",
              "0       1\n",
              "1       2\n",
              "2       3\n",
              "3    <NA>\n",
              "4       5\n",
              "dtype: int64"
            ]
          },
          "execution_count": 140,
          "metadata": {},
          "output_type": "execute_result"
        }
      ],
      "source": [
        "s = cudf.Series([1, 2, 3, None, 5])\n",
        "cudf.concat([s, s])"
      ]
    },
    {
      "cell_type": "markdown",
      "id": "df087d2f",
      "metadata": {
        "id": "df087d2f"
      },
      "source": [
        "## Join"
      ]
    },
    {
      "cell_type": "markdown",
      "id": "89cf5022",
      "metadata": {
        "id": "89cf5022"
      },
      "source": [
        "Performing SQL style merges. Note that the dataframe order is **not maintained**, but may be restored post-merge by sorting by the index."
      ]
    },
    {
      "cell_type": "code",
      "execution_count": null,
      "id": "075c97a7",
      "metadata": {
        "colab": {
          "base_uri": "https://localhost:8080/"
        },
        "id": "075c97a7",
        "outputId": "4c52539d-54b1-46d4-9c48-43cd9dc754c2"
      },
      "outputs": [
        {
          "data": {
            "text/html": [
              "<div>\n",
              "<style scoped>\n",
              "    .dataframe tbody tr th:only-of-type {\n",
              "        vertical-align: middle;\n",
              "    }\n",
              "\n",
              "    .dataframe tbody tr th {\n",
              "        vertical-align: top;\n",
              "    }\n",
              "\n",
              "    .dataframe thead th {\n",
              "        text-align: right;\n",
              "    }\n",
              "</style>\n",
              "<table border=\"1\" class=\"dataframe\">\n",
              "  <thead>\n",
              "    <tr style=\"text-align: right;\">\n",
              "      <th></th>\n",
              "      <th>key</th>\n",
              "      <th>vals_a</th>\n",
              "      <th>vals_b</th>\n",
              "    </tr>\n",
              "  </thead>\n",
              "  <tbody>\n",
              "    <tr>\n",
              "      <th>0</th>\n",
              "      <td>a</td>\n",
              "      <td>10.0</td>\n",
              "      <td>100.0</td>\n",
              "    </tr>\n",
              "    <tr>\n",
              "      <th>1</th>\n",
              "      <td>c</td>\n",
              "      <td>12.0</td>\n",
              "      <td>101.0</td>\n",
              "    </tr>\n",
              "    <tr>\n",
              "      <th>2</th>\n",
              "      <td>e</td>\n",
              "      <td>14.0</td>\n",
              "      <td>102.0</td>\n",
              "    </tr>\n",
              "    <tr>\n",
              "      <th>3</th>\n",
              "      <td>b</td>\n",
              "      <td>11.0</td>\n",
              "      <td>&lt;NA&gt;</td>\n",
              "    </tr>\n",
              "    <tr>\n",
              "      <th>4</th>\n",
              "      <td>d</td>\n",
              "      <td>13.0</td>\n",
              "      <td>&lt;NA&gt;</td>\n",
              "    </tr>\n",
              "  </tbody>\n",
              "</table>\n",
              "</div>"
            ],
            "text/plain": [
              "  key  vals_a vals_b\n",
              "0   a    10.0  100.0\n",
              "1   c    12.0  101.0\n",
              "2   e    14.0  102.0\n",
              "3   b    11.0   <NA>\n",
              "4   d    13.0   <NA>"
            ]
          },
          "execution_count": 141,
          "metadata": {},
          "output_type": "execute_result"
        }
      ],
      "source": [
        "df_a = cudf.DataFrame()\n",
        "df_a[\"key\"] = [\"a\", \"b\", \"c\", \"d\", \"e\"]\n",
        "df_a[\"vals_a\"] = [float(i + 10) for i in range(5)]\n",
        "\n",
        "df_b = cudf.DataFrame()\n",
        "df_b[\"key\"] = [\"a\", \"c\", \"e\"]\n",
        "df_b[\"vals_b\"] = [float(i + 100) for i in range(3)]\n",
        "\n",
        "merged = df_a.merge(df_b, on=[\"key\"], how=\"left\")\n",
        "merged"
      ]
    },
    {
      "cell_type": "markdown",
      "id": "e4695c6e",
      "metadata": {
        "id": "e4695c6e"
      },
      "source": [
        "## Grouping"
      ]
    },
    {
      "cell_type": "markdown",
      "id": "ecb27b06",
      "metadata": {
        "id": "ecb27b06"
      },
      "source": [
        "Like [pandas](https://pandas.pydata.org/docs/user_guide/groupby.html), cuDF and Dask-cuDF support the [Split-Apply-Combine groupby paradigm](https://doi.org/10.18637/jss.v040.i01)."
      ]
    },
    {
      "cell_type": "code",
      "execution_count": null,
      "id": "d8db18d9",
      "metadata": {
        "id": "d8db18d9"
      },
      "outputs": [],
      "source": [
        "df[\"agg_col1\"] = [1 if x % 2 == 0 else 0 for x in range(len(df))]\n",
        "df[\"agg_col2\"] = [1 if x % 3 == 0 else 0 for x in range(len(df))]\n"
      ]
    },
    {
      "cell_type": "markdown",
      "id": "8e2f0961",
      "metadata": {
        "id": "8e2f0961"
      },
      "source": [
        "Grouping and then applying the `sum` function to the grouped data."
      ]
    },
    {
      "cell_type": "code",
      "execution_count": null,
      "id": "e8a7f1f9",
      "metadata": {
        "colab": {
          "base_uri": "https://localhost:8080/"
        },
        "id": "e8a7f1f9",
        "outputId": "3d4dd397-9464-41b5-88fd-c0c2824b8af1"
      },
      "outputs": [
        {
          "data": {
            "text/html": [
              "<div>\n",
              "<style scoped>\n",
              "    .dataframe tbody tr th:only-of-type {\n",
              "        vertical-align: middle;\n",
              "    }\n",
              "\n",
              "    .dataframe tbody tr th {\n",
              "        vertical-align: top;\n",
              "    }\n",
              "\n",
              "    .dataframe thead th {\n",
              "        text-align: right;\n",
              "    }\n",
              "</style>\n",
              "<table border=\"1\" class=\"dataframe\">\n",
              "  <thead>\n",
              "    <tr style=\"text-align: right;\">\n",
              "      <th></th>\n",
              "      <th>a</th>\n",
              "      <th>b</th>\n",
              "      <th>c</th>\n",
              "      <th>agg_col2</th>\n",
              "    </tr>\n",
              "    <tr>\n",
              "      <th>agg_col1</th>\n",
              "      <th></th>\n",
              "      <th></th>\n",
              "      <th></th>\n",
              "      <th></th>\n",
              "    </tr>\n",
              "  </thead>\n",
              "  <tbody>\n",
              "    <tr>\n",
              "      <th>1</th>\n",
              "      <td>90</td>\n",
              "      <td>100</td>\n",
              "      <td>90</td>\n",
              "      <td>4</td>\n",
              "    </tr>\n",
              "    <tr>\n",
              "      <th>0</th>\n",
              "      <td>100</td>\n",
              "      <td>90</td>\n",
              "      <td>100</td>\n",
              "      <td>3</td>\n",
              "    </tr>\n",
              "  </tbody>\n",
              "</table>\n",
              "</div>"
            ],
            "text/plain": [
              "            a    b    c  agg_col2\n",
              "agg_col1                         \n",
              "1          90  100   90         4\n",
              "0         100   90  100         3"
            ]
          },
          "execution_count": 143,
          "metadata": {},
          "output_type": "execute_result"
        }
      ],
      "source": [
        "df.groupby(\"agg_col1\").sum()"
      ]
    },
    {
      "cell_type": "markdown",
      "id": "5ff1e8bf",
      "metadata": {
        "id": "5ff1e8bf"
      },
      "source": [
        "Grouping hierarchically then applying the `sum` function to grouped data."
      ]
    },
    {
      "cell_type": "code",
      "execution_count": null,
      "id": "4738f0ef",
      "metadata": {
        "colab": {
          "base_uri": "https://localhost:8080/"
        },
        "id": "4738f0ef",
        "outputId": "758720d8-bedb-4d54-edf9-850457bbc158"
      },
      "outputs": [
        {
          "data": {
            "text/html": [
              "<div>\n",
              "<style scoped>\n",
              "    .dataframe tbody tr th:only-of-type {\n",
              "        vertical-align: middle;\n",
              "    }\n",
              "\n",
              "    .dataframe tbody tr th {\n",
              "        vertical-align: top;\n",
              "    }\n",
              "\n",
              "    .dataframe thead th {\n",
              "        text-align: right;\n",
              "    }\n",
              "</style>\n",
              "<table border=\"1\" class=\"dataframe\">\n",
              "  <thead>\n",
              "    <tr style=\"text-align: right;\">\n",
              "      <th></th>\n",
              "      <th></th>\n",
              "      <th>a</th>\n",
              "      <th>b</th>\n",
              "      <th>c</th>\n",
              "    </tr>\n",
              "    <tr>\n",
              "      <th>agg_col1</th>\n",
              "      <th>agg_col2</th>\n",
              "      <th></th>\n",
              "      <th></th>\n",
              "      <th></th>\n",
              "    </tr>\n",
              "  </thead>\n",
              "  <tbody>\n",
              "    <tr>\n",
              "      <th>1</th>\n",
              "      <th>0</th>\n",
              "      <td>54</td>\n",
              "      <td>60</td>\n",
              "      <td>54</td>\n",
              "    </tr>\n",
              "    <tr>\n",
              "      <th>0</th>\n",
              "      <th>0</th>\n",
              "      <td>73</td>\n",
              "      <td>60</td>\n",
              "      <td>73</td>\n",
              "    </tr>\n",
              "    <tr>\n",
              "      <th>1</th>\n",
              "      <th>1</th>\n",
              "      <td>36</td>\n",
              "      <td>40</td>\n",
              "      <td>36</td>\n",
              "    </tr>\n",
              "    <tr>\n",
              "      <th>0</th>\n",
              "      <th>1</th>\n",
              "      <td>27</td>\n",
              "      <td>30</td>\n",
              "      <td>27</td>\n",
              "    </tr>\n",
              "  </tbody>\n",
              "</table>\n",
              "</div>"
            ],
            "text/plain": [
              "                    a   b   c\n",
              "agg_col1 agg_col2            \n",
              "1        0         54  60  54\n",
              "0        0         73  60  73\n",
              "1        1         36  40  36\n",
              "0        1         27  30  27"
            ]
          },
          "execution_count": 144,
          "metadata": {},
          "output_type": "execute_result"
        }
      ],
      "source": [
        "df.groupby([\"agg_col1\", \"agg_col2\"]).sum()"
      ]
    },
    {
      "cell_type": "markdown",
      "id": "443e179b",
      "metadata": {
        "id": "443e179b"
      },
      "source": [
        "Grouping and applying statistical functions to specific columns, using `agg`."
      ]
    },
    {
      "cell_type": "code",
      "execution_count": null,
      "id": "f196ad8b",
      "metadata": {
        "colab": {
          "base_uri": "https://localhost:8080/"
        },
        "id": "f196ad8b",
        "outputId": "b67291b4-0e41-455d-ab0a-ad775e5ec8b7"
      },
      "outputs": [
        {
          "data": {
            "text/html": [
              "<div>\n",
              "<style scoped>\n",
              "    .dataframe tbody tr th:only-of-type {\n",
              "        vertical-align: middle;\n",
              "    }\n",
              "\n",
              "    .dataframe tbody tr th {\n",
              "        vertical-align: top;\n",
              "    }\n",
              "\n",
              "    .dataframe thead th {\n",
              "        text-align: right;\n",
              "    }\n",
              "</style>\n",
              "<table border=\"1\" class=\"dataframe\">\n",
              "  <thead>\n",
              "    <tr style=\"text-align: right;\">\n",
              "      <th></th>\n",
              "      <th>a</th>\n",
              "      <th>b</th>\n",
              "      <th>c</th>\n",
              "    </tr>\n",
              "    <tr>\n",
              "      <th>agg_col1</th>\n",
              "      <th></th>\n",
              "      <th></th>\n",
              "      <th></th>\n",
              "    </tr>\n",
              "  </thead>\n",
              "  <tbody>\n",
              "    <tr>\n",
              "      <th>1</th>\n",
              "      <td>18</td>\n",
              "      <td>10.0</td>\n",
              "      <td>90</td>\n",
              "    </tr>\n",
              "    <tr>\n",
              "      <th>0</th>\n",
              "      <td>19</td>\n",
              "      <td>9.0</td>\n",
              "      <td>100</td>\n",
              "    </tr>\n",
              "  </tbody>\n",
              "</table>\n",
              "</div>"
            ],
            "text/plain": [
              "           a     b    c\n",
              "agg_col1               \n",
              "1         18  10.0   90\n",
              "0         19   9.0  100"
            ]
          },
          "execution_count": 145,
          "metadata": {},
          "output_type": "execute_result"
        }
      ],
      "source": [
        "df.groupby(\"agg_col1\").agg({\"a\": \"max\", \"b\": \"mean\", \"c\": \"sum\"})"
      ]
    },
    {
      "cell_type": "markdown",
      "id": "SHQBiLOSBEz3",
      "metadata": {
        "id": "SHQBiLOSBEz3"
      },
      "source": [
        "## Sorting"
      ]
    },
    {
      "cell_type": "markdown",
      "id": "16798a32",
      "metadata": {
        "id": "16798a32"
      },
      "source": [
        "Sorting by values."
      ]
    },
    {
      "cell_type": "code",
      "execution_count": null,
      "id": "2190856d",
      "metadata": {
        "colab": {
          "base_uri": "https://localhost:8080/"
        },
        "id": "2190856d",
        "outputId": "1415adc3-5c91-4a4f-e63c-5b410eee3154"
      },
      "outputs": [
        {
          "data": {
            "text/html": [
              "<div>\n",
              "<style scoped>\n",
              "    .dataframe tbody tr th:only-of-type {\n",
              "        vertical-align: middle;\n",
              "    }\n",
              "\n",
              "    .dataframe tbody tr th {\n",
              "        vertical-align: top;\n",
              "    }\n",
              "\n",
              "    .dataframe thead th {\n",
              "        text-align: right;\n",
              "    }\n",
              "</style>\n",
              "<table border=\"1\" class=\"dataframe\">\n",
              "  <thead>\n",
              "    <tr style=\"text-align: right;\">\n",
              "      <th></th>\n",
              "      <th>a</th>\n",
              "      <th>b</th>\n",
              "      <th>c</th>\n",
              "      <th>agg_col1</th>\n",
              "      <th>agg_col2</th>\n",
              "    </tr>\n",
              "  </thead>\n",
              "  <tbody>\n",
              "    <tr>\n",
              "      <th>19</th>\n",
              "      <td>19</td>\n",
              "      <td>0</td>\n",
              "      <td>19</td>\n",
              "      <td>0</td>\n",
              "      <td>0</td>\n",
              "    </tr>\n",
              "    <tr>\n",
              "      <th>18</th>\n",
              "      <td>18</td>\n",
              "      <td>1</td>\n",
              "      <td>18</td>\n",
              "      <td>1</td>\n",
              "      <td>1</td>\n",
              "    </tr>\n",
              "    <tr>\n",
              "      <th>17</th>\n",
              "      <td>17</td>\n",
              "      <td>2</td>\n",
              "      <td>17</td>\n",
              "      <td>0</td>\n",
              "      <td>0</td>\n",
              "    </tr>\n",
              "    <tr>\n",
              "      <th>16</th>\n",
              "      <td>16</td>\n",
              "      <td>3</td>\n",
              "      <td>16</td>\n",
              "      <td>1</td>\n",
              "      <td>0</td>\n",
              "    </tr>\n",
              "    <tr>\n",
              "      <th>15</th>\n",
              "      <td>15</td>\n",
              "      <td>4</td>\n",
              "      <td>15</td>\n",
              "      <td>0</td>\n",
              "      <td>1</td>\n",
              "    </tr>\n",
              "    <tr>\n",
              "      <th>14</th>\n",
              "      <td>14</td>\n",
              "      <td>5</td>\n",
              "      <td>14</td>\n",
              "      <td>1</td>\n",
              "      <td>0</td>\n",
              "    </tr>\n",
              "    <tr>\n",
              "      <th>13</th>\n",
              "      <td>13</td>\n",
              "      <td>6</td>\n",
              "      <td>13</td>\n",
              "      <td>0</td>\n",
              "      <td>0</td>\n",
              "    </tr>\n",
              "    <tr>\n",
              "      <th>12</th>\n",
              "      <td>12</td>\n",
              "      <td>7</td>\n",
              "      <td>12</td>\n",
              "      <td>1</td>\n",
              "      <td>1</td>\n",
              "    </tr>\n",
              "    <tr>\n",
              "      <th>11</th>\n",
              "      <td>11</td>\n",
              "      <td>8</td>\n",
              "      <td>11</td>\n",
              "      <td>0</td>\n",
              "      <td>0</td>\n",
              "    </tr>\n",
              "    <tr>\n",
              "      <th>10</th>\n",
              "      <td>10</td>\n",
              "      <td>9</td>\n",
              "      <td>10</td>\n",
              "      <td>1</td>\n",
              "      <td>0</td>\n",
              "    </tr>\n",
              "    <tr>\n",
              "      <th>9</th>\n",
              "      <td>9</td>\n",
              "      <td>10</td>\n",
              "      <td>9</td>\n",
              "      <td>0</td>\n",
              "      <td>1</td>\n",
              "    </tr>\n",
              "    <tr>\n",
              "      <th>8</th>\n",
              "      <td>8</td>\n",
              "      <td>11</td>\n",
              "      <td>8</td>\n",
              "      <td>1</td>\n",
              "      <td>0</td>\n",
              "    </tr>\n",
              "    <tr>\n",
              "      <th>7</th>\n",
              "      <td>7</td>\n",
              "      <td>12</td>\n",
              "      <td>7</td>\n",
              "      <td>0</td>\n",
              "      <td>0</td>\n",
              "    </tr>\n",
              "    <tr>\n",
              "      <th>6</th>\n",
              "      <td>6</td>\n",
              "      <td>13</td>\n",
              "      <td>6</td>\n",
              "      <td>1</td>\n",
              "      <td>1</td>\n",
              "    </tr>\n",
              "    <tr>\n",
              "      <th>5</th>\n",
              "      <td>5</td>\n",
              "      <td>14</td>\n",
              "      <td>5</td>\n",
              "      <td>0</td>\n",
              "      <td>0</td>\n",
              "    </tr>\n",
              "    <tr>\n",
              "      <th>4</th>\n",
              "      <td>4</td>\n",
              "      <td>15</td>\n",
              "      <td>4</td>\n",
              "      <td>1</td>\n",
              "      <td>0</td>\n",
              "    </tr>\n",
              "    <tr>\n",
              "      <th>3</th>\n",
              "      <td>3</td>\n",
              "      <td>16</td>\n",
              "      <td>3</td>\n",
              "      <td>0</td>\n",
              "      <td>1</td>\n",
              "    </tr>\n",
              "    <tr>\n",
              "      <th>2</th>\n",
              "      <td>2</td>\n",
              "      <td>17</td>\n",
              "      <td>2</td>\n",
              "      <td>1</td>\n",
              "      <td>0</td>\n",
              "    </tr>\n",
              "    <tr>\n",
              "      <th>1</th>\n",
              "      <td>1</td>\n",
              "      <td>18</td>\n",
              "      <td>1</td>\n",
              "      <td>0</td>\n",
              "      <td>0</td>\n",
              "    </tr>\n",
              "    <tr>\n",
              "      <th>0</th>\n",
              "      <td>0</td>\n",
              "      <td>19</td>\n",
              "      <td>0</td>\n",
              "      <td>1</td>\n",
              "      <td>1</td>\n",
              "    </tr>\n",
              "  </tbody>\n",
              "</table>\n",
              "</div>"
            ],
            "text/plain": [
              "     a   b   c  agg_col1  agg_col2\n",
              "19  19   0  19         0         0\n",
              "18  18   1  18         1         1\n",
              "17  17   2  17         0         0\n",
              "16  16   3  16         1         0\n",
              "15  15   4  15         0         1\n",
              "14  14   5  14         1         0\n",
              "13  13   6  13         0         0\n",
              "12  12   7  12         1         1\n",
              "11  11   8  11         0         0\n",
              "10  10   9  10         1         0\n",
              "9    9  10   9         0         1\n",
              "8    8  11   8         1         0\n",
              "7    7  12   7         0         0\n",
              "6    6  13   6         1         1\n",
              "5    5  14   5         0         0\n",
              "4    4  15   4         1         0\n",
              "3    3  16   3         0         1\n",
              "2    2  17   2         1         0\n",
              "1    1  18   1         0         0\n",
              "0    0  19   0         1         1"
            ]
          },
          "execution_count": 146,
          "metadata": {},
          "output_type": "execute_result"
        }
      ],
      "source": [
        "df.sort_values(by=\"b\")"
      ]
    },
    {
      "cell_type": "markdown",
      "id": "a5bf30e1",
      "metadata": {
        "id": "a5bf30e1"
      },
      "source": [
        "## Transpose"
      ]
    },
    {
      "cell_type": "markdown",
      "id": "5ac3b004",
      "metadata": {
        "id": "5ac3b004"
      },
      "source": [
        "Transposing a dataframe, using either the `transpose` method or `T` property. Currently, all columns must have the same type. Transposing is not currently implemented in Dask-cuDF."
      ]
    },
    {
      "cell_type": "code",
      "execution_count": null,
      "id": "c5fbdb50",
      "metadata": {
        "colab": {
          "base_uri": "https://localhost:8080/"
        },
        "id": "c5fbdb50",
        "outputId": "59db5fee-f3fd-4487-8000-8499deaa9558"
      },
      "outputs": [
        {
          "data": {
            "text/html": [
              "<div>\n",
              "<style scoped>\n",
              "    .dataframe tbody tr th:only-of-type {\n",
              "        vertical-align: middle;\n",
              "    }\n",
              "\n",
              "    .dataframe tbody tr th {\n",
              "        vertical-align: top;\n",
              "    }\n",
              "\n",
              "    .dataframe thead th {\n",
              "        text-align: right;\n",
              "    }\n",
              "</style>\n",
              "<table border=\"1\" class=\"dataframe\">\n",
              "  <thead>\n",
              "    <tr style=\"text-align: right;\">\n",
              "      <th></th>\n",
              "      <th>a</th>\n",
              "      <th>b</th>\n",
              "    </tr>\n",
              "  </thead>\n",
              "  <tbody>\n",
              "    <tr>\n",
              "      <th>0</th>\n",
              "      <td>1</td>\n",
              "      <td>4</td>\n",
              "    </tr>\n",
              "    <tr>\n",
              "      <th>1</th>\n",
              "      <td>2</td>\n",
              "      <td>5</td>\n",
              "    </tr>\n",
              "    <tr>\n",
              "      <th>2</th>\n",
              "      <td>3</td>\n",
              "      <td>6</td>\n",
              "    </tr>\n",
              "  </tbody>\n",
              "</table>\n",
              "</div>"
            ],
            "text/plain": [
              "   a  b\n",
              "0  1  4\n",
              "1  2  5\n",
              "2  3  6"
            ]
          },
          "execution_count": 147,
          "metadata": {},
          "output_type": "execute_result"
        }
      ],
      "source": [
        "sample = cudf.DataFrame({\"a\": [1, 2, 3], \"b\": [4, 5, 6]})\n",
        "sample"
      ]
    },
    {
      "cell_type": "code",
      "execution_count": null,
      "id": "733ed90c",
      "metadata": {
        "colab": {
          "base_uri": "https://localhost:8080/"
        },
        "id": "733ed90c",
        "outputId": "8219f218-6e6e-403d-9417-77db4095d5ca"
      },
      "outputs": [
        {
          "data": {
            "text/html": [
              "<div>\n",
              "<style scoped>\n",
              "    .dataframe tbody tr th:only-of-type {\n",
              "        vertical-align: middle;\n",
              "    }\n",
              "\n",
              "    .dataframe tbody tr th {\n",
              "        vertical-align: top;\n",
              "    }\n",
              "\n",
              "    .dataframe thead th {\n",
              "        text-align: right;\n",
              "    }\n",
              "</style>\n",
              "<table border=\"1\" class=\"dataframe\">\n",
              "  <thead>\n",
              "    <tr style=\"text-align: right;\">\n",
              "      <th></th>\n",
              "      <th>0</th>\n",
              "      <th>1</th>\n",
              "      <th>2</th>\n",
              "    </tr>\n",
              "  </thead>\n",
              "  <tbody>\n",
              "    <tr>\n",
              "      <th>a</th>\n",
              "      <td>1</td>\n",
              "      <td>2</td>\n",
              "      <td>3</td>\n",
              "    </tr>\n",
              "    <tr>\n",
              "      <th>b</th>\n",
              "      <td>4</td>\n",
              "      <td>5</td>\n",
              "      <td>6</td>\n",
              "    </tr>\n",
              "  </tbody>\n",
              "</table>\n",
              "</div>"
            ],
            "text/plain": [
              "   0  1  2\n",
              "a  1  2  3\n",
              "b  4  5  6"
            ]
          },
          "execution_count": 148,
          "metadata": {},
          "output_type": "execute_result"
        }
      ],
      "source": [
        "sample.transpose()"
      ]
    },
    {
      "cell_type": "markdown",
      "id": "e0915c46",
      "metadata": {
        "id": "e0915c46"
      },
      "source": [
        "Time Series\n",
        "------------"
      ]
    },
    {
      "cell_type": "markdown",
      "id": "ec7f0b81",
      "metadata": {
        "id": "ec7f0b81"
      },
      "source": [
        "`DataFrames` supports `datetime` typed columns, which allow users to interact with and filter data based on specific timestamps."
      ]
    },
    {
      "cell_type": "code",
      "execution_count": null,
      "id": "a6d45607",
      "metadata": {
        "colab": {
          "base_uri": "https://localhost:8080/"
        },
        "id": "a6d45607",
        "outputId": "0cfe62d1-c4bf-4331-df28-b00783564bd5"
      },
      "outputs": [
        {
          "data": {
            "text/html": [
              "<div>\n",
              "<style scoped>\n",
              "    .dataframe tbody tr th:only-of-type {\n",
              "        vertical-align: middle;\n",
              "    }\n",
              "\n",
              "    .dataframe tbody tr th {\n",
              "        vertical-align: top;\n",
              "    }\n",
              "\n",
              "    .dataframe thead th {\n",
              "        text-align: right;\n",
              "    }\n",
              "</style>\n",
              "<table border=\"1\" class=\"dataframe\">\n",
              "  <thead>\n",
              "    <tr style=\"text-align: right;\">\n",
              "      <th></th>\n",
              "      <th>date</th>\n",
              "      <th>value</th>\n",
              "    </tr>\n",
              "  </thead>\n",
              "  <tbody>\n",
              "    <tr>\n",
              "      <th>0</th>\n",
              "      <td>2018-11-20</td>\n",
              "      <td>0.385556</td>\n",
              "    </tr>\n",
              "    <tr>\n",
              "      <th>1</th>\n",
              "      <td>2018-11-21</td>\n",
              "      <td>0.908215</td>\n",
              "    </tr>\n",
              "    <tr>\n",
              "      <th>2</th>\n",
              "      <td>2018-11-22</td>\n",
              "      <td>0.641620</td>\n",
              "    </tr>\n",
              "    <tr>\n",
              "      <th>3</th>\n",
              "      <td>2018-11-23</td>\n",
              "      <td>0.283399</td>\n",
              "    </tr>\n",
              "  </tbody>\n",
              "</table>\n",
              "</div>"
            ],
            "text/plain": [
              "        date     value\n",
              "0 2018-11-20  0.385556\n",
              "1 2018-11-21  0.908215\n",
              "2 2018-11-22  0.641620\n",
              "3 2018-11-23  0.283399"
            ]
          },
          "execution_count": 149,
          "metadata": {},
          "output_type": "execute_result"
        }
      ],
      "source": [
        "import datetime as dt\n",
        "\n",
        "date_df = cudf.DataFrame()\n",
        "date_df[\"date\"] = pd.date_range(\"11/20/2018\", periods=72, freq=\"D\")\n",
        "date_df[\"value\"] = cp.random.sample(len(date_df))\n",
        "\n",
        "search_date = dt.datetime.strptime(\"2018-11-23\", \"%Y-%m-%d\")\n",
        "date_df.query(\"date <= @search_date\")"
      ]
    },
    {
      "cell_type": "markdown",
      "id": "45f9408b",
      "metadata": {
        "id": "45f9408b"
      },
      "source": [
        "Categoricals\n",
        "------------"
      ]
    },
    {
      "cell_type": "markdown",
      "id": "5eb96f98",
      "metadata": {
        "id": "5eb96f98"
      },
      "source": [
        "`DataFrames` support categorical columns."
      ]
    },
    {
      "cell_type": "code",
      "execution_count": null,
      "id": "d735b5cb",
      "metadata": {
        "colab": {
          "base_uri": "https://localhost:8080/"
        },
        "id": "d735b5cb",
        "outputId": "c061a951-ad99-42ec-fb45-6d4cf17e2b08"
      },
      "outputs": [
        {
          "data": {
            "text/html": [
              "<div>\n",
              "<style scoped>\n",
              "    .dataframe tbody tr th:only-of-type {\n",
              "        vertical-align: middle;\n",
              "    }\n",
              "\n",
              "    .dataframe tbody tr th {\n",
              "        vertical-align: top;\n",
              "    }\n",
              "\n",
              "    .dataframe thead th {\n",
              "        text-align: right;\n",
              "    }\n",
              "</style>\n",
              "<table border=\"1\" class=\"dataframe\">\n",
              "  <thead>\n",
              "    <tr style=\"text-align: right;\">\n",
              "      <th></th>\n",
              "      <th>id</th>\n",
              "      <th>grade</th>\n",
              "    </tr>\n",
              "  </thead>\n",
              "  <tbody>\n",
              "    <tr>\n",
              "      <th>0</th>\n",
              "      <td>1</td>\n",
              "      <td>a</td>\n",
              "    </tr>\n",
              "    <tr>\n",
              "      <th>1</th>\n",
              "      <td>2</td>\n",
              "      <td>b</td>\n",
              "    </tr>\n",
              "    <tr>\n",
              "      <th>2</th>\n",
              "      <td>3</td>\n",
              "      <td>b</td>\n",
              "    </tr>\n",
              "    <tr>\n",
              "      <th>3</th>\n",
              "      <td>4</td>\n",
              "      <td>a</td>\n",
              "    </tr>\n",
              "    <tr>\n",
              "      <th>4</th>\n",
              "      <td>5</td>\n",
              "      <td>a</td>\n",
              "    </tr>\n",
              "    <tr>\n",
              "      <th>5</th>\n",
              "      <td>6</td>\n",
              "      <td>e</td>\n",
              "    </tr>\n",
              "  </tbody>\n",
              "</table>\n",
              "</div>"
            ],
            "text/plain": [
              "   id grade\n",
              "0   1     a\n",
              "1   2     b\n",
              "2   3     b\n",
              "3   4     a\n",
              "4   5     a\n",
              "5   6     e"
            ]
          },
          "execution_count": 150,
          "metadata": {},
          "output_type": "execute_result"
        }
      ],
      "source": [
        "gdf = cudf.DataFrame(\n",
        "    {\"id\": [1, 2, 3, 4, 5, 6], \"grade\": [\"a\", \"b\", \"b\", \"a\", \"a\", \"e\"]}\n",
        ")\n",
        "gdf[\"grade\"] = gdf[\"grade\"].astype(\"category\")\n",
        "gdf"
      ]
    },
    {
      "cell_type": "markdown",
      "id": "a9c2bcac",
      "metadata": {
        "id": "a9c2bcac"
      },
      "source": [
        "Accessing the categories of a column. Note that this is currently not supported in Dask-cuDF."
      ]
    },
    {
      "cell_type": "code",
      "execution_count": null,
      "id": "a7135eda",
      "metadata": {
        "colab": {
          "base_uri": "https://localhost:8080/"
        },
        "id": "a7135eda",
        "outputId": "25ae37a9-ffef-45e8-b777-b734ac21d4be"
      },
      "outputs": [
        {
          "data": {
            "text/plain": [
              "StringIndex(['a' 'b' 'e'], dtype='object')"
            ]
          },
          "execution_count": 151,
          "metadata": {},
          "output_type": "execute_result"
        }
      ],
      "source": [
        "gdf.grade.cat.categories"
      ]
    },
    {
      "cell_type": "markdown",
      "id": "466e1ed2",
      "metadata": {
        "id": "466e1ed2"
      },
      "source": [
        "Accessing the underlying code values of each categorical observation."
      ]
    },
    {
      "cell_type": "code",
      "execution_count": null,
      "id": "f00c615a",
      "metadata": {
        "colab": {
          "base_uri": "https://localhost:8080/"
        },
        "id": "f00c615a",
        "outputId": "282dd726-a255-4743-ac2d-23566e8fe515"
      },
      "outputs": [
        {
          "data": {
            "text/plain": [
              "0    0\n",
              "1    1\n",
              "2    1\n",
              "3    0\n",
              "4    0\n",
              "5    2\n",
              "dtype: uint8"
            ]
          },
          "execution_count": 152,
          "metadata": {},
          "output_type": "execute_result"
        }
      ],
      "source": [
        "gdf.grade.cat.codes"
      ]
    },
    {
      "cell_type": "markdown",
      "id": "4pr1V5J6_uZd",
      "metadata": {
        "id": "4pr1V5J6_uZd"
      },
      "source": [
        "# Converting Data Representation"
      ]
    },
    {
      "cell_type": "markdown",
      "id": "1b391a0d",
      "metadata": {
        "id": "1b391a0d"
      },
      "source": [
        "## Pandas"
      ]
    },
    {
      "cell_type": "markdown",
      "id": "cfdd172b",
      "metadata": {
        "id": "cfdd172b"
      },
      "source": [
        "Converting a cuDF `DataFrame` to a pandas `DataFrame`."
      ]
    },
    {
      "cell_type": "code",
      "execution_count": null,
      "id": "1fcd9c7f",
      "metadata": {
        "colab": {
          "base_uri": "https://localhost:8080/"
        },
        "id": "1fcd9c7f",
        "outputId": "a04abf45-3db4-4dcd-847f-bd956f6d6592"
      },
      "outputs": [
        {
          "data": {
            "text/html": [
              "\n",
              "  <div id=\"df-c955e88c-a13a-4fb0-bd5b-f5446da2a154\">\n",
              "    <div class=\"colab-df-container\">\n",
              "      <div>\n",
              "<style scoped>\n",
              "    .dataframe tbody tr th:only-of-type {\n",
              "        vertical-align: middle;\n",
              "    }\n",
              "\n",
              "    .dataframe tbody tr th {\n",
              "        vertical-align: top;\n",
              "    }\n",
              "\n",
              "    .dataframe thead th {\n",
              "        text-align: right;\n",
              "    }\n",
              "</style>\n",
              "<table border=\"1\" class=\"dataframe\">\n",
              "  <thead>\n",
              "    <tr style=\"text-align: right;\">\n",
              "      <th></th>\n",
              "      <th>a</th>\n",
              "      <th>b</th>\n",
              "      <th>c</th>\n",
              "      <th>agg_col1</th>\n",
              "      <th>agg_col2</th>\n",
              "    </tr>\n",
              "  </thead>\n",
              "  <tbody>\n",
              "    <tr>\n",
              "      <th>0</th>\n",
              "      <td>0</td>\n",
              "      <td>19</td>\n",
              "      <td>0</td>\n",
              "      <td>1</td>\n",
              "      <td>1</td>\n",
              "    </tr>\n",
              "    <tr>\n",
              "      <th>1</th>\n",
              "      <td>1</td>\n",
              "      <td>18</td>\n",
              "      <td>1</td>\n",
              "      <td>0</td>\n",
              "      <td>0</td>\n",
              "    </tr>\n",
              "    <tr>\n",
              "      <th>2</th>\n",
              "      <td>2</td>\n",
              "      <td>17</td>\n",
              "      <td>2</td>\n",
              "      <td>1</td>\n",
              "      <td>0</td>\n",
              "    </tr>\n",
              "    <tr>\n",
              "      <th>3</th>\n",
              "      <td>3</td>\n",
              "      <td>16</td>\n",
              "      <td>3</td>\n",
              "      <td>0</td>\n",
              "      <td>1</td>\n",
              "    </tr>\n",
              "    <tr>\n",
              "      <th>4</th>\n",
              "      <td>4</td>\n",
              "      <td>15</td>\n",
              "      <td>4</td>\n",
              "      <td>1</td>\n",
              "      <td>0</td>\n",
              "    </tr>\n",
              "  </tbody>\n",
              "</table>\n",
              "</div>\n",
              "      <button class=\"colab-df-convert\" onclick=\"convertToInteractive('df-c955e88c-a13a-4fb0-bd5b-f5446da2a154')\"\n",
              "              title=\"Convert this dataframe to an interactive table.\"\n",
              "              style=\"display:none;\">\n",
              "        \n",
              "  <svg xmlns=\"http://www.w3.org/2000/svg\" height=\"24px\"viewBox=\"0 0 24 24\"\n",
              "       width=\"24px\">\n",
              "    <path d=\"M0 0h24v24H0V0z\" fill=\"none\"/>\n",
              "    <path d=\"M18.56 5.44l.94 2.06.94-2.06 2.06-.94-2.06-.94-.94-2.06-.94 2.06-2.06.94zm-11 1L8.5 8.5l.94-2.06 2.06-.94-2.06-.94L8.5 2.5l-.94 2.06-2.06.94zm10 10l.94 2.06.94-2.06 2.06-.94-2.06-.94-.94-2.06-.94 2.06-2.06.94z\"/><path d=\"M17.41 7.96l-1.37-1.37c-.4-.4-.92-.59-1.43-.59-.52 0-1.04.2-1.43.59L10.3 9.45l-7.72 7.72c-.78.78-.78 2.05 0 2.83L4 21.41c.39.39.9.59 1.41.59.51 0 1.02-.2 1.41-.59l7.78-7.78 2.81-2.81c.8-.78.8-2.07 0-2.86zM5.41 20L4 18.59l7.72-7.72 1.47 1.35L5.41 20z\"/>\n",
              "  </svg>\n",
              "      </button>\n",
              "      \n",
              "  <style>\n",
              "    .colab-df-container {\n",
              "      display:flex;\n",
              "      flex-wrap:wrap;\n",
              "      gap: 12px;\n",
              "    }\n",
              "\n",
              "    .colab-df-convert {\n",
              "      background-color: #E8F0FE;\n",
              "      border: none;\n",
              "      border-radius: 50%;\n",
              "      cursor: pointer;\n",
              "      display: none;\n",
              "      fill: #1967D2;\n",
              "      height: 32px;\n",
              "      padding: 0 0 0 0;\n",
              "      width: 32px;\n",
              "    }\n",
              "\n",
              "    .colab-df-convert:hover {\n",
              "      background-color: #E2EBFA;\n",
              "      box-shadow: 0px 1px 2px rgba(60, 64, 67, 0.3), 0px 1px 3px 1px rgba(60, 64, 67, 0.15);\n",
              "      fill: #174EA6;\n",
              "    }\n",
              "\n",
              "    [theme=dark] .colab-df-convert {\n",
              "      background-color: #3B4455;\n",
              "      fill: #D2E3FC;\n",
              "    }\n",
              "\n",
              "    [theme=dark] .colab-df-convert:hover {\n",
              "      background-color: #434B5C;\n",
              "      box-shadow: 0px 1px 3px 1px rgba(0, 0, 0, 0.15);\n",
              "      filter: drop-shadow(0px 1px 2px rgba(0, 0, 0, 0.3));\n",
              "      fill: #FFFFFF;\n",
              "    }\n",
              "  </style>\n",
              "\n",
              "      <script>\n",
              "        const buttonEl =\n",
              "          document.querySelector('#df-c955e88c-a13a-4fb0-bd5b-f5446da2a154 button.colab-df-convert');\n",
              "        buttonEl.style.display =\n",
              "          google.colab.kernel.accessAllowed ? 'block' : 'none';\n",
              "\n",
              "        async function convertToInteractive(key) {\n",
              "          const element = document.querySelector('#df-c955e88c-a13a-4fb0-bd5b-f5446da2a154');\n",
              "          const dataTable =\n",
              "            await google.colab.kernel.invokeFunction('convertToInteractive',\n",
              "                                                     [key], {});\n",
              "          if (!dataTable) return;\n",
              "\n",
              "          const docLinkHtml = 'Like what you see? Visit the ' +\n",
              "            '<a target=\"_blank\" href=https://colab.research.google.com/notebooks/data_table.ipynb>data table notebook</a>'\n",
              "            + ' to learn more about interactive tables.';\n",
              "          element.innerHTML = '';\n",
              "          dataTable['output_type'] = 'display_data';\n",
              "          await google.colab.output.renderOutput(dataTable, element);\n",
              "          const docLink = document.createElement('div');\n",
              "          docLink.innerHTML = docLinkHtml;\n",
              "          element.appendChild(docLink);\n",
              "        }\n",
              "      </script>\n",
              "    </div>\n",
              "  </div>\n",
              "  "
            ],
            "text/plain": [
              "   a   b  c  agg_col1  agg_col2\n",
              "0  0  19  0         1         1\n",
              "1  1  18  1         0         0\n",
              "2  2  17  2         1         0\n",
              "3  3  16  3         0         1\n",
              "4  4  15  4         1         0"
            ]
          },
          "execution_count": 153,
          "metadata": {},
          "output_type": "execute_result"
        }
      ],
      "source": [
        "df.head().to_pandas()"
      ]
    },
    {
      "cell_type": "markdown",
      "id": "a104294a",
      "metadata": {
        "id": "a104294a"
      },
      "source": [
        "## Numpy"
      ]
    },
    {
      "cell_type": "markdown",
      "id": "c5d3e508",
      "metadata": {
        "id": "c5d3e508"
      },
      "source": [
        "Converting a cuDF or Dask-cuDF `DataFrame` to a numpy `ndarray`."
      ]
    },
    {
      "cell_type": "code",
      "execution_count": null,
      "id": "2948b577",
      "metadata": {
        "colab": {
          "base_uri": "https://localhost:8080/"
        },
        "id": "2948b577",
        "outputId": "cf0fb62c-ad4a-42b4-eb1a-e6297702e4a4"
      },
      "outputs": [
        {
          "data": {
            "text/plain": [
              "array([[ 0, 19,  0,  1,  1],\n",
              "       [ 1, 18,  1,  0,  0],\n",
              "       [ 2, 17,  2,  1,  0],\n",
              "       [ 3, 16,  3,  0,  1],\n",
              "       [ 4, 15,  4,  1,  0],\n",
              "       [ 5, 14,  5,  0,  0],\n",
              "       [ 6, 13,  6,  1,  1],\n",
              "       [ 7, 12,  7,  0,  0],\n",
              "       [ 8, 11,  8,  1,  0],\n",
              "       [ 9, 10,  9,  0,  1],\n",
              "       [10,  9, 10,  1,  0],\n",
              "       [11,  8, 11,  0,  0],\n",
              "       [12,  7, 12,  1,  1],\n",
              "       [13,  6, 13,  0,  0],\n",
              "       [14,  5, 14,  1,  0],\n",
              "       [15,  4, 15,  0,  1],\n",
              "       [16,  3, 16,  1,  0],\n",
              "       [17,  2, 17,  0,  0],\n",
              "       [18,  1, 18,  1,  1],\n",
              "       [19,  0, 19,  0,  0]])"
            ]
          },
          "execution_count": 154,
          "metadata": {},
          "output_type": "execute_result"
        }
      ],
      "source": [
        "df.to_numpy()"
      ]
    },
    {
      "cell_type": "markdown",
      "id": "c1f09303",
      "metadata": {
        "id": "c1f09303"
      },
      "source": [
        "Converting a cuDF or Dask-cuDF `Series` to a numpy `ndarray`."
      ]
    },
    {
      "cell_type": "code",
      "execution_count": null,
      "id": "997c89ba",
      "metadata": {
        "colab": {
          "base_uri": "https://localhost:8080/"
        },
        "id": "997c89ba",
        "outputId": "2a0a90db-9f04-4914-c3ee-c64fc9a4b49c"
      },
      "outputs": [
        {
          "data": {
            "text/plain": [
              "array([ 0,  1,  2,  3,  4,  5,  6,  7,  8,  9, 10, 11, 12, 13, 14, 15, 16,\n",
              "       17, 18, 19])"
            ]
          },
          "execution_count": 155,
          "metadata": {},
          "output_type": "execute_result"
        }
      ],
      "source": [
        "df[\"a\"].to_numpy()"
      ]
    },
    {
      "cell_type": "markdown",
      "id": "b520acf7",
      "metadata": {
        "id": "b520acf7"
      },
      "source": [
        "## Arrow"
      ]
    },
    {
      "cell_type": "markdown",
      "id": "050e67e5",
      "metadata": {
        "id": "050e67e5"
      },
      "source": [
        "Converting a cuDF or Dask-cuDF `DataFrame` to a PyArrow `Table`."
      ]
    },
    {
      "cell_type": "code",
      "execution_count": null,
      "id": "0ac9e740",
      "metadata": {
        "colab": {
          "base_uri": "https://localhost:8080/"
        },
        "id": "0ac9e740",
        "outputId": "9c755381-cfd6-46d6-e95a-c584d72fb3f0"
      },
      "outputs": [
        {
          "data": {
            "text/plain": [
              "pyarrow.Table\n",
              "a: int64\n",
              "b: int64\n",
              "c: int64\n",
              "agg_col1: int64\n",
              "agg_col2: int64\n",
              "----\n",
              "a: [[0,1,2,3,4,...,15,16,17,18,19]]\n",
              "b: [[19,18,17,16,15,...,4,3,2,1,0]]\n",
              "c: [[0,1,2,3,4,...,15,16,17,18,19]]\n",
              "agg_col1: [[1,0,1,0,1,...,0,1,0,1,0]]\n",
              "agg_col2: [[1,0,0,1,0,...,1,0,0,1,0]]"
            ]
          },
          "execution_count": 156,
          "metadata": {},
          "output_type": "execute_result"
        }
      ],
      "source": [
        "df.to_arrow()"
      ]
    },
    {
      "cell_type": "markdown",
      "id": "f0734690",
      "metadata": {
        "id": "f0734690"
      },
      "source": [
        "# Reading and Writing Data"
      ]
    },
    {
      "cell_type": "markdown",
      "id": "6f0251c6",
      "metadata": {
        "id": "6f0251c6"
      },
      "source": [
        "## CSV"
      ]
    },
    {
      "cell_type": "markdown",
      "id": "2d1935c6",
      "metadata": {
        "id": "2d1935c6"
      },
      "source": [
        "Writing to a CSV file."
      ]
    },
    {
      "cell_type": "code",
      "execution_count": null,
      "id": "36f5039f",
      "metadata": {
        "id": "36f5039f"
      },
      "outputs": [],
      "source": [
        "if not os.path.exists(\"example_output\"):\n",
        "    os.mkdir(\"example_output\")\n",
        "\n",
        "df.to_csv(\"example_output/foo.csv\", index=False)"
      ]
    },
    {
      "cell_type": "markdown",
      "id": "320c3968",
      "metadata": {
        "id": "320c3968"
      },
      "source": [
        "Reading from a csv file."
      ]
    },
    {
      "cell_type": "code",
      "execution_count": null,
      "id": "c110a80f",
      "metadata": {
        "colab": {
          "base_uri": "https://localhost:8080/"
        },
        "id": "c110a80f",
        "outputId": "a4c6d4a7-bb2a-40a1-d3c1-794cf4209faa"
      },
      "outputs": [
        {
          "data": {
            "text/html": [
              "<div>\n",
              "<style scoped>\n",
              "    .dataframe tbody tr th:only-of-type {\n",
              "        vertical-align: middle;\n",
              "    }\n",
              "\n",
              "    .dataframe tbody tr th {\n",
              "        vertical-align: top;\n",
              "    }\n",
              "\n",
              "    .dataframe thead th {\n",
              "        text-align: right;\n",
              "    }\n",
              "</style>\n",
              "<table border=\"1\" class=\"dataframe\">\n",
              "  <thead>\n",
              "    <tr style=\"text-align: right;\">\n",
              "      <th></th>\n",
              "      <th>a</th>\n",
              "      <th>b</th>\n",
              "      <th>c</th>\n",
              "      <th>agg_col1</th>\n",
              "      <th>agg_col2</th>\n",
              "    </tr>\n",
              "  </thead>\n",
              "  <tbody>\n",
              "    <tr>\n",
              "      <th>0</th>\n",
              "      <td>0</td>\n",
              "      <td>19</td>\n",
              "      <td>0</td>\n",
              "      <td>1</td>\n",
              "      <td>1</td>\n",
              "    </tr>\n",
              "    <tr>\n",
              "      <th>1</th>\n",
              "      <td>1</td>\n",
              "      <td>18</td>\n",
              "      <td>1</td>\n",
              "      <td>0</td>\n",
              "      <td>0</td>\n",
              "    </tr>\n",
              "    <tr>\n",
              "      <th>2</th>\n",
              "      <td>2</td>\n",
              "      <td>17</td>\n",
              "      <td>2</td>\n",
              "      <td>1</td>\n",
              "      <td>0</td>\n",
              "    </tr>\n",
              "    <tr>\n",
              "      <th>3</th>\n",
              "      <td>3</td>\n",
              "      <td>16</td>\n",
              "      <td>3</td>\n",
              "      <td>0</td>\n",
              "      <td>1</td>\n",
              "    </tr>\n",
              "    <tr>\n",
              "      <th>4</th>\n",
              "      <td>4</td>\n",
              "      <td>15</td>\n",
              "      <td>4</td>\n",
              "      <td>1</td>\n",
              "      <td>0</td>\n",
              "    </tr>\n",
              "    <tr>\n",
              "      <th>5</th>\n",
              "      <td>5</td>\n",
              "      <td>14</td>\n",
              "      <td>5</td>\n",
              "      <td>0</td>\n",
              "      <td>0</td>\n",
              "    </tr>\n",
              "    <tr>\n",
              "      <th>6</th>\n",
              "      <td>6</td>\n",
              "      <td>13</td>\n",
              "      <td>6</td>\n",
              "      <td>1</td>\n",
              "      <td>1</td>\n",
              "    </tr>\n",
              "    <tr>\n",
              "      <th>7</th>\n",
              "      <td>7</td>\n",
              "      <td>12</td>\n",
              "      <td>7</td>\n",
              "      <td>0</td>\n",
              "      <td>0</td>\n",
              "    </tr>\n",
              "    <tr>\n",
              "      <th>8</th>\n",
              "      <td>8</td>\n",
              "      <td>11</td>\n",
              "      <td>8</td>\n",
              "      <td>1</td>\n",
              "      <td>0</td>\n",
              "    </tr>\n",
              "    <tr>\n",
              "      <th>9</th>\n",
              "      <td>9</td>\n",
              "      <td>10</td>\n",
              "      <td>9</td>\n",
              "      <td>0</td>\n",
              "      <td>1</td>\n",
              "    </tr>\n",
              "    <tr>\n",
              "      <th>10</th>\n",
              "      <td>10</td>\n",
              "      <td>9</td>\n",
              "      <td>10</td>\n",
              "      <td>1</td>\n",
              "      <td>0</td>\n",
              "    </tr>\n",
              "    <tr>\n",
              "      <th>11</th>\n",
              "      <td>11</td>\n",
              "      <td>8</td>\n",
              "      <td>11</td>\n",
              "      <td>0</td>\n",
              "      <td>0</td>\n",
              "    </tr>\n",
              "    <tr>\n",
              "      <th>12</th>\n",
              "      <td>12</td>\n",
              "      <td>7</td>\n",
              "      <td>12</td>\n",
              "      <td>1</td>\n",
              "      <td>1</td>\n",
              "    </tr>\n",
              "    <tr>\n",
              "      <th>13</th>\n",
              "      <td>13</td>\n",
              "      <td>6</td>\n",
              "      <td>13</td>\n",
              "      <td>0</td>\n",
              "      <td>0</td>\n",
              "    </tr>\n",
              "    <tr>\n",
              "      <th>14</th>\n",
              "      <td>14</td>\n",
              "      <td>5</td>\n",
              "      <td>14</td>\n",
              "      <td>1</td>\n",
              "      <td>0</td>\n",
              "    </tr>\n",
              "    <tr>\n",
              "      <th>15</th>\n",
              "      <td>15</td>\n",
              "      <td>4</td>\n",
              "      <td>15</td>\n",
              "      <td>0</td>\n",
              "      <td>1</td>\n",
              "    </tr>\n",
              "    <tr>\n",
              "      <th>16</th>\n",
              "      <td>16</td>\n",
              "      <td>3</td>\n",
              "      <td>16</td>\n",
              "      <td>1</td>\n",
              "      <td>0</td>\n",
              "    </tr>\n",
              "    <tr>\n",
              "      <th>17</th>\n",
              "      <td>17</td>\n",
              "      <td>2</td>\n",
              "      <td>17</td>\n",
              "      <td>0</td>\n",
              "      <td>0</td>\n",
              "    </tr>\n",
              "    <tr>\n",
              "      <th>18</th>\n",
              "      <td>18</td>\n",
              "      <td>1</td>\n",
              "      <td>18</td>\n",
              "      <td>1</td>\n",
              "      <td>1</td>\n",
              "    </tr>\n",
              "    <tr>\n",
              "      <th>19</th>\n",
              "      <td>19</td>\n",
              "      <td>0</td>\n",
              "      <td>19</td>\n",
              "      <td>0</td>\n",
              "      <td>0</td>\n",
              "    </tr>\n",
              "  </tbody>\n",
              "</table>\n",
              "</div>"
            ],
            "text/plain": [
              "     a   b   c  agg_col1  agg_col2\n",
              "0    0  19   0         1         1\n",
              "1    1  18   1         0         0\n",
              "2    2  17   2         1         0\n",
              "3    3  16   3         0         1\n",
              "4    4  15   4         1         0\n",
              "5    5  14   5         0         0\n",
              "6    6  13   6         1         1\n",
              "7    7  12   7         0         0\n",
              "8    8  11   8         1         0\n",
              "9    9  10   9         0         1\n",
              "10  10   9  10         1         0\n",
              "11  11   8  11         0         0\n",
              "12  12   7  12         1         1\n",
              "13  13   6  13         0         0\n",
              "14  14   5  14         1         0\n",
              "15  15   4  15         0         1\n",
              "16  16   3  16         1         0\n",
              "17  17   2  17         0         0\n",
              "18  18   1  18         1         1\n",
              "19  19   0  19         0         0"
            ]
          },
          "execution_count": 158,
          "metadata": {},
          "output_type": "execute_result"
        }
      ],
      "source": [
        "df = cudf.read_csv(\"example_output/foo.csv\")\n",
        "df"
      ]
    },
    {
      "cell_type": "markdown",
      "id": "787eae14",
      "metadata": {
        "id": "787eae14"
      },
      "source": [
        "Note that for the dask-cuDF case, we use `dask_cudf.read_csv` in preference to `dask_cudf.from_cudf(cudf.read_csv)` since the former can parallelize across multiple GPUs and handle larger CSV files that would fit in memory on a single GPU."
      ]
    },
    {
      "cell_type": "markdown",
      "id": "72857b2c",
      "metadata": {
        "id": "72857b2c"
      },
      "source": [
        "Reading all CSV files in a directory into a single `dask_cudf.DataFrame`, using the star wildcard."
      ]
    },
    {
      "cell_type": "markdown",
      "id": "763c555b",
      "metadata": {
        "id": "763c555b"
      },
      "source": [
        "## Parquet"
      ]
    },
    {
      "cell_type": "markdown",
      "id": "8766d4ac",
      "metadata": {
        "id": "8766d4ac"
      },
      "source": [
        "Writing to parquet files with cuDF's GPU-accelerated parquet writer"
      ]
    },
    {
      "cell_type": "code",
      "execution_count": null,
      "id": "5038b284",
      "metadata": {
        "id": "5038b284"
      },
      "outputs": [],
      "source": [
        "df.to_parquet(\"example_output/temp_parquet\")"
      ]
    },
    {
      "cell_type": "markdown",
      "id": "b4b49824",
      "metadata": {
        "id": "b4b49824"
      },
      "source": [
        "Reading parquet files with cuDF's GPU-accelerated parquet reader."
      ]
    },
    {
      "cell_type": "code",
      "execution_count": null,
      "id": "bb657a69",
      "metadata": {
        "colab": {
          "base_uri": "https://localhost:8080/"
        },
        "id": "bb657a69",
        "outputId": "08a0e61a-904d-478a-ffc5-3d59f8556f73"
      },
      "outputs": [
        {
          "data": {
            "text/html": [
              "<div>\n",
              "<style scoped>\n",
              "    .dataframe tbody tr th:only-of-type {\n",
              "        vertical-align: middle;\n",
              "    }\n",
              "\n",
              "    .dataframe tbody tr th {\n",
              "        vertical-align: top;\n",
              "    }\n",
              "\n",
              "    .dataframe thead th {\n",
              "        text-align: right;\n",
              "    }\n",
              "</style>\n",
              "<table border=\"1\" class=\"dataframe\">\n",
              "  <thead>\n",
              "    <tr style=\"text-align: right;\">\n",
              "      <th></th>\n",
              "      <th>a</th>\n",
              "      <th>b</th>\n",
              "      <th>c</th>\n",
              "      <th>agg_col1</th>\n",
              "      <th>agg_col2</th>\n",
              "    </tr>\n",
              "  </thead>\n",
              "  <tbody>\n",
              "    <tr>\n",
              "      <th>0</th>\n",
              "      <td>0</td>\n",
              "      <td>19</td>\n",
              "      <td>0</td>\n",
              "      <td>1</td>\n",
              "      <td>1</td>\n",
              "    </tr>\n",
              "    <tr>\n",
              "      <th>1</th>\n",
              "      <td>1</td>\n",
              "      <td>18</td>\n",
              "      <td>1</td>\n",
              "      <td>0</td>\n",
              "      <td>0</td>\n",
              "    </tr>\n",
              "    <tr>\n",
              "      <th>2</th>\n",
              "      <td>2</td>\n",
              "      <td>17</td>\n",
              "      <td>2</td>\n",
              "      <td>1</td>\n",
              "      <td>0</td>\n",
              "    </tr>\n",
              "    <tr>\n",
              "      <th>3</th>\n",
              "      <td>3</td>\n",
              "      <td>16</td>\n",
              "      <td>3</td>\n",
              "      <td>0</td>\n",
              "      <td>1</td>\n",
              "    </tr>\n",
              "    <tr>\n",
              "      <th>4</th>\n",
              "      <td>4</td>\n",
              "      <td>15</td>\n",
              "      <td>4</td>\n",
              "      <td>1</td>\n",
              "      <td>0</td>\n",
              "    </tr>\n",
              "    <tr>\n",
              "      <th>5</th>\n",
              "      <td>5</td>\n",
              "      <td>14</td>\n",
              "      <td>5</td>\n",
              "      <td>0</td>\n",
              "      <td>0</td>\n",
              "    </tr>\n",
              "    <tr>\n",
              "      <th>6</th>\n",
              "      <td>6</td>\n",
              "      <td>13</td>\n",
              "      <td>6</td>\n",
              "      <td>1</td>\n",
              "      <td>1</td>\n",
              "    </tr>\n",
              "    <tr>\n",
              "      <th>7</th>\n",
              "      <td>7</td>\n",
              "      <td>12</td>\n",
              "      <td>7</td>\n",
              "      <td>0</td>\n",
              "      <td>0</td>\n",
              "    </tr>\n",
              "    <tr>\n",
              "      <th>8</th>\n",
              "      <td>8</td>\n",
              "      <td>11</td>\n",
              "      <td>8</td>\n",
              "      <td>1</td>\n",
              "      <td>0</td>\n",
              "    </tr>\n",
              "    <tr>\n",
              "      <th>9</th>\n",
              "      <td>9</td>\n",
              "      <td>10</td>\n",
              "      <td>9</td>\n",
              "      <td>0</td>\n",
              "      <td>1</td>\n",
              "    </tr>\n",
              "    <tr>\n",
              "      <th>10</th>\n",
              "      <td>10</td>\n",
              "      <td>9</td>\n",
              "      <td>10</td>\n",
              "      <td>1</td>\n",
              "      <td>0</td>\n",
              "    </tr>\n",
              "    <tr>\n",
              "      <th>11</th>\n",
              "      <td>11</td>\n",
              "      <td>8</td>\n",
              "      <td>11</td>\n",
              "      <td>0</td>\n",
              "      <td>0</td>\n",
              "    </tr>\n",
              "    <tr>\n",
              "      <th>12</th>\n",
              "      <td>12</td>\n",
              "      <td>7</td>\n",
              "      <td>12</td>\n",
              "      <td>1</td>\n",
              "      <td>1</td>\n",
              "    </tr>\n",
              "    <tr>\n",
              "      <th>13</th>\n",
              "      <td>13</td>\n",
              "      <td>6</td>\n",
              "      <td>13</td>\n",
              "      <td>0</td>\n",
              "      <td>0</td>\n",
              "    </tr>\n",
              "    <tr>\n",
              "      <th>14</th>\n",
              "      <td>14</td>\n",
              "      <td>5</td>\n",
              "      <td>14</td>\n",
              "      <td>1</td>\n",
              "      <td>0</td>\n",
              "    </tr>\n",
              "    <tr>\n",
              "      <th>15</th>\n",
              "      <td>15</td>\n",
              "      <td>4</td>\n",
              "      <td>15</td>\n",
              "      <td>0</td>\n",
              "      <td>1</td>\n",
              "    </tr>\n",
              "    <tr>\n",
              "      <th>16</th>\n",
              "      <td>16</td>\n",
              "      <td>3</td>\n",
              "      <td>16</td>\n",
              "      <td>1</td>\n",
              "      <td>0</td>\n",
              "    </tr>\n",
              "    <tr>\n",
              "      <th>17</th>\n",
              "      <td>17</td>\n",
              "      <td>2</td>\n",
              "      <td>17</td>\n",
              "      <td>0</td>\n",
              "      <td>0</td>\n",
              "    </tr>\n",
              "    <tr>\n",
              "      <th>18</th>\n",
              "      <td>18</td>\n",
              "      <td>1</td>\n",
              "      <td>18</td>\n",
              "      <td>1</td>\n",
              "      <td>1</td>\n",
              "    </tr>\n",
              "    <tr>\n",
              "      <th>19</th>\n",
              "      <td>19</td>\n",
              "      <td>0</td>\n",
              "      <td>19</td>\n",
              "      <td>0</td>\n",
              "      <td>0</td>\n",
              "    </tr>\n",
              "  </tbody>\n",
              "</table>\n",
              "</div>"
            ],
            "text/plain": [
              "     a   b   c  agg_col1  agg_col2\n",
              "0    0  19   0         1         1\n",
              "1    1  18   1         0         0\n",
              "2    2  17   2         1         0\n",
              "3    3  16   3         0         1\n",
              "4    4  15   4         1         0\n",
              "5    5  14   5         0         0\n",
              "6    6  13   6         1         1\n",
              "7    7  12   7         0         0\n",
              "8    8  11   8         1         0\n",
              "9    9  10   9         0         1\n",
              "10  10   9  10         1         0\n",
              "11  11   8  11         0         0\n",
              "12  12   7  12         1         1\n",
              "13  13   6  13         0         0\n",
              "14  14   5  14         1         0\n",
              "15  15   4  15         0         1\n",
              "16  16   3  16         1         0\n",
              "17  17   2  17         0         0\n",
              "18  18   1  18         1         1\n",
              "19  19   0  19         0         0"
            ]
          },
          "execution_count": 160,
          "metadata": {},
          "output_type": "execute_result"
        }
      ],
      "source": [
        "df = cudf.read_parquet(\"example_output/temp_parquet\")\n",
        "df"
      ]
    },
    {
      "cell_type": "markdown",
      "id": "90a49967",
      "metadata": {
        "id": "90a49967"
      },
      "source": [
        "## ORC"
      ]
    },
    {
      "cell_type": "markdown",
      "id": "de9d03fa",
      "metadata": {
        "id": "de9d03fa"
      },
      "source": [
        "Writing ORC files."
      ]
    },
    {
      "cell_type": "code",
      "execution_count": null,
      "id": "c387f8f2",
      "metadata": {
        "id": "c387f8f2"
      },
      "outputs": [],
      "source": [
        "df.to_orc(\"example_output/temp_orc\")"
      ]
    },
    {
      "cell_type": "markdown",
      "id": "242c32a2",
      "metadata": {
        "id": "242c32a2"
      },
      "source": [
        "And reading"
      ]
    },
    {
      "cell_type": "code",
      "execution_count": null,
      "id": "d4bab6da",
      "metadata": {
        "colab": {
          "base_uri": "https://localhost:8080/"
        },
        "id": "d4bab6da",
        "outputId": "a2d5332d-a3d1-4fc1-9634-528bfd188eb0"
      },
      "outputs": [
        {
          "data": {
            "text/html": [
              "<div>\n",
              "<style scoped>\n",
              "    .dataframe tbody tr th:only-of-type {\n",
              "        vertical-align: middle;\n",
              "    }\n",
              "\n",
              "    .dataframe tbody tr th {\n",
              "        vertical-align: top;\n",
              "    }\n",
              "\n",
              "    .dataframe thead th {\n",
              "        text-align: right;\n",
              "    }\n",
              "</style>\n",
              "<table border=\"1\" class=\"dataframe\">\n",
              "  <thead>\n",
              "    <tr style=\"text-align: right;\">\n",
              "      <th></th>\n",
              "      <th>a</th>\n",
              "      <th>b</th>\n",
              "      <th>c</th>\n",
              "      <th>agg_col1</th>\n",
              "      <th>agg_col2</th>\n",
              "    </tr>\n",
              "  </thead>\n",
              "  <tbody>\n",
              "    <tr>\n",
              "      <th>0</th>\n",
              "      <td>0</td>\n",
              "      <td>19</td>\n",
              "      <td>0</td>\n",
              "      <td>1</td>\n",
              "      <td>1</td>\n",
              "    </tr>\n",
              "    <tr>\n",
              "      <th>1</th>\n",
              "      <td>1</td>\n",
              "      <td>18</td>\n",
              "      <td>1</td>\n",
              "      <td>0</td>\n",
              "      <td>0</td>\n",
              "    </tr>\n",
              "    <tr>\n",
              "      <th>2</th>\n",
              "      <td>2</td>\n",
              "      <td>17</td>\n",
              "      <td>2</td>\n",
              "      <td>1</td>\n",
              "      <td>0</td>\n",
              "    </tr>\n",
              "    <tr>\n",
              "      <th>3</th>\n",
              "      <td>3</td>\n",
              "      <td>16</td>\n",
              "      <td>3</td>\n",
              "      <td>0</td>\n",
              "      <td>1</td>\n",
              "    </tr>\n",
              "    <tr>\n",
              "      <th>4</th>\n",
              "      <td>4</td>\n",
              "      <td>15</td>\n",
              "      <td>4</td>\n",
              "      <td>1</td>\n",
              "      <td>0</td>\n",
              "    </tr>\n",
              "    <tr>\n",
              "      <th>5</th>\n",
              "      <td>5</td>\n",
              "      <td>14</td>\n",
              "      <td>5</td>\n",
              "      <td>0</td>\n",
              "      <td>0</td>\n",
              "    </tr>\n",
              "    <tr>\n",
              "      <th>6</th>\n",
              "      <td>6</td>\n",
              "      <td>13</td>\n",
              "      <td>6</td>\n",
              "      <td>1</td>\n",
              "      <td>1</td>\n",
              "    </tr>\n",
              "    <tr>\n",
              "      <th>7</th>\n",
              "      <td>7</td>\n",
              "      <td>12</td>\n",
              "      <td>7</td>\n",
              "      <td>0</td>\n",
              "      <td>0</td>\n",
              "    </tr>\n",
              "    <tr>\n",
              "      <th>8</th>\n",
              "      <td>8</td>\n",
              "      <td>11</td>\n",
              "      <td>8</td>\n",
              "      <td>1</td>\n",
              "      <td>0</td>\n",
              "    </tr>\n",
              "    <tr>\n",
              "      <th>9</th>\n",
              "      <td>9</td>\n",
              "      <td>10</td>\n",
              "      <td>9</td>\n",
              "      <td>0</td>\n",
              "      <td>1</td>\n",
              "    </tr>\n",
              "    <tr>\n",
              "      <th>10</th>\n",
              "      <td>10</td>\n",
              "      <td>9</td>\n",
              "      <td>10</td>\n",
              "      <td>1</td>\n",
              "      <td>0</td>\n",
              "    </tr>\n",
              "    <tr>\n",
              "      <th>11</th>\n",
              "      <td>11</td>\n",
              "      <td>8</td>\n",
              "      <td>11</td>\n",
              "      <td>0</td>\n",
              "      <td>0</td>\n",
              "    </tr>\n",
              "    <tr>\n",
              "      <th>12</th>\n",
              "      <td>12</td>\n",
              "      <td>7</td>\n",
              "      <td>12</td>\n",
              "      <td>1</td>\n",
              "      <td>1</td>\n",
              "    </tr>\n",
              "    <tr>\n",
              "      <th>13</th>\n",
              "      <td>13</td>\n",
              "      <td>6</td>\n",
              "      <td>13</td>\n",
              "      <td>0</td>\n",
              "      <td>0</td>\n",
              "    </tr>\n",
              "    <tr>\n",
              "      <th>14</th>\n",
              "      <td>14</td>\n",
              "      <td>5</td>\n",
              "      <td>14</td>\n",
              "      <td>1</td>\n",
              "      <td>0</td>\n",
              "    </tr>\n",
              "    <tr>\n",
              "      <th>15</th>\n",
              "      <td>15</td>\n",
              "      <td>4</td>\n",
              "      <td>15</td>\n",
              "      <td>0</td>\n",
              "      <td>1</td>\n",
              "    </tr>\n",
              "    <tr>\n",
              "      <th>16</th>\n",
              "      <td>16</td>\n",
              "      <td>3</td>\n",
              "      <td>16</td>\n",
              "      <td>1</td>\n",
              "      <td>0</td>\n",
              "    </tr>\n",
              "    <tr>\n",
              "      <th>17</th>\n",
              "      <td>17</td>\n",
              "      <td>2</td>\n",
              "      <td>17</td>\n",
              "      <td>0</td>\n",
              "      <td>0</td>\n",
              "    </tr>\n",
              "    <tr>\n",
              "      <th>18</th>\n",
              "      <td>18</td>\n",
              "      <td>1</td>\n",
              "      <td>18</td>\n",
              "      <td>1</td>\n",
              "      <td>1</td>\n",
              "    </tr>\n",
              "    <tr>\n",
              "      <th>19</th>\n",
              "      <td>19</td>\n",
              "      <td>0</td>\n",
              "      <td>19</td>\n",
              "      <td>0</td>\n",
              "      <td>0</td>\n",
              "    </tr>\n",
              "  </tbody>\n",
              "</table>\n",
              "</div>"
            ],
            "text/plain": [
              "     a   b   c  agg_col1  agg_col2\n",
              "0    0  19   0         1         1\n",
              "1    1  18   1         0         0\n",
              "2    2  17   2         1         0\n",
              "3    3  16   3         0         1\n",
              "4    4  15   4         1         0\n",
              "5    5  14   5         0         0\n",
              "6    6  13   6         1         1\n",
              "7    7  12   7         0         0\n",
              "8    8  11   8         1         0\n",
              "9    9  10   9         0         1\n",
              "10  10   9  10         1         0\n",
              "11  11   8  11         0         0\n",
              "12  12   7  12         1         1\n",
              "13  13   6  13         0         0\n",
              "14  14   5  14         1         0\n",
              "15  15   4  15         0         1\n",
              "16  16   3  16         1         0\n",
              "17  17   2  17         0         0\n",
              "18  18   1  18         1         1\n",
              "19  19   0  19         0         0"
            ]
          },
          "execution_count": 162,
          "metadata": {},
          "output_type": "execute_result"
        }
      ],
      "source": [
        "df2 = cudf.read_orc(\"example_output/temp_orc\")\n",
        "df2"
      ]
    },
    {
      "cell_type": "markdown",
      "id": "oP0LQP96wqst",
      "metadata": {
        "id": "oP0LQP96wqst"
      },
      "source": [
        "# Performance with large dataframes"
      ]
    },
    {
      "cell_type": "markdown",
      "id": "XKjgbxurw_rw",
      "metadata": {
        "id": "XKjgbxurw_rw"
      },
      "source": [
        "cuDF is great for handling large dataframes. In this example we aggregate values after grouping by a key:"
      ]
    },
    {
      "cell_type": "code",
      "execution_count": null,
      "id": "uA4yr08mwznw",
      "metadata": {
        "colab": {
          "base_uri": "https://localhost:8080/"
        },
        "id": "uA4yr08mwznw",
        "outputId": "f874bf63-8519-465e-d426-a1e6b3418911"
      },
      "outputs": [
        {
          "name": "stdout",
          "output_type": "stream",
          "text": [
            "CPU times: user 103 ms, sys: 20.2 ms, total: 123 ms\n",
            "Wall time: 150 ms\n",
            "CPU times: user 1.26 s, sys: 142 ms, total: 1.4 s\n",
            "Wall time: 1.31 s\n"
          ]
        },
        {
          "data": {
            "text/plain": [
              "key\n",
              "0    0.499975\n",
              "1    0.500017\n",
              "2    0.500118\n",
              "3    0.499843\n",
              "4    0.499988\n",
              "5    0.500150\n",
              "6    0.499934\n",
              "7    0.500003\n",
              "8    0.499945\n",
              "9    0.500033\n",
              "Name: value, dtype: float64"
            ]
          },
          "execution_count": 12,
          "metadata": {},
          "output_type": "execute_result"
        }
      ],
      "source": [
        "nr = 100_000_000\n",
        "df = cudf.DataFrame({\n",
        "    'key': cp.random.randint(0, 10, nr),\n",
        "    'value': cp.random.random(nr)\n",
        "})\n",
        "\n",
        "%time df.groupby('key')['value'].mean()\n",
        "\n",
        "pdf = df.to_pandas()\n",
        "%time pdf.groupby('key')['value'].mean()"
      ]
    },
    {
      "cell_type": "markdown",
      "id": "w85kgVvBykvW",
      "metadata": {
        "id": "w85kgVvBykvW"
      },
      "source": [
        "cuDF also has efficient join algorithms. In this example we use a hash join to combine values from two dataframes based on a key:"
      ]
    },
    {
      "cell_type": "code",
      "execution_count": null,
      "id": "sHQk7h4XxM2w",
      "metadata": {
        "colab": {
          "base_uri": "https://localhost:8080/",
          "height": 493
        },
        "id": "sHQk7h4XxM2w",
        "outputId": "aa5efff1-2ad6-47cf-fbf7-e2cfe90b6dfb"
      },
      "outputs": [
        {
          "name": "stdout",
          "output_type": "stream",
          "text": [
            "CPU times: user 110 ms, sys: 9.54 ms, total: 119 ms\n",
            "Wall time: 119 ms\n",
            "CPU times: user 2.64 s, sys: 317 ms, total: 2.96 s\n",
            "Wall time: 2.94 s\n"
          ]
        },
        {
          "data": {
            "text/html": [
              "\n",
              "  <div id=\"df-e935d003-f5cd-4042-853f-947b5967948e\">\n",
              "    <div class=\"colab-df-container\">\n",
              "      <div>\n",
              "<style scoped>\n",
              "    .dataframe tbody tr th:only-of-type {\n",
              "        vertical-align: middle;\n",
              "    }\n",
              "\n",
              "    .dataframe tbody tr th {\n",
              "        vertical-align: top;\n",
              "    }\n",
              "\n",
              "    .dataframe thead th {\n",
              "        text-align: right;\n",
              "    }\n",
              "</style>\n",
              "<table border=\"1\" class=\"dataframe\">\n",
              "  <thead>\n",
              "    <tr style=\"text-align: right;\">\n",
              "      <th></th>\n",
              "      <th>key</th>\n",
              "      <th>value</th>\n",
              "      <th>lookup</th>\n",
              "    </tr>\n",
              "  </thead>\n",
              "  <tbody>\n",
              "    <tr>\n",
              "      <th>0</th>\n",
              "      <td>6</td>\n",
              "      <td>0.275021</td>\n",
              "      <td>0.416969</td>\n",
              "    </tr>\n",
              "    <tr>\n",
              "      <th>1</th>\n",
              "      <td>6</td>\n",
              "      <td>0.890954</td>\n",
              "      <td>0.416969</td>\n",
              "    </tr>\n",
              "    <tr>\n",
              "      <th>2</th>\n",
              "      <td>6</td>\n",
              "      <td>0.636241</td>\n",
              "      <td>0.416969</td>\n",
              "    </tr>\n",
              "    <tr>\n",
              "      <th>3</th>\n",
              "      <td>6</td>\n",
              "      <td>0.686468</td>\n",
              "      <td>0.416969</td>\n",
              "    </tr>\n",
              "    <tr>\n",
              "      <th>4</th>\n",
              "      <td>6</td>\n",
              "      <td>0.077613</td>\n",
              "      <td>0.416969</td>\n",
              "    </tr>\n",
              "    <tr>\n",
              "      <th>...</th>\n",
              "      <td>...</td>\n",
              "      <td>...</td>\n",
              "      <td>...</td>\n",
              "    </tr>\n",
              "    <tr>\n",
              "      <th>49999995</th>\n",
              "      <td>1</td>\n",
              "      <td>0.820421</td>\n",
              "      <td>0.704389</td>\n",
              "    </tr>\n",
              "    <tr>\n",
              "      <th>49999996</th>\n",
              "      <td>1</td>\n",
              "      <td>0.779255</td>\n",
              "      <td>0.704389</td>\n",
              "    </tr>\n",
              "    <tr>\n",
              "      <th>49999997</th>\n",
              "      <td>1</td>\n",
              "      <td>0.659307</td>\n",
              "      <td>0.704389</td>\n",
              "    </tr>\n",
              "    <tr>\n",
              "      <th>49999998</th>\n",
              "      <td>1</td>\n",
              "      <td>0.266821</td>\n",
              "      <td>0.704389</td>\n",
              "    </tr>\n",
              "    <tr>\n",
              "      <th>49999999</th>\n",
              "      <td>1</td>\n",
              "      <td>0.398945</td>\n",
              "      <td>0.704389</td>\n",
              "    </tr>\n",
              "  </tbody>\n",
              "</table>\n",
              "<p>50000000 rows × 3 columns</p>\n",
              "</div>\n",
              "      <button class=\"colab-df-convert\" onclick=\"convertToInteractive('df-e935d003-f5cd-4042-853f-947b5967948e')\"\n",
              "              title=\"Convert this dataframe to an interactive table.\"\n",
              "              style=\"display:none;\">\n",
              "        \n",
              "  <svg xmlns=\"http://www.w3.org/2000/svg\" height=\"24px\"viewBox=\"0 0 24 24\"\n",
              "       width=\"24px\">\n",
              "    <path d=\"M0 0h24v24H0V0z\" fill=\"none\"/>\n",
              "    <path d=\"M18.56 5.44l.94 2.06.94-2.06 2.06-.94-2.06-.94-.94-2.06-.94 2.06-2.06.94zm-11 1L8.5 8.5l.94-2.06 2.06-.94-2.06-.94L8.5 2.5l-.94 2.06-2.06.94zm10 10l.94 2.06.94-2.06 2.06-.94-2.06-.94-.94-2.06-.94 2.06-2.06.94z\"/><path d=\"M17.41 7.96l-1.37-1.37c-.4-.4-.92-.59-1.43-.59-.52 0-1.04.2-1.43.59L10.3 9.45l-7.72 7.72c-.78.78-.78 2.05 0 2.83L4 21.41c.39.39.9.59 1.41.59.51 0 1.02-.2 1.41-.59l7.78-7.78 2.81-2.81c.8-.78.8-2.07 0-2.86zM5.41 20L4 18.59l7.72-7.72 1.47 1.35L5.41 20z\"/>\n",
              "  </svg>\n",
              "      </button>\n",
              "      \n",
              "  <style>\n",
              "    .colab-df-container {\n",
              "      display:flex;\n",
              "      flex-wrap:wrap;\n",
              "      gap: 12px;\n",
              "    }\n",
              "\n",
              "    .colab-df-convert {\n",
              "      background-color: #E8F0FE;\n",
              "      border: none;\n",
              "      border-radius: 50%;\n",
              "      cursor: pointer;\n",
              "      display: none;\n",
              "      fill: #1967D2;\n",
              "      height: 32px;\n",
              "      padding: 0 0 0 0;\n",
              "      width: 32px;\n",
              "    }\n",
              "\n",
              "    .colab-df-convert:hover {\n",
              "      background-color: #E2EBFA;\n",
              "      box-shadow: 0px 1px 2px rgba(60, 64, 67, 0.3), 0px 1px 3px 1px rgba(60, 64, 67, 0.15);\n",
              "      fill: #174EA6;\n",
              "    }\n",
              "\n",
              "    [theme=dark] .colab-df-convert {\n",
              "      background-color: #3B4455;\n",
              "      fill: #D2E3FC;\n",
              "    }\n",
              "\n",
              "    [theme=dark] .colab-df-convert:hover {\n",
              "      background-color: #434B5C;\n",
              "      box-shadow: 0px 1px 3px 1px rgba(0, 0, 0, 0.15);\n",
              "      filter: drop-shadow(0px 1px 2px rgba(0, 0, 0, 0.3));\n",
              "      fill: #FFFFFF;\n",
              "    }\n",
              "  </style>\n",
              "\n",
              "      <script>\n",
              "        const buttonEl =\n",
              "          document.querySelector('#df-e935d003-f5cd-4042-853f-947b5967948e button.colab-df-convert');\n",
              "        buttonEl.style.display =\n",
              "          google.colab.kernel.accessAllowed ? 'block' : 'none';\n",
              "\n",
              "        async function convertToInteractive(key) {\n",
              "          const element = document.querySelector('#df-e935d003-f5cd-4042-853f-947b5967948e');\n",
              "          const dataTable =\n",
              "            await google.colab.kernel.invokeFunction('convertToInteractive',\n",
              "                                                     [key], {});\n",
              "          if (!dataTable) return;\n",
              "\n",
              "          const docLinkHtml = 'Like what you see? Visit the ' +\n",
              "            '<a target=\"_blank\" href=https://colab.research.google.com/notebooks/data_table.ipynb>data table notebook</a>'\n",
              "            + ' to learn more about interactive tables.';\n",
              "          element.innerHTML = '';\n",
              "          dataTable['output_type'] = 'display_data';\n",
              "          await google.colab.output.renderOutput(dataTable, element);\n",
              "          const docLink = document.createElement('div');\n",
              "          docLink.innerHTML = docLinkHtml;\n",
              "          element.appendChild(docLink);\n",
              "        }\n",
              "      </script>\n",
              "    </div>\n",
              "  </div>\n",
              "  "
            ],
            "text/plain": [
              "          key     value    lookup\n",
              "0           6  0.275021  0.416969\n",
              "1           6  0.890954  0.416969\n",
              "2           6  0.636241  0.416969\n",
              "3           6  0.686468  0.416969\n",
              "4           6  0.077613  0.416969\n",
              "...       ...       ...       ...\n",
              "49999995    1  0.820421  0.704389\n",
              "49999996    1  0.779255  0.704389\n",
              "49999997    1  0.659307  0.704389\n",
              "49999998    1  0.266821  0.704389\n",
              "49999999    1  0.398945  0.704389\n",
              "\n",
              "[50000000 rows x 3 columns]"
            ]
          },
          "execution_count": 7,
          "metadata": {},
          "output_type": "execute_result"
        }
      ],
      "source": [
        "nr = 50_000_000\n",
        "df = cudf.DataFrame({        \n",
        "        'key': cp.random.randint(0, 10, nr),\n",
        "        'value': cp.random.random(nr)\n",
        "})\n",
        "lookup = cudf.DataFrame({        \n",
        "        'key': range(10),\n",
        "        'lookup': cp.random.random(10)\n",
        "})\n",
        "\n",
        "%time df.merge(lookup, on='key')\n",
        "\n",
        "pdf = df.to_pandas()\n",
        "plookup = lookup.to_pandas()\n",
        "%time pdf.merge(plookup, on='key')"
      ]
    },
    {
      "cell_type": "markdown",
      "id": "lakM4rOf-oRt",
      "metadata": {
        "id": "lakM4rOf-oRt"
      },
      "source": [
        "Computing and applying filters to cuDF dataframes are also efficient operations."
      ]
    },
    {
      "cell_type": "code",
      "execution_count": null,
      "id": "o12Z8bhbyVRX",
      "metadata": {
        "colab": {
          "base_uri": "https://localhost:8080/",
          "height": 493
        },
        "id": "o12Z8bhbyVRX",
        "outputId": "0a46ef89-f729-44cc-d629-50589bb8f049"
      },
      "outputs": [
        {
          "name": "stdout",
          "output_type": "stream",
          "text": [
            "CPU times: user 9.77 ms, sys: 3.94 ms, total: 13.7 ms\n",
            "Wall time: 13.6 ms\n",
            "CPU times: user 2.47 s, sys: 866 ms, total: 3.33 s\n",
            "Wall time: 3.14 s\n"
          ]
        },
        {
          "data": {
            "text/html": [
              "\n",
              "  <div id=\"df-5dbb07a7-8f1d-4c03-ae7c-e10e84466def\">\n",
              "    <div class=\"colab-df-container\">\n",
              "      <div>\n",
              "<style scoped>\n",
              "    .dataframe tbody tr th:only-of-type {\n",
              "        vertical-align: middle;\n",
              "    }\n",
              "\n",
              "    .dataframe tbody tr th {\n",
              "        vertical-align: top;\n",
              "    }\n",
              "\n",
              "    .dataframe thead th {\n",
              "        text-align: right;\n",
              "    }\n",
              "</style>\n",
              "<table border=\"1\" class=\"dataframe\">\n",
              "  <thead>\n",
              "    <tr style=\"text-align: right;\">\n",
              "      <th></th>\n",
              "      <th>rating_a</th>\n",
              "      <th>rating_b</th>\n",
              "      <th>rating_c</th>\n",
              "    </tr>\n",
              "  </thead>\n",
              "  <tbody>\n",
              "    <tr>\n",
              "      <th>0</th>\n",
              "      <td>NaN</td>\n",
              "      <td>NaN</td>\n",
              "      <td>4.0</td>\n",
              "    </tr>\n",
              "    <tr>\n",
              "      <th>1</th>\n",
              "      <td>NaN</td>\n",
              "      <td>NaN</td>\n",
              "      <td>4.0</td>\n",
              "    </tr>\n",
              "    <tr>\n",
              "      <th>2</th>\n",
              "      <td>NaN</td>\n",
              "      <td>4.0</td>\n",
              "      <td>NaN</td>\n",
              "    </tr>\n",
              "    <tr>\n",
              "      <th>3</th>\n",
              "      <td>4.0</td>\n",
              "      <td>NaN</td>\n",
              "      <td>NaN</td>\n",
              "    </tr>\n",
              "    <tr>\n",
              "      <th>4</th>\n",
              "      <td>NaN</td>\n",
              "      <td>NaN</td>\n",
              "      <td>NaN</td>\n",
              "    </tr>\n",
              "    <tr>\n",
              "      <th>...</th>\n",
              "      <td>...</td>\n",
              "      <td>...</td>\n",
              "      <td>...</td>\n",
              "    </tr>\n",
              "    <tr>\n",
              "      <th>19999995</th>\n",
              "      <td>NaN</td>\n",
              "      <td>NaN</td>\n",
              "      <td>NaN</td>\n",
              "    </tr>\n",
              "    <tr>\n",
              "      <th>19999996</th>\n",
              "      <td>NaN</td>\n",
              "      <td>NaN</td>\n",
              "      <td>NaN</td>\n",
              "    </tr>\n",
              "    <tr>\n",
              "      <th>19999997</th>\n",
              "      <td>4.0</td>\n",
              "      <td>NaN</td>\n",
              "      <td>NaN</td>\n",
              "    </tr>\n",
              "    <tr>\n",
              "      <th>19999998</th>\n",
              "      <td>NaN</td>\n",
              "      <td>NaN</td>\n",
              "      <td>NaN</td>\n",
              "    </tr>\n",
              "    <tr>\n",
              "      <th>19999999</th>\n",
              "      <td>NaN</td>\n",
              "      <td>4.0</td>\n",
              "      <td>NaN</td>\n",
              "    </tr>\n",
              "  </tbody>\n",
              "</table>\n",
              "<p>20000000 rows × 3 columns</p>\n",
              "</div>\n",
              "      <button class=\"colab-df-convert\" onclick=\"convertToInteractive('df-5dbb07a7-8f1d-4c03-ae7c-e10e84466def')\"\n",
              "              title=\"Convert this dataframe to an interactive table.\"\n",
              "              style=\"display:none;\">\n",
              "        \n",
              "  <svg xmlns=\"http://www.w3.org/2000/svg\" height=\"24px\"viewBox=\"0 0 24 24\"\n",
              "       width=\"24px\">\n",
              "    <path d=\"M0 0h24v24H0V0z\" fill=\"none\"/>\n",
              "    <path d=\"M18.56 5.44l.94 2.06.94-2.06 2.06-.94-2.06-.94-.94-2.06-.94 2.06-2.06.94zm-11 1L8.5 8.5l.94-2.06 2.06-.94-2.06-.94L8.5 2.5l-.94 2.06-2.06.94zm10 10l.94 2.06.94-2.06 2.06-.94-2.06-.94-.94-2.06-.94 2.06-2.06.94z\"/><path d=\"M17.41 7.96l-1.37-1.37c-.4-.4-.92-.59-1.43-.59-.52 0-1.04.2-1.43.59L10.3 9.45l-7.72 7.72c-.78.78-.78 2.05 0 2.83L4 21.41c.39.39.9.59 1.41.59.51 0 1.02-.2 1.41-.59l7.78-7.78 2.81-2.81c.8-.78.8-2.07 0-2.86zM5.41 20L4 18.59l7.72-7.72 1.47 1.35L5.41 20z\"/>\n",
              "  </svg>\n",
              "      </button>\n",
              "      \n",
              "  <style>\n",
              "    .colab-df-container {\n",
              "      display:flex;\n",
              "      flex-wrap:wrap;\n",
              "      gap: 12px;\n",
              "    }\n",
              "\n",
              "    .colab-df-convert {\n",
              "      background-color: #E8F0FE;\n",
              "      border: none;\n",
              "      border-radius: 50%;\n",
              "      cursor: pointer;\n",
              "      display: none;\n",
              "      fill: #1967D2;\n",
              "      height: 32px;\n",
              "      padding: 0 0 0 0;\n",
              "      width: 32px;\n",
              "    }\n",
              "\n",
              "    .colab-df-convert:hover {\n",
              "      background-color: #E2EBFA;\n",
              "      box-shadow: 0px 1px 2px rgba(60, 64, 67, 0.3), 0px 1px 3px 1px rgba(60, 64, 67, 0.15);\n",
              "      fill: #174EA6;\n",
              "    }\n",
              "\n",
              "    [theme=dark] .colab-df-convert {\n",
              "      background-color: #3B4455;\n",
              "      fill: #D2E3FC;\n",
              "    }\n",
              "\n",
              "    [theme=dark] .colab-df-convert:hover {\n",
              "      background-color: #434B5C;\n",
              "      box-shadow: 0px 1px 3px 1px rgba(0, 0, 0, 0.15);\n",
              "      filter: drop-shadow(0px 1px 2px rgba(0, 0, 0, 0.3));\n",
              "      fill: #FFFFFF;\n",
              "    }\n",
              "  </style>\n",
              "\n",
              "      <script>\n",
              "        const buttonEl =\n",
              "          document.querySelector('#df-5dbb07a7-8f1d-4c03-ae7c-e10e84466def button.colab-df-convert');\n",
              "        buttonEl.style.display =\n",
              "          google.colab.kernel.accessAllowed ? 'block' : 'none';\n",
              "\n",
              "        async function convertToInteractive(key) {\n",
              "          const element = document.querySelector('#df-5dbb07a7-8f1d-4c03-ae7c-e10e84466def');\n",
              "          const dataTable =\n",
              "            await google.colab.kernel.invokeFunction('convertToInteractive',\n",
              "                                                     [key], {});\n",
              "          if (!dataTable) return;\n",
              "\n",
              "          const docLinkHtml = 'Like what you see? Visit the ' +\n",
              "            '<a target=\"_blank\" href=https://colab.research.google.com/notebooks/data_table.ipynb>data table notebook</a>'\n",
              "            + ' to learn more about interactive tables.';\n",
              "          element.innerHTML = '';\n",
              "          dataTable['output_type'] = 'display_data';\n",
              "          await google.colab.output.renderOutput(dataTable, element);\n",
              "          const docLink = document.createElement('div');\n",
              "          docLink.innerHTML = docLinkHtml;\n",
              "          element.appendChild(docLink);\n",
              "        }\n",
              "      </script>\n",
              "    </div>\n",
              "  </div>\n",
              "  "
            ],
            "text/plain": [
              "          rating_a  rating_b  rating_c\n",
              "0              NaN       NaN       4.0\n",
              "1              NaN       NaN       4.0\n",
              "2              NaN       4.0       NaN\n",
              "3              4.0       NaN       NaN\n",
              "4              NaN       NaN       NaN\n",
              "...            ...       ...       ...\n",
              "19999995       NaN       NaN       NaN\n",
              "19999996       NaN       NaN       NaN\n",
              "19999997       4.0       NaN       NaN\n",
              "19999998       NaN       NaN       NaN\n",
              "19999999       NaN       4.0       NaN\n",
              "\n",
              "[20000000 rows x 3 columns]"
            ]
          },
          "execution_count": 9,
          "metadata": {},
          "output_type": "execute_result"
        }
      ],
      "source": [
        "nr = 20_000_000\n",
        "df = cudf.DataFrame({    \n",
        "    'rating_a': cp.random.randint(1, 5, nr),\n",
        "    'rating_b': cp.random.randint(1, 5, nr),\n",
        "    'rating_c': cp.random.randint(1, 5, nr),\n",
        "})\n",
        "\n",
        "%time df.where(df>3)\n",
        "\n",
        "pdf = df.to_pandas()\n",
        "%time pdf.where(pdf>3)"
      ]
    },
    {
      "cell_type": "markdown",
      "id": "Jho2FyMP-2FZ",
      "metadata": {
        "id": "Jho2FyMP-2FZ"
      },
      "source": [
        "And sorting is another task where cuDF shows great acceleration."
      ]
    },
    {
      "cell_type": "code",
      "execution_count": null,
      "id": "u9SmpVLp8kJx",
      "metadata": {
        "colab": {
          "base_uri": "https://localhost:8080/",
          "height": 493
        },
        "id": "u9SmpVLp8kJx",
        "outputId": "235f3812-6931-4f08-e13b-22287963e881"
      },
      "outputs": [
        {
          "name": "stdout",
          "output_type": "stream",
          "text": [
            "CPU times: user 273 ms, sys: 8.67 ms, total: 282 ms\n",
            "Wall time: 187 ms\n",
            "CPU times: user 2.83 s, sys: 6.32 ms, total: 2.84 s\n",
            "Wall time: 2.89 s\n"
          ]
        },
        {
          "data": {
            "text/html": [
              "\n",
              "  <div id=\"df-437cb0bb-78b9-4494-9f89-35f741db0602\">\n",
              "    <div class=\"colab-df-container\">\n",
              "      <div>\n",
              "<style scoped>\n",
              "    .dataframe tbody tr th:only-of-type {\n",
              "        vertical-align: middle;\n",
              "    }\n",
              "\n",
              "    .dataframe tbody tr th {\n",
              "        vertical-align: top;\n",
              "    }\n",
              "\n",
              "    .dataframe thead th {\n",
              "        text-align: right;\n",
              "    }\n",
              "</style>\n",
              "<table border=\"1\" class=\"dataframe\">\n",
              "  <thead>\n",
              "    <tr style=\"text-align: right;\">\n",
              "      <th></th>\n",
              "      <th>a</th>\n",
              "      <th>b</th>\n",
              "      <th>c</th>\n",
              "    </tr>\n",
              "  </thead>\n",
              "  <tbody>\n",
              "    <tr>\n",
              "      <th>3501605</th>\n",
              "      <td>5.450543e-08</td>\n",
              "      <td>0.704325</td>\n",
              "      <td>0.694696</td>\n",
              "    </tr>\n",
              "    <tr>\n",
              "      <th>4955175</th>\n",
              "      <td>1.053399e-07</td>\n",
              "      <td>0.295964</td>\n",
              "      <td>0.984880</td>\n",
              "    </tr>\n",
              "    <tr>\n",
              "      <th>759241</th>\n",
              "      <td>2.356659e-07</td>\n",
              "      <td>0.599663</td>\n",
              "      <td>0.076072</td>\n",
              "    </tr>\n",
              "    <tr>\n",
              "      <th>3824420</th>\n",
              "      <td>4.167660e-07</td>\n",
              "      <td>0.635730</td>\n",
              "      <td>0.536819</td>\n",
              "    </tr>\n",
              "    <tr>\n",
              "      <th>8222850</th>\n",
              "      <td>4.275325e-07</td>\n",
              "      <td>0.577576</td>\n",
              "      <td>0.382692</td>\n",
              "    </tr>\n",
              "    <tr>\n",
              "      <th>...</th>\n",
              "      <td>...</td>\n",
              "      <td>...</td>\n",
              "      <td>...</td>\n",
              "    </tr>\n",
              "    <tr>\n",
              "      <th>839039</th>\n",
              "      <td>9.999995e-01</td>\n",
              "      <td>0.664704</td>\n",
              "      <td>0.869120</td>\n",
              "    </tr>\n",
              "    <tr>\n",
              "      <th>7378566</th>\n",
              "      <td>9.999996e-01</td>\n",
              "      <td>0.303558</td>\n",
              "      <td>0.837248</td>\n",
              "    </tr>\n",
              "    <tr>\n",
              "      <th>213430</th>\n",
              "      <td>9.999998e-01</td>\n",
              "      <td>0.455271</td>\n",
              "      <td>0.807270</td>\n",
              "    </tr>\n",
              "    <tr>\n",
              "      <th>9569956</th>\n",
              "      <td>9.999998e-01</td>\n",
              "      <td>0.218818</td>\n",
              "      <td>0.073437</td>\n",
              "    </tr>\n",
              "    <tr>\n",
              "      <th>1069438</th>\n",
              "      <td>9.999999e-01</td>\n",
              "      <td>0.203751</td>\n",
              "      <td>0.233212</td>\n",
              "    </tr>\n",
              "  </tbody>\n",
              "</table>\n",
              "<p>10000000 rows × 3 columns</p>\n",
              "</div>\n",
              "      <button class=\"colab-df-convert\" onclick=\"convertToInteractive('df-437cb0bb-78b9-4494-9f89-35f741db0602')\"\n",
              "              title=\"Convert this dataframe to an interactive table.\"\n",
              "              style=\"display:none;\">\n",
              "        \n",
              "  <svg xmlns=\"http://www.w3.org/2000/svg\" height=\"24px\"viewBox=\"0 0 24 24\"\n",
              "       width=\"24px\">\n",
              "    <path d=\"M0 0h24v24H0V0z\" fill=\"none\"/>\n",
              "    <path d=\"M18.56 5.44l.94 2.06.94-2.06 2.06-.94-2.06-.94-.94-2.06-.94 2.06-2.06.94zm-11 1L8.5 8.5l.94-2.06 2.06-.94-2.06-.94L8.5 2.5l-.94 2.06-2.06.94zm10 10l.94 2.06.94-2.06 2.06-.94-2.06-.94-.94-2.06-.94 2.06-2.06.94z\"/><path d=\"M17.41 7.96l-1.37-1.37c-.4-.4-.92-.59-1.43-.59-.52 0-1.04.2-1.43.59L10.3 9.45l-7.72 7.72c-.78.78-.78 2.05 0 2.83L4 21.41c.39.39.9.59 1.41.59.51 0 1.02-.2 1.41-.59l7.78-7.78 2.81-2.81c.8-.78.8-2.07 0-2.86zM5.41 20L4 18.59l7.72-7.72 1.47 1.35L5.41 20z\"/>\n",
              "  </svg>\n",
              "      </button>\n",
              "      \n",
              "  <style>\n",
              "    .colab-df-container {\n",
              "      display:flex;\n",
              "      flex-wrap:wrap;\n",
              "      gap: 12px;\n",
              "    }\n",
              "\n",
              "    .colab-df-convert {\n",
              "      background-color: #E8F0FE;\n",
              "      border: none;\n",
              "      border-radius: 50%;\n",
              "      cursor: pointer;\n",
              "      display: none;\n",
              "      fill: #1967D2;\n",
              "      height: 32px;\n",
              "      padding: 0 0 0 0;\n",
              "      width: 32px;\n",
              "    }\n",
              "\n",
              "    .colab-df-convert:hover {\n",
              "      background-color: #E2EBFA;\n",
              "      box-shadow: 0px 1px 2px rgba(60, 64, 67, 0.3), 0px 1px 3px 1px rgba(60, 64, 67, 0.15);\n",
              "      fill: #174EA6;\n",
              "    }\n",
              "\n",
              "    [theme=dark] .colab-df-convert {\n",
              "      background-color: #3B4455;\n",
              "      fill: #D2E3FC;\n",
              "    }\n",
              "\n",
              "    [theme=dark] .colab-df-convert:hover {\n",
              "      background-color: #434B5C;\n",
              "      box-shadow: 0px 1px 3px 1px rgba(0, 0, 0, 0.15);\n",
              "      filter: drop-shadow(0px 1px 2px rgba(0, 0, 0, 0.3));\n",
              "      fill: #FFFFFF;\n",
              "    }\n",
              "  </style>\n",
              "\n",
              "      <script>\n",
              "        const buttonEl =\n",
              "          document.querySelector('#df-437cb0bb-78b9-4494-9f89-35f741db0602 button.colab-df-convert');\n",
              "        buttonEl.style.display =\n",
              "          google.colab.kernel.accessAllowed ? 'block' : 'none';\n",
              "\n",
              "        async function convertToInteractive(key) {\n",
              "          const element = document.querySelector('#df-437cb0bb-78b9-4494-9f89-35f741db0602');\n",
              "          const dataTable =\n",
              "            await google.colab.kernel.invokeFunction('convertToInteractive',\n",
              "                                                     [key], {});\n",
              "          if (!dataTable) return;\n",
              "\n",
              "          const docLinkHtml = 'Like what you see? Visit the ' +\n",
              "            '<a target=\"_blank\" href=https://colab.research.google.com/notebooks/data_table.ipynb>data table notebook</a>'\n",
              "            + ' to learn more about interactive tables.';\n",
              "          element.innerHTML = '';\n",
              "          dataTable['output_type'] = 'display_data';\n",
              "          await google.colab.output.renderOutput(dataTable, element);\n",
              "          const docLink = document.createElement('div');\n",
              "          docLink.innerHTML = docLinkHtml;\n",
              "          element.appendChild(docLink);\n",
              "        }\n",
              "      </script>\n",
              "    </div>\n",
              "  </div>\n",
              "  "
            ],
            "text/plain": [
              "                    a         b         c\n",
              "3501605  5.450543e-08  0.704325  0.694696\n",
              "4955175  1.053399e-07  0.295964  0.984880\n",
              "759241   2.356659e-07  0.599663  0.076072\n",
              "3824420  4.167660e-07  0.635730  0.536819\n",
              "8222850  4.275325e-07  0.577576  0.382692\n",
              "...               ...       ...       ...\n",
              "839039   9.999995e-01  0.664704  0.869120\n",
              "7378566  9.999996e-01  0.303558  0.837248\n",
              "213430   9.999998e-01  0.455271  0.807270\n",
              "9569956  9.999998e-01  0.218818  0.073437\n",
              "1069438  9.999999e-01  0.203751  0.233212\n",
              "\n",
              "[10000000 rows x 3 columns]"
            ]
          },
          "execution_count": 10,
          "metadata": {},
          "output_type": "execute_result"
        }
      ],
      "source": [
        "nr = 10_000_000\n",
        "df = cudf.DataFrame({    \n",
        "    'a': cp.random.rand(nr),\n",
        "    'b': cp.random.rand(nr),\n",
        "    'c': cp.random.rand(nr),\n",
        "})\n",
        "\n",
        "%time df.sort_values('a')\n",
        "\n",
        "pdf = df.to_pandas()\n",
        "%time pdf.sort_values('a')"
      ]
    }
  ],
  "metadata": {
    "accelerator": "GPU",
    "colab": {
      "provenance": []
    },
    "gpuClass": "standard",
    "kernelspec": {
      "display_name": "Python 3.9.12 ('base')",
      "language": "python",
      "name": "python3"
    },
    "language_info": {
      "codemirror_mode": {
        "name": "ipython",
        "version": 3
      },
      "file_extension": ".py",
      "mimetype": "text/x-python",
      "name": "python",
      "nbconvert_exporter": "python",
      "pygments_lexer": "ipython3",
      "version": "3.9.12"
    },
    "vscode": {
      "interpreter": {
        "hash": "5327a248d9883bedf47bfd9e608af95bf318797e621edcc550c6b5b3fdc820cc"
      }
    }
  },
  "nbformat": 4,
  "nbformat_minor": 5
}
